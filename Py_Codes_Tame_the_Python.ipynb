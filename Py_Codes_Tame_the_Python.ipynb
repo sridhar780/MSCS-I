{
  "nbformat": 4,
  "nbformat_minor": 0,
  "metadata": {
    "colab": {
      "provenance": [],
      "collapsed_sections": [
        "6rRMAnmpUq9O",
        "mZBe1BNtGEtq",
        "dU6M5x2L2wBn",
        "nm9xjkwxFde1",
        "hhvJ7RGGNamK",
        "LSgIiyEM9VvB",
        "twP8gK2c8kWh",
        "aipuTd749KTd",
        "TakfXG8uGEty",
        "0iCzz2KxRebG",
        "shohejaR1y7z",
        "JRu7fF2l7oNW",
        "p9Cl5EGWGEt2",
        "E9kQKQES5rfY",
        "akuh557wGEuB",
        "5XfCpVruBgMJ",
        "nSe9QYlMxgxL",
        "UNQdH-tLrhdv",
        "tE-n0HoWrheR",
        "7X8rAxATrhem",
        "EXFPou6HrhfC",
        "ywmLHbLRrhe5",
        "Bwmyodz7rhfb",
        "MvevVMgCrhf-",
        "xcf8yTp2rhgB",
        "xCG5d73EDEKy",
        "gPCOr2RIrhgG",
        "79R29Iz7rhgU",
        "86G4rkFqGEtz",
        "3AavUtZNGEt1",
        "gwhPYdpVGEuR",
        "QcLK-gPzGEuX",
        "7ekf0BYrGEua",
        "gDFT0GE-GEub",
        "MWejNxkzGEun",
        "p7TF8C26GEuq",
        "ffEoR2saGEu9",
        "i2jkOHRlGEvB",
        "1rq29tZ2GEuD",
        "Nng_jnUbGEuF",
        "-z5cjeF-GEuG",
        "cIpxvMZFGEuJ",
        "AB6sITqfGEuQ",
        "rZ6VHDPKGEud",
        "zufa63JNm7DL",
        "DETkpdHbm7DV",
        "BklMJE1Um7Df",
        "bzUM281Mm7Di",
        "9522l0bZm7Dm",
        "JqI8tjxSm7Dq",
        "O2k84hqVy2Ar",
        "bSn4gbZazCiy",
        "MnS7zduXzSTL",
        "NAAzleVCznyD",
        "CEBbcm5UR8wh",
        "jrWT6ANHZr1i",
        "menXgQfhTSaN",
        "4OhZ9R8Zlg2I",
        "ZaSjoFsWl07V",
        "VXIcUxX7KdUH",
        "Ua4V6_wv8Db_",
        "oj0d1IP0AokL",
        "Kv8qgZy7QSPz",
        "I6Y6Od0YTN3J",
        "Jw7595yRUdk0",
        "U1HqNuBuZvfr"
      ]
    },
    "kernelspec": {
      "name": "python3",
      "display_name": "Python 3"
    },
    "language_info": {
      "name": "python"
    }
  },
  "cells": [
    {
      "cell_type": "markdown",
      "metadata": {
        "id": "oWDtKzap2NAU"
      },
      "source": [
        "# Shortcut for Jupyter Notebook\n",
        "\n",
        "*   To run a cell : **ctrl + Enter**\n",
        "* For commenting line :  **ctrl + /**\n",
        "* For uncommenting line : **ctrl + /**\n",
        "* For commenting and uncommenting multiple line : **ctrl + /**\n",
        "* Copy : **ctrl + c**\n",
        "* Paste : **ctrl + v**\n",
        "* Undo last action (inside a cell) : **ctrl + m + z**\n",
        "* Find and replace : **ctrl + m + h**\n",
        "* Insert code cell above : **ctrl + m + a**\n",
        "* Insert code cell below : **ctrl + m + b**\n",
        "* Delete cell : **ctrl + m + d**\n",
        "\n",
        "**If you are using Mac ctrl --> cmd**"
      ]
    },
    {
      "cell_type": "markdown",
      "metadata": {
        "id": "QLyNvLRd2Vm9"
      },
      "source": [
        "# Variable Declaration\n",
        "* Variable Assignment Rules\n",
        "\n",
        "* Variable name should start with a letter\n",
        "\n",
        "* It should contain only alphanumerics\n",
        "\n",
        "* It should not contain any other symbols except  '_'\n",
        "\n",
        "* Should not start with a number\n",
        "\n",
        "* Should not have space in between, use _ instead ex : name_last\n",
        "\n",
        "* Should not use any of these symbols  \" \", < >, \\, |, ?, !, @, #, %, $, &, *, ~, +\n",
        "\n",
        "* Should not Contain predefined keywords (variables) which have special meaning in Python like \"list\"\n",
        "\n",
        "* Considered best practice to use lower case names as variable assignment"
      ]
    },
    {
      "cell_type": "markdown",
      "metadata": {
        "id": "8u2eoG8D2dum"
      },
      "source": [
        "### **Variable Examples**"
      ]
    },
    {
      "cell_type": "code",
      "metadata": {
        "colab": {
          "base_uri": "https://localhost:8080/"
        },
        "id": "eZicld9806CW",
        "outputId": "2d5918af-039a-4740-9e00-f16a53b7c1fe"
      },
      "source": [
        "a=10\n",
        "print (a)"
      ],
      "execution_count": null,
      "outputs": [
        {
          "output_type": "stream",
          "name": "stdout",
          "text": [
            "10\n"
          ]
        }
      ]
    },
    {
      "cell_type": "code",
      "metadata": {
        "id": "CegVU75z2ec1"
      },
      "source": [
        "car = 10"
      ],
      "execution_count": null,
      "outputs": []
    },
    {
      "cell_type": "code",
      "metadata": {
        "id": "Vk5NZzwX2kgV",
        "colab": {
          "base_uri": "https://localhost:8080/"
        },
        "outputId": "ee35ac7f-48ba-4016-fd60-a77d6a94da5b"
      },
      "source": [
        "print(car)"
      ],
      "execution_count": null,
      "outputs": [
        {
          "output_type": "stream",
          "name": "stdout",
          "text": [
            "10\n"
          ]
        }
      ]
    },
    {
      "cell_type": "code",
      "metadata": {
        "id": "5Ckl8EGl2mf1",
        "colab": {
          "base_uri": "https://localhost:8080/",
          "height": 131
        },
        "outputId": "c1aa3e60-5572-4a0f-bfe9-89c80ddd102f"
      },
      "source": [
        "car 2s = 20"
      ],
      "execution_count": null,
      "outputs": [
        {
          "output_type": "error",
          "ename": "SyntaxError",
          "evalue": "ignored",
          "traceback": [
            "\u001b[0;36m  File \u001b[0;32m\"<ipython-input-8-34a2dc4acccc>\"\u001b[0;36m, line \u001b[0;32m1\u001b[0m\n\u001b[0;31m    car 2s = 20\u001b[0m\n\u001b[0m        ^\u001b[0m\n\u001b[0;31mSyntaxError\u001b[0m\u001b[0;31m:\u001b[0m invalid syntax\n"
          ]
        }
      ]
    },
    {
      "cell_type": "code",
      "metadata": {
        "id": "E4AS-y0U2nNG",
        "colab": {
          "base_uri": "https://localhost:8080/",
          "height": 131
        },
        "outputId": "d9a47072-c986-415d-eb9b-b2aa045c17d4"
      },
      "source": [
        "car$ = 5"
      ],
      "execution_count": null,
      "outputs": [
        {
          "output_type": "error",
          "ename": "SyntaxError",
          "evalue": "ignored",
          "traceback": [
            "\u001b[0;36m  File \u001b[0;32m\"<ipython-input-4-a821cdedfe4e>\"\u001b[0;36m, line \u001b[0;32m1\u001b[0m\n\u001b[0;31m    car$ = 5\u001b[0m\n\u001b[0m       ^\u001b[0m\n\u001b[0;31mSyntaxError\u001b[0m\u001b[0;31m:\u001b[0m invalid syntax\n"
          ]
        }
      ]
    },
    {
      "cell_type": "code",
      "metadata": {
        "id": "5Ka3i8IS2nPs",
        "colab": {
          "base_uri": "https://localhost:8080/"
        },
        "outputId": "0d9751c4-38d9-4e66-a624-003c6df5f414"
      },
      "source": [
        "new_car = 'cars'\n",
        "print(new_car)"
      ],
      "execution_count": null,
      "outputs": [
        {
          "output_type": "stream",
          "name": "stdout",
          "text": [
            "cars\n"
          ]
        }
      ]
    },
    {
      "cell_type": "markdown",
      "metadata": {
        "id": "iCcT3Bob2uHe"
      },
      "source": [
        "# Operators"
      ]
    },
    {
      "cell_type": "markdown",
      "metadata": {
        "id": "6f28xGfq2xHG"
      },
      "source": [
        "## Arithmetic operators"
      ]
    },
    {
      "cell_type": "code",
      "metadata": {
        "id": "-kp2hqIv2q1e",
        "colab": {
          "base_uri": "https://localhost:8080/"
        },
        "outputId": "fc5a320a-b3c5-4482-e2b9-a551b7048703"
      },
      "source": [
        "# Example:\n",
        "a = 10\n",
        "b = 20\n",
        "a, b"
      ],
      "execution_count": null,
      "outputs": [
        {
          "output_type": "execute_result",
          "data": {
            "text/plain": [
              "(10, 20)"
            ]
          },
          "metadata": {},
          "execution_count": 1
        }
      ]
    },
    {
      "cell_type": "code",
      "metadata": {
        "id": "t4QX6PCR2q4G",
        "colab": {
          "base_uri": "https://localhost:8080/"
        },
        "outputId": "7a29b218-2d0c-4b60-d590-2db95724232a"
      },
      "source": [
        "# Addition\n",
        "a + b"
      ],
      "execution_count": null,
      "outputs": [
        {
          "output_type": "execute_result",
          "data": {
            "text/plain": [
              "30"
            ]
          },
          "metadata": {},
          "execution_count": 2
        }
      ]
    },
    {
      "cell_type": "code",
      "metadata": {
        "id": "aQaOqvNW21TF",
        "colab": {
          "base_uri": "https://localhost:8080/"
        },
        "outputId": "af929879-b6ef-437d-9431-b7c77197e96c"
      },
      "source": [
        "# subtraction\n",
        "a - b"
      ],
      "execution_count": null,
      "outputs": [
        {
          "output_type": "execute_result",
          "data": {
            "text/plain": [
              "-10"
            ]
          },
          "metadata": {},
          "execution_count": 3
        }
      ]
    },
    {
      "cell_type": "code",
      "metadata": {
        "id": "EqnQIurV21Vc",
        "colab": {
          "base_uri": "https://localhost:8080/"
        },
        "outputId": "2cbf34a5-d992-4634-f505-3ed6f40529c9"
      },
      "source": [
        "# Multiplication\n",
        "a * b"
      ],
      "execution_count": null,
      "outputs": [
        {
          "output_type": "execute_result",
          "data": {
            "text/plain": [
              "200"
            ]
          },
          "metadata": {},
          "execution_count": 4
        }
      ]
    },
    {
      "cell_type": "code",
      "metadata": {
        "id": "CvakQoha24R9",
        "colab": {
          "base_uri": "https://localhost:8080/"
        },
        "outputId": "2bb423f6-88ec-4d31-ecaf-40e107c6893e"
      },
      "source": [
        "# Division\n",
        "a/b"
      ],
      "execution_count": null,
      "outputs": [
        {
          "output_type": "execute_result",
          "data": {
            "text/plain": [
              "0.5"
            ]
          },
          "metadata": {},
          "execution_count": 5
        }
      ]
    },
    {
      "cell_type": "code",
      "metadata": {
        "id": "AMz7axb324Ue"
      },
      "source": [
        "# Floor divisions\n",
        "a//b #it rounds the result(quotient) to nearest integer that is less than the result (0 <0.5)"
      ],
      "execution_count": null,
      "outputs": []
    },
    {
      "cell_type": "code",
      "metadata": {
        "id": "vGxztMQB24Wi"
      },
      "source": [
        "# Reminders\n",
        "b%a"
      ],
      "execution_count": null,
      "outputs": []
    },
    {
      "cell_type": "code",
      "metadata": {
        "id": "zl1h50L433HO"
      },
      "source": [
        "# Exponential\n",
        "a**b"
      ],
      "execution_count": null,
      "outputs": []
    },
    {
      "cell_type": "markdown",
      "metadata": {
        "id": "g0S1pMjo34i1"
      },
      "source": [
        "## Comparision Operator"
      ]
    },
    {
      "cell_type": "code",
      "metadata": {
        "id": "ColNd4JZ33KG"
      },
      "source": [
        "# It gives in bool values\n",
        "\n",
        "a == b, a != b, a > b"
      ],
      "execution_count": null,
      "outputs": []
    },
    {
      "cell_type": "code",
      "metadata": {
        "id": "vO0JbPCd37sk"
      },
      "source": [
        "a < b, a >= b, a <= b"
      ],
      "execution_count": null,
      "outputs": []
    },
    {
      "cell_type": "markdown",
      "metadata": {
        "id": "ZOgJbalX4A9s"
      },
      "source": [
        "## Assignment Operators"
      ]
    },
    {
      "cell_type": "code",
      "metadata": {
        "id": "vcCGSYQM33MV",
        "colab": {
          "base_uri": "https://localhost:8080/"
        },
        "outputId": "15a28b02-aabd-4581-8de3-b91db0617e32"
      },
      "source": [
        "c = a + b\n",
        "print(c)\n",
        "\n",
        "c += b  # its nothing but c = c + b\n",
        "c"
      ],
      "execution_count": null,
      "outputs": [
        {
          "output_type": "stream",
          "name": "stdout",
          "text": [
            "30\n"
          ]
        },
        {
          "output_type": "execute_result",
          "data": {
            "text/plain": [
              "50"
            ]
          },
          "metadata": {},
          "execution_count": 6
        }
      ]
    },
    {
      "cell_type": "code",
      "metadata": {
        "id": "fAyB_lXm39b0",
        "colab": {
          "base_uri": "https://localhost:8080/"
        },
        "outputId": "09b7a074-7ea0-469d-f8b1-60ad4e903b5f"
      },
      "source": [
        "c -= b\n",
        "c"
      ],
      "execution_count": null,
      "outputs": [
        {
          "output_type": "execute_result",
          "data": {
            "text/plain": [
              "30"
            ]
          },
          "metadata": {},
          "execution_count": 7
        }
      ]
    },
    {
      "cell_type": "code",
      "metadata": {
        "id": "y-SEWLfT39eH",
        "colab": {
          "base_uri": "https://localhost:8080/"
        },
        "outputId": "c3bad6a7-72d2-4447-8666-dc260bce4e8d"
      },
      "source": [
        "c *= b\n",
        "c"
      ],
      "execution_count": null,
      "outputs": [
        {
          "output_type": "execute_result",
          "data": {
            "text/plain": [
              "600"
            ]
          },
          "metadata": {},
          "execution_count": 8
        }
      ]
    },
    {
      "cell_type": "code",
      "metadata": {
        "id": "ohN4UM_U4F21",
        "colab": {
          "base_uri": "https://localhost:8080/"
        },
        "outputId": "bd88ca08-91fc-46f2-ad75-e1cddb9f4d64"
      },
      "source": [
        "c /= b\n",
        "c"
      ],
      "execution_count": null,
      "outputs": [
        {
          "output_type": "execute_result",
          "data": {
            "text/plain": [
              "30.0"
            ]
          },
          "metadata": {},
          "execution_count": 9
        }
      ]
    },
    {
      "cell_type": "code",
      "metadata": {
        "id": "mHg_hCoD4F5l",
        "colab": {
          "base_uri": "https://localhost:8080/"
        },
        "outputId": "b3cbec05-1581-44b5-8b97-d36d3e3d5b8a"
      },
      "source": [
        "c %= b\n",
        "c"
      ],
      "execution_count": null,
      "outputs": [
        {
          "output_type": "execute_result",
          "data": {
            "text/plain": [
              "10.0"
            ]
          },
          "metadata": {},
          "execution_count": 10
        }
      ]
    },
    {
      "cell_type": "code",
      "metadata": {
        "id": "_l33dfKh4F7w",
        "colab": {
          "base_uri": "https://localhost:8080/"
        },
        "outputId": "2c84b502-6775-4a5b-c592-c49b1997a652"
      },
      "source": [
        "c **= b\n",
        "c"
      ],
      "execution_count": null,
      "outputs": [
        {
          "output_type": "execute_result",
          "data": {
            "text/plain": [
              "1e+20"
            ]
          },
          "metadata": {},
          "execution_count": 11
        }
      ]
    },
    {
      "cell_type": "code",
      "metadata": {
        "id": "tkmeDqa34J5H",
        "colab": {
          "base_uri": "https://localhost:8080/"
        },
        "outputId": "22737c07-c30c-4ec6-9341-a3de9d6c8a64"
      },
      "source": [
        "c //= b\n",
        "c"
      ],
      "execution_count": null,
      "outputs": [
        {
          "output_type": "execute_result",
          "data": {
            "text/plain": [
              "5e+18"
            ]
          },
          "metadata": {},
          "execution_count": 12
        }
      ]
    },
    {
      "cell_type": "markdown",
      "metadata": {
        "id": "H0YUMNpv4LgA"
      },
      "source": [
        "Assigning multiple values"
      ]
    },
    {
      "cell_type": "code",
      "metadata": {
        "id": "cPCSyYa94J7V"
      },
      "source": [
        "a,b,c = 1,2,5     # values will be assinged in sequence order\n",
        "\n",
        "print(a,b,c)"
      ],
      "execution_count": null,
      "outputs": []
    },
    {
      "cell_type": "markdown",
      "metadata": {
        "id": "2rD1JnMu4POm"
      },
      "source": [
        "## Logical Operators"
      ]
    },
    {
      "cell_type": "code",
      "metadata": {
        "id": "pX88w7zL4RPm",
        "colab": {
          "base_uri": "https://localhost:8080/"
        },
        "outputId": "2b8ecbe6-bdf2-4dab-9a98-9fc02ddb4b6f"
      },
      "source": [
        "# Logical And -- All the values should be non zero in order to have non zero output\n",
        "a = 3; b = 2; c = 0\n",
        "\n",
        "a and b, b and c"
      ],
      "execution_count": null,
      "outputs": [
        {
          "output_type": "execute_result",
          "data": {
            "text/plain": [
              "(2, 0)"
            ]
          },
          "metadata": {},
          "execution_count": 13
        }
      ]
    },
    {
      "cell_type": "code",
      "metadata": {
        "id": "1VLhjxqh4RSB"
      },
      "source": [
        "# Logical OR -- Any one should be true in order to have non zero output\n",
        "a = 3; b = 2; c = 0\n",
        "\n",
        "a or b, b or c"
      ],
      "execution_count": null,
      "outputs": []
    },
    {
      "cell_type": "markdown",
      "metadata": {
        "id": "uvuuwmj14WS9"
      },
      "source": [
        "## Identity Operators"
      ]
    },
    {
      "cell_type": "code",
      "metadata": {
        "id": "XaEu0I1e4Um3",
        "colab": {
          "base_uri": "https://localhost:8080/"
        },
        "outputId": "138877d7-4753-4bc8-a524-bf80e26ae496"
      },
      "source": [
        "# It check will check that left value is equal to the right value or not\n",
        "\n",
        "\"y\" is \"Python\", 1 is 1, 2 is 1"
      ],
      "execution_count": null,
      "outputs": [
        {
          "output_type": "stream",
          "name": "stderr",
          "text": [
            "<>:3: SyntaxWarning: \"is\" with a literal. Did you mean \"==\"?\n",
            "<>:3: SyntaxWarning: \"is\" with a literal. Did you mean \"==\"?\n",
            "<>:3: SyntaxWarning: \"is\" with a literal. Did you mean \"==\"?\n",
            "<>:3: SyntaxWarning: \"is\" with a literal. Did you mean \"==\"?\n",
            "<>:3: SyntaxWarning: \"is\" with a literal. Did you mean \"==\"?\n",
            "<>:3: SyntaxWarning: \"is\" with a literal. Did you mean \"==\"?\n",
            "<ipython-input-1-a5eb5e738cc5>:3: SyntaxWarning: \"is\" with a literal. Did you mean \"==\"?\n",
            "  \"y\" is \"Python\", 1 is 1, 2 is 1\n",
            "<ipython-input-1-a5eb5e738cc5>:3: SyntaxWarning: \"is\" with a literal. Did you mean \"==\"?\n",
            "  \"y\" is \"Python\", 1 is 1, 2 is 1\n",
            "<ipython-input-1-a5eb5e738cc5>:3: SyntaxWarning: \"is\" with a literal. Did you mean \"==\"?\n",
            "  \"y\" is \"Python\", 1 is 1, 2 is 1\n"
          ]
        },
        {
          "output_type": "execute_result",
          "data": {
            "text/plain": [
              "(False, True, False)"
            ]
          },
          "metadata": {},
          "execution_count": 1
        }
      ]
    },
    {
      "cell_type": "code",
      "metadata": {
        "id": "ZeQGh3oF4YPO",
        "colab": {
          "base_uri": "https://localhost:8080/"
        },
        "outputId": "57430e2f-342d-4a9d-e133-25a880ef4431"
      },
      "source": [
        "\"python\" is \"Python\",  1 is 0"
      ],
      "execution_count": null,
      "outputs": [
        {
          "output_type": "stream",
          "name": "stderr",
          "text": [
            "<>:1: SyntaxWarning: \"is\" with a literal. Did you mean \"==\"?\n",
            "<>:1: SyntaxWarning: \"is\" with a literal. Did you mean \"==\"?\n",
            "<>:1: SyntaxWarning: \"is\" with a literal. Did you mean \"==\"?\n",
            "<>:1: SyntaxWarning: \"is\" with a literal. Did you mean \"==\"?\n",
            "<ipython-input-2-331b5626aaca>:1: SyntaxWarning: \"is\" with a literal. Did you mean \"==\"?\n",
            "  \"python\" is \"Python\",  1 is 0\n",
            "<ipython-input-2-331b5626aaca>:1: SyntaxWarning: \"is\" with a literal. Did you mean \"==\"?\n",
            "  \"python\" is \"Python\",  1 is 0\n"
          ]
        },
        {
          "output_type": "execute_result",
          "data": {
            "text/plain": [
              "(False, False)"
            ]
          },
          "metadata": {},
          "execution_count": 2
        }
      ]
    },
    {
      "cell_type": "code",
      "metadata": {
        "id": "CKPGaaN84Z21",
        "colab": {
          "base_uri": "https://localhost:8080/"
        },
        "outputId": "6faea3d1-acaa-4bcb-8e29-d68f0fcbeb37"
      },
      "source": [
        "1 is not 1,  \"hi hello\"  is not  \"hello hi\""
      ],
      "execution_count": null,
      "outputs": [
        {
          "output_type": "stream",
          "name": "stderr",
          "text": [
            "<>:1: SyntaxWarning: \"is not\" with a literal. Did you mean \"!=\"?\n",
            "<>:1: SyntaxWarning: \"is not\" with a literal. Did you mean \"!=\"?\n",
            "<>:1: SyntaxWarning: \"is not\" with a literal. Did you mean \"!=\"?\n",
            "<>:1: SyntaxWarning: \"is not\" with a literal. Did you mean \"!=\"?\n",
            "<ipython-input-3-dd10370d91ff>:1: SyntaxWarning: \"is not\" with a literal. Did you mean \"!=\"?\n",
            "  1 is not 1,  \"hi hello\"  is not  \"hello hi\"\n",
            "<ipython-input-3-dd10370d91ff>:1: SyntaxWarning: \"is not\" with a literal. Did you mean \"!=\"?\n",
            "  1 is not 1,  \"hi hello\"  is not  \"hello hi\"\n"
          ]
        },
        {
          "output_type": "execute_result",
          "data": {
            "text/plain": [
              "(False, True)"
            ]
          },
          "metadata": {},
          "execution_count": 3
        }
      ]
    },
    {
      "cell_type": "code",
      "metadata": {
        "id": "xY-d6fMD4h8s",
        "colab": {
          "base_uri": "https://localhost:8080/"
        },
        "outputId": "3a9c4072-56c3-4a96-9093-dcfec4aec0b2"
      },
      "source": [
        "# Complex Number\n",
        "\n",
        "print(2 + 3j)\n",
        "\n",
        "type(2 + 3j)"
      ],
      "execution_count": null,
      "outputs": [
        {
          "output_type": "stream",
          "name": "stdout",
          "text": [
            "(2+3j)\n"
          ]
        },
        {
          "output_type": "execute_result",
          "data": {
            "text/plain": [
              "complex"
            ]
          },
          "metadata": {},
          "execution_count": 4
        }
      ]
    },
    {
      "cell_type": "code",
      "metadata": {
        "id": "jGQSfvok4jkV"
      },
      "source": [
        "# Boolean Type\n",
        "\n",
        "type(True), type(False)"
      ],
      "execution_count": null,
      "outputs": []
    },
    {
      "cell_type": "markdown",
      "metadata": {
        "id": "8Pm-gpIM4lB2"
      },
      "source": [
        "## Membership Operators"
      ]
    },
    {
      "cell_type": "code",
      "metadata": {
        "id": "n7eCeNri4mpF"
      },
      "source": [
        "# It will check that left value is a member of right value or not\n",
        "\n",
        "\"y\" in \"Python\",      \"l\" in \"Python\""
      ],
      "execution_count": null,
      "outputs": []
    },
    {
      "cell_type": "code",
      "metadata": {
        "id": "KRaqJ1Ww4oTF"
      },
      "source": [
        "\"p\" in \"Python\" ,      \"P\" not in \"python\""
      ],
      "execution_count": null,
      "outputs": []
    },
    {
      "cell_type": "markdown",
      "metadata": {
        "id": "ccdkmvWe4p3V"
      },
      "source": [
        "For getting list of keywords or special words in Python\n",
        "\n",
        "*   List item\n"
      ]
    },
    {
      "cell_type": "code",
      "metadata": {
        "id": "SzwBdQdg4tMt"
      },
      "source": [
        "import keyword\n",
        "keyword.kwlist"
      ],
      "execution_count": null,
      "outputs": []
    },
    {
      "cell_type": "code",
      "metadata": {
        "id": "8N5rJb0H4uSV",
        "colab": {
          "base_uri": "https://localhost:8080/"
        },
        "outputId": "27faae99-7d2b-4717-c929-f633d987cab2"
      },
      "source": [
        "print(\"Hello {0} and {1}\".format('foo', 'bin'))"
      ],
      "execution_count": null,
      "outputs": [
        {
          "output_type": "stream",
          "name": "stdout",
          "text": [
            "Hello foo and bin\n"
          ]
        }
      ]
    },
    {
      "cell_type": "code",
      "source": [
        "x = '360DigiTMG'\n",
        "print(x.find(\"TMG\"))"
      ],
      "metadata": {
        "colab": {
          "base_uri": "https://localhost:8080/"
        },
        "id": "JRus2P6r4Lt1",
        "outputId": "588e1729-cf62-44cd-90ca-11954dd4754d"
      },
      "execution_count": null,
      "outputs": [
        {
          "output_type": "stream",
          "name": "stdout",
          "text": [
            "7\n"
          ]
        }
      ]
    },
    {
      "cell_type": "code",
      "source": [
        "set(sorted('360DigiTMG'))"
      ],
      "metadata": {
        "colab": {
          "base_uri": "https://localhost:8080/"
        },
        "id": "m-0nF3Rg430j",
        "outputId": "6ee4d52d-480f-4007-bd0a-f7e12fe78cf6"
      },
      "execution_count": null,
      "outputs": [
        {
          "output_type": "execute_result",
          "data": {
            "text/plain": [
              "{'0', '3', '6', 'D', 'G', 'M', 'T', 'g', 'i'}"
            ]
          },
          "metadata": {},
          "execution_count": 8
        }
      ]
    },
    {
      "cell_type": "code",
      "source": [
        "x = {1:10, 2:20, 3:30}\n",
        "x[2]=25\n",
        "print(x)"
      ],
      "metadata": {
        "id": "AxVhbcJN5aed",
        "outputId": "cb470e5f-c70d-4b72-e55c-015d1d5f68c5",
        "colab": {
          "base_uri": "https://localhost:8080/"
        }
      },
      "execution_count": null,
      "outputs": [
        {
          "output_type": "stream",
          "name": "stdout",
          "text": [
            "{1: 10, 2: 25, 3: 30}\n"
          ]
        }
      ]
    },
    {
      "cell_type": "code",
      "source": [
        "help(x.find)"
      ],
      "metadata": {
        "colab": {
          "base_uri": "https://localhost:8080/"
        },
        "id": "dwINHr-P4SYN",
        "outputId": "1c3b4448-7a64-431c-9d86-d8a7b7629df5"
      },
      "execution_count": null,
      "outputs": [
        {
          "output_type": "stream",
          "name": "stdout",
          "text": [
            "Help on built-in function find:\n",
            "\n",
            "find(...) method of builtins.str instance\n",
            "    S.find(sub[, start[, end]]) -> int\n",
            "    \n",
            "    Return the lowest index in S where substring sub is found,\n",
            "    such that sub is contained within S[start:end].  Optional\n",
            "    arguments start and end are interpreted as in slice notation.\n",
            "    \n",
            "    Return -1 on failure.\n",
            "\n"
          ]
        }
      ]
    },
    {
      "cell_type": "markdown",
      "metadata": {
        "id": "CRWVMKnu0uIk"
      },
      "source": [
        "## Data types"
      ]
    },
    {
      "cell_type": "markdown",
      "metadata": {
        "id": "_xPbusfN0yKc"
      },
      "source": [
        "## Numeric"
      ]
    },
    {
      "cell_type": "code",
      "metadata": {
        "id": "XYBpeAZty5Wz"
      },
      "source": [
        "# Integer\n",
        "print(1)\n",
        "\n",
        "print(2 + 4)  # Addition\n",
        "\n",
        "print(12 * 3) # Multiplication"
      ],
      "execution_count": null,
      "outputs": []
    },
    {
      "cell_type": "code",
      "metadata": {
        "id": "8uXhvS_5y5Z2"
      },
      "source": [
        "a = 15\n",
        "type(a)"
      ],
      "execution_count": null,
      "outputs": []
    },
    {
      "cell_type": "code",
      "metadata": {
        "id": "ixigmO9x01AU"
      },
      "source": [
        "print(1 + 4)"
      ],
      "execution_count": null,
      "outputs": []
    },
    {
      "cell_type": "code",
      "metadata": {
        "id": "gJOHfwvs01C8"
      },
      "source": [
        "# Float\n",
        "\n",
        "print(11.5)\n",
        "\n",
        "x = 55.45\n",
        "\n",
        "print(x)\n",
        "\n",
        "type(x)"
      ],
      "execution_count": null,
      "outputs": []
    },
    {
      "cell_type": "code",
      "metadata": {
        "id": "2UoATep70698"
      },
      "source": [
        "# Boolean Type\n",
        "\n",
        "type(True), type(False)             # True = 1 and False = 0"
      ],
      "execution_count": null,
      "outputs": []
    },
    {
      "cell_type": "code",
      "metadata": {
        "id": "3Uy3FFZE08Jc"
      },
      "source": [
        "True + True"
      ],
      "execution_count": null,
      "outputs": []
    },
    {
      "cell_type": "code",
      "metadata": {
        "id": "eu4Sk6Dh08Mc"
      },
      "source": [
        "True + True + False + False"
      ],
      "execution_count": null,
      "outputs": []
    },
    {
      "cell_type": "markdown",
      "metadata": {
        "id": "w7jpmVPq1AGc"
      },
      "source": [
        "## Non- Numeric"
      ]
    },
    {
      "cell_type": "markdown",
      "metadata": {
        "id": "sHiE5UV11Cm8"
      },
      "source": [
        "###Strings"
      ]
    },
    {
      "cell_type": "code",
      "metadata": {
        "id": "QOIfp4zB1E31",
        "colab": {
          "base_uri": "https://localhost:8080/"
        },
        "outputId": "29e8e95e-5a52-4c60-ae3d-5710aee706ed"
      },
      "source": [
        "# Accesing Value in Strings\n",
        "Name = \"Aditya\"\n",
        "\n",
        "print(Name[0])\n",
        "\n",
        "print(Name[3])\n",
        "\n",
        "print(Name[1:4])\n",
        "\n",
        "print(Name[-2])\n",
        "\n",
        "print(Name[-3:-1])\n",
        "\n",
        "print(Name * 2)    #prints string two times\n",
        "\n",
        "print(Name + \"TEST\")   # prints concatenated string"
      ],
      "execution_count": null,
      "outputs": [
        {
          "output_type": "stream",
          "name": "stdout",
          "text": [
            "A\n",
            "t\n",
            "dit\n",
            "y\n",
            "ty\n",
            "AdityaAditya\n",
            "AdityaTEST\n"
          ]
        }
      ]
    },
    {
      "cell_type": "code",
      "metadata": {
        "id": "_scaWRkT1H71",
        "colab": {
          "base_uri": "https://localhost:8080/"
        },
        "outputId": "5bd14d5f-a4ce-413c-ab43-9a61e01ccaa7"
      },
      "source": [
        "a = \"hi\"\n",
        "print (a)\n",
        "print (len(a))"
      ],
      "execution_count": null,
      "outputs": [
        {
          "output_type": "stream",
          "name": "stdout",
          "text": [
            "hi\n",
            "2\n"
          ]
        }
      ]
    },
    {
      "cell_type": "code",
      "metadata": {
        "id": "t4i3_hMb1H-M",
        "colab": {
          "base_uri": "https://localhost:8080/"
        },
        "outputId": "3993d9ed-8e5b-46c5-fdf6-03bf4f82c164"
      },
      "source": [
        "# String Slicing (indexing) --> str[start:stop:step]\n",
        "\n",
        "Title = \"The best Institute\"\n",
        "\n",
        "print(Title[::1])  # no changes\n",
        "\n",
        "print(Title[::2])  # one index jump\n",
        "\n",
        "print(Title[::3])   # Two index jump\n",
        "\n",
        "print(Title[5::3])"
      ],
      "execution_count": null,
      "outputs": [
        {
          "output_type": "stream",
          "name": "stdout",
          "text": [
            "The best Institute\n",
            "Tebs nttt\n",
            "T sItu\n",
            "e ste\n"
          ]
        }
      ]
    },
    {
      "cell_type": "code",
      "metadata": {
        "id": "DqA3UJgI1SY2"
      },
      "source": [
        "# Reversing the string\n",
        "example = 'Python'\n",
        "\n",
        "print(example[::-1])"
      ],
      "execution_count": null,
      "outputs": []
    },
    {
      "cell_type": "code",
      "metadata": {
        "id": "okxEhusm1Sbm",
        "colab": {
          "base_uri": "https://localhost:8080/"
        },
        "outputId": "aff3413f-7180-4ecc-babb-de6b7b144b39"
      },
      "source": [
        "# Update Strings\n",
        "var = 'Hello World!  '\n",
        "print (\"Updated String :- \", var + 'Python')\n",
        "print (\"Updated String :- \", var[:6] + 'Python')"
      ],
      "execution_count": null,
      "outputs": [
        {
          "output_type": "stream",
          "name": "stdout",
          "text": [
            "Updated String :-  Hello World!  Python\n",
            "Updated String :-  Hello Python\n"
          ]
        }
      ]
    },
    {
      "cell_type": "code",
      "metadata": {
        "id": "NSzzkSB61Se-",
        "colab": {
          "base_uri": "https://localhost:8080/",
          "height": 53
        },
        "outputId": "3a69e408-66b1-4d7a-d3c0-15a21fa27454"
      },
      "source": [
        "string = \"This is python\"\n",
        "strlist = list(string)\n",
        "print(strlist)\n",
        "\n",
        "format = '%.2f %s is $%d'\n",
        "format %(6.4560,'Python Prasad',1)"
      ],
      "execution_count": null,
      "outputs": [
        {
          "output_type": "stream",
          "name": "stdout",
          "text": [
            "['T', 'h', 'i', 's', ' ', 'i', 's', ' ', 'p', 'y', 't', 'h', 'o', 'n']\n"
          ]
        },
        {
          "output_type": "execute_result",
          "data": {
            "text/plain": [
              "'6.46 Python Prasad is $1'"
            ],
            "application/vnd.google.colaboratory.intrinsic+json": {
              "type": "string"
            }
          },
          "metadata": {},
          "execution_count": 9
        }
      ]
    },
    {
      "cell_type": "code",
      "source": [],
      "metadata": {
        "id": "XIV01d35jT8b"
      },
      "execution_count": null,
      "outputs": []
    },
    {
      "cell_type": "code",
      "metadata": {
        "id": "UIX1G3IX1X0e",
        "colab": {
          "base_uri": "https://localhost:8080/"
        },
        "outputId": "bf25aa05-3eea-4754-867b-10e26e5b448e"
      },
      "source": [
        "# String Formating\n",
        "print(\"My name is %s and weight is %d kgs!\" % ('Python Prasad', 65))"
      ],
      "execution_count": null,
      "outputs": [
        {
          "output_type": "stream",
          "name": "stdout",
          "text": [
            "My name is Python Prasad and weight is 65 kgs!\n"
          ]
        }
      ]
    },
    {
      "cell_type": "code",
      "metadata": {
        "id": "bXjXgNZ71X3E",
        "colab": {
          "base_uri": "https://localhost:8080/"
        },
        "outputId": "f7e4c5c0-0703-4090-ad12-08d6ea51fa5b"
      },
      "source": [
        "#Ex :1\n",
        "\n",
        "Name = input(\"Enter your name: \")\n",
        "Weight = eval(input(\"Enter your Weight: \"))\n",
        "print(\"My name is %s and my Weight is %d\" %(Name, Weight))\n",
        "\n",
        "type(Weight)"
      ],
      "execution_count": null,
      "outputs": [
        {
          "output_type": "stream",
          "name": "stdout",
          "text": [
            "Enter your name: \"deepthi\"\n",
            "Enter your Weight: 12\n",
            "My name is \"deepthi\" and my Weight is 12\n"
          ]
        },
        {
          "output_type": "execute_result",
          "data": {
            "text/plain": [
              "int"
            ]
          },
          "metadata": {},
          "execution_count": 10
        }
      ]
    },
    {
      "cell_type": "code",
      "metadata": {
        "id": "eZOER9v01ams",
        "colab": {
          "base_uri": "https://localhost:8080/"
        },
        "outputId": "5fafcec2-0570-4ff9-b92e-eae536f4cfcf"
      },
      "source": [
        "#Triple Quotes\n",
        "\n",
        "\n",
        "Statement = \"\"\"my name is \"Prasad\" and my age is \"25\".\"\"\"\n",
        "type(Statement)"
      ],
      "execution_count": null,
      "outputs": [
        {
          "output_type": "execute_result",
          "data": {
            "text/plain": [
              "str"
            ]
          },
          "metadata": {},
          "execution_count": 7
        }
      ]
    },
    {
      "cell_type": "code",
      "metadata": {
        "id": "6E-_Zk2I1apU",
        "colab": {
          "base_uri": "https://localhost:8080/"
        },
        "outputId": "4c31e2fd-a85a-4299-8d03-76362566bd3c"
      },
      "source": [
        "Name = \"prasad\"\n",
        "print(type(Name))\n",
        "\n",
        "# To make first letter capital\n",
        "print(Name.capitalize())\n",
        "print(Name.upper())\n",
        "print(Name.lower())\n",
        "print(Name.swapcase())"
      ],
      "execution_count": null,
      "outputs": [
        {
          "output_type": "stream",
          "name": "stdout",
          "text": [
            "<class 'str'>\n",
            "Prasad\n",
            "PRASAD\n",
            "prasad\n",
            "PRASAD\n"
          ]
        }
      ]
    },
    {
      "cell_type": "code",
      "metadata": {
        "id": "Aj6NrI831fV0",
        "colab": {
          "base_uri": "https://localhost:8080/",
          "height": 35
        },
        "outputId": "6b2f5119-3c87-445d-9fef-0d8ec45b964b"
      },
      "source": [
        "# To make string at center in given spaces\n",
        "Name.center(50)"
      ],
      "execution_count": null,
      "outputs": [
        {
          "output_type": "execute_result",
          "data": {
            "application/vnd.google.colaboratory.intrinsic+json": {
              "type": "string"
            },
            "text/plain": [
              "'                      Prasad                      '"
            ]
          },
          "metadata": {},
          "execution_count": 3
        }
      ]
    },
    {
      "cell_type": "code",
      "metadata": {
        "id": "gWG-2qfw1gqF",
        "colab": {
          "base_uri": "https://localhost:8080/",
          "height": 35
        },
        "outputId": "fb18c2ac-3da4-4abd-850b-7d64f6b7516d"
      },
      "source": [
        "# To remove unwanted space\n",
        "Name = '                      prasad                      '\n",
        "\n",
        "Name.strip()"
      ],
      "execution_count": null,
      "outputs": [
        {
          "output_type": "execute_result",
          "data": {
            "application/vnd.google.colaboratory.intrinsic+json": {
              "type": "string"
            },
            "text/plain": [
              "'prasad'"
            ]
          },
          "metadata": {},
          "execution_count": 9
        }
      ]
    },
    {
      "cell_type": "code",
      "metadata": {
        "id": "esuCVzpc1gsc",
        "colab": {
          "base_uri": "https://localhost:8080/",
          "height": 35
        },
        "outputId": "9b06e1c4-52b4-4201-fc1e-58a476a0d685"
      },
      "source": [
        "# To remove space from left side\n",
        "Name = '                      prasad                      '\n",
        "\n",
        "Name.lstrip()"
      ],
      "execution_count": null,
      "outputs": [
        {
          "output_type": "execute_result",
          "data": {
            "application/vnd.google.colaboratory.intrinsic+json": {
              "type": "string"
            },
            "text/plain": [
              "'prasad                      '"
            ]
          },
          "metadata": {},
          "execution_count": 10
        }
      ]
    },
    {
      "cell_type": "code",
      "metadata": {
        "id": "bn4cvuwD1ijM",
        "colab": {
          "base_uri": "https://localhost:8080/",
          "height": 35
        },
        "outputId": "d584cf6c-206f-4dbb-e601-b6a94632894e"
      },
      "source": [
        "# To remove space from Right side\n",
        "Name = '                      prasad                  '\n",
        "\n",
        "Name.rstrip()"
      ],
      "execution_count": null,
      "outputs": [
        {
          "output_type": "execute_result",
          "data": {
            "application/vnd.google.colaboratory.intrinsic+json": {
              "type": "string"
            },
            "text/plain": [
              "'                      prasad'"
            ]
          },
          "metadata": {},
          "execution_count": 11
        }
      ]
    },
    {
      "cell_type": "code",
      "metadata": {
        "id": "rAc1S57v1ils",
        "colab": {
          "base_uri": "https://localhost:8080/"
        },
        "outputId": "84dd1246-5d56-4ce0-dd0f-562f8b922333"
      },
      "source": [
        "# count() method returns the number of occurrences of the substring in the given string.\n",
        "string = \"prasad is python programmer\"\n",
        "substring = \"i\"\n",
        "\n",
        "count = string.count(substring)\n",
        "count\n",
        "\n",
        "print(\"The count is:\", count)"
      ],
      "execution_count": null,
      "outputs": [
        {
          "output_type": "stream",
          "name": "stdout",
          "text": [
            "The count is: 1\n"
          ]
        }
      ]
    },
    {
      "cell_type": "code",
      "metadata": {
        "id": "3bg1wa7X1ioG",
        "colab": {
          "base_uri": "https://localhost:8080/"
        },
        "outputId": "2e25f15b-7cae-46a9-a8cf-ca330eb923f9"
      },
      "source": [
        "#Count number of occurrences of a given substring using start and end\n",
        "# define string\n",
        "string = \"prasad is python programmer\"\n",
        "#substring = \"p\"\n",
        "\n",
        "# count 'p' between 8 till 24 character\n",
        "count = string.count('p', 1, 30)\n",
        "count\n",
        "# print count\n",
        "print(\"The count is:\", count)"
      ],
      "execution_count": null,
      "outputs": [
        {
          "output_type": "stream",
          "name": "stdout",
          "text": [
            "The count is: 2\n"
          ]
        }
      ]
    },
    {
      "cell_type": "code",
      "source": [
        "help(string.count)"
      ],
      "metadata": {
        "colab": {
          "base_uri": "https://localhost:8080/"
        },
        "id": "2cqHxP6BlLUQ",
        "outputId": "67415246-3816-4a26-d6b7-23e369f0f4c5"
      },
      "execution_count": null,
      "outputs": [
        {
          "output_type": "stream",
          "name": "stdout",
          "text": [
            "Help on built-in function count:\n",
            "\n",
            "count(...) method of builtins.str instance\n",
            "    S.count(sub[, start[, end]]) -> int\n",
            "    \n",
            "    Return the number of non-overlapping occurrences of substring sub in\n",
            "    string S[start:end].  Optional arguments start and end are\n",
            "    interpreted as in slice notation.\n",
            "\n"
          ]
        }
      ]
    },
    {
      "cell_type": "code",
      "metadata": {
        "id": "K6E7f1w91nlV",
        "colab": {
          "base_uri": "https://localhost:8080/"
        },
        "outputId": "66b5d181-fbeb-4044-883a-29dc799598c3"
      },
      "source": [
        "##Returns true if string has at least 1 character and all characters are alphanumeric and false otherwise.\n",
        "\n",
        "Num = 'thishi34'  # No space in this string\n",
        "print(type(Num))\n",
        "print(Num.isalnum())\n",
        "\n",
        "Num = \"this is string example hi!!!\"\n",
        "Num.isalnum()\n"
      ],
      "execution_count": null,
      "outputs": [
        {
          "output_type": "stream",
          "name": "stdout",
          "text": [
            "<class 'str'>\n",
            "True\n"
          ]
        },
        {
          "output_type": "execute_result",
          "data": {
            "text/plain": [
              "False"
            ]
          },
          "metadata": {},
          "execution_count": 14
        }
      ]
    },
    {
      "cell_type": "code",
      "metadata": {
        "id": "qakM7OX91nn9",
        "colab": {
          "base_uri": "https://localhost:8080/"
        },
        "outputId": "09389118-46d7-42aa-93ba-b3fe8f69e619"
      },
      "source": [
        "#This method returns true if all characters in the string are alphabetic and there is at least one character, false otherwise.\n",
        "Num = \"thisis\"  # No space & digit in this string\n",
        "print(Num.isalpha())\n",
        "\n",
        "Num = \"this is string example 0909090!!!\"\n",
        "print(Num.isalpha())\n"
      ],
      "execution_count": null,
      "outputs": [
        {
          "output_type": "stream",
          "name": "stdout",
          "text": [
            "True\n",
            "False\n"
          ]
        }
      ]
    },
    {
      "cell_type": "code",
      "metadata": {
        "id": "XYxijLJ01nqY",
        "colab": {
          "base_uri": "https://localhost:8080/"
        },
        "outputId": "7ced7cec-d249-4758-843f-0057912a9817"
      },
      "source": [
        "#This method returns true if all characters in the string are digits and there is at least one character, false otherwise.\n",
        "\n",
        "Num = \"123456\"  # Only digit in this string\n",
        "print(type(Num))\n",
        "print(Num.isdigit())\n",
        "\n",
        "Num = \"this is string example!!!\"\n",
        "print(Num.isdigit())"
      ],
      "execution_count": null,
      "outputs": [
        {
          "output_type": "stream",
          "name": "stdout",
          "text": [
            "<class 'str'>\n",
            "True\n",
            "False\n"
          ]
        }
      ]
    },
    {
      "cell_type": "code",
      "metadata": {
        "id": "a6q4MfvI1s7t",
        "colab": {
          "base_uri": "https://localhost:8080/",
          "height": 35
        },
        "outputId": "720206c5-2f84-4117-e93b-5999c6bba433"
      },
      "source": [
        "#his method returns a copy of the string in which all case-based characters have been lowercased.\n",
        "Num = \"THIS IS STRING EXAMPLE!!!\"\n",
        "A = Num.lower()\n",
        "A"
      ],
      "execution_count": null,
      "outputs": [
        {
          "output_type": "execute_result",
          "data": {
            "application/vnd.google.colaboratory.intrinsic+json": {
              "type": "string"
            },
            "text/plain": [
              "'this is string example!!!'"
            ]
          },
          "metadata": {},
          "execution_count": 17
        }
      ]
    },
    {
      "cell_type": "code",
      "metadata": {
        "id": "vd5x6ePJ1s-H",
        "colab": {
          "base_uri": "https://localhost:8080/"
        },
        "outputId": "65158e30-9a16-4dc0-c9d8-f4b0cabeb92e"
      },
      "source": [
        "#This method returns a copy of the string in which all case-based characters have been Uppercase.\n",
        "Num = \"this is string example!!!\"\n",
        "\n",
        "Num.upper()\n",
        "dir(Num)"
      ],
      "execution_count": null,
      "outputs": [
        {
          "output_type": "execute_result",
          "data": {
            "text/plain": [
              "['__add__',\n",
              " '__class__',\n",
              " '__contains__',\n",
              " '__delattr__',\n",
              " '__dir__',\n",
              " '__doc__',\n",
              " '__eq__',\n",
              " '__format__',\n",
              " '__ge__',\n",
              " '__getattribute__',\n",
              " '__getitem__',\n",
              " '__getnewargs__',\n",
              " '__gt__',\n",
              " '__hash__',\n",
              " '__init__',\n",
              " '__init_subclass__',\n",
              " '__iter__',\n",
              " '__le__',\n",
              " '__len__',\n",
              " '__lt__',\n",
              " '__mod__',\n",
              " '__mul__',\n",
              " '__ne__',\n",
              " '__new__',\n",
              " '__reduce__',\n",
              " '__reduce_ex__',\n",
              " '__repr__',\n",
              " '__rmod__',\n",
              " '__rmul__',\n",
              " '__setattr__',\n",
              " '__sizeof__',\n",
              " '__str__',\n",
              " '__subclasshook__',\n",
              " 'capitalize',\n",
              " 'casefold',\n",
              " 'center',\n",
              " 'count',\n",
              " 'encode',\n",
              " 'endswith',\n",
              " 'expandtabs',\n",
              " 'find',\n",
              " 'format',\n",
              " 'format_map',\n",
              " 'index',\n",
              " 'isalnum',\n",
              " 'isalpha',\n",
              " 'isascii',\n",
              " 'isdecimal',\n",
              " 'isdigit',\n",
              " 'isidentifier',\n",
              " 'islower',\n",
              " 'isnumeric',\n",
              " 'isprintable',\n",
              " 'isspace',\n",
              " 'istitle',\n",
              " 'isupper',\n",
              " 'join',\n",
              " 'ljust',\n",
              " 'lower',\n",
              " 'lstrip',\n",
              " 'maketrans',\n",
              " 'partition',\n",
              " 'replace',\n",
              " 'rfind',\n",
              " 'rindex',\n",
              " 'rjust',\n",
              " 'rpartition',\n",
              " 'rsplit',\n",
              " 'rstrip',\n",
              " 'split',\n",
              " 'splitlines',\n",
              " 'startswith',\n",
              " 'strip',\n",
              " 'swapcase',\n",
              " 'title',\n",
              " 'translate',\n",
              " 'upper',\n",
              " 'zfill']"
            ]
          },
          "metadata": {},
          "execution_count": 19
        }
      ]
    },
    {
      "cell_type": "code",
      "metadata": {
        "id": "N42SiJCv1tAI",
        "colab": {
          "base_uri": "https://localhost:8080/"
        },
        "outputId": "ee4ec017-d0b4-4d3b-8608-526d4b6e47e6"
      },
      "source": [
        "#The following example shows the usage of replace() method.\n",
        "\n",
        "reply = \"it is string example!!! is really a string is is is is \"\n",
        "print(reply.replace(\"is\", \"was\"))\n",
        "print(reply.replace(\"is\", \"was\", 5))\n",
        "print (\"  \".join(reply))"
      ],
      "execution_count": null,
      "outputs": [
        {
          "output_type": "stream",
          "name": "stdout",
          "text": [
            "it was string example!!! was really a string was was was was \n",
            "it was string example!!! was really a string was was was is \n",
            "i  t     i  s     s  t  r  i  n  g     e  x  a  m  p  l  e  !  !  !     i  s     r  e  a  l  l  y     a     s  t  r  i  n  g     i  s     i  s     i  s     i  s   \n"
          ]
        }
      ]
    },
    {
      "cell_type": "code",
      "metadata": {
        "id": "5-6gOvRX1yCs",
        "colab": {
          "base_uri": "https://localhost:8080/"
        },
        "outputId": "53351441-b00f-42ab-fcfa-6b7e37b0ac17"
      },
      "source": [
        "#The following example shows the usage of split() method.\n",
        "split1 = \"Line1-abcdef \\nLine2-abc \\nLine3-abcd\"\n",
        "print(split1.split( ))\n",
        "print(split1.split('  ', 2 ))"
      ],
      "execution_count": null,
      "outputs": [
        {
          "output_type": "stream",
          "name": "stdout",
          "text": [
            "['Line1-abcdef', 'Line2-abc', 'Line3-abcd']\n",
            "['Line1-abcdef \\nLine2-abc \\nLine3-abcd']\n"
          ]
        }
      ]
    },
    {
      "cell_type": "code",
      "metadata": {
        "id": "9JSQhxNp1yFf",
        "colab": {
          "base_uri": "https://localhost:8080/"
        },
        "outputId": "967ea05b-c945-40f9-d284-686ea3b4661f"
      },
      "source": [
        "x = 'X-DSPAM-Confidence:   1.90323453434'\n",
        "pos = x.find(':')\n",
        "print(pos)\n",
        "num = x[pos+4:]\n",
        "print(num, type(num))"
      ],
      "execution_count": null,
      "outputs": [
        {
          "output_type": "stream",
          "name": "stdout",
          "text": [
            "18\n",
            "1.90323453434 <class 'str'>\n"
          ]
        }
      ]
    },
    {
      "cell_type": "markdown",
      "metadata": {
        "id": "GpZSF7TozT9s"
      },
      "source": [
        "# Sequential Data Type"
      ]
    },
    {
      "cell_type": "markdown",
      "metadata": {
        "id": "6v5fKhtmzSjk"
      },
      "source": [
        "## Lists"
      ]
    },
    {
      "cell_type": "code",
      "metadata": {
        "id": "me8WhYxdy5cc",
        "colab": {
          "base_uri": "https://localhost:8080/"
        },
        "outputId": "ae8995b7-601a-4ba5-cd0c-6ac110e91f46"
      },
      "source": [
        "###############################   List   ################################\n",
        "\n",
        "# A list data type is given in square brackets and each element is separated by comma.\n",
        "\n",
        "list1 = ['Deepthi', '360DigiTMG', 2017, 2021]\n",
        "print(list1)\n",
        "print(len(list1))"
      ],
      "execution_count": null,
      "outputs": [
        {
          "output_type": "stream",
          "name": "stdout",
          "text": [
            "['Deepthi', '360DigiTMG', 2017, 2021]\n",
            "4\n"
          ]
        }
      ]
    },
    {
      "cell_type": "code",
      "metadata": {
        "id": "dESGPMj3zEkl",
        "colab": {
          "base_uri": "https://localhost:8080/"
        },
        "outputId": "7722b15b-7684-4b80-a8ac-da0152604ca9"
      },
      "source": [
        "#Access values in the variable using index numbers\n",
        "\n",
        "print(list1[0])\n",
        "\n",
        "print(list1[3])\n",
        "\n",
        "print(list1[:4])"
      ],
      "execution_count": null,
      "outputs": [
        {
          "output_type": "stream",
          "name": "stdout",
          "text": [
            "Deepthi\n",
            "2021\n",
            "['Deepthi', '360DigiTMG', 2017, 2021]\n"
          ]
        }
      ]
    },
    {
      "cell_type": "code",
      "metadata": {
        "id": "2bjpCyRmzEnD",
        "colab": {
          "base_uri": "https://localhost:8080/"
        },
        "outputId": "3f951155-add9-4286-9391-b8082e2be64c"
      },
      "source": [
        "# Reversing list\n",
        "\n",
        "print(list1[::-1])"
      ],
      "execution_count": null,
      "outputs": [
        {
          "output_type": "stream",
          "name": "stdout",
          "text": [
            "[2021, 2017, '360DigiTMG', 'Deepthi']\n"
          ]
        }
      ]
    },
    {
      "cell_type": "code",
      "metadata": {
        "id": "5JE04eHJzEpj",
        "colab": {
          "base_uri": "https://localhost:8080/"
        },
        "outputId": "f847eb87-cb9c-47fd-8274-7b8eb8087e50"
      },
      "source": [
        "#functions in list data type\n",
        "\n",
        "# Append : add  new element to the existing list\n",
        "\n",
        "aList = [123, 'xyz', 'zara', 'abc']\n",
        "\n",
        "aList.append(2009)\n",
        "\n",
        "print(aList)\n",
        "\n",
        "aList.remove(2009)\n",
        "print(aList)"
      ],
      "execution_count": null,
      "outputs": [
        {
          "output_type": "stream",
          "name": "stdout",
          "text": [
            "[123, 'xyz', 'zara', 'abc', 2009]\n",
            "[123, 'xyz', 'zara', 'abc']\n"
          ]
        }
      ]
    },
    {
      "cell_type": "code",
      "metadata": {
        "id": "jo4cY-UhzhvF",
        "colab": {
          "base_uri": "https://localhost:8080/"
        },
        "outputId": "22d5149f-bee6-4489-850c-bd8f1a0156f1"
      },
      "source": [
        "#Pop : remove the elment from existing list\n",
        "\n",
        "print(aList.pop())\n",
        "print(aList)\n"
      ],
      "execution_count": null,
      "outputs": [
        {
          "output_type": "stream",
          "name": "stdout",
          "text": [
            "abc\n",
            "[123, 'xyz', 'zara']\n"
          ]
        }
      ]
    },
    {
      "cell_type": "code",
      "metadata": {
        "id": "SM1IrxY3zhxm",
        "colab": {
          "base_uri": "https://localhost:8080/"
        },
        "outputId": "eb0bed0d-8c86-4b10-f407-246374d85451"
      },
      "source": [
        "# pop the element using index number\n",
        "\n",
        "print(aList.pop(0))\n",
        "print(aList)"
      ],
      "execution_count": null,
      "outputs": [
        {
          "output_type": "stream",
          "name": "stdout",
          "text": [
            "123\n",
            "['xyz', 'zara']\n"
          ]
        }
      ]
    },
    {
      "cell_type": "code",
      "metadata": {
        "id": "mRuIzoBozmLE",
        "colab": {
          "base_uri": "https://localhost:8080/"
        },
        "outputId": "87e76bc7-68ba-4216-8566-c1a7fbdf9435"
      },
      "source": [
        "#Insert: insert a value using index number\n",
        "aList = [123, 'xyz', 'tommy', 'abc', 123]\n",
        "\n",
        "aList.insert(3, 2009)\n",
        "\n",
        "print(aList)"
      ],
      "execution_count": null,
      "outputs": [
        {
          "output_type": "stream",
          "name": "stdout",
          "text": [
            "[123, 'xyz', 'tommy', 2009, 'abc', 123]\n"
          ]
        }
      ]
    },
    {
      "cell_type": "code",
      "metadata": {
        "id": "MKdeQb3nzmNs",
        "colab": {
          "base_uri": "https://localhost:8080/"
        },
        "outputId": "5dabb419-9c43-4c4a-d3cd-73faa58db7ac"
      },
      "source": [
        "#Extend: extend the two list one after another\n",
        "aList = [123, 'xyz', 'tommy', 'abc', 123]\n",
        "\n",
        "bList = [2009, 'beneli']\n",
        "\n",
        "print(aList * 2)\n",
        "\n",
        "print(aList + bList)\n",
        "\n",
        "aList.extend(bList)\n",
        "\n",
        "bList.extend(aList)\n",
        "\n",
        "aList, bList"
      ],
      "execution_count": null,
      "outputs": [
        {
          "output_type": "stream",
          "name": "stdout",
          "text": [
            "[123, 'xyz', 'tommy', 'abc', 123, 123, 'xyz', 'tommy', 'abc', 123]\n",
            "[123, 'xyz', 'tommy', 'abc', 123, 2009, 'beneli']\n"
          ]
        },
        {
          "output_type": "execute_result",
          "data": {
            "text/plain": [
              "([123, 'xyz', 'tommy', 'abc', 123, 2009, 'beneli'],\n",
              " [2009, 'beneli', 123, 'xyz', 'tommy', 'abc', 123, 2009, 'beneli'])"
            ]
          },
          "metadata": {},
          "execution_count": 30
        }
      ]
    },
    {
      "cell_type": "code",
      "source": [
        "alist= [1,2,3]\n",
        "blist=[11,12,13]\n",
        "alist.extend(blist)"
      ],
      "metadata": {
        "id": "jlHm1dD5o36p"
      },
      "execution_count": null,
      "outputs": []
    },
    {
      "cell_type": "code",
      "source": [
        "alist"
      ],
      "metadata": {
        "colab": {
          "base_uri": "https://localhost:8080/"
        },
        "id": "Zn36y2Nho-sT",
        "outputId": "4b61919e-3dcd-46a8-c3fc-15682904f162"
      },
      "execution_count": null,
      "outputs": [
        {
          "output_type": "execute_result",
          "data": {
            "text/plain": [
              "[1, 2, 3, 11, 12, 13]"
            ]
          },
          "metadata": {},
          "execution_count": 32
        }
      ]
    },
    {
      "cell_type": "code",
      "source": [
        "alist.append(blist)\n",
        "alist"
      ],
      "metadata": {
        "colab": {
          "base_uri": "https://localhost:8080/"
        },
        "id": "A7hp0dm_pCIS",
        "outputId": "14c87a52-d964-4e85-c071-ba1d83a1828f"
      },
      "execution_count": null,
      "outputs": [
        {
          "output_type": "execute_result",
          "data": {
            "text/plain": [
              "[1, 2, 3, 11, 12, 13, [11, 12, 13]]"
            ]
          },
          "metadata": {},
          "execution_count": 33
        }
      ]
    },
    {
      "cell_type": "code",
      "metadata": {
        "id": "idkBxcmRy5fM",
        "colab": {
          "base_uri": "https://localhost:8080/"
        },
        "outputId": "44f942c9-30eb-4a37-8b97-d5432213837a"
      },
      "source": [
        "#Reverse: to reverse the given list\n",
        "aList = [123, 'xyz', 'tommy', 'abc', 342]\n",
        "\n",
        "print(aList)\n",
        "\n",
        "aList.reverse()\n",
        "\n",
        "print(\"*************\")\n",
        "print(aList)"
      ],
      "execution_count": null,
      "outputs": [
        {
          "output_type": "stream",
          "name": "stdout",
          "text": [
            "[123, 'xyz', 'tommy', 'abc', 342]\n",
            "*************\n",
            "[342, 'abc', 'tommy', 'xyz', 123]\n"
          ]
        }
      ]
    },
    {
      "cell_type": "code",
      "metadata": {
        "id": "0H8w-yOUzqls",
        "colab": {
          "base_uri": "https://localhost:8080/"
        },
        "outputId": "cd85ba1f-1d68-473d-c529-b017eb7c8aef"
      },
      "source": [
        "#Sort: sort the given list from ascending or descending\n",
        "\n",
        "blist = [8,99,45,33]\n",
        "\n",
        "blist.sort(reverse = True)\n",
        "\n",
        "print(blist)"
      ],
      "execution_count": null,
      "outputs": [
        {
          "output_type": "stream",
          "name": "stdout",
          "text": [
            "[99, 45, 33, 8]\n"
          ]
        }
      ]
    },
    {
      "cell_type": "code",
      "metadata": {
        "id": "S2M1WYsdzqn8",
        "colab": {
          "base_uri": "https://localhost:8080/"
        },
        "outputId": "c4e83dad-4da4-4093-b3d0-94bc36c34999"
      },
      "source": [
        "# Another way to sort list\n",
        "\n",
        "blist = [8,99,45,33]\n",
        "\n",
        "sorted_list = sorted(blist)\n",
        "\n",
        "print(sorted_list)"
      ],
      "execution_count": null,
      "outputs": [
        {
          "output_type": "stream",
          "name": "stdout",
          "text": [
            "[8, 33, 45, 99]\n"
          ]
        }
      ]
    },
    {
      "cell_type": "code",
      "metadata": {
        "id": "uz4TiFXvzuL0",
        "colab": {
          "base_uri": "https://localhost:8080/"
        },
        "outputId": "e261aa63-2fec-49bd-cbce-a7f6391c83f7"
      },
      "source": [
        "#count: count the value in given list of elements\n",
        "\n",
        "aList = [123, 'xyz', 'zara', 'abc', 123, \"zara\"]\n",
        "\n",
        "print(aList.count(\"zara\"))"
      ],
      "execution_count": null,
      "outputs": [
        {
          "output_type": "stream",
          "name": "stdout",
          "text": [
            "2\n"
          ]
        }
      ]
    },
    {
      "cell_type": "code",
      "metadata": {
        "id": "GbVLexZUzuOd",
        "colab": {
          "base_uri": "https://localhost:8080/"
        },
        "outputId": "bad5bf4c-ec92-4927-dc1f-e9d38675131e"
      },
      "source": [
        "# find value from list\n",
        "\n",
        "print(aList.index(\"zara\"))"
      ],
      "execution_count": null,
      "outputs": [
        {
          "output_type": "stream",
          "name": "stdout",
          "text": [
            "2\n"
          ]
        }
      ]
    },
    {
      "cell_type": "code",
      "metadata": {
        "id": "3nVzXG6EzxSs",
        "colab": {
          "base_uri": "https://localhost:8080/"
        },
        "outputId": "88197768-59af-4195-d092-4b9c59a8672d"
      },
      "source": [
        "# concatenate two list\n",
        "new_list = aList + blist\n",
        "\n",
        "print(new_list)"
      ],
      "execution_count": null,
      "outputs": [
        {
          "output_type": "stream",
          "name": "stdout",
          "text": [
            "[123, 'xyz', 'zara', 'abc', 123, 'zara', 8, 99, 45, 33]\n"
          ]
        }
      ]
    },
    {
      "cell_type": "code",
      "metadata": {
        "id": "k3jB5ph5z0hL",
        "colab": {
          "base_uri": "https://localhost:8080/"
        },
        "outputId": "cad7db74-4007-4d07-e4f9-9ac21fdd7025"
      },
      "source": [
        "type(aList)"
      ],
      "execution_count": null,
      "outputs": [
        {
          "output_type": "execute_result",
          "data": {
            "text/plain": [
              "list"
            ]
          },
          "metadata": {},
          "execution_count": 37
        }
      ]
    },
    {
      "cell_type": "code",
      "metadata": {
        "id": "QIsp3-IFzxVl",
        "colab": {
          "base_uri": "https://localhost:8080/"
        },
        "outputId": "96007458-ccda-47f5-c0e2-49f6567e5a21"
      },
      "source": [
        "# To get detailed info about list\n",
        "\n",
        "help(list)"
      ],
      "execution_count": null,
      "outputs": [
        {
          "output_type": "stream",
          "name": "stdout",
          "text": [
            "Help on class list in module builtins:\n",
            "\n",
            "class list(object)\n",
            " |  list(iterable=(), /)\n",
            " |  \n",
            " |  Built-in mutable sequence.\n",
            " |  \n",
            " |  If no argument is given, the constructor creates a new empty list.\n",
            " |  The argument must be an iterable if specified.\n",
            " |  \n",
            " |  Methods defined here:\n",
            " |  \n",
            " |  __add__(self, value, /)\n",
            " |      Return self+value.\n",
            " |  \n",
            " |  __contains__(self, key, /)\n",
            " |      Return key in self.\n",
            " |  \n",
            " |  __delitem__(self, key, /)\n",
            " |      Delete self[key].\n",
            " |  \n",
            " |  __eq__(self, value, /)\n",
            " |      Return self==value.\n",
            " |  \n",
            " |  __ge__(self, value, /)\n",
            " |      Return self>=value.\n",
            " |  \n",
            " |  __getattribute__(self, name, /)\n",
            " |      Return getattr(self, name).\n",
            " |  \n",
            " |  __getitem__(...)\n",
            " |      x.__getitem__(y) <==> x[y]\n",
            " |  \n",
            " |  __gt__(self, value, /)\n",
            " |      Return self>value.\n",
            " |  \n",
            " |  __iadd__(self, value, /)\n",
            " |      Implement self+=value.\n",
            " |  \n",
            " |  __imul__(self, value, /)\n",
            " |      Implement self*=value.\n",
            " |  \n",
            " |  __init__(self, /, *args, **kwargs)\n",
            " |      Initialize self.  See help(type(self)) for accurate signature.\n",
            " |  \n",
            " |  __iter__(self, /)\n",
            " |      Implement iter(self).\n",
            " |  \n",
            " |  __le__(self, value, /)\n",
            " |      Return self<=value.\n",
            " |  \n",
            " |  __len__(self, /)\n",
            " |      Return len(self).\n",
            " |  \n",
            " |  __lt__(self, value, /)\n",
            " |      Return self<value.\n",
            " |  \n",
            " |  __mul__(self, value, /)\n",
            " |      Return self*value.\n",
            " |  \n",
            " |  __ne__(self, value, /)\n",
            " |      Return self!=value.\n",
            " |  \n",
            " |  __repr__(self, /)\n",
            " |      Return repr(self).\n",
            " |  \n",
            " |  __reversed__(self, /)\n",
            " |      Return a reverse iterator over the list.\n",
            " |  \n",
            " |  __rmul__(self, value, /)\n",
            " |      Return value*self.\n",
            " |  \n",
            " |  __setitem__(self, key, value, /)\n",
            " |      Set self[key] to value.\n",
            " |  \n",
            " |  __sizeof__(self, /)\n",
            " |      Return the size of the list in memory, in bytes.\n",
            " |  \n",
            " |  append(self, object, /)\n",
            " |      Append object to the end of the list.\n",
            " |  \n",
            " |  clear(self, /)\n",
            " |      Remove all items from list.\n",
            " |  \n",
            " |  copy(self, /)\n",
            " |      Return a shallow copy of the list.\n",
            " |  \n",
            " |  count(self, value, /)\n",
            " |      Return number of occurrences of value.\n",
            " |  \n",
            " |  extend(self, iterable, /)\n",
            " |      Extend list by appending elements from the iterable.\n",
            " |  \n",
            " |  index(self, value, start=0, stop=9223372036854775807, /)\n",
            " |      Return first index of value.\n",
            " |      \n",
            " |      Raises ValueError if the value is not present.\n",
            " |  \n",
            " |  insert(self, index, object, /)\n",
            " |      Insert object before index.\n",
            " |  \n",
            " |  pop(self, index=-1, /)\n",
            " |      Remove and return item at index (default last).\n",
            " |      \n",
            " |      Raises IndexError if list is empty or index is out of range.\n",
            " |  \n",
            " |  remove(self, value, /)\n",
            " |      Remove first occurrence of value.\n",
            " |      \n",
            " |      Raises ValueError if the value is not present.\n",
            " |  \n",
            " |  reverse(self, /)\n",
            " |      Reverse *IN PLACE*.\n",
            " |  \n",
            " |  sort(self, /, *, key=None, reverse=False)\n",
            " |      Stable sort *IN PLACE*.\n",
            " |  \n",
            " |  ----------------------------------------------------------------------\n",
            " |  Static methods defined here:\n",
            " |  \n",
            " |  __new__(*args, **kwargs) from builtins.type\n",
            " |      Create and return a new object.  See help(type) for accurate signature.\n",
            " |  \n",
            " |  ----------------------------------------------------------------------\n",
            " |  Data and other attributes defined here:\n",
            " |  \n",
            " |  __hash__ = None\n",
            "\n"
          ]
        }
      ]
    },
    {
      "cell_type": "code",
      "metadata": {
        "id": "7NrvhGC1z3Gb",
        "colab": {
          "base_uri": "https://localhost:8080/"
        },
        "outputId": "206dbcf7-55c1-4f95-cf66-0b990bccb6ac"
      },
      "source": [
        "#Sorting\n",
        "numberlist = [1, 5, 23, 1 ,54, 2, 54, 23, 54, 76, 76, 34, 87]\n",
        "numberlist.sort()\n",
        "print(numberlist)\n",
        "print(len(numberlist))\n",
        "print(max(numberlist))\n",
        "print(min(numberlist))"
      ],
      "execution_count": null,
      "outputs": [
        {
          "output_type": "stream",
          "name": "stdout",
          "text": [
            "[1, 1, 2, 5, 23, 23, 34, 54, 54, 54, 76, 76, 87]\n",
            "13\n",
            "87\n",
            "1\n"
          ]
        }
      ]
    },
    {
      "cell_type": "code",
      "metadata": {
        "id": "JsFDsQv2z3I7",
        "colab": {
          "base_uri": "https://localhost:8080/"
        },
        "outputId": "3093ce8a-6c27-49dc-dee1-7f03b4494f33"
      },
      "source": [
        "string = ['abcd', 'efg', 'hijk', 'lmn']\n",
        "print(sorted(string, key=len))"
      ],
      "execution_count": null,
      "outputs": [
        {
          "output_type": "stream",
          "name": "stdout",
          "text": [
            "['efg', 'lmn', 'abcd', 'hijk']\n"
          ]
        }
      ]
    },
    {
      "cell_type": "code",
      "metadata": {
        "id": "ZT4j8M6zz3LV",
        "colab": {
          "base_uri": "https://localhost:8080/"
        },
        "outputId": "ea74b292-c2f3-40aa-850c-36453a305e8d"
      },
      "source": [
        "#You can even pass your own function\n",
        "string = ['abcg', 'eff', 'hijd', 'lmi']\n",
        "\n",
        "def func1(l):\n",
        "    return l[-1]\n",
        "\n",
        "print(sorted(string, key=func1))"
      ],
      "execution_count": null,
      "outputs": [
        {
          "output_type": "stream",
          "name": "stdout",
          "text": [
            "['hijd', 'eff', 'abcg', 'lmi']\n"
          ]
        }
      ]
    },
    {
      "cell_type": "markdown",
      "metadata": {
        "id": "UfwAorCIz-29"
      },
      "source": [
        "## Tuples"
      ]
    },
    {
      "cell_type": "code",
      "metadata": {
        "id": "TO0Pe-vQz6YD",
        "colab": {
          "base_uri": "https://localhost:8080/"
        },
        "outputId": "7878a267-c318-48af-dfdd-1d76d8507457"
      },
      "source": [
        "##################################### Tuples ####################################\n",
        "# immutability\n",
        "\n",
        "## Create a tuple dataset\n",
        "tup1 = ('Street triple','Detona','Beneli', 8055)\n",
        "\n",
        "tup2 = (1, 2, 3, 4, 5 )\n",
        "\n",
        "print(tup1)\n",
        "print(tup2)"
      ],
      "execution_count": null,
      "outputs": [
        {
          "output_type": "stream",
          "name": "stdout",
          "text": [
            "('Street triple', 'Detona', 'Beneli', 8055)\n",
            "(1, 2, 3, 4, 5)\n"
          ]
        }
      ]
    },
    {
      "cell_type": "code",
      "metadata": {
        "id": "J79aTFn1z6as",
        "colab": {
          "base_uri": "https://localhost:8080/"
        },
        "outputId": "5cbe95ba-ff8a-4fc4-d2d3-d7129dd4dbce"
      },
      "source": [
        "### Create a empty tuple\n",
        "\n",
        "tup1 = ()\n",
        "\n",
        "print(tup1)"
      ],
      "execution_count": null,
      "outputs": [
        {
          "output_type": "stream",
          "name": "stdout",
          "text": [
            "()\n"
          ]
        }
      ]
    },
    {
      "cell_type": "code",
      "metadata": {
        "id": "xwFbLlff0E4t",
        "colab": {
          "base_uri": "https://localhost:8080/"
        },
        "outputId": "75203b9d-aba5-42c8-b860-a0a56fc5aa7b"
      },
      "source": [
        "#Create a single tuple\n",
        "\n",
        "tup1 = (50,)\n",
        "\n",
        "tup1"
      ],
      "execution_count": null,
      "outputs": [
        {
          "output_type": "execute_result",
          "data": {
            "text/plain": [
              "(50,)"
            ]
          },
          "metadata": {},
          "execution_count": 44
        }
      ]
    },
    {
      "cell_type": "code",
      "metadata": {
        "id": "ZGntW9rD0E9E",
        "colab": {
          "base_uri": "https://localhost:8080/"
        },
        "outputId": "96cdbe37-89dd-4a2a-adf1-74d1938c432a"
      },
      "source": [
        "type(tup1)"
      ],
      "execution_count": null,
      "outputs": [
        {
          "output_type": "execute_result",
          "data": {
            "text/plain": [
              "tuple"
            ]
          },
          "metadata": {},
          "execution_count": 45
        }
      ]
    },
    {
      "cell_type": "code",
      "metadata": {
        "id": "xfw-OjPQ0E_8",
        "colab": {
          "base_uri": "https://localhost:8080/"
        },
        "outputId": "b5f166ce-5225-4c4d-f3eb-11858ca8f910"
      },
      "source": [
        "#Accessing Values in Tuples\n",
        "\n",
        "tup1 = ('Street triple','Detona','Beneli', 8055)\n",
        "\n",
        "print(tup1[0])\n",
        "\n",
        "tup2 = (1, 2, 3, 4, 5, 6, 7 )\n",
        "\n",
        "print(tup2[1:5])"
      ],
      "execution_count": null,
      "outputs": [
        {
          "output_type": "stream",
          "name": "stdout",
          "text": [
            "Street triple\n",
            "(2, 3, 4, 5)\n"
          ]
        }
      ]
    },
    {
      "cell_type": "code",
      "metadata": {
        "id": "-fgQJlCw0VEV"
      },
      "source": [
        "# Updating Tuples\n",
        "\n",
        "tup1 = (12, 34.56)\n",
        "\n",
        "tup2 = ('abc', 'xyz')"
      ],
      "execution_count": null,
      "outputs": []
    },
    {
      "cell_type": "code",
      "metadata": {
        "id": "vQEvU_Tm0Yd0",
        "colab": {
          "base_uri": "https://localhost:8080/"
        },
        "outputId": "8c51f4ec-7149-4c6b-aa59-c2e5c63620ce"
      },
      "source": [
        "# So, create a new tuple as follows\n",
        "\n",
        "tup1 = tup1 + tup2\n",
        "\n",
        "print(tup1)"
      ],
      "execution_count": null,
      "outputs": [
        {
          "output_type": "stream",
          "name": "stdout",
          "text": [
            "(12, 34.56, 'abc', 'xyz')\n"
          ]
        }
      ]
    },
    {
      "cell_type": "code",
      "metadata": {
        "id": "3UQsepzz0YhL",
        "colab": {
          "base_uri": "https://localhost:8080/"
        },
        "outputId": "2ff02501-72c6-4a65-f800-80885306da38"
      },
      "source": [
        "#Delete Tuple Elements\n",
        "tup = ('Street triple','Detona','Beneli', 8055)\n",
        "\n",
        "print(tup)"
      ],
      "execution_count": null,
      "outputs": [
        {
          "output_type": "stream",
          "name": "stdout",
          "text": [
            "('Street triple', 'Detona', 'Beneli', 8055)\n"
          ]
        }
      ]
    },
    {
      "cell_type": "code",
      "metadata": {
        "id": "B4-b9PsG0bwV",
        "colab": {
          "base_uri": "https://localhost:8080/",
          "height": 236
        },
        "outputId": "d26ce1b2-9b07-43e6-8b61-07290317a2ab"
      },
      "source": [
        "#Delete Tuple Elements\n",
        "tup = ('Street triple','Detona','Beneli', 8055)\n",
        "\n",
        "del(tup[1]) # We cannot delete individual items of tuple as it is immutable.\n",
        "\n",
        "print(tup)"
      ],
      "execution_count": null,
      "outputs": [
        {
          "output_type": "error",
          "ename": "TypeError",
          "evalue": "ignored",
          "traceback": [
            "\u001b[0;31m---------------------------------------------------------------------------\u001b[0m",
            "\u001b[0;31mTypeError\u001b[0m                                 Traceback (most recent call last)",
            "\u001b[0;32m<ipython-input-50-0450d863f764>\u001b[0m in \u001b[0;36m<module>\u001b[0;34m()\u001b[0m\n\u001b[1;32m      2\u001b[0m \u001b[0mtup\u001b[0m \u001b[0;34m=\u001b[0m \u001b[0;34m(\u001b[0m\u001b[0;34m'Street triple'\u001b[0m\u001b[0;34m,\u001b[0m\u001b[0;34m'Detona'\u001b[0m\u001b[0;34m,\u001b[0m\u001b[0;34m'Beneli'\u001b[0m\u001b[0;34m,\u001b[0m \u001b[0;36m8055\u001b[0m\u001b[0;34m)\u001b[0m\u001b[0;34m\u001b[0m\u001b[0;34m\u001b[0m\u001b[0m\n\u001b[1;32m      3\u001b[0m \u001b[0;34m\u001b[0m\u001b[0m\n\u001b[0;32m----> 4\u001b[0;31m \u001b[0;32mdel\u001b[0m\u001b[0;34m(\u001b[0m\u001b[0mtup\u001b[0m\u001b[0;34m[\u001b[0m\u001b[0;36m1\u001b[0m\u001b[0;34m]\u001b[0m\u001b[0;34m)\u001b[0m \u001b[0;31m# We cannot delete individual items of tuple as it is immutable.\u001b[0m\u001b[0;34m\u001b[0m\u001b[0;34m\u001b[0m\u001b[0m\n\u001b[0m\u001b[1;32m      5\u001b[0m \u001b[0;34m\u001b[0m\u001b[0m\n\u001b[1;32m      6\u001b[0m \u001b[0mprint\u001b[0m\u001b[0;34m(\u001b[0m\u001b[0mtup\u001b[0m\u001b[0;34m)\u001b[0m\u001b[0;34m\u001b[0m\u001b[0;34m\u001b[0m\u001b[0m\n",
            "\u001b[0;31mTypeError\u001b[0m: 'tuple' object doesn't support item deletion"
          ]
        }
      ]
    },
    {
      "cell_type": "code",
      "metadata": {
        "id": "eFJwXU8C0VHD"
      },
      "source": [
        "# To delete the given tuple\n",
        "del(tup)\n",
        "print(tup)"
      ],
      "execution_count": null,
      "outputs": []
    },
    {
      "cell_type": "code",
      "metadata": {
        "id": "ziihBE0F0f9V"
      },
      "source": [
        "# To get detailed info about tuple\n",
        "\n",
        "help(tuple)"
      ],
      "execution_count": null,
      "outputs": []
    },
    {
      "cell_type": "code",
      "metadata": {
        "id": "XHRwcruY0gAE"
      },
      "source": [],
      "execution_count": null,
      "outputs": []
    },
    {
      "cell_type": "markdown",
      "metadata": {
        "id": "W9tmyp55dykv"
      },
      "source": [
        "#Continued Sequential Data Type"
      ]
    },
    {
      "cell_type": "markdown",
      "metadata": {
        "id": "_DGMGT8oUq89"
      },
      "source": [
        "## Sets"
      ]
    },
    {
      "cell_type": "code",
      "metadata": {
        "id": "FkWyjzBwUq89",
        "colab": {
          "base_uri": "https://localhost:8080/"
        },
        "outputId": "32c9486a-da32-4760-b3a5-69304368d372"
      },
      "source": [
        "# Sets and Frozen Sets\n",
        "# A normal Set\n",
        "normal_set = set([\"a\", \"b\", \"c\"])\n",
        "\n",
        "print(\"Normal Set\")\n",
        "print(normal_set)"
      ],
      "execution_count": null,
      "outputs": [
        {
          "output_type": "stream",
          "name": "stdout",
          "text": [
            "Normal Set\n",
            "{'b', 'a', 'c'}\n"
          ]
        }
      ]
    },
    {
      "cell_type": "code",
      "metadata": {
        "id": "hNx8Ev6urL-m",
        "colab": {
          "base_uri": "https://localhost:8080/"
        },
        "outputId": "f9e12d46-b814-42a4-843a-d864bb5ea4c9"
      },
      "source": [
        "# Adding new value\n",
        "\n",
        "normal_set.add(\"d\")\n",
        "\n",
        "print(normal_set)"
      ],
      "execution_count": null,
      "outputs": [
        {
          "output_type": "stream",
          "name": "stdout",
          "text": [
            "{'b', 'a', 'c', 'd'}\n"
          ]
        }
      ]
    },
    {
      "cell_type": "code",
      "metadata": {
        "id": "qxaIlnDFUq8-",
        "colab": {
          "base_uri": "https://localhost:8080/"
        },
        "outputId": "0b5e5b3e-8200-4d74-88d1-44e761a55ca3"
      },
      "source": [
        "# A frozen set\n",
        "\n",
        "frozen_set = frozenset([\"e\", \"f\", \"g\"])\n",
        "\n",
        "print(\"Frozen Set\")\n",
        "print(frozen_set)"
      ],
      "execution_count": null,
      "outputs": [
        {
          "output_type": "stream",
          "name": "stdout",
          "text": [
            "Frozen Set\n",
            "frozenset({'f', 'g', 'e'})\n"
          ]
        }
      ]
    },
    {
      "cell_type": "code",
      "metadata": {
        "id": "xkMf9SnOUq8-",
        "colab": {
          "base_uri": "https://localhost:8080/",
          "height": 203
        },
        "outputId": "ec9da563-28d7-462b-8b18-5123c9077dbd"
      },
      "source": [
        "# adding a member to set in frozen set and should throw an error\n",
        "\n",
        "frozen_set.add(\"h\")"
      ],
      "execution_count": null,
      "outputs": [
        {
          "output_type": "error",
          "ename": "AttributeError",
          "evalue": "ignored",
          "traceback": [
            "\u001b[0;31m---------------------------------------------------------------------------\u001b[0m",
            "\u001b[0;31mAttributeError\u001b[0m                            Traceback (most recent call last)",
            "\u001b[0;32m<ipython-input-4-ffb5e2b3d9d3>\u001b[0m in \u001b[0;36m<cell line: 3>\u001b[0;34m()\u001b[0m\n\u001b[1;32m      1\u001b[0m \u001b[0;31m# adding a member to set in frozen set and should throw an error\u001b[0m\u001b[0;34m\u001b[0m\u001b[0;34m\u001b[0m\u001b[0m\n\u001b[1;32m      2\u001b[0m \u001b[0;34m\u001b[0m\u001b[0m\n\u001b[0;32m----> 3\u001b[0;31m \u001b[0mfrozen_set\u001b[0m\u001b[0;34m.\u001b[0m\u001b[0madd\u001b[0m\u001b[0;34m(\u001b[0m\u001b[0;34m\"h\"\u001b[0m\u001b[0;34m)\u001b[0m\u001b[0;34m\u001b[0m\u001b[0;34m\u001b[0m\u001b[0m\n\u001b[0m",
            "\u001b[0;31mAttributeError\u001b[0m: 'frozenset' object has no attribute 'add'"
          ]
        }
      ]
    },
    {
      "cell_type": "code",
      "metadata": {
        "colab": {
          "base_uri": "https://localhost:8080/"
        },
        "id": "-0KzO2NgzL2B",
        "outputId": "72fb05e2-7716-4fef-cb45-0a1037cfe5ef"
      },
      "source": [
        "x = 3\n",
        "if x < 5:\n",
        "    print(x)\n",
        "print(5)"
      ],
      "execution_count": null,
      "outputs": [
        {
          "output_type": "stream",
          "name": "stdout",
          "text": [
            "3\n",
            "5\n"
          ]
        }
      ]
    },
    {
      "cell_type": "code",
      "metadata": {
        "colab": {
          "base_uri": "https://localhost:8080/"
        },
        "id": "t7Ekt02SzNXr",
        "outputId": "33248eaf-0237-404e-9c05-f5c11495fe69"
      },
      "source": [
        "x = 2\n",
        "y = 25\n",
        "print(x)\n",
        "if x < 10:\n",
        "    print(x)\n",
        "print(y)"
      ],
      "execution_count": null,
      "outputs": [
        {
          "output_type": "stream",
          "name": "stdout",
          "text": [
            "2\n",
            "2\n",
            "25\n"
          ]
        }
      ]
    },
    {
      "cell_type": "code",
      "metadata": {
        "colab": {
          "base_uri": "https://localhost:8080/"
        },
        "id": "oh9X_DfezgHv",
        "outputId": "298d2a88-204d-4ff2-ceb5-fb88663f5c0f"
      },
      "source": [
        "a = 23\n",
        "if a >= 22:\n",
        "   print(\"if\")"
      ],
      "execution_count": null,
      "outputs": [
        {
          "output_type": "stream",
          "name": "stdout",
          "text": [
            "if\n"
          ]
        }
      ]
    },
    {
      "cell_type": "code",
      "metadata": {
        "colab": {
          "base_uri": "https://localhost:8080/"
        },
        "id": "MkE6rtFuzlaW",
        "outputId": "dc3c7f3d-df9c-4e18-e78f-c3be01beb96a"
      },
      "source": [
        "a = 20\n",
        "if a >= 22:\n",
        "   print(\"if\")\n",
        "   print(\"one more statement\")\n",
        "elif a >= 21:\n",
        "   print(\"elif\")\n",
        "else:\n",
        "   print(\"else\")"
      ],
      "execution_count": null,
      "outputs": [
        {
          "output_type": "stream",
          "name": "stdout",
          "text": [
            "else\n"
          ]
        }
      ]
    },
    {
      "cell_type": "code",
      "metadata": {
        "id": "rpHlxZ3uUq8-",
        "colab": {
          "base_uri": "https://localhost:8080/"
        },
        "outputId": "e92ea32a-03ec-474e-ae23-1abc0701533b"
      },
      "source": [
        "# Set Operations\n",
        "\n",
        "# Let us create sets\n",
        "set1 = set() # Null Set\n",
        "set2 = set() # Null Set\n",
        "print(set1,set2)\n",
        "\n",
        "# Adding elements to set1\n",
        "for i in range(1, 10):\n",
        "    set1.add(i)\n",
        "\n",
        "set1"
      ],
      "execution_count": null,
      "outputs": [
        {
          "output_type": "stream",
          "name": "stdout",
          "text": [
            "set() set()\n"
          ]
        },
        {
          "output_type": "execute_result",
          "data": {
            "text/plain": [
              "{1, 2, 3, 4, 5, 6, 7, 8, 9}"
            ]
          },
          "metadata": {},
          "execution_count": 4
        }
      ]
    },
    {
      "cell_type": "code",
      "metadata": {
        "id": "vwmpJBM0Uq8_",
        "colab": {
          "base_uri": "https://localhost:8080/"
        },
        "outputId": "85f0bd7d-7461-40ab-d09f-229c5917b2af"
      },
      "source": [
        "#Adding elements to set2\n",
        "\n",
        "for i in range(3, 10):\n",
        "    set2.add(i)\n",
        "set2"
      ],
      "execution_count": null,
      "outputs": [
        {
          "output_type": "execute_result",
          "data": {
            "text/plain": [
              "{3, 4, 5, 6, 7, 8, 9}"
            ]
          },
          "metadata": {},
          "execution_count": 18
        }
      ]
    },
    {
      "cell_type": "code",
      "metadata": {
        "id": "4shC7aisUq8_",
        "colab": {
          "base_uri": "https://localhost:8080/"
        },
        "outputId": "c29ba23b-d352-4f59-eb6c-7f744f328df9"
      },
      "source": [
        "# Union of set1 and set2\n",
        "# Union shows all the values in set1 and set2\n",
        "\n",
        "set3 = set1 | set2 # set1.union(set2)\n",
        "\n",
        "print(\"Union of Set1 & Set2: Set3 = \", set3)"
      ],
      "execution_count": null,
      "outputs": [
        {
          "output_type": "stream",
          "name": "stdout",
          "text": [
            "Union of Set1 & Set2: Set3 =  {1, 2, 3, 4, 5, 6, 7, 8, 9}\n"
          ]
        }
      ]
    },
    {
      "cell_type": "code",
      "metadata": {
        "id": "Xl8bsH--r0Iu",
        "colab": {
          "base_uri": "https://localhost:8080/"
        },
        "outputId": "ca0471b8-33df-43a2-8b9a-fa27f7a9851a"
      },
      "source": [
        "# Intersection of set1 and set2\n",
        "# Intersection shows common values in set1 and set2\n",
        "\n",
        "set4 = set1 & set2 # set1.intersection(set2)\n",
        "\n",
        "print(\"Intersection of Set1 & Set2: Set4 = \", set4)"
      ],
      "execution_count": null,
      "outputs": [
        {
          "output_type": "stream",
          "name": "stdout",
          "text": [
            "Intersection of Set1 & Set2: Set4 =  {3, 4, 5, 6, 7, 8, 9}\n"
          ]
        }
      ]
    },
    {
      "cell_type": "code",
      "metadata": {
        "id": "zH7lImSCUq9C",
        "colab": {
          "base_uri": "https://localhost:8080/"
        },
        "outputId": "b73ce8e6-34fb-47ea-a175-86cc9349b329"
      },
      "source": [
        "# Lets us check is there is any relationship between set3 and set4\n",
        "# Checking relation between set3 and set4\n",
        "\n",
        "if set3 > set4: # set3.issuperset(set4)\n",
        "    print(\"Set3 is superset of Set4\")\n",
        "elif set3 < set4: # set3.issubset(set4)\n",
        "    print(\"Set3 is subset of Set4\")\n",
        "else : # set3 == set4\n",
        "    print(\"Set3 is same as Set4\")"
      ],
      "execution_count": null,
      "outputs": [
        {
          "output_type": "stream",
          "name": "stdout",
          "text": [
            "Set3 is superset of Set4\n"
          ]
        }
      ]
    },
    {
      "cell_type": "code",
      "metadata": {
        "id": "2tVqIuNRUq9C",
        "colab": {
          "base_uri": "https://localhost:8080/"
        },
        "outputId": "505aa173-40ba-4d72-f04a-98a05e690108"
      },
      "source": [
        "# displaying relation between set4 and set3\n",
        "if set4 < set3: # set4.issubset(set3)\n",
        "    print(\"\\n\")\n",
        "    print(\"Set4 is subset of Set3\")\n",
        "    print(\"\\n\")"
      ],
      "execution_count": null,
      "outputs": [
        {
          "output_type": "stream",
          "name": "stdout",
          "text": [
            "\n",
            "\n",
            "Set4 is subset of Set3\n",
            "\n",
            "\n"
          ]
        }
      ]
    },
    {
      "cell_type": "code",
      "metadata": {
        "id": "izwAnKHyUq9D",
        "colab": {
          "base_uri": "https://localhost:8080/"
        },
        "outputId": "f768f7d8-550b-42bf-db97-d5f6a5ada8eb"
      },
      "source": [
        "# difference between set3 and set4\n",
        "set5 = set3 - set4\n",
        "print(\"Elements in Set3 and not in Set4: Set5 = \", set5)\n",
        "print(\"\\n\")"
      ],
      "execution_count": null,
      "outputs": [
        {
          "output_type": "stream",
          "name": "stdout",
          "text": [
            "Elements in Set3 and not in Set4: Set5 =  {1, 2}\n",
            "\n",
            "\n"
          ]
        }
      ]
    },
    {
      "cell_type": "code",
      "metadata": {
        "id": "lWfX--p_Uq9D",
        "colab": {
          "base_uri": "https://localhost:8080/"
        },
        "outputId": "8b00a8a9-dae2-4a7f-a45c-2aa22f29a6cd"
      },
      "source": [
        "# checkv if set4 and set5 are disjoint sets\n",
        "if set4.isdisjoint(set5):\n",
        "    print(\"Set4 and Set5 have nothing in common\\n\")"
      ],
      "execution_count": null,
      "outputs": [
        {
          "output_type": "stream",
          "name": "stdout",
          "text": [
            "Set4 and Set5 have nothing in common\n",
            "\n"
          ]
        }
      ]
    },
    {
      "cell_type": "code",
      "metadata": {
        "id": "tOayvcyzUq9E",
        "colab": {
          "base_uri": "https://localhost:8080/"
        },
        "outputId": "6c1de3f5-8c85-4205-809e-c07a45ffff70"
      },
      "source": [
        "# Removing all the values of set5\n",
        "set5.clear()\n",
        "\n",
        "print(\"After applying clear on sets Set5: \")\n",
        "print(\"Set5 = \", set5)"
      ],
      "execution_count": null,
      "outputs": [
        {
          "output_type": "stream",
          "name": "stdout",
          "text": [
            "After applying clear on sets Set5: \n",
            "Set5 =  set()\n"
          ]
        }
      ]
    },
    {
      "cell_type": "code",
      "metadata": {
        "id": "UUxtIxKOuLJd",
        "colab": {
          "base_uri": "https://localhost:8080/"
        },
        "outputId": "04a3a009-6d84-4e9d-b97b-2c038ddf847c"
      },
      "source": [
        "# To get detailed info about set\n",
        "\n",
        "help(set)"
      ],
      "execution_count": null,
      "outputs": [
        {
          "output_type": "stream",
          "name": "stdout",
          "text": [
            "Help on class set in module builtins:\n",
            "\n",
            "class set(object)\n",
            " |  set() -> new empty set object\n",
            " |  set(iterable) -> new set object\n",
            " |  \n",
            " |  Build an unordered collection of unique elements.\n",
            " |  \n",
            " |  Methods defined here:\n",
            " |  \n",
            " |  __and__(self, value, /)\n",
            " |      Return self&value.\n",
            " |  \n",
            " |  __contains__(...)\n",
            " |      x.__contains__(y) <==> y in x.\n",
            " |  \n",
            " |  __eq__(self, value, /)\n",
            " |      Return self==value.\n",
            " |  \n",
            " |  __ge__(self, value, /)\n",
            " |      Return self>=value.\n",
            " |  \n",
            " |  __getattribute__(self, name, /)\n",
            " |      Return getattr(self, name).\n",
            " |  \n",
            " |  __gt__(self, value, /)\n",
            " |      Return self>value.\n",
            " |  \n",
            " |  __iand__(self, value, /)\n",
            " |      Return self&=value.\n",
            " |  \n",
            " |  __init__(self, /, *args, **kwargs)\n",
            " |      Initialize self.  See help(type(self)) for accurate signature.\n",
            " |  \n",
            " |  __ior__(self, value, /)\n",
            " |      Return self|=value.\n",
            " |  \n",
            " |  __isub__(self, value, /)\n",
            " |      Return self-=value.\n",
            " |  \n",
            " |  __iter__(self, /)\n",
            " |      Implement iter(self).\n",
            " |  \n",
            " |  __ixor__(self, value, /)\n",
            " |      Return self^=value.\n",
            " |  \n",
            " |  __le__(self, value, /)\n",
            " |      Return self<=value.\n",
            " |  \n",
            " |  __len__(self, /)\n",
            " |      Return len(self).\n",
            " |  \n",
            " |  __lt__(self, value, /)\n",
            " |      Return self<value.\n",
            " |  \n",
            " |  __ne__(self, value, /)\n",
            " |      Return self!=value.\n",
            " |  \n",
            " |  __or__(self, value, /)\n",
            " |      Return self|value.\n",
            " |  \n",
            " |  __rand__(self, value, /)\n",
            " |      Return value&self.\n",
            " |  \n",
            " |  __reduce__(...)\n",
            " |      Return state information for pickling.\n",
            " |  \n",
            " |  __repr__(self, /)\n",
            " |      Return repr(self).\n",
            " |  \n",
            " |  __ror__(self, value, /)\n",
            " |      Return value|self.\n",
            " |  \n",
            " |  __rsub__(self, value, /)\n",
            " |      Return value-self.\n",
            " |  \n",
            " |  __rxor__(self, value, /)\n",
            " |      Return value^self.\n",
            " |  \n",
            " |  __sizeof__(...)\n",
            " |      S.__sizeof__() -> size of S in memory, in bytes\n",
            " |  \n",
            " |  __sub__(self, value, /)\n",
            " |      Return self-value.\n",
            " |  \n",
            " |  __xor__(self, value, /)\n",
            " |      Return self^value.\n",
            " |  \n",
            " |  add(...)\n",
            " |      Add an element to a set.\n",
            " |      \n",
            " |      This has no effect if the element is already present.\n",
            " |  \n",
            " |  clear(...)\n",
            " |      Remove all elements from this set.\n",
            " |  \n",
            " |  copy(...)\n",
            " |      Return a shallow copy of a set.\n",
            " |  \n",
            " |  difference(...)\n",
            " |      Return the difference of two or more sets as a new set.\n",
            " |      \n",
            " |      (i.e. all elements that are in this set but not the others.)\n",
            " |  \n",
            " |  difference_update(...)\n",
            " |      Remove all elements of another set from this set.\n",
            " |  \n",
            " |  discard(...)\n",
            " |      Remove an element from a set if it is a member.\n",
            " |      \n",
            " |      If the element is not a member, do nothing.\n",
            " |  \n",
            " |  intersection(...)\n",
            " |      Return the intersection of two sets as a new set.\n",
            " |      \n",
            " |      (i.e. all elements that are in both sets.)\n",
            " |  \n",
            " |  intersection_update(...)\n",
            " |      Update a set with the intersection of itself and another.\n",
            " |  \n",
            " |  isdisjoint(...)\n",
            " |      Return True if two sets have a null intersection.\n",
            " |  \n",
            " |  issubset(...)\n",
            " |      Report whether another set contains this set.\n",
            " |  \n",
            " |  issuperset(...)\n",
            " |      Report whether this set contains another set.\n",
            " |  \n",
            " |  pop(...)\n",
            " |      Remove and return an arbitrary set element.\n",
            " |      Raises KeyError if the set is empty.\n",
            " |  \n",
            " |  remove(...)\n",
            " |      Remove an element from a set; it must be a member.\n",
            " |      \n",
            " |      If the element is not a member, raise a KeyError.\n",
            " |  \n",
            " |  symmetric_difference(...)\n",
            " |      Return the symmetric difference of two sets as a new set.\n",
            " |      \n",
            " |      (i.e. all elements that are in exactly one of the sets.)\n",
            " |  \n",
            " |  symmetric_difference_update(...)\n",
            " |      Update a set with the symmetric difference of itself and another.\n",
            " |  \n",
            " |  union(...)\n",
            " |      Return the union of sets as a new set.\n",
            " |      \n",
            " |      (i.e. all elements that are in either set.)\n",
            " |  \n",
            " |  update(...)\n",
            " |      Update a set with the union of itself and others.\n",
            " |  \n",
            " |  ----------------------------------------------------------------------\n",
            " |  Static methods defined here:\n",
            " |  \n",
            " |  __new__(*args, **kwargs) from builtins.type\n",
            " |      Create and return a new object.  See help(type) for accurate signature.\n",
            " |  \n",
            " |  ----------------------------------------------------------------------\n",
            " |  Data and other attributes defined here:\n",
            " |  \n",
            " |  __hash__ = None\n",
            "\n"
          ]
        }
      ]
    },
    {
      "cell_type": "markdown",
      "metadata": {
        "id": "6rRMAnmpUq9O"
      },
      "source": [
        "## Dictionary"
      ]
    },
    {
      "cell_type": "code",
      "metadata": {
        "id": "3ZMeIAheUq9O"
      },
      "source": [
        "#Accessing Values in Dictionary\n",
        "dict1 = {'Name': 'Nikhil', 'Age': 25, 'bike': 'Beneli'}\n",
        "print(dict1)\n",
        "print(dict1['Name'])\n",
        "print(dict1['Age'])"
      ],
      "execution_count": null,
      "outputs": []
    },
    {
      "cell_type": "code",
      "metadata": {
        "id": "GsQEmtU6Uq9P"
      },
      "source": [
        "##Updating Dictionary\n",
        "dict1 = {'Name': 'Nikhil', 'Age': 25, 'bike': 'Beneli'}\n",
        "\n",
        "# update existing entry\n",
        "dict1['Age'] = 27\n",
        "# Add new entry\n",
        "dict1"
      ],
      "execution_count": null,
      "outputs": []
    },
    {
      "cell_type": "code",
      "metadata": {
        "id": "urWZk8MdUq9Q"
      },
      "source": [
        "dict1['School'] = \"DPS School\"\n",
        "dict1['sal'] = 50000\n",
        "\n",
        "dict1"
      ],
      "execution_count": null,
      "outputs": []
    },
    {
      "cell_type": "code",
      "metadata": {
        "id": "yHZWoJOUUq9Q"
      },
      "source": [
        "#Delete Dictionary Elements\n",
        "dict1 = {'Name': 'Nikhil', 'Age': 25, 'bike': 'Beneli'}\n",
        "\n",
        "# remove entry with key 'Name'\n",
        "del(dict1['Name'])\n",
        "dict1"
      ],
      "execution_count": null,
      "outputs": []
    },
    {
      "cell_type": "code",
      "metadata": {
        "id": "Y4lEA58YUq9Q"
      },
      "source": [
        "# remove all entries in given dictionary\n",
        "dict1.clear()\n",
        "dict1"
      ],
      "execution_count": null,
      "outputs": []
    },
    {
      "cell_type": "code",
      "metadata": {
        "id": "mLZ0iHUYUq9R"
      },
      "source": [
        "# delete entire dictionary\n",
        "del(dict1)\n",
        "dict1"
      ],
      "execution_count": null,
      "outputs": []
    },
    {
      "cell_type": "code",
      "metadata": {
        "id": "qtssUEPqsRY0"
      },
      "source": [
        "# To get all the items from your dictonary\n",
        "\n",
        "dict1 = {'Name': 'Nikhil', 'Age': 25, 'bike': 'Beneli'}\n",
        "\n",
        "dict1.items()  # type --> dict_items or list of tuples"
      ],
      "execution_count": null,
      "outputs": []
    },
    {
      "cell_type": "code",
      "metadata": {
        "id": "AXs4cmi3sqxl"
      },
      "source": [
        "# To get all the keys from your dictonary\n",
        "\n",
        "dict1 = {'Name': 'Nikhil', 'Age': 25, 'bike': 'Beneli'}\n",
        "\n",
        "dict1.keys()   # type --> dict_keys or list"
      ],
      "execution_count": null,
      "outputs": []
    },
    {
      "cell_type": "code",
      "metadata": {
        "id": "1HOpPV15s1bE"
      },
      "source": [
        "# To get all the values from your dictonary\n",
        "\n",
        "dict1 = {'Name': 'Nikhil', 'Age': 25, 'bike': 'Beneli'}\n",
        "\n",
        "dict1.values()   # type --> dict_values or list"
      ],
      "execution_count": null,
      "outputs": []
    },
    {
      "cell_type": "code",
      "metadata": {
        "id": "w8TfCa9Ns9lX"
      },
      "source": [
        "# To check type\n",
        "\n",
        "xy = dict1.items()\n",
        "type(xy)"
      ],
      "execution_count": null,
      "outputs": []
    },
    {
      "cell_type": "code",
      "metadata": {
        "id": "KoxGgMcouRa3"
      },
      "source": [
        "# To get detailed info about dictonary\n",
        "\n",
        "help(dict)"
      ],
      "execution_count": null,
      "outputs": []
    },
    {
      "cell_type": "markdown",
      "metadata": {
        "id": "mZBe1BNtGEtq"
      },
      "source": [
        "# Conditional Statements"
      ]
    },
    {
      "cell_type": "code",
      "metadata": {
        "id": "bDXcVUVUGEtr",
        "colab": {
          "base_uri": "https://localhost:8080/"
        },
        "outputId": "0316ecd2-11c9-4197-db06-5e9e05ba537f"
      },
      "source": [
        "# ################################## Conditional Statement ##############################################\n",
        "\n",
        "# Example:1 - simple if and else conditions when you have two conditions\n",
        "\n",
        "is_male = False\n",
        "\n",
        "if is_male:\n",
        "    print(\"you are male\")\n",
        "else:\n",
        "    print(\"you are female\")"
      ],
      "execution_count": null,
      "outputs": [
        {
          "output_type": "stream",
          "name": "stdout",
          "text": [
            "you are female\n"
          ]
        }
      ]
    },
    {
      "cell_type": "code",
      "metadata": {
        "id": "W7tMB3IgGEtr"
      },
      "source": [
        "# Example: 2 - if you have more than two conditions use elif\n",
        "is_male = True\n",
        "is_tall = True\n",
        "\n",
        "if is_male and is_tall:              ## and & not operator\n",
        "    print(\"you are tall male\")\n",
        "elif is_male and not(is_tall):\n",
        "    print(\"you are short male\")\n",
        "elif not(is_male) and is_tall:\n",
        "    print(\"you are not male but tall\")\n",
        "else:\n",
        "    print(\"you are not male and not tall\")"
      ],
      "execution_count": null,
      "outputs": []
    },
    {
      "cell_type": "code",
      "metadata": {
        "id": "d-cHokeBGEts"
      },
      "source": [
        "#Example:  3 - conditional inside a conditional\n",
        "### Nested if Statement\n",
        "\n",
        "score = 500\n",
        "money = 6000\n",
        "age = 65\n",
        "\n",
        "if score > 100:\n",
        "    print(\"You got good points\")\n",
        "    if money >= 5000:\n",
        "        print(\"you win\")\n",
        "        if age >= 30:\n",
        "            print(\"You win in middle age\")\n",
        "        else:\n",
        "            print(\"You are win in young age\")\n",
        "    else:\n",
        "        print(\"you have high points but you do not have enough money\")\n",
        "else:\n",
        "    print(\"you are loser\")"
      ],
      "execution_count": null,
      "outputs": []
    },
    {
      "cell_type": "code",
      "metadata": {
        "id": "RUGn7lh9ZCLC"
      },
      "source": [
        "#Testing for an element in list\n",
        "list = ['Ajay', 'Ramesh']\n",
        "if 'Vijay' in list:\n",
        "    print('Found Vijay')"
      ],
      "execution_count": null,
      "outputs": []
    },
    {
      "cell_type": "markdown",
      "metadata": {
        "id": "dU6M5x2L2wBn"
      },
      "source": [
        "## Practice Question\n",
        "Create a program of calculator which takes three input and perform mathematical operations"
      ]
    },
    {
      "cell_type": "code",
      "metadata": {
        "id": "vsc3gchbjUrO",
        "colab": {
          "base_uri": "https://localhost:8080/"
        },
        "outputId": "9ba2c5d3-becb-4471-d08c-6cbcf8c7e791"
      },
      "source": [
        "num_1 = eval(input(\"Enter first number : \"))\n",
        "operator = input(\"Enter operator (+,-,/,*,//,%) : \")\n",
        "num_2 = eval(input(\"Enter Second number : \"))\n",
        "\n",
        "if operator == '+':\n",
        "  print(f'addition of {num_1} and {num_2} is {num_1 + num_2}')\n",
        "elif operator == '-':\n",
        "  print(f'substrction of {num_1} and {num_2} is {num_1 - num_2}')\n",
        "elif operator == '*':\n",
        "  print(f'multiplication of {num_1} and {num_2} is {num_1 * num_2}')\n",
        "elif operator == '/':\n",
        "  print(f'division of {num_1} and {num_2} is {num_1 / num_2}')\n",
        "elif operator == '%':\n",
        "  print(f'Remainder of {num_1} and {num_2} is {num_1 % num_2}')\n",
        "elif operator == '//':\n",
        "  print(f'Floor division of {num_1} and {num_2} is {num_1 // num_2}')\n",
        "else:\n",
        "  print(\"something is worng\")"
      ],
      "execution_count": null,
      "outputs": [
        {
          "output_type": "stream",
          "name": "stdout",
          "text": [
            "Enter first number : 2\n",
            "Enter operator (+,-,/,*,//,%) : *\n",
            "Enter Second number : 3\n",
            "multiplication of 2 and 3 is 6\n"
          ]
        }
      ]
    },
    {
      "cell_type": "code",
      "metadata": {
        "colab": {
          "base_uri": "https://localhost:8080/"
        },
        "id": "jsGQIQg1Z9_0",
        "outputId": "fe658b5e-43bb-40ce-ac1b-b3bd40a975a9"
      },
      "source": [
        "count = 0\n",
        "while (count < 9):\n",
        "   print('The count is:', count)\n",
        "   count = count + 1\n",
        "print(\"End of while loop!\")"
      ],
      "execution_count": null,
      "outputs": [
        {
          "output_type": "stream",
          "name": "stdout",
          "text": [
            "The count is: 0\n",
            "The count is: 1\n",
            "The count is: 2\n",
            "The count is: 3\n",
            "The count is: 4\n",
            "The count is: 5\n",
            "The count is: 6\n",
            "The count is: 7\n",
            "The count is: 8\n",
            "End of while loop!\n"
          ]
        }
      ]
    },
    {
      "cell_type": "markdown",
      "metadata": {
        "id": "nm9xjkwxFde1"
      },
      "source": [
        "# **Loops in Python**\n",
        "\n",
        "**Why Loops ?**\n",
        "\n",
        "We use loops because if we need to repeat some set of instruction multiple times then we need to write it again and again, so with the help of loop we can perform those operation in few line and with easy process. Let's go through example, if you have to print \"hello world\" 1000 times then for it you need to write print statement 1000 time but using loops you can easily do it in few lines.\n",
        "\n",
        "**Loops :** Loops in programming language means repeating a set of instructions until a specific condition is fulfilled.\n",
        "\n",
        "**Types of loops in Python ?**\n",
        "\n",
        "\n",
        "1.   For Loop  : Repeat the set of instructions until condition is false. It checks condition before excuting the body part of loop\n",
        "2.   While Loop : Execute set of instructions and the code that manage the loop\n",
        "3.   Nested loop : Here you can use loop inside the 'for' loops or 'while' loops\n",
        "\n",
        "**How to control loops ? or control statement in Python ?**\n",
        "\n",
        "\n",
        "*   Continue statement : Continue specific part of loop till the condition is true and leave remaining part of the loop\n",
        "*   Break statement : Break the loop and get out of loop when condition is met\n",
        "*   Pass Statement : When we don't want to run the condition or do not want to put anything, we use pass statement\n",
        "\n",
        "\n",
        "\n",
        "\n",
        "\n",
        "\n"
      ]
    },
    {
      "cell_type": "markdown",
      "metadata": {
        "id": "hhvJ7RGGNamK"
      },
      "source": [
        "# For loop\n",
        "To use 'for' loop we use **for** keyword with a variable and range, or pre-defined data types (i.e. set, tuple, list, dict, string). This loop ends with a colon.\n",
        "\n",
        "Next line always start with indentation (four space)\n",
        "\n",
        "To get out of the loop don't use indentation\n",
        "\n",
        "Examples are here:"
      ]
    },
    {
      "cell_type": "code",
      "metadata": {
        "id": "Yu_cC27tGEtx",
        "colab": {
          "base_uri": "https://localhost:8080/"
        },
        "outputId": "ff844d1b-507e-4514-b96b-04ffdd1fdd38"
      },
      "source": [
        "# for Loop\n",
        "\n",
        "#Example for 'for loop'\n",
        "\n",
        "#Example : 1\n",
        "\n",
        "snacks = ['pizza','burger','shawarma','franky']\n",
        "\n",
        "for i in snacks:\n",
        "    print(\"current snack: \", i)\n",
        "print(\"Good day!\")"
      ],
      "execution_count": null,
      "outputs": [
        {
          "output_type": "stream",
          "name": "stdout",
          "text": [
            "current snack:  pizza\n",
            "current snack:  burger\n",
            "current snack:  shawarma\n",
            "current snack:  franky\n",
            "Good day!\n"
          ]
        }
      ]
    },
    {
      "cell_type": "code",
      "metadata": {
        "id": "eU3kuL4y7Sj2",
        "colab": {
          "base_uri": "https://localhost:8080/"
        },
        "outputId": "c002060b-7a46-4567-eeff-2fca6dfe9a14"
      },
      "source": [
        "range(0, 5) # range function but it will not return values"
      ],
      "execution_count": null,
      "outputs": [
        {
          "output_type": "execute_result",
          "data": {
            "text/plain": [
              "range(0, 5)"
            ]
          },
          "metadata": {},
          "execution_count": 2
        }
      ]
    },
    {
      "cell_type": "code",
      "metadata": {
        "id": "LaqPGXBZyIzr",
        "colab": {
          "base_uri": "https://localhost:8080/"
        },
        "outputId": "e8c76b72-0911-4895-8c00-8e33043a5f5d"
      },
      "source": [
        "tuple(range(0, 15))   # now you will get range values into list"
      ],
      "execution_count": null,
      "outputs": [
        {
          "output_type": "execute_result",
          "data": {
            "text/plain": [
              "(0, 1, 2, 3, 4, 5, 6, 7, 8, 9, 10, 11, 12, 13, 14)"
            ]
          },
          "metadata": {},
          "execution_count": 9
        }
      ]
    },
    {
      "cell_type": "code",
      "metadata": {
        "id": "WU16Haw4bbBc"
      },
      "source": [
        "range(1, 5, 1)"
      ],
      "execution_count": null,
      "outputs": []
    },
    {
      "cell_type": "code",
      "metadata": {
        "id": "qwuQ6OombkJN",
        "colab": {
          "base_uri": "https://localhost:8080/"
        },
        "outputId": "099f4147-8281-482c-cbb4-0c9e4380809c"
      },
      "source": [
        "for i in range(1, 6, 2):\n",
        "    print(i)\n",
        "#else:\n",
        "#   print \"The for loop is over\""
      ],
      "execution_count": null,
      "outputs": [
        {
          "output_type": "stream",
          "name": "stdout",
          "text": [
            "1\n",
            "3\n",
            "5\n"
          ]
        }
      ]
    },
    {
      "cell_type": "code",
      "metadata": {
        "id": "7ZS08MvBwEjR",
        "colab": {
          "base_uri": "https://localhost:8080/"
        },
        "outputId": "cd6e4e24-aa07-4c8b-d5ad-d5bc95756324"
      },
      "source": [
        "for i in range(1, 15):\n",
        "  print(\"20 hours class of Day \", i)"
      ],
      "execution_count": null,
      "outputs": [
        {
          "output_type": "stream",
          "name": "stdout",
          "text": [
            "20 hours class of Day  1\n",
            "20 hours class of Day  2\n",
            "20 hours class of Day  3\n",
            "20 hours class of Day  4\n",
            "20 hours class of Day  5\n",
            "20 hours class of Day  6\n",
            "20 hours class of Day  7\n",
            "20 hours class of Day  8\n",
            "20 hours class of Day  9\n",
            "20 hours class of Day  10\n",
            "20 hours class of Day  11\n",
            "20 hours class of Day  12\n",
            "20 hours class of Day  13\n",
            "20 hours class of Day  14\n"
          ]
        }
      ]
    },
    {
      "cell_type": "code",
      "metadata": {
        "id": "FJOOkZINzcgC",
        "colab": {
          "base_uri": "https://localhost:8080/"
        },
        "outputId": "8f81972f-b68f-4da6-c888-c98c5908ad03"
      },
      "source": [
        "# Getting even number without any condition\n",
        "\n",
        "for i in range(0, 15, 2):\n",
        "  print('Number is even', i)"
      ],
      "execution_count": null,
      "outputs": [
        {
          "output_type": "stream",
          "name": "stdout",
          "text": [
            "Number is even 0\n",
            "Number is even 2\n",
            "Number is even 4\n",
            "Number is even 6\n",
            "Number is even 8\n",
            "Number is even 10\n",
            "Number is even 12\n",
            "Number is even 14\n"
          ]
        }
      ]
    },
    {
      "cell_type": "code",
      "metadata": {
        "id": "Xrup7fJbdISI",
        "colab": {
          "base_uri": "https://localhost:8080/"
        },
        "outputId": "0cde49f4-6fb3-45cf-d168-0ea2cec29db6"
      },
      "source": [
        "#Traversing a list\n",
        "#What is the output?\n",
        "numbers = [2, 3, 5]\n",
        "sum = 0\n",
        "for num in numbers:\n",
        "    sum += num  #sum = sum+num\n",
        "print(sum)"
      ],
      "execution_count": null,
      "outputs": [
        {
          "output_type": "stream",
          "name": "stdout",
          "text": [
            "10\n"
          ]
        }
      ]
    },
    {
      "cell_type": "code",
      "metadata": {
        "id": "VvApEYFVdRJm",
        "colab": {
          "base_uri": "https://localhost:8080/"
        },
        "outputId": "0cd1a654-9a0e-4bce-c9bc-fc751bd3b5a5"
      },
      "source": [
        "numbers = [2, 3, 5]\n",
        "sum = [i + 2 for i in numbers]\n",
        "print(sum)"
      ],
      "execution_count": null,
      "outputs": [
        {
          "output_type": "stream",
          "name": "stdout",
          "text": [
            "[4, 5, 7]\n"
          ]
        }
      ]
    },
    {
      "cell_type": "code",
      "metadata": {
        "id": "hX8K8kKYddSv",
        "colab": {
          "base_uri": "https://localhost:8080/"
        },
        "outputId": "217006f2-9635-4785-ff61-f3fb2c48c466"
      },
      "source": [
        "numbers = [2, 3, 5]\n",
        "getnum = [i + 2 for i in numbers if i < 5]\n",
        "print(getnum)"
      ],
      "execution_count": null,
      "outputs": [
        {
          "output_type": "stream",
          "name": "stdout",
          "text": [
            "[4, 5]\n"
          ]
        }
      ]
    },
    {
      "cell_type": "code",
      "metadata": {
        "id": "lTAJySuLGEty",
        "colab": {
          "base_uri": "https://localhost:8080/"
        },
        "outputId": "e504df4a-9143-425f-c1a0-6341e4297bba"
      },
      "source": [
        "#Example: 2\n",
        "num = int(input(\"number: \"))\n",
        "factorial = 1\n",
        "\n",
        "if num < 0:\n",
        "    print(\"must be positive\")\n",
        "elif num == 0:\n",
        "    print(\"factorial = 1\")\n",
        "else:\n",
        "    for i in range(1, num + 1):\n",
        "        factorial = factorial * i\n",
        "    print(\"factorial =  \", factorial)"
      ],
      "execution_count": null,
      "outputs": [
        {
          "output_type": "stream",
          "name": "stdout",
          "text": [
            "number: 5\n",
            "factorial =   120\n"
          ]
        }
      ]
    },
    {
      "cell_type": "markdown",
      "metadata": {
        "id": "LSgIiyEM9VvB"
      },
      "source": [
        "## Pass\n"
      ]
    },
    {
      "cell_type": "code",
      "metadata": {
        "id": "OzSFkwax2ytP"
      },
      "source": [
        "names = [\"Rishu\",'Aayush','Ram','Shubh']\n",
        "\n",
        "for i in names:\n",
        "    pass"
      ],
      "execution_count": null,
      "outputs": []
    },
    {
      "cell_type": "markdown",
      "metadata": {
        "id": "twP8gK2c8kWh"
      },
      "source": [
        "## Continue\n",
        "skip when condition satisfied"
      ]
    },
    {
      "cell_type": "code",
      "metadata": {
        "id": "wbhtab800IMW",
        "colab": {
          "base_uri": "https://localhost:8080/"
        },
        "outputId": "b06a2a49-060c-45f8-aa3e-c2868ab7001a"
      },
      "source": [
        "names = [\"Rishu\",'Aayush','Ram','Shubh']\n",
        "\n",
        "for i in names:\n",
        "  if len(i) == 5:\n",
        "    continue\n",
        "  print(f'My name is {i}')"
      ],
      "execution_count": null,
      "outputs": [
        {
          "output_type": "stream",
          "name": "stdout",
          "text": [
            "My name is Aayush\n",
            "My name is Ram\n"
          ]
        }
      ]
    },
    {
      "cell_type": "markdown",
      "metadata": {
        "id": "aipuTd749KTd"
      },
      "source": [
        "## Break\n",
        "Get out of loop when condition satisfied"
      ]
    },
    {
      "cell_type": "code",
      "metadata": {
        "id": "FSFsuJ5-16Bs",
        "colab": {
          "base_uri": "https://localhost:8080/"
        },
        "outputId": "cb09ad27-e5fc-4350-d235-9b39f1ec16dd"
      },
      "source": [
        "names = [\"Rishu\",'Aayush','Ram','Shubh']\n",
        "\n",
        "for i in names:\n",
        "  if len(i) == 3:\n",
        "    break\n",
        "  print(f'My name is {i}')"
      ],
      "execution_count": null,
      "outputs": [
        {
          "output_type": "stream",
          "name": "stdout",
          "text": [
            "My name is Rishu\n",
            "My name is Aayush\n"
          ]
        }
      ]
    },
    {
      "cell_type": "code",
      "metadata": {
        "colab": {
          "base_uri": "https://localhost:8080/"
        },
        "id": "9L1Q6rvYd03h",
        "outputId": "67f9f359-ad4c-476d-e5d0-7782be441bdb"
      },
      "source": [
        "for i in range(1, 10):\n",
        "       if i == 5:\n",
        "           break\n",
        "       print(i)\n",
        "print('Done')"
      ],
      "execution_count": null,
      "outputs": [
        {
          "output_type": "stream",
          "name": "stdout",
          "text": [
            "1\n",
            "2\n",
            "3\n",
            "4\n",
            "Done\n"
          ]
        }
      ]
    },
    {
      "cell_type": "markdown",
      "metadata": {
        "id": "TakfXG8uGEty"
      },
      "source": [
        "## For-else\n",
        "### If the else statement is used with a for loop, the else block is executed only if for loops terminates normally (and not by encountering break statement)\n"
      ]
    },
    {
      "cell_type": "code",
      "metadata": {
        "id": "s7zVcsWDGEtz",
        "colab": {
          "base_uri": "https://localhost:8080/"
        },
        "outputId": "fa441309-12f6-4b3a-c374-13572e69b382"
      },
      "source": [
        "#example\n",
        "numbers = [11, 33, 55, 39, 55, 78, 37, 21, 23, 41, 13]\n",
        "\n",
        "for num in numbers:\n",
        "   if num % 2 == 0:\n",
        "      print ('the list contains an even number')\n",
        "      break\n",
        "else:\n",
        "  print ('the list does not contain even number')"
      ],
      "execution_count": null,
      "outputs": [
        {
          "output_type": "stream",
          "name": "stdout",
          "text": [
            "the list contains an even number\n"
          ]
        }
      ]
    },
    {
      "cell_type": "code",
      "metadata": {
        "id": "PQiG9Ol36wSg",
        "colab": {
          "base_uri": "https://localhost:8080/"
        },
        "outputId": "bb52390e-6c07-4acd-f3cd-34c214727df6"
      },
      "source": [
        "names = [\"Rishu\",'Aayush','Ram','Shubh']\n",
        "list(enumerate(names))"
      ],
      "execution_count": null,
      "outputs": [
        {
          "output_type": "execute_result",
          "data": {
            "text/plain": [
              "[(0, 'Rishu'), (1, 'Aayush'), (2, 'Ram'), (3, 'Shubh')]"
            ]
          },
          "metadata": {},
          "execution_count": 30
        }
      ]
    },
    {
      "cell_type": "code",
      "metadata": {
        "id": "EIOlbEcm4UkI",
        "colab": {
          "base_uri": "https://localhost:8080/"
        },
        "outputId": "2a0f03f3-29df-4112-e88b-31fe6fad766e"
      },
      "source": [
        "names = [\"Rishu\",'Aayush','Shubh','Ram']\n",
        "\n",
        "for i, j in enumerate(names):\n",
        "  print('index is {0} and value of index is {1}'.format(i, j))"
      ],
      "execution_count": null,
      "outputs": [
        {
          "output_type": "stream",
          "name": "stdout",
          "text": [
            "index is 0 and value of index is Rishu\n",
            "index is 1 and value of index is Aayush\n",
            "index is 2 and value of index is Shubh\n",
            "index is 3 and value of index is Ram\n"
          ]
        }
      ]
    },
    {
      "cell_type": "markdown",
      "metadata": {
        "id": "0iCzz2KxRebG"
      },
      "source": [
        "# While loop\n",
        "While loop simple use as if-else condition for it we use keyword **while** with the condition and end line with a colon\n",
        "\n",
        "Next line same as for loop use indentation your instruction\n",
        "\n",
        "But here you need to also specify abbreviation which will be going to make false the while condition otherwise while loop will not going to stop ever\n",
        "\n",
        "Abbreviation line is most important you can't skip it"
      ]
    },
    {
      "cell_type": "code",
      "metadata": {
        "id": "DMgnUrQe3bYr",
        "colab": {
          "base_uri": "https://localhost:8080/"
        },
        "outputId": "9662ba47-4ab4-4f49-dd1c-7996a91c72db"
      },
      "source": [
        "i = 0\n",
        "while i < 10:\n",
        "  print('Number is ', i)\n",
        "  i = i + 1"
      ],
      "execution_count": null,
      "outputs": [
        {
          "output_type": "stream",
          "name": "stdout",
          "text": [
            "Number is  0\n",
            "Number is  1\n",
            "Number is  2\n",
            "Number is  3\n",
            "Number is  4\n",
            "Number is  5\n",
            "Number is  6\n",
            "Number is  7\n",
            "Number is  8\n",
            "Number is  9\n"
          ]
        }
      ]
    },
    {
      "cell_type": "code",
      "metadata": {
        "id": "yf2gYXlp7CcE"
      },
      "source": [
        "i = 0\n",
        "while i < 10:\n",
        "  pass\n",
        "  i = i + 1"
      ],
      "execution_count": null,
      "outputs": []
    },
    {
      "cell_type": "code",
      "metadata": {
        "id": "YpJbfSiC5Vo-",
        "colab": {
          "base_uri": "https://localhost:8080/"
        },
        "outputId": "ad0e60b0-3d57-408a-b74f-7436359f5721"
      },
      "source": [
        "i = 0\n",
        "while i < 10:\n",
        "  i = i + 1\n",
        "  if i == 5:\n",
        "    continue\n",
        "  print('Number is ',i)"
      ],
      "execution_count": null,
      "outputs": [
        {
          "output_type": "stream",
          "name": "stdout",
          "text": [
            "Number is  1\n",
            "Number is  2\n",
            "Number is  3\n",
            "Number is  4\n",
            "Number is  6\n",
            "Number is  7\n",
            "Number is  8\n",
            "Number is  9\n",
            "Number is  10\n"
          ]
        }
      ]
    },
    {
      "cell_type": "code",
      "metadata": {
        "id": "Z2l-79Bv606D",
        "colab": {
          "base_uri": "https://localhost:8080/"
        },
        "outputId": "7bd57532-df7c-4f17-bb52-2dfd7238e3eb"
      },
      "source": [
        "i = 0\n",
        "while i < 10:\n",
        "  i = i + 1\n",
        "  if i == 5:\n",
        "    break\n",
        "  print('Number is ', i)"
      ],
      "execution_count": null,
      "outputs": [
        {
          "output_type": "stream",
          "name": "stdout",
          "text": [
            "Number is  1\n",
            "Number is  2\n",
            "Number is  3\n",
            "Number is  4\n"
          ]
        }
      ]
    },
    {
      "cell_type": "code",
      "metadata": {
        "id": "pi4l42DC42q-",
        "colab": {
          "base_uri": "https://localhost:8080/"
        },
        "outputId": "8c036307-2488-4f5c-d635-f900d598092a"
      },
      "source": [
        "i = 0\n",
        "while i < 10:\n",
        "  print('Number is ', i)\n",
        "  i = i + 1\n",
        "else:\n",
        "  print('Loop has ended')"
      ],
      "execution_count": null,
      "outputs": [
        {
          "output_type": "stream",
          "name": "stdout",
          "text": [
            "Number is  0\n",
            "Number is  1\n",
            "Number is  2\n",
            "Number is  3\n",
            "Number is  4\n",
            "Number is  5\n",
            "Number is  6\n",
            "Number is  7\n",
            "Number is  8\n",
            "Number is  9\n",
            "Loop has ended\n"
          ]
        }
      ]
    },
    {
      "cell_type": "markdown",
      "metadata": {
        "id": "shohejaR1y7z"
      },
      "source": [
        "# Nested loop\n",
        "Here we can use loop inside a loop one or more then one times\n",
        "\n",
        "we perform it as same other we do but before ending of first of loop we will initiate another loop\n",
        "\n",
        "Here below are some fellowing code for your understanding"
      ]
    },
    {
      "cell_type": "code",
      "metadata": {
        "id": "-Mkc-hOi1yZ2",
        "colab": {
          "base_uri": "https://localhost:8080/"
        },
        "outputId": "0bf0284f-e0bc-4486-c383-47baa125f0af"
      },
      "source": [
        "list1 = [[1,2,3,4],[2,3,3,5]]\n",
        "print(list1)\n",
        "\n",
        "for i in list1 :\n",
        "    for j in i :\n",
        "        print(f'Square of {j} is', j ** 2)\n",
        "    print(\"\\n\")"
      ],
      "execution_count": null,
      "outputs": [
        {
          "output_type": "stream",
          "name": "stdout",
          "text": [
            "[[1, 2, 3, 4], [2, 3, 3, 5]]\n",
            "Square of 1 is 1\n",
            "Square of 2 is 4\n",
            "Square of 3 is 9\n",
            "Square of 4 is 16\n",
            "\n",
            "\n",
            "Square of 2 is 4\n",
            "Square of 3 is 9\n",
            "Square of 3 is 9\n",
            "Square of 5 is 25\n",
            "\n",
            "\n"
          ]
        }
      ]
    },
    {
      "cell_type": "code",
      "source": [
        "adj = [\"red\", \"big\", \"tasty\"]\n",
        "fruits = [\"apple\", \"banana\", \"cherry\"]\n",
        "\n",
        "for x in adj:\n",
        "  for y in fruits:\n",
        "    print(x, y)"
      ],
      "metadata": {
        "colab": {
          "base_uri": "https://localhost:8080/"
        },
        "id": "kkjc8KJY8Gtv",
        "outputId": "8706d996-0383-4754-e483-b67d86109114"
      },
      "execution_count": null,
      "outputs": [
        {
          "output_type": "stream",
          "name": "stdout",
          "text": [
            "red apple\n",
            "red banana\n",
            "red cherry\n",
            "big apple\n",
            "big banana\n",
            "big cherry\n",
            "tasty apple\n",
            "tasty banana\n",
            "tasty cherry\n"
          ]
        }
      ]
    },
    {
      "cell_type": "code",
      "source": [
        "#Example for 'While loop'\n",
        "\n",
        "import random\n",
        "\n",
        "n = 20\n",
        "\n",
        "random_number = int(n * random.random())\n",
        "\n",
        "guess = 0\n",
        "\n",
        "while guess != random_number:\n",
        "    guess = int(input(\"New Number: \"))\n",
        "    if guess > 0:\n",
        "        if guess > random_number:\n",
        "            print(\"number is too large\")\n",
        "        elif guess < random_number:\n",
        "            print(\"number is too small\")\n",
        "    else:\n",
        "        print(\"sorry that you are giveup!\")\n",
        "        break\n",
        "else:\n",
        "    print(\"Congratulations. YOU WON!\")"
      ],
      "metadata": {
        "id": "V00P3aBR6y6U"
      },
      "execution_count": null,
      "outputs": []
    },
    {
      "cell_type": "markdown",
      "metadata": {
        "id": "lH9Jzf807jUM"
      },
      "source": [
        "Best Example for nested loop"
      ]
    },
    {
      "cell_type": "code",
      "metadata": {
        "id": "U11xNAGe3THE",
        "colab": {
          "base_uri": "https://localhost:8080/"
        },
        "outputId": "f821f17b-acd3-4359-efd7-8dc85d0ce6ae"
      },
      "source": [
        "# Print triangle shaped star\n",
        "\n",
        "n = 6  # number of star\n",
        "k = n + 1   # spaces\n",
        "for i in range(0, n) :\n",
        "    for j in range(0, k) :\n",
        "        print(\" \", end = \"\")\n",
        "    k = k - 1                  # Reducing spaces after each loop\n",
        "    for j in range (0, i + 1) :      # taking new loop for printing *\n",
        "        print(\"* \", end = \"\")\n",
        "    print(\"\\r\")         # After complition of * printing starting again from new line\n"
      ],
      "execution_count": null,
      "outputs": [
        {
          "output_type": "stream",
          "name": "stdout",
          "text": [
            "       * \r\n",
            "      * * \r\n",
            "     * * * \r\n",
            "    * * * * \r\n",
            "   * * * * * \r\n",
            "  * * * * * * \r\n"
          ]
        }
      ]
    },
    {
      "cell_type": "markdown",
      "metadata": {
        "id": "JRu7fF2l7oNW"
      },
      "source": [
        "Control statement will work same as work in for and while\n",
        "\n",
        "# ***It's all about loops in Python***"
      ]
    },
    {
      "cell_type": "markdown",
      "metadata": {
        "id": "p9Cl5EGWGEt2"
      },
      "source": [
        "# Functions"
      ]
    },
    {
      "cell_type": "code",
      "metadata": {
        "id": "NUMazbh3GEt2"
      },
      "source": [
        "############################### define function ##################################################\n",
        "\n",
        "#Example for advantage of functions\n",
        "\n",
        "#Imagine there are 1000 of code is created based on requirement without using functions\n",
        "#If same requirement is repeated in the same code as given below with reference of line numbers\n",
        "\n",
        "print(\"Hello Function.nikhil?\") #10\n",
        "print(\"Hello Function.nikhil?\") #14\n",
        "print(\"Hello Function.nikhil?\") #40\n",
        "print(\"Hello Function.nikhil?\") #67"
      ],
      "execution_count": null,
      "outputs": []
    },
    {
      "cell_type": "code",
      "metadata": {
        "id": "TBVmMSXud-rn"
      },
      "source": [
        "def sayHello():\n",
        "    print('Hello World!') # block belonging to the function\n",
        "# End of function #\n",
        "\n",
        "sayHello()"
      ],
      "execution_count": null,
      "outputs": []
    },
    {
      "cell_type": "code",
      "metadata": {
        "id": "I9qzszY6GEuB"
      },
      "source": [
        "# not defined any value but just defined function\n",
        "def hello_func():\n",
        "    pass"
      ],
      "execution_count": null,
      "outputs": []
    },
    {
      "cell_type": "code",
      "metadata": {
        "id": "FztVDLwnGEt4"
      },
      "source": [
        "#simple function\n",
        "def hello(name, age, sal):\n",
        "    print(\"hi\", name, \"your age:\", age, \"your salary:\", sal)\n",
        "\n",
        "hello(\"Nikhil\", 25, 50000)"
      ],
      "execution_count": null,
      "outputs": []
    },
    {
      "cell_type": "code",
      "metadata": {
        "id": "KAfxwT99GEt7"
      },
      "source": [
        "# formal and actual arguments #\n",
        "\n",
        "# function defination #\n",
        "def add(a, b):\n",
        "    return a + b\n",
        "# funtion call#\n",
        "add(2, 3)\n",
        "# Formal arguments are identifiers used in the function definition to represent corresponding actual arguments.\n",
        "# Actual arguments are values(or variables)/expressions that are used inside the parentheses of a function call."
      ],
      "execution_count": null,
      "outputs": []
    },
    {
      "cell_type": "code",
      "metadata": {
        "id": "TjFohTxQGEt8"
      },
      "source": [
        "# positional arguments #\n",
        "\n",
        "def rectangleArea(width, height):\n",
        "    return width * height\n",
        "\n",
        "print(rectangleArea(width = 1, height = 2))\n",
        "\n",
        "#A positional argument is a name that is not followed by an equal sign (=) and default value."
      ],
      "execution_count": null,
      "outputs": []
    },
    {
      "cell_type": "code",
      "metadata": {
        "id": "LDNLKcAUeB8R"
      },
      "source": [
        "def printMax(a, b):\n",
        "   if a > b:\n",
        "       print(a, 'is maximum')\n",
        "   elif a == b:\n",
        "       print(a, 'is equal to', b)\n",
        "   else:\n",
        "       print(b, 'is maximum')\n",
        "\n",
        "printMax(3, 4)"
      ],
      "execution_count": null,
      "outputs": []
    },
    {
      "cell_type": "code",
      "metadata": {
        "id": "j65aG6MZeIc-"
      },
      "source": [
        "def say(message, times = 1):\n",
        "   print(message * times)\n",
        "\n",
        "say('Hello')\n",
        "say('World ', 5)"
      ],
      "execution_count": null,
      "outputs": []
    },
    {
      "cell_type": "code",
      "metadata": {
        "id": "JvicbvyDeOkS",
        "colab": {
          "base_uri": "https://localhost:8080/"
        },
        "outputId": "3b931d34-a1ef-4ac7-86e6-6d42135eb531"
      },
      "source": [
        "def func(a, b = 5, c = 10):\n",
        "   print('a is', a, 'and b is', b, 'and c is', c)\n",
        "func(3, 7)\n",
        "func(25, c = 24)\n",
        "func(c = 50, a = 100)"
      ],
      "execution_count": null,
      "outputs": [
        {
          "output_type": "stream",
          "name": "stdout",
          "text": [
            "a is 3 and b is 7 and c is 10\n",
            "a is 25 and b is 5 and c is 24\n",
            "a is 100 and b is 5 and c is 50\n"
          ]
        }
      ]
    },
    {
      "cell_type": "code",
      "metadata": {
        "id": "YkyPSlqgeTz1",
        "colab": {
          "base_uri": "https://localhost:8080/"
        },
        "outputId": "7fe8cbae-8bf3-44b9-ae32-1a41f072c691"
      },
      "source": [
        "x = 50\n",
        "def func(x):\n",
        "   print('x is', x)\n",
        "   x = 2\n",
        "   print('Changed local x to', x)\n",
        "print('x is still', x)"
      ],
      "execution_count": null,
      "outputs": [
        {
          "output_type": "stream",
          "name": "stdout",
          "text": [
            "x is still 50\n"
          ]
        }
      ]
    },
    {
      "cell_type": "code",
      "source": [
        "func(20)"
      ],
      "metadata": {
        "colab": {
          "base_uri": "https://localhost:8080/"
        },
        "id": "hO8G3EbC8env",
        "outputId": "49741264-b863-4401-f5ae-37cc6b3f9a01"
      },
      "execution_count": null,
      "outputs": [
        {
          "output_type": "stream",
          "name": "stdout",
          "text": [
            "x is 20\n",
            "Changed local x to 2\n"
          ]
        }
      ]
    },
    {
      "cell_type": "code",
      "metadata": {
        "id": "ZMKXZ3nneaOb",
        "colab": {
          "base_uri": "https://localhost:8080/"
        },
        "outputId": "18e800e2-6ea8-4bda-8bad-f453e99ae529"
      },
      "source": [
        "def total(initial = 5, *numbers, **keywords):\n",
        "   count = initial\n",
        "   for number in numbers:\n",
        "       count += number\n",
        "   for k in keywords:\n",
        "       count += keywords[k]\n",
        "   return count\n",
        "print(total(10, 1, 2, 3, vegetables=500, fruits=100))"
      ],
      "execution_count": null,
      "outputs": [
        {
          "output_type": "stream",
          "name": "stdout",
          "text": [
            "616\n"
          ]
        }
      ]
    },
    {
      "cell_type": "markdown",
      "metadata": {
        "id": "E9kQKQES5rfY"
      },
      "source": [
        "# Continued functions"
      ]
    },
    {
      "cell_type": "code",
      "metadata": {
        "id": "qEoRhKaoHIJs"
      },
      "source": [
        "x = 50\n",
        "def func(x):\n",
        "   print('x is', x)\n",
        "   x = 2\n",
        "   print('Changed local x to', x)\n",
        "func(x)\n",
        "print('x is still', x)"
      ],
      "execution_count": null,
      "outputs": []
    },
    {
      "cell_type": "code",
      "metadata": {
        "id": "fN7gn143GEt-",
        "colab": {
          "base_uri": "https://localhost:8080/"
        },
        "outputId": "d8652f18-7d17-4375-fbf0-ea6546955dae"
      },
      "source": [
        "# variable arguments\n",
        "# *args for variable number of arguments\n",
        "def myFun(*v):\n",
        "    for i in v :\n",
        "        print(i)\n",
        "\n",
        "myFun('Hello', 'Welcome', 'to', '360digitmg')\n",
        "\n",
        "\n",
        "#First argument through *argv : Hello\n",
        "#Next argument through *argv : Welcome\n",
        "#Next argument through *argv : to\n",
        "#Next argument through *argv : 360digitmg"
      ],
      "execution_count": null,
      "outputs": [
        {
          "output_type": "stream",
          "name": "stdout",
          "text": [
            "Hello\n",
            "Welcome\n",
            "to\n",
            "360digitmg\n"
          ]
        }
      ]
    },
    {
      "cell_type": "code",
      "metadata": {
        "id": "ccqmVd3IGEt_",
        "colab": {
          "base_uri": "https://localhost:8080/"
        },
        "outputId": "fb5fe4bc-6910-4dd2-dbad-5487a8cbe846"
      },
      "source": [
        "#Using **kwargs to pass the variable keyword arguments to the function\n",
        "# in this function kwargs=data\n",
        "def intro(**data):\n",
        "    print(\"\\nData type of argument:\", type(data))\n",
        "\n",
        "    for key, value in data.items():\n",
        "        print(\"{} is {}\".format(key, value))\n",
        "\n",
        "intro(Firstname=\"Sita\", Lastname=\"Sharma\", Age=22, Phone=1234567890)\n",
        "intro(Firstname=\"John\", Lastname=\"Wood\", Email=\"johnwood@nomail.com\", Country=\"Wakanda\", Age=25, Phone=9876543210)"
      ],
      "execution_count": null,
      "outputs": [
        {
          "output_type": "stream",
          "name": "stdout",
          "text": [
            "\n",
            "Data type of argument: <class 'dict'>\n",
            "Firstname is Sita\n",
            "Lastname is Sharma\n",
            "Age is 22\n",
            "Phone is 1234567890\n",
            "\n",
            "Data type of argument: <class 'dict'>\n",
            "Firstname is John\n",
            "Lastname is Wood\n",
            "Email is johnwood@nomail.com\n",
            "Country is Wakanda\n",
            "Age is 25\n",
            "Phone is 9876543210\n"
          ]
        }
      ]
    },
    {
      "cell_type": "code",
      "metadata": {
        "colab": {
          "base_uri": "https://localhost:8080/"
        },
        "id": "Sjq93DSIHIJu",
        "outputId": "d226ad2a-61e8-46bf-c50e-497630d000dc"
      },
      "source": [
        "def total(initial, *numbers, **keywords):\n",
        "   count = initial\n",
        "   for number in numbers:\n",
        "       count += number\n",
        "   for key in keywords:\n",
        "       count += keywords[key]\n",
        "   return count\n",
        "print(total(10, 1, 2, 3, vegetables=50, fruits=100))"
      ],
      "execution_count": null,
      "outputs": [
        {
          "output_type": "stream",
          "name": "stdout",
          "text": [
            "166\n"
          ]
        }
      ]
    },
    {
      "cell_type": "markdown",
      "metadata": {
        "id": "akuh557wGEuB"
      },
      "source": [
        "## Function call stack\n",
        "### locals(), globals()"
      ]
    },
    {
      "cell_type": "code",
      "metadata": {
        "id": "_Auk_g9E0k7g",
        "colab": {
          "base_uri": "https://localhost:8080/"
        },
        "outputId": "ad484075-71d4-4c99-bb94-a6e1dbcd0919"
      },
      "source": [
        "x = 5  #global\n",
        "def new():\n",
        "  print('number is', x)\n",
        "\n",
        "new()\n",
        "print(x)"
      ],
      "execution_count": null,
      "outputs": [
        {
          "output_type": "stream",
          "name": "stdout",
          "text": [
            "number is 5\n",
            "5\n"
          ]
        }
      ]
    },
    {
      "cell_type": "code",
      "metadata": {
        "id": "lEAwkINw07VI",
        "colab": {
          "base_uri": "https://localhost:8080/"
        },
        "outputId": "1e810869-9190-4323-e6cc-5dcff9c5bb71"
      },
      "source": [
        "x = 5# global\n",
        "def new():\n",
        "  x = 6  #local\n",
        "  print('number is', x)\n",
        "\n",
        "new()\n",
        "print(x)"
      ],
      "execution_count": null,
      "outputs": [
        {
          "output_type": "stream",
          "name": "stdout",
          "text": [
            "number is 6\n",
            "5\n"
          ]
        }
      ]
    },
    {
      "cell_type": "code",
      "metadata": {
        "id": "b2Wa9a18GEuC",
        "colab": {
          "base_uri": "https://localhost:8080/"
        },
        "outputId": "82bb7973-0c0f-455f-a19a-2b0d1cd5a26b"
      },
      "source": [
        "age = 23 #Age Global variable\n",
        "name = \"Somesh\" # Name Global Variable\n",
        "places = [\"Nagpur\", \"Mumbai\", \"Pune\"] #Places Global Variable\n",
        "\n",
        "def local(): #Function declaration\n",
        "    age = 1 #Age Local Variable\n",
        "    name = 'Aayush' # Name Local Variable\n",
        "    print(\"%s is %i years old and lives in %s.\" % (name, age, places[0])) #Function Definition for Local Variable\n",
        "    #In the above line of code name and age variables are Local and place is Global Variable\n",
        "    return\n",
        "\n",
        "local() #Function calls Local() Variables\n",
        "print(\"##############\")\n",
        "\n",
        "print(\"%s is %i years old and lives in %s.\" % (name, age, places[2])) #Calling Definition for Global Variable\n",
        "#In the above line of code name, age and place are Global Variables"
      ],
      "execution_count": null,
      "outputs": [
        {
          "output_type": "stream",
          "name": "stdout",
          "text": [
            "Aayush is 1 years old and lives in Nagpur.\n",
            "##############\n",
            "Somesh is 23 years old and lives in Pune.\n"
          ]
        }
      ]
    },
    {
      "cell_type": "markdown",
      "metadata": {
        "id": "5XfCpVruBgMJ"
      },
      "source": [
        "## Declaring global variable within function"
      ]
    },
    {
      "cell_type": "code",
      "metadata": {
        "id": "HkZf14y91Mxr",
        "colab": {
          "base_uri": "https://localhost:8080/"
        },
        "outputId": "f36f5ad5-3570-4a26-8112-f82f8f895e7d"
      },
      "source": [
        "x = 5\n",
        "def new():\n",
        "  global x\n",
        "  x = 10   #global\n",
        "  print('number is', x)\n",
        "\n",
        "new()\n",
        "print(x)"
      ],
      "execution_count": null,
      "outputs": [
        {
          "output_type": "stream",
          "name": "stdout",
          "text": [
            "number is 10\n",
            "10\n"
          ]
        }
      ]
    },
    {
      "cell_type": "markdown",
      "metadata": {
        "id": "nSe9QYlMxgxL"
      },
      "source": [
        "## Recursion"
      ]
    },
    {
      "cell_type": "markdown",
      "metadata": {
        "id": "ZUggmc5WCVs3"
      },
      "source": [
        "Without recursion declaring function of factorial"
      ]
    },
    {
      "cell_type": "code",
      "metadata": {
        "id": "Wc_CNfFQxeQb",
        "colab": {
          "base_uri": "https://localhost:8080/"
        },
        "outputId": "4264a134-3b20-4745-8642-2d5135b364fd"
      },
      "source": [
        "def fact(N):\n",
        "  if N < 0:\n",
        "    print(\"Input the positive number\")\n",
        "  elif N == 0:\n",
        "    print(f'Factorial of {N}! is {1}')\n",
        "  else:\n",
        "    fact = 1\n",
        "    for i in range(1, N + 1):\n",
        "      fact *= i\n",
        "    print(f'Factorial of {N}! is {fact}')\n",
        "\n",
        "fact(5)"
      ],
      "execution_count": null,
      "outputs": [
        {
          "output_type": "stream",
          "name": "stdout",
          "text": [
            "Factorial of 5! is 120\n"
          ]
        }
      ]
    },
    {
      "cell_type": "code",
      "metadata": {
        "id": "Eal-Cuf5y1IF",
        "colab": {
          "base_uri": "https://localhost:8080/"
        },
        "outputId": "92b51bbc-b689-462c-b117-9d2466b6623a"
      },
      "source": [
        "def fact(N):\n",
        "  if N < 0:\n",
        "    print(\"Input the positive number\")\n",
        "  elif N == 0:\n",
        "    print(f'Factorial of {N}! is {1}')\n",
        "  elif N == 1:\n",
        "    return 1\n",
        "  else:\n",
        "    return (N * fact(N-1))\n",
        "\n",
        "fact(5)"
      ],
      "execution_count": null,
      "outputs": [
        {
          "output_type": "execute_result",
          "data": {
            "text/plain": [
              "120"
            ]
          },
          "metadata": {},
          "execution_count": 23
        }
      ]
    },
    {
      "cell_type": "markdown",
      "metadata": {
        "id": "UNQdH-tLrhdv"
      },
      "source": [
        "# List Comprehensions"
      ]
    },
    {
      "cell_type": "code",
      "source": [
        "list1=[\"a\",\"b\",[\"c\",[\"d\",\"e\",[\"f\",\"g\"],\"k\"],\"l\"],\"m\",\"n\"]"
      ],
      "metadata": {
        "id": "5MXUCIzhZJc3"
      },
      "execution_count": null,
      "outputs": []
    },
    {
      "cell_type": "code",
      "source": [
        "list2=[\"h\", \"i\",\"j\"\n",
        "\n",
        "]"
      ],
      "metadata": {
        "id": "TcVLt5zDZima"
      },
      "execution_count": null,
      "outputs": []
    },
    {
      "cell_type": "code",
      "source": [
        "list1.extend(list2)\n"
      ],
      "metadata": {
        "id": "TpE8VblqZorx"
      },
      "execution_count": null,
      "outputs": []
    },
    {
      "cell_type": "code",
      "source": [
        "list1"
      ],
      "metadata": {
        "colab": {
          "base_uri": "https://localhost:8080/"
        },
        "id": "yJfsbzMOZsV8",
        "outputId": "ff8a4210-db2b-437b-dc20-6bb1801e9a17"
      },
      "execution_count": null,
      "outputs": [
        {
          "output_type": "execute_result",
          "data": {
            "text/plain": [
              "['a', 'b', ['c', ['d', 'e', ['f', 'g'], 'k'], 'l'], 'm', 'n', 'h', 'i', 'j']"
            ]
          },
          "metadata": {},
          "execution_count": 4
        }
      ]
    },
    {
      "cell_type": "code",
      "source": [
        "list1[2]"
      ],
      "metadata": {
        "colab": {
          "base_uri": "https://localhost:8080/"
        },
        "id": "tS11Utn6ZvTn",
        "outputId": "04f1a349-7538-4685-90e4-b11453cca497"
      },
      "execution_count": null,
      "outputs": [
        {
          "output_type": "execute_result",
          "data": {
            "text/plain": [
              "['c', ['d', 'e', ['f', 'g'], 'k'], 'l']"
            ]
          },
          "metadata": {},
          "execution_count": 6
        }
      ]
    },
    {
      "cell_type": "code",
      "source": [
        "list1[2][1]"
      ],
      "metadata": {
        "colab": {
          "base_uri": "https://localhost:8080/"
        },
        "id": "RWHVu-oWaVB9",
        "outputId": "06cb7dca-1ee4-45d5-b774-3f2d02f62b2a"
      },
      "execution_count": null,
      "outputs": [
        {
          "output_type": "execute_result",
          "data": {
            "text/plain": [
              "['d', 'e', ['f', 'g'], 'k']"
            ]
          },
          "metadata": {},
          "execution_count": 7
        }
      ]
    },
    {
      "cell_type": "code",
      "source": [
        "list1[2][1][2]"
      ],
      "metadata": {
        "colab": {
          "base_uri": "https://localhost:8080/"
        },
        "id": "q_Px_CgIaZpQ",
        "outputId": "fb9d7111-e172-4974-da0c-66515267b70a"
      },
      "execution_count": null,
      "outputs": [
        {
          "output_type": "execute_result",
          "data": {
            "text/plain": [
              "['f', 'g']"
            ]
          },
          "metadata": {},
          "execution_count": 8
        }
      ]
    },
    {
      "cell_type": "code",
      "source": [
        "list1[2][1][2].extend(list2)"
      ],
      "metadata": {
        "id": "ZtXSTcMDahkH"
      },
      "execution_count": null,
      "outputs": []
    },
    {
      "cell_type": "code",
      "source": [
        "list1"
      ],
      "metadata": {
        "colab": {
          "base_uri": "https://localhost:8080/"
        },
        "id": "e-LWzHr0ao1w",
        "outputId": "7807fed2-8d5d-43c8-8023-e2965b68836b"
      },
      "execution_count": null,
      "outputs": [
        {
          "output_type": "execute_result",
          "data": {
            "text/plain": [
              "['a', 'b', ['c', ['d', 'e', ['f', 'g', 'h', 'i', 'j'], 'k'], 'l'], 'm', 'n']"
            ]
          },
          "metadata": {},
          "execution_count": 13
        }
      ]
    },
    {
      "cell_type": "markdown",
      "source": [
        "# make a tuple  out of a list\n",
        "month= [ 'jan', 'feb', 'mar', \"apr\"]"
      ],
      "metadata": {
        "id": "uIE7lXEza4-m"
      }
    },
    {
      "cell_type": "code",
      "source": [
        "month= [ 'jan', 'feb', 'mar', \"apr\"]"
      ],
      "metadata": {
        "id": "wzDrNW-sbGMk"
      },
      "execution_count": null,
      "outputs": []
    },
    {
      "cell_type": "code",
      "source": [
        "new= tuple(month)"
      ],
      "metadata": {
        "id": "7QRqE5ZbbUF3"
      },
      "execution_count": null,
      "outputs": []
    },
    {
      "cell_type": "code",
      "source": [
        "new"
      ],
      "metadata": {
        "colab": {
          "base_uri": "https://localhost:8080/"
        },
        "id": "-mX81rEibXXg",
        "outputId": "2b41d612-cd5a-48d2-e7dc-047592503ca1"
      },
      "execution_count": null,
      "outputs": [
        {
          "output_type": "execute_result",
          "data": {
            "text/plain": [
              "('jan', 'feb', 'mar', 'apr')"
            ]
          },
          "metadata": {},
          "execution_count": 16
        }
      ]
    },
    {
      "cell_type": "code",
      "source": [
        "# weekoffs= [ \"sun\",\"MOn\",\"Tues,\"wed\"]\n",
        "#the output should be only Mon and tues use indexing"
      ],
      "metadata": {
        "id": "Rey7q3cWbcQx"
      },
      "execution_count": null,
      "outputs": []
    },
    {
      "cell_type": "code",
      "source": [
        "weekoffs= [\"sun\",\"MOn\",\"Tues\",\"wed\"]\n"
      ],
      "metadata": {
        "id": "ZkU43_xhb42M"
      },
      "execution_count": null,
      "outputs": []
    },
    {
      "cell_type": "code",
      "source": [
        "weekoffs[-3:-2]"
      ],
      "metadata": {
        "colab": {
          "base_uri": "https://localhost:8080/"
        },
        "id": "WSZ9JYDFcT-h",
        "outputId": "a39a909a-dbe5-4dd4-96d0-8db8e4ebc4a0"
      },
      "execution_count": null,
      "outputs": [
        {
          "output_type": "execute_result",
          "data": {
            "text/plain": [
              "['MOn']"
            ]
          },
          "metadata": {},
          "execution_count": 26
        }
      ]
    },
    {
      "cell_type": "code",
      "source": [
        "# i have a string\n",
        "input_string =\"Deepthi\"\n",
        "vowels= [ 'a', 'e','i', 'o','u'] # remove the vowels\n",
        "result= input_string"
      ],
      "metadata": {
        "id": "0biSIJiudYvi"
      },
      "execution_count": null,
      "outputs": []
    },
    {
      "cell_type": "code",
      "source": [
        "for x in input_string.lower():\n",
        "  if x in vowels:\n",
        "    result = result.replace(x,\" \")\n",
        "print( result )"
      ],
      "metadata": {
        "colab": {
          "base_uri": "https://localhost:8080/"
        },
        "id": "xxofouGSei_f",
        "outputId": "f2bd90f0-b598-4d36-e2bb-dde6c02fb673"
      },
      "execution_count": null,
      "outputs": [
        {
          "output_type": "stream",
          "name": "stdout",
          "text": [
            "Dpth\n"
          ]
        }
      ]
    },
    {
      "cell_type": "code",
      "source": [
        "# randomise the items in a list\n",
        "x=['keep', 'the', 'Blue','flag','flying ','high']\n",
        "from random import shuffle\n",
        "shuffle(x)"
      ],
      "metadata": {
        "id": "heg_9C-ae-Xq"
      },
      "execution_count": null,
      "outputs": []
    },
    {
      "cell_type": "code",
      "source": [
        "x"
      ],
      "metadata": {
        "colab": {
          "base_uri": "https://localhost:8080/"
        },
        "id": "xqRzmKWQf4TT",
        "outputId": "c848b416-31a4-43fb-bbc5-7e2ee9f96ae3"
      },
      "execution_count": null,
      "outputs": [
        {
          "output_type": "execute_result",
          "data": {
            "text/plain": [
              "['high', 'keep', 'flag', 'the', 'Blue', 'flying ']"
            ]
          },
          "metadata": {},
          "execution_count": 40
        }
      ]
    },
    {
      "cell_type": "code",
      "source": [
        "new = set(x)"
      ],
      "metadata": {
        "id": "0ikWSE6ggFNU"
      },
      "execution_count": null,
      "outputs": []
    },
    {
      "cell_type": "code",
      "source": [
        "new"
      ],
      "metadata": {
        "colab": {
          "base_uri": "https://localhost:8080/"
        },
        "id": "cPZOUciugGO9",
        "outputId": "c630d65c-36a8-4a90-9548-8a78805aec4c"
      },
      "execution_count": null,
      "outputs": [
        {
          "output_type": "execute_result",
          "data": {
            "text/plain": [
              "{'Blue', 'flag', 'flying ', 'high', 'keep', 'the'}"
            ]
          },
          "metadata": {},
          "execution_count": 49
        }
      ]
    },
    {
      "cell_type": "code",
      "source": [
        "lst = \"DeEpthi\"\n",
        "newlst = []\n",
        "for i in lst:\n",
        "    if i in ['a', 'e', 'i', 'o', 'u']:\n",
        "        newlst.append(i)\n",
        "print(newlst)"
      ],
      "metadata": {
        "colab": {
          "base_uri": "https://localhost:8080/"
        },
        "id": "ZqPjFGe-eLwi",
        "outputId": "6fb3bfb4-9905-429a-f15c-3d89f348d83e"
      },
      "execution_count": null,
      "outputs": [
        {
          "output_type": "stream",
          "name": "stdout",
          "text": [
            "['e', 'i']\n"
          ]
        }
      ]
    },
    {
      "cell_type": "code",
      "source": [
        "lst = \"DeEpthi\""
      ],
      "metadata": {
        "id": "qGIWkZx3ecRl"
      },
      "execution_count": null,
      "outputs": []
    },
    {
      "cell_type": "code",
      "source": [],
      "metadata": {
        "id": "sexV_wzBfvDD"
      },
      "execution_count": null,
      "outputs": []
    },
    {
      "cell_type": "markdown",
      "source": [],
      "metadata": {
        "id": "TBsei3lAdzZI"
      }
    },
    {
      "cell_type": "markdown",
      "source": [],
      "metadata": {
        "id": "CxREpExzb4sE"
      }
    },
    {
      "cell_type": "code",
      "metadata": {
        "id": "0wSomw1erheA",
        "colab": {
          "base_uri": "https://localhost:8080/"
        },
        "outputId": "18bce710-3d83-4489-985e-3bc67ce47ad2"
      },
      "source": [
        "# List Comprehensions and Readability\n",
        "\n",
        "# Build a list of Unicode codepoints from a string in ordinary way\n",
        "symbols = '$¢£¥€¤'\n",
        "codes = []\n",
        "for symbol in symbols:\n",
        "     codes.append(ord(symbol))\n",
        "codes"
      ],
      "execution_count": null,
      "outputs": [
        {
          "output_type": "execute_result",
          "data": {
            "text/plain": [
              "[36, 162, 163, 165, 8364, 164]"
            ]
          },
          "metadata": {},
          "execution_count": 50
        }
      ]
    },
    {
      "cell_type": "code",
      "metadata": {
        "id": "uziqRz1brheN",
        "colab": {
          "base_uri": "https://localhost:8080/"
        },
        "outputId": "a49f9ddf-ea4d-4843-f767-3a8e17effe40"
      },
      "source": [
        "# Alternative way to perform the above Unicode using List comprehension\n",
        "symbols = '$¢£¥€'\n",
        "codes = [ord(i) for i in symbols]\n",
        "codes"
      ],
      "execution_count": null,
      "outputs": [
        {
          "output_type": "execute_result",
          "data": {
            "text/plain": [
              "[36, 162, 163, 165, 8364]"
            ]
          },
          "metadata": {},
          "execution_count": 51
        }
      ]
    },
    {
      "cell_type": "code",
      "source": [
        "fruits= [ \"apple\",\"banana\",\"orange\"]\n",
        "newlist=[]\n",
        "for x in fruits:\n",
        "  if \"a\" in x :\n",
        "    newlist.append(x)\n",
        "newlist"
      ],
      "metadata": {
        "colab": {
          "base_uri": "https://localhost:8080/"
        },
        "id": "7jQ3VNI_h8_U",
        "outputId": "a883ae4f-dae2-4bc4-fe75-a2f1477a08fb"
      },
      "execution_count": null,
      "outputs": [
        {
          "output_type": "execute_result",
          "data": {
            "text/plain": [
              "['apple', 'banana', 'orange']"
            ]
          },
          "metadata": {},
          "execution_count": 52
        }
      ]
    },
    {
      "cell_type": "code",
      "source": [
        "newlist= [x for x in fruits if \"a\" in x]\n",
        "newlist"
      ],
      "metadata": {
        "colab": {
          "base_uri": "https://localhost:8080/"
        },
        "id": "cDgmbxiYiN-W",
        "outputId": "c15cc0c6-bf8c-498c-e193-358c947f861d"
      },
      "execution_count": null,
      "outputs": [
        {
          "output_type": "execute_result",
          "data": {
            "text/plain": [
              "['apple', 'banana', 'orange']"
            ]
          },
          "metadata": {},
          "execution_count": 54
        }
      ]
    },
    {
      "cell_type": "code",
      "source": [
        "newlist= [x for x in fruits if x!= \"apple\"]\n",
        "newlist"
      ],
      "metadata": {
        "colab": {
          "base_uri": "https://localhost:8080/"
        },
        "id": "SrCMO5hxidI9",
        "outputId": "3d24ce19-d1cf-4946-92d6-03acecfb67a2"
      },
      "execution_count": null,
      "outputs": [
        {
          "output_type": "execute_result",
          "data": {
            "text/plain": [
              "['banana', 'orange']"
            ]
          },
          "metadata": {},
          "execution_count": 55
        }
      ]
    },
    {
      "cell_type": "code",
      "source": [
        "newlist = [x for x in range(10)]\n",
        "newlist"
      ],
      "metadata": {
        "colab": {
          "base_uri": "https://localhost:8080/"
        },
        "id": "3baPVLsiimle",
        "outputId": "4efa311e-6cb7-4a07-d483-11298fac37b5"
      },
      "execution_count": null,
      "outputs": [
        {
          "output_type": "execute_result",
          "data": {
            "text/plain": [
              "[0, 1, 2, 3, 4, 5, 6, 7, 8, 9]"
            ]
          },
          "metadata": {},
          "execution_count": 57
        }
      ]
    },
    {
      "cell_type": "code",
      "source": [
        "newlist = [x for x in range(10) if x<5]\n",
        "newlist"
      ],
      "metadata": {
        "colab": {
          "base_uri": "https://localhost:8080/"
        },
        "id": "oUighxNpi0J6",
        "outputId": "a5c2332d-f444-4241-c990-73a34c523896"
      },
      "execution_count": null,
      "outputs": [
        {
          "output_type": "execute_result",
          "data": {
            "text/plain": [
              "[0, 1, 2, 3, 4]"
            ]
          },
          "metadata": {},
          "execution_count": 58
        }
      ]
    },
    {
      "cell_type": "code",
      "metadata": {
        "colab": {
          "base_uri": "https://localhost:8080/"
        },
        "id": "dnX1Gjwnwi9t",
        "outputId": "20e0b811-eed0-4da7-dc92-b8eca1308ca0"
      },
      "source": [
        "new_list = [i for i in range(12) if i % 2 == 1]\n",
        "print(new_list)"
      ],
      "execution_count": null,
      "outputs": [
        {
          "output_type": "stream",
          "name": "stdout",
          "text": [
            "[1, 3, 5, 7, 9, 11]\n"
          ]
        }
      ]
    },
    {
      "cell_type": "code",
      "source": [
        "newlist = [x.upper() for x in fruits]\n",
        "newlist"
      ],
      "metadata": {
        "colab": {
          "base_uri": "https://localhost:8080/"
        },
        "id": "I_Mt8lxJi56U",
        "outputId": "397efd90-6cd9-4092-a16c-f6721505ab57"
      },
      "execution_count": null,
      "outputs": [
        {
          "output_type": "execute_result",
          "data": {
            "text/plain": [
              "['APPLE', 'BANANA', 'ORANGE']"
            ]
          },
          "metadata": {},
          "execution_count": 61
        }
      ]
    },
    {
      "cell_type": "code",
      "source": [
        "newlist = [ x if  x!= \"banana\" else \"orange\" for x in fruits]\n",
        "newlist"
      ],
      "metadata": {
        "colab": {
          "base_uri": "https://localhost:8080/"
        },
        "id": "stgpRDE6jEH5",
        "outputId": "4faa3423-daec-45d1-ac5c-0dcf6e422b8c"
      },
      "execution_count": null,
      "outputs": [
        {
          "output_type": "execute_result",
          "data": {
            "text/plain": [
              "['apple', 'orange', 'orange']"
            ]
          },
          "metadata": {},
          "execution_count": 62
        }
      ]
    },
    {
      "cell_type": "code",
      "source": [],
      "metadata": {
        "id": "9BP_60P4i_1a"
      },
      "execution_count": null,
      "outputs": []
    },
    {
      "cell_type": "markdown",
      "metadata": {
        "id": "tE-n0HoWrheR"
      },
      "source": [
        "## Dictionary Comprehension"
      ]
    },
    {
      "cell_type": "code",
      "metadata": {
        "id": "9lLIMl3_rheU",
        "colab": {
          "base_uri": "https://localhost:8080/"
        },
        "outputId": "598a6572-dd46-41e8-a966-4fbd3d6846ab"
      },
      "source": [
        "##Let's see how the same probem can be solved using a for loop and dictionary comprehension\n",
        "##We want to create a new dictionary where the key is a number divisible by 2 in a range of 0-10 and it's value is the square of the number.\n",
        "numbers = range(10)\n",
        "print(numbers)\n",
        "new_dict_for = {}\n",
        "\n",
        "# Add values to `new_dict` using for loop\n",
        "for n in numbers:\n",
        "    if n % 2 == 0:\n",
        "        new_dict_for[n] = n ** 2\n",
        "\n",
        "print(new_dict_for)"
      ],
      "execution_count": null,
      "outputs": [
        {
          "output_type": "stream",
          "name": "stdout",
          "text": [
            "range(0, 10)\n",
            "{0: 0, 2: 4, 4: 16, 6: 36, 8: 64}\n"
          ]
        }
      ]
    },
    {
      "cell_type": "code",
      "metadata": {
        "id": "2YtRbsU_rheY",
        "colab": {
          "base_uri": "https://localhost:8080/"
        },
        "outputId": "a6658c57-bdb3-42bd-856b-e0bd2462b9cb"
      },
      "source": [
        "# Use dictionary comprehension\n",
        "new_dict_comp = {n: n**2 }for n in numbers if n % 2 == 0\n",
        "\n",
        "print(new_dict_comp)"
      ],
      "execution_count": null,
      "outputs": [
        {
          "output_type": "stream",
          "name": "stdout",
          "text": [
            "{0: 0, 2: 4, 4: 16, 6: 36, 8: 64}\n"
          ]
        }
      ]
    },
    {
      "cell_type": "code",
      "metadata": {
        "id": "TkZD-vwmrheb",
        "colab": {
          "base_uri": "https://localhost:8080/"
        },
        "outputId": "648c1ff1-2cef-4015-fdbb-2f12bb0e635b"
      },
      "source": [
        "##Another example\n",
        "\n",
        "dict1 = {'a': 1, 'b': 2, 'c': 3, 'd': 4, 'e': 5}\n",
        "\n",
        "dict1_keys = {k*2 : v*2 for (k,v) in dict1.items()}\n",
        "print(dict1_keys)"
      ],
      "execution_count": null,
      "outputs": [
        {
          "output_type": "stream",
          "name": "stdout",
          "text": [
            "{'aa': 2, 'bb': 4, 'cc': 6, 'dd': 8, 'ee': 10}\n"
          ]
        }
      ]
    },
    {
      "cell_type": "markdown",
      "metadata": {
        "id": "7X8rAxATrhem"
      },
      "source": [
        "## Zip and Unzip"
      ]
    },
    {
      "cell_type": "code",
      "source": [
        "##Python code to demonstrate the working of  zip()\n",
        "# initializing lists\n",
        "name = [ \"Manjeet\", \"Nikhil\", \"Shambhavi\", \"Astha\" ]\n",
        "roll_no = [ 4, 1, 3, 2 ]\n",
        "marks = [ 40, 50, 60, 70 ]\n",
        "\n",
        "# using zip() to map values\n",
        "mapped = zip(name, roll_no, marks)"
      ],
      "metadata": {
        "id": "uRonM35skWeu"
      },
      "execution_count": null,
      "outputs": []
    },
    {
      "cell_type": "code",
      "source": [
        "set(mapped)"
      ],
      "metadata": {
        "colab": {
          "base_uri": "https://localhost:8080/"
        },
        "id": "d3GOqf-IkXmY",
        "outputId": "c2b2fee4-cc1a-4c01-fff8-217325e712c9"
      },
      "execution_count": null,
      "outputs": [
        {
          "output_type": "execute_result",
          "data": {
            "text/plain": [
              "{('Astha', 2, 70), ('Manjeet', 4, 40), ('Nikhil', 1, 50), ('Shambhavi', 3, 60)}"
            ]
          },
          "metadata": {},
          "execution_count": 68
        }
      ]
    },
    {
      "cell_type": "code",
      "metadata": {
        "id": "cdrWhnoZrheo",
        "colab": {
          "base_uri": "https://localhost:8080/"
        },
        "outputId": "b452a8e5-b7e3-4b6f-8cbd-a483b1e12e0e"
      },
      "source": [
        "##Python code to demonstrate the working of  zip()\n",
        "# initializing lists\n",
        "name = [ \"Manjeet\", \"Nikhil\", \"Shambhavi\", \"Astha\" ]\n",
        "roll_no = [ 4, 1, 3, 2 ]\n",
        "marks = [ 40, 50, 60, 70 ]\n",
        "\n",
        "# using zip() to map values\n",
        "mapped = zip(name, roll_no, marks)\n",
        "\n",
        "# converting values to print as set\n",
        "mapped = set(mapped)\n",
        "\n",
        "# printing resultant values\n",
        "print(\"The zipped result is : \")\n",
        "print(mapped)"
      ],
      "execution_count": null,
      "outputs": [
        {
          "output_type": "stream",
          "name": "stdout",
          "text": [
            "The zipped result is : \n",
            "{('Shambhavi', 3, 60), ('Manjeet', 4, 40), ('Nikhil', 1, 50), ('Astha', 2, 70)}\n"
          ]
        }
      ]
    },
    {
      "cell_type": "code",
      "metadata": {
        "id": "4Jv0bl1Lrher",
        "colab": {
          "base_uri": "https://localhost:8080/"
        },
        "outputId": "af70b928-2cc1-4a3f-e0ed-7b6d80ab48c3"
      },
      "source": [
        "# unzipping values\n",
        "namz, roll_noz, marksz = zip(*mapped)\n",
        "\n",
        "print(\"The unzipped result: \\n\", end = \"\")\n",
        "print(\"The name list is : \", end = \"\")\n",
        "print(namz)\n",
        "print(\"The roll_no list is : \", end = \"\")\n",
        "print(roll_noz)\n",
        "print(\"The marks list is : \", end = \"\")\n",
        "print(marksz)"
      ],
      "execution_count": null,
      "outputs": [
        {
          "output_type": "stream",
          "name": "stdout",
          "text": [
            "The unzipped result: \n",
            "The name list is : ('Shambhavi', 'Manjeet', 'Nikhil', 'Astha')\n",
            "The roll_no list is : (3, 4, 1, 2)\n",
            "The marks list is : (60, 40, 50, 70)\n"
          ]
        }
      ]
    },
    {
      "cell_type": "markdown",
      "metadata": {
        "id": "EXFPou6HrhfC"
      },
      "source": [
        "# Built-in Sort Functions"
      ]
    },
    {
      "cell_type": "code",
      "metadata": {
        "id": "Pw6ELVL8C3od",
        "colab": {
          "base_uri": "https://localhost:8080/"
        },
        "outputId": "a19aad57-3ffe-4e1c-d09b-a2eb29d14441"
      },
      "source": [
        "animals = ['dog', 'cat', 'sheep', 'goat', 'elephant']\n",
        "# Ascending order with alphabet\n",
        "sorted(animals)"
      ],
      "execution_count": null,
      "outputs": [
        {
          "output_type": "execute_result",
          "data": {
            "text/plain": [
              "['cat', 'dog', 'elephant', 'goat', 'sheep']"
            ]
          },
          "metadata": {},
          "execution_count": 7
        }
      ]
    },
    {
      "cell_type": "code",
      "metadata": {
        "id": "2LLjv7AoC3oe",
        "colab": {
          "base_uri": "https://localhost:8080/"
        },
        "outputId": "e0ac137a-446d-40f7-9f7f-1aaab8c7448f"
      },
      "source": [
        "# Descending order with alphabet\n",
        "sorted(animals, reverse = True)\n"
      ],
      "execution_count": null,
      "outputs": [
        {
          "output_type": "execute_result",
          "data": {
            "text/plain": [
              "['sheep', 'goat', 'elephant', 'dog', 'cat']"
            ]
          },
          "metadata": {},
          "execution_count": 8
        }
      ]
    },
    {
      "cell_type": "code",
      "metadata": {
        "id": "Zy_ojRyfC3of",
        "colab": {
          "base_uri": "https://localhost:8080/"
        },
        "outputId": "c14d4530-948a-4ffe-8aa5-38f3a8065c1c"
      },
      "source": [
        "# Ascending order with respect to length of the character\n",
        "sorted(animals, key = len, reverse = True)"
      ],
      "execution_count": null,
      "outputs": [
        {
          "output_type": "execute_result",
          "data": {
            "text/plain": [
              "['elephant', 'sheep', 'goat', 'dog', 'cat']"
            ]
          },
          "metadata": {},
          "execution_count": 32
        }
      ]
    },
    {
      "cell_type": "code",
      "source": [
        "help(sorted)"
      ],
      "metadata": {
        "colab": {
          "base_uri": "https://localhost:8080/"
        },
        "id": "jj2niaZ3ybNm",
        "outputId": "be1a3b3c-ea7b-4bd1-93f7-453c1442af52"
      },
      "execution_count": null,
      "outputs": [
        {
          "output_type": "stream",
          "name": "stdout",
          "text": [
            "Help on built-in function sorted in module builtins:\n",
            "\n",
            "sorted(iterable, /, *, key=None, reverse=False)\n",
            "    Return a new list containing all items from the iterable in ascending order.\n",
            "    \n",
            "    A custom key function can be supplied to customize the sort order, and the\n",
            "    reverse flag can be set to request the result in descending order.\n",
            "\n"
          ]
        }
      ]
    },
    {
      "cell_type": "code",
      "metadata": {
        "id": "ImYdopELC3of",
        "colab": {
          "base_uri": "https://localhost:8080/"
        },
        "outputId": "86bdba15-fadf-487d-8da9-32707389ddf4"
      },
      "source": [
        "# Descending order with respect to length of the character\n",
        "sorted(animals, key = len)"
      ],
      "execution_count": null,
      "outputs": [
        {
          "output_type": "execute_result",
          "data": {
            "text/plain": [
              "['dog', 'cat', 'goat', 'sheep', 'elephant']"
            ]
          },
          "metadata": {},
          "execution_count": 33
        }
      ]
    },
    {
      "cell_type": "code",
      "metadata": {
        "id": "PK_WN-eRC3og",
        "colab": {
          "base_uri": "https://localhost:8080/"
        },
        "outputId": "5bc7c57b-42fd-4716-9d83-b9cc4e37edc5"
      },
      "source": [
        "# Built-in function for sort\n",
        "animals.sort()\n",
        "animals"
      ],
      "execution_count": null,
      "outputs": [
        {
          "output_type": "execute_result",
          "data": {
            "text/plain": [
              "['cat', 'dog', 'elephant', 'goat', 'sheep']"
            ]
          },
          "metadata": {},
          "execution_count": 34
        }
      ]
    },
    {
      "cell_type": "markdown",
      "metadata": {
        "id": "ywmLHbLRrhe5"
      },
      "source": [
        "# Augmented Assignments with Sequences"
      ]
    },
    {
      "cell_type": "code",
      "metadata": {
        "id": "vsg89fUWrhe7",
        "colab": {
          "base_uri": "https://localhost:8080/"
        },
        "outputId": "ed59f115-2b79-40ef-a548-95784fbf2186"
      },
      "source": [
        "# Augumented assignment operators with *=\n",
        "# id of lists\n",
        "l = [1, 2, 3]\n",
        "print(id(l), l)\n",
        "# ID of list will not change just append the values to the same ID\n",
        "l *= 2 # Eql to L*2\n",
        "print(id(l), l)"
      ],
      "execution_count": null,
      "outputs": [
        {
          "output_type": "stream",
          "name": "stdout",
          "text": [
            "140321057754720 [1, 2, 3]\n",
            "140321057754720 [1, 2, 3, 1, 2, 3]\n"
          ]
        }
      ]
    },
    {
      "cell_type": "code",
      "metadata": {
        "id": "gDTXGZI6rhe_",
        "colab": {
          "base_uri": "https://localhost:8080/"
        },
        "outputId": "e41d09b5-3395-4f26-ea2a-b70955e30fde"
      },
      "source": [
        "# Augumented assignment operators with *=\n",
        "t = (1, 2, 3)\n",
        "print(id(t), t)\n",
        "# ID of the tuple will change instead of appending the values to the same ID\n",
        "t *= 2\n",
        "print(id(t), t)"
      ],
      "execution_count": null,
      "outputs": [
        {
          "output_type": "stream",
          "name": "stdout",
          "text": [
            "140321057764128 (1, 2, 3)\n",
            "140321127997232 (1, 2, 3, 1, 2, 3)\n"
          ]
        }
      ]
    },
    {
      "cell_type": "markdown",
      "metadata": {
        "id": "Bwmyodz7rhfb"
      },
      "source": [
        "# Handling Missing Keys"
      ]
    },
    {
      "cell_type": "code",
      "metadata": {
        "id": "o989Q7CDrhfc",
        "colab": {
          "base_uri": "https://localhost:8080/",
          "height": 215
        },
        "outputId": "fa2113e5-dd73-4f03-fee0-47f93e96397a"
      },
      "source": [
        "# Initializing Dictionary\n",
        "d = { 'a' : 1 , 'b' : 2 }\n",
        "\n",
        "# trying to output value of absent key\n",
        "print(\"The value associated with 'c' is : \")\n",
        "print(d['c'])"
      ],
      "execution_count": null,
      "outputs": [
        {
          "output_type": "stream",
          "name": "stdout",
          "text": [
            "The value associated with 'c' is : \n"
          ]
        },
        {
          "output_type": "error",
          "ename": "KeyError",
          "evalue": "ignored",
          "traceback": [
            "\u001b[0;31m---------------------------------------------------------------------------\u001b[0m",
            "\u001b[0;31mKeyError\u001b[0m                                  Traceback (most recent call last)",
            "\u001b[0;32m<ipython-input-37-cf5a76536659>\u001b[0m in \u001b[0;36m<module>\u001b[0;34m()\u001b[0m\n\u001b[1;32m      4\u001b[0m \u001b[0;31m# trying to output value of absent key\u001b[0m\u001b[0;34m\u001b[0m\u001b[0;34m\u001b[0m\u001b[0;34m\u001b[0m\u001b[0m\n\u001b[1;32m      5\u001b[0m \u001b[0mprint\u001b[0m\u001b[0;34m(\u001b[0m\u001b[0;34m\"The value associated with 'c' is : \"\u001b[0m\u001b[0;34m)\u001b[0m\u001b[0;34m\u001b[0m\u001b[0;34m\u001b[0m\u001b[0m\n\u001b[0;32m----> 6\u001b[0;31m \u001b[0mprint\u001b[0m\u001b[0;34m(\u001b[0m\u001b[0md\u001b[0m\u001b[0;34m[\u001b[0m\u001b[0;34m'c'\u001b[0m\u001b[0;34m]\u001b[0m\u001b[0;34m)\u001b[0m\u001b[0;34m\u001b[0m\u001b[0;34m\u001b[0m\u001b[0m\n\u001b[0m",
            "\u001b[0;31mKeyError\u001b[0m: 'c'"
          ]
        }
      ]
    },
    {
      "cell_type": "code",
      "metadata": {
        "id": "jpDv_xi4rhff",
        "colab": {
          "base_uri": "https://localhost:8080/"
        },
        "outputId": "d57bbc91-20c3-4ea2-a11e-6d0b5bfa8892"
      },
      "source": [
        "# We need to handle these kind of errors\n",
        "# importing \"collections\" for default dict\n",
        "import collections as cl\n",
        "\n",
        "# declaring defaultdict\n",
        "# sets default value 'Key Not found' to absent keys\n",
        "defd = cl.defaultdict(lambda : 'Key Not available')\n",
        "# initializing values\n",
        "defd['a'] = 1\n",
        "\n",
        "# initializing values\n",
        "defd['b'] = 2\n",
        "\n",
        "# printing value\n",
        "print(\"The value of 'a' is : \", end = \"\")\n",
        "print(defd['a'])\n",
        "\n",
        "# printing value associated with 'c'\n",
        "print(\"The value of 'c' is : \", end = \"\")\n",
        "print(defd['c'])"
      ],
      "execution_count": null,
      "outputs": [
        {
          "output_type": "stream",
          "name": "stdout",
          "text": [
            "The value of 'a' is : 1\n",
            "The value of 'c' is : Key Not available\n"
          ]
        }
      ]
    },
    {
      "cell_type": "markdown",
      "metadata": {
        "id": "MvevVMgCrhf-"
      },
      "source": [
        "# Lambda Functions"
      ]
    },
    {
      "cell_type": "code",
      "source": [],
      "metadata": {
        "id": "TNZvInZoloK8"
      },
      "execution_count": null,
      "outputs": []
    },
    {
      "cell_type": "code",
      "source": [
        "x= lambda a: a+10\n",
        "x(5)"
      ],
      "metadata": {
        "colab": {
          "base_uri": "https://localhost:8080/"
        },
        "id": "9FYaHAVtlmdq",
        "outputId": "f87008fe-79d1-4cf4-e903-914688ac8e4d"
      },
      "execution_count": null,
      "outputs": [
        {
          "output_type": "execute_result",
          "data": {
            "text/plain": [
              "15"
            ]
          },
          "metadata": {},
          "execution_count": 69
        }
      ]
    },
    {
      "cell_type": "code",
      "metadata": {
        "id": "EQ-vP9UFrhf_",
        "colab": {
          "base_uri": "https://localhost:8080/"
        },
        "outputId": "8f415ec8-6dc1-4fc8-b29f-73201d9e55b2"
      },
      "source": [
        "# Defining the lambda function\n",
        "s = lambda x: x**3\n",
        "s(12)"
      ],
      "execution_count": null,
      "outputs": [
        {
          "output_type": "execute_result",
          "data": {
            "text/plain": [
              "1728"
            ]
          },
          "metadata": {},
          "execution_count": 70
        }
      ]
    },
    {
      "cell_type": "code",
      "source": [
        "greet = lambda : print(\"hello\")\n",
        "greet()"
      ],
      "metadata": {
        "colab": {
          "base_uri": "https://localhost:8080/"
        },
        "id": "HQ7guvyWmAWS",
        "outputId": "47ec9313-72a3-4b6b-b355-4fbe646e39d9"
      },
      "execution_count": null,
      "outputs": [
        {
          "output_type": "stream",
          "name": "stdout",
          "text": [
            "hello\n"
          ]
        }
      ]
    },
    {
      "cell_type": "code",
      "source": [
        "x= lambda a,b,c:a+b+c\n",
        "print(x(5,6,2))"
      ],
      "metadata": {
        "colab": {
          "base_uri": "https://localhost:8080/"
        },
        "id": "iXvKRfoSzbgJ",
        "outputId": "eda0190d-b4cc-4f03-ab2a-c0f452f8c397"
      },
      "execution_count": null,
      "outputs": [
        {
          "output_type": "stream",
          "name": "stdout",
          "text": [
            "13\n"
          ]
        }
      ]
    },
    {
      "cell_type": "markdown",
      "metadata": {
        "id": "xcf8yTp2rhgB"
      },
      "source": [
        "## map ( )\n",
        "filter (function,  iterable)"
      ]
    },
    {
      "cell_type": "code",
      "source": [
        "def myfunc(a,b):\n",
        "  return a+b\n",
        "\n",
        "x= map(myfunc,('apple','banana', 'orange'),('cherry','grapes', \"pines\"))\n",
        "x\n",
        "list(x)"
      ],
      "metadata": {
        "colab": {
          "base_uri": "https://localhost:8080/"
        },
        "id": "un9UThB_mWil",
        "outputId": "cd22897a-5349-4c3c-b4bf-e36976bc0c92"
      },
      "execution_count": null,
      "outputs": [
        {
          "output_type": "execute_result",
          "data": {
            "text/plain": [
              "['applecherry', 'bananagrapes', 'orangepines']"
            ]
          },
          "metadata": {},
          "execution_count": 2
        }
      ]
    },
    {
      "cell_type": "code",
      "metadata": {
        "id": "JoD2bCNVrhgD",
        "colab": {
          "base_uri": "https://localhost:8080/"
        },
        "outputId": "b27d29ac-e468-4ae4-9a26-21bdd5ef1b37"
      },
      "source": [
        "#map()\n",
        "\n",
        "val = [1, 2, 3, 4, 5, 6]\n",
        "\n",
        "list(map(lambda x: x * 2, val))"
      ],
      "execution_count": null,
      "outputs": [
        {
          "output_type": "execute_result",
          "data": {
            "text/plain": [
              "[2, 4, 6, 8, 10, 12]"
            ]
          },
          "metadata": {},
          "execution_count": 2
        }
      ]
    },
    {
      "cell_type": "code",
      "metadata": {
        "id": "ltU8VjfQDSfx",
        "colab": {
          "base_uri": "https://localhost:8080/"
        },
        "outputId": "957a8256-5863-4ecb-bba1-51a6f13dcdcf"
      },
      "source": [
        "list(map(str, val))"
      ],
      "execution_count": null,
      "outputs": [
        {
          "output_type": "execute_result",
          "data": {
            "text/plain": [
              "['1', '2', '3', '4', '5', '6']"
            ]
          },
          "metadata": {},
          "execution_count": 3
        }
      ]
    },
    {
      "cell_type": "code",
      "source": [
        "def myfunc(a):\n",
        "  if a%2==0:\n",
        "    return a**2\n",
        "  else:\n",
        "    return a\n",
        "x = map(myfunc,[1,2,3,4,5,6,7,8,9,10])\n",
        "list(x)"
      ],
      "metadata": {
        "colab": {
          "base_uri": "https://localhost:8080/"
        },
        "id": "oFLi4ahqhGKk",
        "outputId": "b1446f7d-532a-4ba0-b501-14431b4d591b"
      },
      "execution_count": null,
      "outputs": [
        {
          "output_type": "execute_result",
          "data": {
            "text/plain": [
              "[1, 4, 3, 16, 5, 36, 7, 64, 9, 100]"
            ]
          },
          "metadata": {},
          "execution_count": 4
        }
      ]
    },
    {
      "cell_type": "markdown",
      "metadata": {
        "id": "xCG5d73EDEKy"
      },
      "source": [
        "## Filter ( )\n",
        "filter (function return true false,  iterable)"
      ]
    },
    {
      "cell_type": "code",
      "source": [
        "age= [ 12,16, 25,18,24]\n",
        "def myfunc(x):\n",
        "  if x<18:\n",
        "    return False\n",
        "  else:\n",
        "    return True\n",
        "\n",
        "\n"
      ],
      "metadata": {
        "id": "A5DFbqv3nmhe"
      },
      "execution_count": null,
      "outputs": []
    },
    {
      "cell_type": "code",
      "source": [
        "a= filter(myfunc,age)\n",
        "#list(a)\n",
        "for x in a :\n",
        "  print(x)"
      ],
      "metadata": {
        "colab": {
          "base_uri": "https://localhost:8080/"
        },
        "id": "1kKgtE7dn9RE",
        "outputId": "4f2745b7-1871-44f4-939f-6daa04ae7218"
      },
      "execution_count": null,
      "outputs": [
        {
          "output_type": "stream",
          "name": "stdout",
          "text": [
            "25\n",
            "18\n",
            "24\n"
          ]
        }
      ]
    },
    {
      "cell_type": "code",
      "metadata": {
        "id": "o1ux7xBFrhgE",
        "colab": {
          "base_uri": "https://localhost:8080/"
        },
        "outputId": "c7cce9bc-4a4e-470d-9866-0d17f4e0b215"
      },
      "source": [
        "#filter() -- used to check the condition\n",
        "\n",
        "val1 = [1, 2, 3, 4, 5, 6]\n",
        "\n",
        "list(filter(lambda x: x % 2, val1))"
      ],
      "execution_count": null,
      "outputs": [
        {
          "output_type": "execute_result",
          "data": {
            "text/plain": [
              "[1, 3, 5]"
            ]
          },
          "metadata": {},
          "execution_count": 4
        }
      ]
    },
    {
      "cell_type": "code",
      "metadata": {
        "id": "n9tlsqR5DifG",
        "colab": {
          "base_uri": "https://localhost:8080/"
        },
        "outputId": "5af0b2c9-29c3-4f31-80d4-22bfd8e931a4"
      },
      "source": [
        "list(filter(lambda x: x > 50, list(range(1,100))))"
      ],
      "execution_count": null,
      "outputs": [
        {
          "output_type": "execute_result",
          "data": {
            "text/plain": [
              "[51,\n",
              " 52,\n",
              " 53,\n",
              " 54,\n",
              " 55,\n",
              " 56,\n",
              " 57,\n",
              " 58,\n",
              " 59,\n",
              " 60,\n",
              " 61,\n",
              " 62,\n",
              " 63,\n",
              " 64,\n",
              " 65,\n",
              " 66,\n",
              " 67,\n",
              " 68,\n",
              " 69,\n",
              " 70,\n",
              " 71,\n",
              " 72,\n",
              " 73,\n",
              " 74,\n",
              " 75,\n",
              " 76,\n",
              " 77,\n",
              " 78,\n",
              " 79,\n",
              " 80,\n",
              " 81,\n",
              " 82,\n",
              " 83,\n",
              " 84,\n",
              " 85,\n",
              " 86,\n",
              " 87,\n",
              " 88,\n",
              " 89,\n",
              " 90,\n",
              " 91,\n",
              " 92,\n",
              " 93,\n",
              " 94,\n",
              " 95,\n",
              " 96,\n",
              " 97,\n",
              " 98,\n",
              " 99]"
            ]
          },
          "metadata": {},
          "execution_count": 5
        }
      ]
    },
    {
      "cell_type": "markdown",
      "metadata": {
        "id": "gPCOr2RIrhgG"
      },
      "source": [
        "## reduce ( )"
      ]
    },
    {
      "cell_type": "code",
      "metadata": {
        "id": "HTYwCnT1rhgH",
        "colab": {
          "base_uri": "https://localhost:8080/"
        },
        "outputId": "2fd03354-41eb-4fb6-f2b9-17a3fb080449"
      },
      "source": [
        "from functools import reduce\n",
        "\n",
        "val = [1, 2, 3, 4, 5, 6]\n",
        "\n",
        "reduce(lambda x, y: x * y, val)     # 1 * 2 * 3 * 4 * 5 * 6"
      ],
      "execution_count": null,
      "outputs": [
        {
          "output_type": "execute_result",
          "data": {
            "text/plain": [
              "720"
            ]
          },
          "metadata": {},
          "execution_count": 21
        }
      ]
    },
    {
      "cell_type": "code",
      "source": [],
      "metadata": {
        "id": "Sgph9VI61zo_"
      },
      "execution_count": null,
      "outputs": []
    },
    {
      "cell_type": "code",
      "metadata": {
        "id": "ZBemoTRWFkcl",
        "colab": {
          "base_uri": "https://localhost:8080/"
        },
        "outputId": "c0e8c0bc-55ff-45e4-a45d-29749d4aa75a"
      },
      "source": [
        "reduce(lambda x , y: x + y, list(range(1,100)))   # 1 + 2 + 3 + 4 + 5 ........"
      ],
      "execution_count": null,
      "outputs": [
        {
          "output_type": "execute_result",
          "data": {
            "text/plain": [
              "4950"
            ]
          },
          "metadata": {},
          "execution_count": 7
        }
      ]
    },
    {
      "cell_type": "code",
      "metadata": {
        "id": "nq1B6_qQGgZU",
        "colab": {
          "base_uri": "https://localhost:8080/"
        },
        "outputId": "c0d963e4-5f0f-489b-8926-3fe11b118742"
      },
      "source": [
        "help(reduce)"
      ],
      "execution_count": null,
      "outputs": [
        {
          "output_type": "stream",
          "name": "stdout",
          "text": [
            "Help on built-in function reduce in module _functools:\n",
            "\n",
            "reduce(...)\n",
            "    reduce(function, iterable[, initial]) -> value\n",
            "    \n",
            "    Apply a function of two arguments cumulatively to the items of a sequence\n",
            "    or iterable, from left to right, so as to reduce the iterable to a single\n",
            "    value.  For example, reduce(lambda x, y: x+y, [1, 2, 3, 4, 5]) calculates\n",
            "    ((((1+2)+3)+4)+5).  If initial is present, it is placed before the items\n",
            "    of the iterable in the calculation, and serves as a default when the\n",
            "    iterable is empty.\n",
            "\n"
          ]
        }
      ]
    },
    {
      "cell_type": "markdown",
      "metadata": {
        "id": "79R29Iz7rhgU"
      },
      "source": [
        "## Loop vs Comprehension vs Map"
      ]
    },
    {
      "cell_type": "code",
      "metadata": {
        "id": "TxOzV225rhgW",
        "colab": {
          "base_uri": "https://localhost:8080/"
        },
        "outputId": "c520393e-12b4-4d8d-e08e-1817f74cee95"
      },
      "source": [
        "list1 = [1, 2, 3, 4, 5]\n",
        "squares1 = []\n",
        "\n",
        "#Loop\n",
        "for i in list1:\n",
        "    squares1.append(i ** 2)\n",
        "\n",
        "#Comprehension\n",
        "squares2 = [i ** 2 for i in list1]\n",
        "\n",
        "#map\n",
        "squares3 = list(map(lambda x : x ** 2, list1))\n",
        "\n",
        "squares1, squares2, squares3"
      ],
      "execution_count": null,
      "outputs": [
        {
          "output_type": "execute_result",
          "data": {
            "text/plain": [
              "([1, 4, 9, 16, 25], [1, 4, 9, 16, 25], [1, 4, 9, 16, 25])"
            ]
          },
          "metadata": {},
          "execution_count": 8
        }
      ]
    },
    {
      "cell_type": "markdown",
      "metadata": {
        "id": "86G4rkFqGEtz"
      },
      "source": [
        "## Iterators\n",
        "Iterator is an object which allows a programmer to traverse through all the elements of a collection, regardless of its specific implementation."
      ]
    },
    {
      "cell_type": "code",
      "metadata": {
        "colab": {
          "base_uri": "https://localhost:8080/"
        },
        "id": "XsQsQMBi_zZH",
        "outputId": "9ed31b18-c062-4a27-ee4d-261ca50167fe"
      },
      "source": [
        "names = [\"Rishu\",'Aayush','Shubh','Ram']\n",
        "names   # iterable"
      ],
      "execution_count": null,
      "outputs": [
        {
          "output_type": "execute_result",
          "data": {
            "text/plain": [
              "['Rishu', 'Aayush', 'Shubh', 'Ram']"
            ]
          },
          "metadata": {},
          "execution_count": 22
        }
      ]
    },
    {
      "cell_type": "code",
      "metadata": {
        "id": "fs0RzgNbA1Pq",
        "colab": {
          "base_uri": "https://localhost:8080/"
        },
        "outputId": "e9bd76ea-f21f-46c6-8b7a-8b77a88f979e"
      },
      "source": [
        "new_list = names.__iter__()   # Converting into iterator\n",
        "print(new_list)"
      ],
      "execution_count": null,
      "outputs": [
        {
          "output_type": "stream",
          "name": "stdout",
          "text": [
            "<list_iterator object at 0x7f6c33310710>\n"
          ]
        }
      ]
    },
    {
      "cell_type": "code",
      "metadata": {
        "id": "uCV3HWh2BM3F",
        "colab": {
          "base_uri": "https://localhost:8080/"
        },
        "outputId": "df964687-c649-499a-9bf2-31f236e284c7"
      },
      "source": [
        "help(new_list)"
      ],
      "execution_count": null,
      "outputs": [
        {
          "output_type": "stream",
          "name": "stdout",
          "text": [
            "Help on list_iterator object:\n",
            "\n",
            "class list_iterator(object)\n",
            " |  Methods defined here:\n",
            " |  \n",
            " |  __getattribute__(self, name, /)\n",
            " |      Return getattr(self, name).\n",
            " |  \n",
            " |  __iter__(self, /)\n",
            " |      Implement iter(self).\n",
            " |  \n",
            " |  __length_hint__(...)\n",
            " |      Private method returning an estimate of len(list(it)).\n",
            " |  \n",
            " |  __next__(self, /)\n",
            " |      Implement next(self).\n",
            " |  \n",
            " |  __reduce__(...)\n",
            " |      Return state information for pickling.\n",
            " |  \n",
            " |  __setstate__(...)\n",
            " |      Set state information for unpickling.\n",
            "\n"
          ]
        }
      ]
    },
    {
      "cell_type": "code",
      "metadata": {
        "id": "bKN_PwArB5Cl",
        "colab": {
          "base_uri": "https://localhost:8080/"
        },
        "outputId": "26703bfa-ac98-4c16-9b26-6f6c9a3ca99d"
      },
      "source": [
        "for obj in new_list:\n",
        "  print(obj)"
      ],
      "execution_count": null,
      "outputs": [
        {
          "output_type": "stream",
          "name": "stdout",
          "text": [
            "Rishu\n",
            "Aayush\n",
            "Shubh\n",
            "Ram\n"
          ]
        }
      ]
    },
    {
      "cell_type": "code",
      "metadata": {
        "id": "wp8vDe54CINH",
        "colab": {
          "base_uri": "https://localhost:8080/"
        },
        "outputId": "afa26939-2521-401c-dffb-15c9ee076e24"
      },
      "source": [
        "new_list = iter(names)    # Another way to converting into iterator\n",
        "print(next(new_list))\n",
        "print(next(new_list))\n",
        "print(next(new_list))"
      ],
      "execution_count": null,
      "outputs": [
        {
          "output_type": "stream",
          "name": "stdout",
          "text": [
            "Rishu\n",
            "Aayush\n",
            "Shubh\n"
          ]
        }
      ]
    },
    {
      "cell_type": "code",
      "metadata": {
        "id": "CMprGWBdC3qw",
        "colab": {
          "base_uri": "https://localhost:8080/"
        },
        "outputId": "78707181-c3d0-4fcc-834b-2f07612ec50d"
      },
      "source": [
        "print(next(new_list))"
      ],
      "execution_count": null,
      "outputs": [
        {
          "output_type": "stream",
          "name": "stdout",
          "text": [
            "Ram\n"
          ]
        }
      ]
    },
    {
      "cell_type": "code",
      "metadata": {
        "id": "kG3iwe-lCB-M",
        "colab": {
          "base_uri": "https://localhost:8080/"
        },
        "outputId": "8cd21d8e-cf13-4bda-a29b-68f4d27596ac"
      },
      "source": [
        "for obj in names:\n",
        "  print(obj)"
      ],
      "execution_count": null,
      "outputs": [
        {
          "output_type": "stream",
          "name": "stdout",
          "text": [
            "Rishu\n",
            "Aayush\n",
            "Shubh\n",
            "Ram\n"
          ]
        }
      ]
    },
    {
      "cell_type": "markdown",
      "metadata": {
        "id": "UKcRlyyLKF9Z"
      },
      "source": [
        "Why use iterator ?\n",
        "\n",
        "If both iterator and iterable work the same way\n",
        "\n",
        "An **iterable** is an object that has an __iter__ method which returns an iterator, or which defines a __getitem__ method that can take sequential indexes starting from zero. So an iterable is an object that you can get an iterator.\n",
        "\n",
        "An **iterator** is an object with a next (Python 2) or __next__ (Python 3) method.\n",
        "\n",
        "Whenever you use a for loop, or map, or a list comprehension, etc. in Python, the next method is called automatically to get each item from the iterator, thus going through the process of iteration."
      ]
    },
    {
      "cell_type": "code",
      "metadata": {
        "id": "FW6aji23DSMm"
      },
      "source": [
        "names = [i for i in range(1000000)]\n",
        "new_list = iter(names)"
      ],
      "execution_count": null,
      "outputs": []
    },
    {
      "cell_type": "code",
      "metadata": {
        "id": "SvRGw5OJO1B2"
      },
      "source": [],
      "execution_count": null,
      "outputs": []
    },
    {
      "cell_type": "code",
      "metadata": {
        "id": "uPSDKO62Dc-K",
        "colab": {
          "base_uri": "https://localhost:8080/"
        },
        "outputId": "a9ff9514-a674-477e-b4c7-4cf75b626bde"
      },
      "source": [
        "import sys\n",
        "print(f'size of variable names is {sys.getsizeof(names)} bytes')\n",
        "print(f'size of variable new_list is {sys.getsizeof(new_list)} bytes')"
      ],
      "execution_count": null,
      "outputs": [
        {
          "output_type": "stream",
          "name": "stdout",
          "text": [
            "size of variable names is 8697472 bytes\n",
            "size of variable new_list is 64 bytes\n"
          ]
        }
      ]
    },
    {
      "cell_type": "code",
      "metadata": {
        "id": "hJKMIVfIGEt0",
        "colab": {
          "base_uri": "https://localhost:8080/"
        },
        "outputId": "df133587-ec22-4bd5-ac63-2d05383187de"
      },
      "source": [
        "iterable_value = 'Machine Learning'\n",
        "iterable_obj = iter(iterable_value)\n",
        "\n",
        "while True:\n",
        "    try:\n",
        "        # Iterate by calling next\n",
        "        item = next(iterable_obj)\n",
        "        print(item)\n",
        "    except StopIteration:\n",
        "        # exception will happen when iteration will over\n",
        "        break"
      ],
      "execution_count": null,
      "outputs": [
        {
          "output_type": "stream",
          "name": "stdout",
          "text": [
            "M\n",
            "a\n",
            "c\n",
            "h\n",
            "i\n",
            "n\n",
            "e\n",
            " \n",
            "L\n",
            "e\n",
            "a\n",
            "r\n",
            "n\n",
            "i\n",
            "n\n",
            "g\n"
          ]
        }
      ]
    },
    {
      "cell_type": "markdown",
      "metadata": {
        "id": "3AavUtZNGEt1"
      },
      "source": [
        "## Generator\n",
        "A generator is a function that produces or yields a sequence of values using yield method.\n",
        "\n",
        "When a generator function is called, it returns a generator object without even beginning execution of the function. When the next() method is called for the first time, the function starts executing until it reaches the yield statement, which returns the yielded value. The yield keeps track i.e. remembers the last execution and the second next() call continues from previous value."
      ]
    },
    {
      "cell_type": "code",
      "metadata": {
        "id": "pALvzj7OEk4t"
      },
      "source": [
        "# Simple function\n",
        "def squence(N):\n",
        "  x = []\n",
        "  for i in range(N):\n",
        "    x.append(i)\n",
        "  return x"
      ],
      "execution_count": null,
      "outputs": []
    },
    {
      "cell_type": "code",
      "metadata": {
        "id": "LH-_m3O7FHdd"
      },
      "source": [
        "alist = squence(10000)"
      ],
      "execution_count": null,
      "outputs": []
    },
    {
      "cell_type": "code",
      "metadata": {
        "id": "q1sS7eUyFT7M",
        "colab": {
          "base_uri": "https://localhost:8080/"
        },
        "outputId": "e964a68f-211e-45fe-8533-26cf7fa0118c"
      },
      "source": [
        "print(alist)"
      ],
      "execution_count": null,
      "outputs": [
        {
          "output_type": "stream",
          "name": "stdout",
          "text": [
            "[0, 1, 2, 3, 4, 5, 6, 7, 8, 9, 10, 11, 12, 13, 14, 15, 16, 17, 18, 19, 20, 21, 22, 23, 24, 25, 26, 27, 28, 29, 30, 31, 32, 33, 34, 35, 36, 37, 38, 39, 40, 41, 42, 43, 44, 45, 46, 47, 48, 49, 50, 51, 52, 53, 54, 55, 56, 57, 58, 59, 60, 61, 62, 63, 64, 65, 66, 67, 68, 69, 70, 71, 72, 73, 74, 75, 76, 77, 78, 79, 80, 81, 82, 83, 84, 85, 86, 87, 88, 89, 90, 91, 92, 93, 94, 95, 96, 97, 98, 99, 100, 101, 102, 103, 104, 105, 106, 107, 108, 109, 110, 111, 112, 113, 114, 115, 116, 117, 118, 119, 120, 121, 122, 123, 124, 125, 126, 127, 128, 129, 130, 131, 132, 133, 134, 135, 136, 137, 138, 139, 140, 141, 142, 143, 144, 145, 146, 147, 148, 149, 150, 151, 152, 153, 154, 155, 156, 157, 158, 159, 160, 161, 162, 163, 164, 165, 166, 167, 168, 169, 170, 171, 172, 173, 174, 175, 176, 177, 178, 179, 180, 181, 182, 183, 184, 185, 186, 187, 188, 189, 190, 191, 192, 193, 194, 195, 196, 197, 198, 199, 200, 201, 202, 203, 204, 205, 206, 207, 208, 209, 210, 211, 212, 213, 214, 215, 216, 217, 218, 219, 220, 221, 222, 223, 224, 225, 226, 227, 228, 229, 230, 231, 232, 233, 234, 235, 236, 237, 238, 239, 240, 241, 242, 243, 244, 245, 246, 247, 248, 249, 250, 251, 252, 253, 254, 255, 256, 257, 258, 259, 260, 261, 262, 263, 264, 265, 266, 267, 268, 269, 270, 271, 272, 273, 274, 275, 276, 277, 278, 279, 280, 281, 282, 283, 284, 285, 286, 287, 288, 289, 290, 291, 292, 293, 294, 295, 296, 297, 298, 299, 300, 301, 302, 303, 304, 305, 306, 307, 308, 309, 310, 311, 312, 313, 314, 315, 316, 317, 318, 319, 320, 321, 322, 323, 324, 325, 326, 327, 328, 329, 330, 331, 332, 333, 334, 335, 336, 337, 338, 339, 340, 341, 342, 343, 344, 345, 346, 347, 348, 349, 350, 351, 352, 353, 354, 355, 356, 357, 358, 359, 360, 361, 362, 363, 364, 365, 366, 367, 368, 369, 370, 371, 372, 373, 374, 375, 376, 377, 378, 379, 380, 381, 382, 383, 384, 385, 386, 387, 388, 389, 390, 391, 392, 393, 394, 395, 396, 397, 398, 399, 400, 401, 402, 403, 404, 405, 406, 407, 408, 409, 410, 411, 412, 413, 414, 415, 416, 417, 418, 419, 420, 421, 422, 423, 424, 425, 426, 427, 428, 429, 430, 431, 432, 433, 434, 435, 436, 437, 438, 439, 440, 441, 442, 443, 444, 445, 446, 447, 448, 449, 450, 451, 452, 453, 454, 455, 456, 457, 458, 459, 460, 461, 462, 463, 464, 465, 466, 467, 468, 469, 470, 471, 472, 473, 474, 475, 476, 477, 478, 479, 480, 481, 482, 483, 484, 485, 486, 487, 488, 489, 490, 491, 492, 493, 494, 495, 496, 497, 498, 499, 500, 501, 502, 503, 504, 505, 506, 507, 508, 509, 510, 511, 512, 513, 514, 515, 516, 517, 518, 519, 520, 521, 522, 523, 524, 525, 526, 527, 528, 529, 530, 531, 532, 533, 534, 535, 536, 537, 538, 539, 540, 541, 542, 543, 544, 545, 546, 547, 548, 549, 550, 551, 552, 553, 554, 555, 556, 557, 558, 559, 560, 561, 562, 563, 564, 565, 566, 567, 568, 569, 570, 571, 572, 573, 574, 575, 576, 577, 578, 579, 580, 581, 582, 583, 584, 585, 586, 587, 588, 589, 590, 591, 592, 593, 594, 595, 596, 597, 598, 599, 600, 601, 602, 603, 604, 605, 606, 607, 608, 609, 610, 611, 612, 613, 614, 615, 616, 617, 618, 619, 620, 621, 622, 623, 624, 625, 626, 627, 628, 629, 630, 631, 632, 633, 634, 635, 636, 637, 638, 639, 640, 641, 642, 643, 644, 645, 646, 647, 648, 649, 650, 651, 652, 653, 654, 655, 656, 657, 658, 659, 660, 661, 662, 663, 664, 665, 666, 667, 668, 669, 670, 671, 672, 673, 674, 675, 676, 677, 678, 679, 680, 681, 682, 683, 684, 685, 686, 687, 688, 689, 690, 691, 692, 693, 694, 695, 696, 697, 698, 699, 700, 701, 702, 703, 704, 705, 706, 707, 708, 709, 710, 711, 712, 713, 714, 715, 716, 717, 718, 719, 720, 721, 722, 723, 724, 725, 726, 727, 728, 729, 730, 731, 732, 733, 734, 735, 736, 737, 738, 739, 740, 741, 742, 743, 744, 745, 746, 747, 748, 749, 750, 751, 752, 753, 754, 755, 756, 757, 758, 759, 760, 761, 762, 763, 764, 765, 766, 767, 768, 769, 770, 771, 772, 773, 774, 775, 776, 777, 778, 779, 780, 781, 782, 783, 784, 785, 786, 787, 788, 789, 790, 791, 792, 793, 794, 795, 796, 797, 798, 799, 800, 801, 802, 803, 804, 805, 806, 807, 808, 809, 810, 811, 812, 813, 814, 815, 816, 817, 818, 819, 820, 821, 822, 823, 824, 825, 826, 827, 828, 829, 830, 831, 832, 833, 834, 835, 836, 837, 838, 839, 840, 841, 842, 843, 844, 845, 846, 847, 848, 849, 850, 851, 852, 853, 854, 855, 856, 857, 858, 859, 860, 861, 862, 863, 864, 865, 866, 867, 868, 869, 870, 871, 872, 873, 874, 875, 876, 877, 878, 879, 880, 881, 882, 883, 884, 885, 886, 887, 888, 889, 890, 891, 892, 893, 894, 895, 896, 897, 898, 899, 900, 901, 902, 903, 904, 905, 906, 907, 908, 909, 910, 911, 912, 913, 914, 915, 916, 917, 918, 919, 920, 921, 922, 923, 924, 925, 926, 927, 928, 929, 930, 931, 932, 933, 934, 935, 936, 937, 938, 939, 940, 941, 942, 943, 944, 945, 946, 947, 948, 949, 950, 951, 952, 953, 954, 955, 956, 957, 958, 959, 960, 961, 962, 963, 964, 965, 966, 967, 968, 969, 970, 971, 972, 973, 974, 975, 976, 977, 978, 979, 980, 981, 982, 983, 984, 985, 986, 987, 988, 989, 990, 991, 992, 993, 994, 995, 996, 997, 998, 999, 1000, 1001, 1002, 1003, 1004, 1005, 1006, 1007, 1008, 1009, 1010, 1011, 1012, 1013, 1014, 1015, 1016, 1017, 1018, 1019, 1020, 1021, 1022, 1023, 1024, 1025, 1026, 1027, 1028, 1029, 1030, 1031, 1032, 1033, 1034, 1035, 1036, 1037, 1038, 1039, 1040, 1041, 1042, 1043, 1044, 1045, 1046, 1047, 1048, 1049, 1050, 1051, 1052, 1053, 1054, 1055, 1056, 1057, 1058, 1059, 1060, 1061, 1062, 1063, 1064, 1065, 1066, 1067, 1068, 1069, 1070, 1071, 1072, 1073, 1074, 1075, 1076, 1077, 1078, 1079, 1080, 1081, 1082, 1083, 1084, 1085, 1086, 1087, 1088, 1089, 1090, 1091, 1092, 1093, 1094, 1095, 1096, 1097, 1098, 1099, 1100, 1101, 1102, 1103, 1104, 1105, 1106, 1107, 1108, 1109, 1110, 1111, 1112, 1113, 1114, 1115, 1116, 1117, 1118, 1119, 1120, 1121, 1122, 1123, 1124, 1125, 1126, 1127, 1128, 1129, 1130, 1131, 1132, 1133, 1134, 1135, 1136, 1137, 1138, 1139, 1140, 1141, 1142, 1143, 1144, 1145, 1146, 1147, 1148, 1149, 1150, 1151, 1152, 1153, 1154, 1155, 1156, 1157, 1158, 1159, 1160, 1161, 1162, 1163, 1164, 1165, 1166, 1167, 1168, 1169, 1170, 1171, 1172, 1173, 1174, 1175, 1176, 1177, 1178, 1179, 1180, 1181, 1182, 1183, 1184, 1185, 1186, 1187, 1188, 1189, 1190, 1191, 1192, 1193, 1194, 1195, 1196, 1197, 1198, 1199, 1200, 1201, 1202, 1203, 1204, 1205, 1206, 1207, 1208, 1209, 1210, 1211, 1212, 1213, 1214, 1215, 1216, 1217, 1218, 1219, 1220, 1221, 1222, 1223, 1224, 1225, 1226, 1227, 1228, 1229, 1230, 1231, 1232, 1233, 1234, 1235, 1236, 1237, 1238, 1239, 1240, 1241, 1242, 1243, 1244, 1245, 1246, 1247, 1248, 1249, 1250, 1251, 1252, 1253, 1254, 1255, 1256, 1257, 1258, 1259, 1260, 1261, 1262, 1263, 1264, 1265, 1266, 1267, 1268, 1269, 1270, 1271, 1272, 1273, 1274, 1275, 1276, 1277, 1278, 1279, 1280, 1281, 1282, 1283, 1284, 1285, 1286, 1287, 1288, 1289, 1290, 1291, 1292, 1293, 1294, 1295, 1296, 1297, 1298, 1299, 1300, 1301, 1302, 1303, 1304, 1305, 1306, 1307, 1308, 1309, 1310, 1311, 1312, 1313, 1314, 1315, 1316, 1317, 1318, 1319, 1320, 1321, 1322, 1323, 1324, 1325, 1326, 1327, 1328, 1329, 1330, 1331, 1332, 1333, 1334, 1335, 1336, 1337, 1338, 1339, 1340, 1341, 1342, 1343, 1344, 1345, 1346, 1347, 1348, 1349, 1350, 1351, 1352, 1353, 1354, 1355, 1356, 1357, 1358, 1359, 1360, 1361, 1362, 1363, 1364, 1365, 1366, 1367, 1368, 1369, 1370, 1371, 1372, 1373, 1374, 1375, 1376, 1377, 1378, 1379, 1380, 1381, 1382, 1383, 1384, 1385, 1386, 1387, 1388, 1389, 1390, 1391, 1392, 1393, 1394, 1395, 1396, 1397, 1398, 1399, 1400, 1401, 1402, 1403, 1404, 1405, 1406, 1407, 1408, 1409, 1410, 1411, 1412, 1413, 1414, 1415, 1416, 1417, 1418, 1419, 1420, 1421, 1422, 1423, 1424, 1425, 1426, 1427, 1428, 1429, 1430, 1431, 1432, 1433, 1434, 1435, 1436, 1437, 1438, 1439, 1440, 1441, 1442, 1443, 1444, 1445, 1446, 1447, 1448, 1449, 1450, 1451, 1452, 1453, 1454, 1455, 1456, 1457, 1458, 1459, 1460, 1461, 1462, 1463, 1464, 1465, 1466, 1467, 1468, 1469, 1470, 1471, 1472, 1473, 1474, 1475, 1476, 1477, 1478, 1479, 1480, 1481, 1482, 1483, 1484, 1485, 1486, 1487, 1488, 1489, 1490, 1491, 1492, 1493, 1494, 1495, 1496, 1497, 1498, 1499, 1500, 1501, 1502, 1503, 1504, 1505, 1506, 1507, 1508, 1509, 1510, 1511, 1512, 1513, 1514, 1515, 1516, 1517, 1518, 1519, 1520, 1521, 1522, 1523, 1524, 1525, 1526, 1527, 1528, 1529, 1530, 1531, 1532, 1533, 1534, 1535, 1536, 1537, 1538, 1539, 1540, 1541, 1542, 1543, 1544, 1545, 1546, 1547, 1548, 1549, 1550, 1551, 1552, 1553, 1554, 1555, 1556, 1557, 1558, 1559, 1560, 1561, 1562, 1563, 1564, 1565, 1566, 1567, 1568, 1569, 1570, 1571, 1572, 1573, 1574, 1575, 1576, 1577, 1578, 1579, 1580, 1581, 1582, 1583, 1584, 1585, 1586, 1587, 1588, 1589, 1590, 1591, 1592, 1593, 1594, 1595, 1596, 1597, 1598, 1599, 1600, 1601, 1602, 1603, 1604, 1605, 1606, 1607, 1608, 1609, 1610, 1611, 1612, 1613, 1614, 1615, 1616, 1617, 1618, 1619, 1620, 1621, 1622, 1623, 1624, 1625, 1626, 1627, 1628, 1629, 1630, 1631, 1632, 1633, 1634, 1635, 1636, 1637, 1638, 1639, 1640, 1641, 1642, 1643, 1644, 1645, 1646, 1647, 1648, 1649, 1650, 1651, 1652, 1653, 1654, 1655, 1656, 1657, 1658, 1659, 1660, 1661, 1662, 1663, 1664, 1665, 1666, 1667, 1668, 1669, 1670, 1671, 1672, 1673, 1674, 1675, 1676, 1677, 1678, 1679, 1680, 1681, 1682, 1683, 1684, 1685, 1686, 1687, 1688, 1689, 1690, 1691, 1692, 1693, 1694, 1695, 1696, 1697, 1698, 1699, 1700, 1701, 1702, 1703, 1704, 1705, 1706, 1707, 1708, 1709, 1710, 1711, 1712, 1713, 1714, 1715, 1716, 1717, 1718, 1719, 1720, 1721, 1722, 1723, 1724, 1725, 1726, 1727, 1728, 1729, 1730, 1731, 1732, 1733, 1734, 1735, 1736, 1737, 1738, 1739, 1740, 1741, 1742, 1743, 1744, 1745, 1746, 1747, 1748, 1749, 1750, 1751, 1752, 1753, 1754, 1755, 1756, 1757, 1758, 1759, 1760, 1761, 1762, 1763, 1764, 1765, 1766, 1767, 1768, 1769, 1770, 1771, 1772, 1773, 1774, 1775, 1776, 1777, 1778, 1779, 1780, 1781, 1782, 1783, 1784, 1785, 1786, 1787, 1788, 1789, 1790, 1791, 1792, 1793, 1794, 1795, 1796, 1797, 1798, 1799, 1800, 1801, 1802, 1803, 1804, 1805, 1806, 1807, 1808, 1809, 1810, 1811, 1812, 1813, 1814, 1815, 1816, 1817, 1818, 1819, 1820, 1821, 1822, 1823, 1824, 1825, 1826, 1827, 1828, 1829, 1830, 1831, 1832, 1833, 1834, 1835, 1836, 1837, 1838, 1839, 1840, 1841, 1842, 1843, 1844, 1845, 1846, 1847, 1848, 1849, 1850, 1851, 1852, 1853, 1854, 1855, 1856, 1857, 1858, 1859, 1860, 1861, 1862, 1863, 1864, 1865, 1866, 1867, 1868, 1869, 1870, 1871, 1872, 1873, 1874, 1875, 1876, 1877, 1878, 1879, 1880, 1881, 1882, 1883, 1884, 1885, 1886, 1887, 1888, 1889, 1890, 1891, 1892, 1893, 1894, 1895, 1896, 1897, 1898, 1899, 1900, 1901, 1902, 1903, 1904, 1905, 1906, 1907, 1908, 1909, 1910, 1911, 1912, 1913, 1914, 1915, 1916, 1917, 1918, 1919, 1920, 1921, 1922, 1923, 1924, 1925, 1926, 1927, 1928, 1929, 1930, 1931, 1932, 1933, 1934, 1935, 1936, 1937, 1938, 1939, 1940, 1941, 1942, 1943, 1944, 1945, 1946, 1947, 1948, 1949, 1950, 1951, 1952, 1953, 1954, 1955, 1956, 1957, 1958, 1959, 1960, 1961, 1962, 1963, 1964, 1965, 1966, 1967, 1968, 1969, 1970, 1971, 1972, 1973, 1974, 1975, 1976, 1977, 1978, 1979, 1980, 1981, 1982, 1983, 1984, 1985, 1986, 1987, 1988, 1989, 1990, 1991, 1992, 1993, 1994, 1995, 1996, 1997, 1998, 1999, 2000, 2001, 2002, 2003, 2004, 2005, 2006, 2007, 2008, 2009, 2010, 2011, 2012, 2013, 2014, 2015, 2016, 2017, 2018, 2019, 2020, 2021, 2022, 2023, 2024, 2025, 2026, 2027, 2028, 2029, 2030, 2031, 2032, 2033, 2034, 2035, 2036, 2037, 2038, 2039, 2040, 2041, 2042, 2043, 2044, 2045, 2046, 2047, 2048, 2049, 2050, 2051, 2052, 2053, 2054, 2055, 2056, 2057, 2058, 2059, 2060, 2061, 2062, 2063, 2064, 2065, 2066, 2067, 2068, 2069, 2070, 2071, 2072, 2073, 2074, 2075, 2076, 2077, 2078, 2079, 2080, 2081, 2082, 2083, 2084, 2085, 2086, 2087, 2088, 2089, 2090, 2091, 2092, 2093, 2094, 2095, 2096, 2097, 2098, 2099, 2100, 2101, 2102, 2103, 2104, 2105, 2106, 2107, 2108, 2109, 2110, 2111, 2112, 2113, 2114, 2115, 2116, 2117, 2118, 2119, 2120, 2121, 2122, 2123, 2124, 2125, 2126, 2127, 2128, 2129, 2130, 2131, 2132, 2133, 2134, 2135, 2136, 2137, 2138, 2139, 2140, 2141, 2142, 2143, 2144, 2145, 2146, 2147, 2148, 2149, 2150, 2151, 2152, 2153, 2154, 2155, 2156, 2157, 2158, 2159, 2160, 2161, 2162, 2163, 2164, 2165, 2166, 2167, 2168, 2169, 2170, 2171, 2172, 2173, 2174, 2175, 2176, 2177, 2178, 2179, 2180, 2181, 2182, 2183, 2184, 2185, 2186, 2187, 2188, 2189, 2190, 2191, 2192, 2193, 2194, 2195, 2196, 2197, 2198, 2199, 2200, 2201, 2202, 2203, 2204, 2205, 2206, 2207, 2208, 2209, 2210, 2211, 2212, 2213, 2214, 2215, 2216, 2217, 2218, 2219, 2220, 2221, 2222, 2223, 2224, 2225, 2226, 2227, 2228, 2229, 2230, 2231, 2232, 2233, 2234, 2235, 2236, 2237, 2238, 2239, 2240, 2241, 2242, 2243, 2244, 2245, 2246, 2247, 2248, 2249, 2250, 2251, 2252, 2253, 2254, 2255, 2256, 2257, 2258, 2259, 2260, 2261, 2262, 2263, 2264, 2265, 2266, 2267, 2268, 2269, 2270, 2271, 2272, 2273, 2274, 2275, 2276, 2277, 2278, 2279, 2280, 2281, 2282, 2283, 2284, 2285, 2286, 2287, 2288, 2289, 2290, 2291, 2292, 2293, 2294, 2295, 2296, 2297, 2298, 2299, 2300, 2301, 2302, 2303, 2304, 2305, 2306, 2307, 2308, 2309, 2310, 2311, 2312, 2313, 2314, 2315, 2316, 2317, 2318, 2319, 2320, 2321, 2322, 2323, 2324, 2325, 2326, 2327, 2328, 2329, 2330, 2331, 2332, 2333, 2334, 2335, 2336, 2337, 2338, 2339, 2340, 2341, 2342, 2343, 2344, 2345, 2346, 2347, 2348, 2349, 2350, 2351, 2352, 2353, 2354, 2355, 2356, 2357, 2358, 2359, 2360, 2361, 2362, 2363, 2364, 2365, 2366, 2367, 2368, 2369, 2370, 2371, 2372, 2373, 2374, 2375, 2376, 2377, 2378, 2379, 2380, 2381, 2382, 2383, 2384, 2385, 2386, 2387, 2388, 2389, 2390, 2391, 2392, 2393, 2394, 2395, 2396, 2397, 2398, 2399, 2400, 2401, 2402, 2403, 2404, 2405, 2406, 2407, 2408, 2409, 2410, 2411, 2412, 2413, 2414, 2415, 2416, 2417, 2418, 2419, 2420, 2421, 2422, 2423, 2424, 2425, 2426, 2427, 2428, 2429, 2430, 2431, 2432, 2433, 2434, 2435, 2436, 2437, 2438, 2439, 2440, 2441, 2442, 2443, 2444, 2445, 2446, 2447, 2448, 2449, 2450, 2451, 2452, 2453, 2454, 2455, 2456, 2457, 2458, 2459, 2460, 2461, 2462, 2463, 2464, 2465, 2466, 2467, 2468, 2469, 2470, 2471, 2472, 2473, 2474, 2475, 2476, 2477, 2478, 2479, 2480, 2481, 2482, 2483, 2484, 2485, 2486, 2487, 2488, 2489, 2490, 2491, 2492, 2493, 2494, 2495, 2496, 2497, 2498, 2499, 2500, 2501, 2502, 2503, 2504, 2505, 2506, 2507, 2508, 2509, 2510, 2511, 2512, 2513, 2514, 2515, 2516, 2517, 2518, 2519, 2520, 2521, 2522, 2523, 2524, 2525, 2526, 2527, 2528, 2529, 2530, 2531, 2532, 2533, 2534, 2535, 2536, 2537, 2538, 2539, 2540, 2541, 2542, 2543, 2544, 2545, 2546, 2547, 2548, 2549, 2550, 2551, 2552, 2553, 2554, 2555, 2556, 2557, 2558, 2559, 2560, 2561, 2562, 2563, 2564, 2565, 2566, 2567, 2568, 2569, 2570, 2571, 2572, 2573, 2574, 2575, 2576, 2577, 2578, 2579, 2580, 2581, 2582, 2583, 2584, 2585, 2586, 2587, 2588, 2589, 2590, 2591, 2592, 2593, 2594, 2595, 2596, 2597, 2598, 2599, 2600, 2601, 2602, 2603, 2604, 2605, 2606, 2607, 2608, 2609, 2610, 2611, 2612, 2613, 2614, 2615, 2616, 2617, 2618, 2619, 2620, 2621, 2622, 2623, 2624, 2625, 2626, 2627, 2628, 2629, 2630, 2631, 2632, 2633, 2634, 2635, 2636, 2637, 2638, 2639, 2640, 2641, 2642, 2643, 2644, 2645, 2646, 2647, 2648, 2649, 2650, 2651, 2652, 2653, 2654, 2655, 2656, 2657, 2658, 2659, 2660, 2661, 2662, 2663, 2664, 2665, 2666, 2667, 2668, 2669, 2670, 2671, 2672, 2673, 2674, 2675, 2676, 2677, 2678, 2679, 2680, 2681, 2682, 2683, 2684, 2685, 2686, 2687, 2688, 2689, 2690, 2691, 2692, 2693, 2694, 2695, 2696, 2697, 2698, 2699, 2700, 2701, 2702, 2703, 2704, 2705, 2706, 2707, 2708, 2709, 2710, 2711, 2712, 2713, 2714, 2715, 2716, 2717, 2718, 2719, 2720, 2721, 2722, 2723, 2724, 2725, 2726, 2727, 2728, 2729, 2730, 2731, 2732, 2733, 2734, 2735, 2736, 2737, 2738, 2739, 2740, 2741, 2742, 2743, 2744, 2745, 2746, 2747, 2748, 2749, 2750, 2751, 2752, 2753, 2754, 2755, 2756, 2757, 2758, 2759, 2760, 2761, 2762, 2763, 2764, 2765, 2766, 2767, 2768, 2769, 2770, 2771, 2772, 2773, 2774, 2775, 2776, 2777, 2778, 2779, 2780, 2781, 2782, 2783, 2784, 2785, 2786, 2787, 2788, 2789, 2790, 2791, 2792, 2793, 2794, 2795, 2796, 2797, 2798, 2799, 2800, 2801, 2802, 2803, 2804, 2805, 2806, 2807, 2808, 2809, 2810, 2811, 2812, 2813, 2814, 2815, 2816, 2817, 2818, 2819, 2820, 2821, 2822, 2823, 2824, 2825, 2826, 2827, 2828, 2829, 2830, 2831, 2832, 2833, 2834, 2835, 2836, 2837, 2838, 2839, 2840, 2841, 2842, 2843, 2844, 2845, 2846, 2847, 2848, 2849, 2850, 2851, 2852, 2853, 2854, 2855, 2856, 2857, 2858, 2859, 2860, 2861, 2862, 2863, 2864, 2865, 2866, 2867, 2868, 2869, 2870, 2871, 2872, 2873, 2874, 2875, 2876, 2877, 2878, 2879, 2880, 2881, 2882, 2883, 2884, 2885, 2886, 2887, 2888, 2889, 2890, 2891, 2892, 2893, 2894, 2895, 2896, 2897, 2898, 2899, 2900, 2901, 2902, 2903, 2904, 2905, 2906, 2907, 2908, 2909, 2910, 2911, 2912, 2913, 2914, 2915, 2916, 2917, 2918, 2919, 2920, 2921, 2922, 2923, 2924, 2925, 2926, 2927, 2928, 2929, 2930, 2931, 2932, 2933, 2934, 2935, 2936, 2937, 2938, 2939, 2940, 2941, 2942, 2943, 2944, 2945, 2946, 2947, 2948, 2949, 2950, 2951, 2952, 2953, 2954, 2955, 2956, 2957, 2958, 2959, 2960, 2961, 2962, 2963, 2964, 2965, 2966, 2967, 2968, 2969, 2970, 2971, 2972, 2973, 2974, 2975, 2976, 2977, 2978, 2979, 2980, 2981, 2982, 2983, 2984, 2985, 2986, 2987, 2988, 2989, 2990, 2991, 2992, 2993, 2994, 2995, 2996, 2997, 2998, 2999, 3000, 3001, 3002, 3003, 3004, 3005, 3006, 3007, 3008, 3009, 3010, 3011, 3012, 3013, 3014, 3015, 3016, 3017, 3018, 3019, 3020, 3021, 3022, 3023, 3024, 3025, 3026, 3027, 3028, 3029, 3030, 3031, 3032, 3033, 3034, 3035, 3036, 3037, 3038, 3039, 3040, 3041, 3042, 3043, 3044, 3045, 3046, 3047, 3048, 3049, 3050, 3051, 3052, 3053, 3054, 3055, 3056, 3057, 3058, 3059, 3060, 3061, 3062, 3063, 3064, 3065, 3066, 3067, 3068, 3069, 3070, 3071, 3072, 3073, 3074, 3075, 3076, 3077, 3078, 3079, 3080, 3081, 3082, 3083, 3084, 3085, 3086, 3087, 3088, 3089, 3090, 3091, 3092, 3093, 3094, 3095, 3096, 3097, 3098, 3099, 3100, 3101, 3102, 3103, 3104, 3105, 3106, 3107, 3108, 3109, 3110, 3111, 3112, 3113, 3114, 3115, 3116, 3117, 3118, 3119, 3120, 3121, 3122, 3123, 3124, 3125, 3126, 3127, 3128, 3129, 3130, 3131, 3132, 3133, 3134, 3135, 3136, 3137, 3138, 3139, 3140, 3141, 3142, 3143, 3144, 3145, 3146, 3147, 3148, 3149, 3150, 3151, 3152, 3153, 3154, 3155, 3156, 3157, 3158, 3159, 3160, 3161, 3162, 3163, 3164, 3165, 3166, 3167, 3168, 3169, 3170, 3171, 3172, 3173, 3174, 3175, 3176, 3177, 3178, 3179, 3180, 3181, 3182, 3183, 3184, 3185, 3186, 3187, 3188, 3189, 3190, 3191, 3192, 3193, 3194, 3195, 3196, 3197, 3198, 3199, 3200, 3201, 3202, 3203, 3204, 3205, 3206, 3207, 3208, 3209, 3210, 3211, 3212, 3213, 3214, 3215, 3216, 3217, 3218, 3219, 3220, 3221, 3222, 3223, 3224, 3225, 3226, 3227, 3228, 3229, 3230, 3231, 3232, 3233, 3234, 3235, 3236, 3237, 3238, 3239, 3240, 3241, 3242, 3243, 3244, 3245, 3246, 3247, 3248, 3249, 3250, 3251, 3252, 3253, 3254, 3255, 3256, 3257, 3258, 3259, 3260, 3261, 3262, 3263, 3264, 3265, 3266, 3267, 3268, 3269, 3270, 3271, 3272, 3273, 3274, 3275, 3276, 3277, 3278, 3279, 3280, 3281, 3282, 3283, 3284, 3285, 3286, 3287, 3288, 3289, 3290, 3291, 3292, 3293, 3294, 3295, 3296, 3297, 3298, 3299, 3300, 3301, 3302, 3303, 3304, 3305, 3306, 3307, 3308, 3309, 3310, 3311, 3312, 3313, 3314, 3315, 3316, 3317, 3318, 3319, 3320, 3321, 3322, 3323, 3324, 3325, 3326, 3327, 3328, 3329, 3330, 3331, 3332, 3333, 3334, 3335, 3336, 3337, 3338, 3339, 3340, 3341, 3342, 3343, 3344, 3345, 3346, 3347, 3348, 3349, 3350, 3351, 3352, 3353, 3354, 3355, 3356, 3357, 3358, 3359, 3360, 3361, 3362, 3363, 3364, 3365, 3366, 3367, 3368, 3369, 3370, 3371, 3372, 3373, 3374, 3375, 3376, 3377, 3378, 3379, 3380, 3381, 3382, 3383, 3384, 3385, 3386, 3387, 3388, 3389, 3390, 3391, 3392, 3393, 3394, 3395, 3396, 3397, 3398, 3399, 3400, 3401, 3402, 3403, 3404, 3405, 3406, 3407, 3408, 3409, 3410, 3411, 3412, 3413, 3414, 3415, 3416, 3417, 3418, 3419, 3420, 3421, 3422, 3423, 3424, 3425, 3426, 3427, 3428, 3429, 3430, 3431, 3432, 3433, 3434, 3435, 3436, 3437, 3438, 3439, 3440, 3441, 3442, 3443, 3444, 3445, 3446, 3447, 3448, 3449, 3450, 3451, 3452, 3453, 3454, 3455, 3456, 3457, 3458, 3459, 3460, 3461, 3462, 3463, 3464, 3465, 3466, 3467, 3468, 3469, 3470, 3471, 3472, 3473, 3474, 3475, 3476, 3477, 3478, 3479, 3480, 3481, 3482, 3483, 3484, 3485, 3486, 3487, 3488, 3489, 3490, 3491, 3492, 3493, 3494, 3495, 3496, 3497, 3498, 3499, 3500, 3501, 3502, 3503, 3504, 3505, 3506, 3507, 3508, 3509, 3510, 3511, 3512, 3513, 3514, 3515, 3516, 3517, 3518, 3519, 3520, 3521, 3522, 3523, 3524, 3525, 3526, 3527, 3528, 3529, 3530, 3531, 3532, 3533, 3534, 3535, 3536, 3537, 3538, 3539, 3540, 3541, 3542, 3543, 3544, 3545, 3546, 3547, 3548, 3549, 3550, 3551, 3552, 3553, 3554, 3555, 3556, 3557, 3558, 3559, 3560, 3561, 3562, 3563, 3564, 3565, 3566, 3567, 3568, 3569, 3570, 3571, 3572, 3573, 3574, 3575, 3576, 3577, 3578, 3579, 3580, 3581, 3582, 3583, 3584, 3585, 3586, 3587, 3588, 3589, 3590, 3591, 3592, 3593, 3594, 3595, 3596, 3597, 3598, 3599, 3600, 3601, 3602, 3603, 3604, 3605, 3606, 3607, 3608, 3609, 3610, 3611, 3612, 3613, 3614, 3615, 3616, 3617, 3618, 3619, 3620, 3621, 3622, 3623, 3624, 3625, 3626, 3627, 3628, 3629, 3630, 3631, 3632, 3633, 3634, 3635, 3636, 3637, 3638, 3639, 3640, 3641, 3642, 3643, 3644, 3645, 3646, 3647, 3648, 3649, 3650, 3651, 3652, 3653, 3654, 3655, 3656, 3657, 3658, 3659, 3660, 3661, 3662, 3663, 3664, 3665, 3666, 3667, 3668, 3669, 3670, 3671, 3672, 3673, 3674, 3675, 3676, 3677, 3678, 3679, 3680, 3681, 3682, 3683, 3684, 3685, 3686, 3687, 3688, 3689, 3690, 3691, 3692, 3693, 3694, 3695, 3696, 3697, 3698, 3699, 3700, 3701, 3702, 3703, 3704, 3705, 3706, 3707, 3708, 3709, 3710, 3711, 3712, 3713, 3714, 3715, 3716, 3717, 3718, 3719, 3720, 3721, 3722, 3723, 3724, 3725, 3726, 3727, 3728, 3729, 3730, 3731, 3732, 3733, 3734, 3735, 3736, 3737, 3738, 3739, 3740, 3741, 3742, 3743, 3744, 3745, 3746, 3747, 3748, 3749, 3750, 3751, 3752, 3753, 3754, 3755, 3756, 3757, 3758, 3759, 3760, 3761, 3762, 3763, 3764, 3765, 3766, 3767, 3768, 3769, 3770, 3771, 3772, 3773, 3774, 3775, 3776, 3777, 3778, 3779, 3780, 3781, 3782, 3783, 3784, 3785, 3786, 3787, 3788, 3789, 3790, 3791, 3792, 3793, 3794, 3795, 3796, 3797, 3798, 3799, 3800, 3801, 3802, 3803, 3804, 3805, 3806, 3807, 3808, 3809, 3810, 3811, 3812, 3813, 3814, 3815, 3816, 3817, 3818, 3819, 3820, 3821, 3822, 3823, 3824, 3825, 3826, 3827, 3828, 3829, 3830, 3831, 3832, 3833, 3834, 3835, 3836, 3837, 3838, 3839, 3840, 3841, 3842, 3843, 3844, 3845, 3846, 3847, 3848, 3849, 3850, 3851, 3852, 3853, 3854, 3855, 3856, 3857, 3858, 3859, 3860, 3861, 3862, 3863, 3864, 3865, 3866, 3867, 3868, 3869, 3870, 3871, 3872, 3873, 3874, 3875, 3876, 3877, 3878, 3879, 3880, 3881, 3882, 3883, 3884, 3885, 3886, 3887, 3888, 3889, 3890, 3891, 3892, 3893, 3894, 3895, 3896, 3897, 3898, 3899, 3900, 3901, 3902, 3903, 3904, 3905, 3906, 3907, 3908, 3909, 3910, 3911, 3912, 3913, 3914, 3915, 3916, 3917, 3918, 3919, 3920, 3921, 3922, 3923, 3924, 3925, 3926, 3927, 3928, 3929, 3930, 3931, 3932, 3933, 3934, 3935, 3936, 3937, 3938, 3939, 3940, 3941, 3942, 3943, 3944, 3945, 3946, 3947, 3948, 3949, 3950, 3951, 3952, 3953, 3954, 3955, 3956, 3957, 3958, 3959, 3960, 3961, 3962, 3963, 3964, 3965, 3966, 3967, 3968, 3969, 3970, 3971, 3972, 3973, 3974, 3975, 3976, 3977, 3978, 3979, 3980, 3981, 3982, 3983, 3984, 3985, 3986, 3987, 3988, 3989, 3990, 3991, 3992, 3993, 3994, 3995, 3996, 3997, 3998, 3999, 4000, 4001, 4002, 4003, 4004, 4005, 4006, 4007, 4008, 4009, 4010, 4011, 4012, 4013, 4014, 4015, 4016, 4017, 4018, 4019, 4020, 4021, 4022, 4023, 4024, 4025, 4026, 4027, 4028, 4029, 4030, 4031, 4032, 4033, 4034, 4035, 4036, 4037, 4038, 4039, 4040, 4041, 4042, 4043, 4044, 4045, 4046, 4047, 4048, 4049, 4050, 4051, 4052, 4053, 4054, 4055, 4056, 4057, 4058, 4059, 4060, 4061, 4062, 4063, 4064, 4065, 4066, 4067, 4068, 4069, 4070, 4071, 4072, 4073, 4074, 4075, 4076, 4077, 4078, 4079, 4080, 4081, 4082, 4083, 4084, 4085, 4086, 4087, 4088, 4089, 4090, 4091, 4092, 4093, 4094, 4095, 4096, 4097, 4098, 4099, 4100, 4101, 4102, 4103, 4104, 4105, 4106, 4107, 4108, 4109, 4110, 4111, 4112, 4113, 4114, 4115, 4116, 4117, 4118, 4119, 4120, 4121, 4122, 4123, 4124, 4125, 4126, 4127, 4128, 4129, 4130, 4131, 4132, 4133, 4134, 4135, 4136, 4137, 4138, 4139, 4140, 4141, 4142, 4143, 4144, 4145, 4146, 4147, 4148, 4149, 4150, 4151, 4152, 4153, 4154, 4155, 4156, 4157, 4158, 4159, 4160, 4161, 4162, 4163, 4164, 4165, 4166, 4167, 4168, 4169, 4170, 4171, 4172, 4173, 4174, 4175, 4176, 4177, 4178, 4179, 4180, 4181, 4182, 4183, 4184, 4185, 4186, 4187, 4188, 4189, 4190, 4191, 4192, 4193, 4194, 4195, 4196, 4197, 4198, 4199, 4200, 4201, 4202, 4203, 4204, 4205, 4206, 4207, 4208, 4209, 4210, 4211, 4212, 4213, 4214, 4215, 4216, 4217, 4218, 4219, 4220, 4221, 4222, 4223, 4224, 4225, 4226, 4227, 4228, 4229, 4230, 4231, 4232, 4233, 4234, 4235, 4236, 4237, 4238, 4239, 4240, 4241, 4242, 4243, 4244, 4245, 4246, 4247, 4248, 4249, 4250, 4251, 4252, 4253, 4254, 4255, 4256, 4257, 4258, 4259, 4260, 4261, 4262, 4263, 4264, 4265, 4266, 4267, 4268, 4269, 4270, 4271, 4272, 4273, 4274, 4275, 4276, 4277, 4278, 4279, 4280, 4281, 4282, 4283, 4284, 4285, 4286, 4287, 4288, 4289, 4290, 4291, 4292, 4293, 4294, 4295, 4296, 4297, 4298, 4299, 4300, 4301, 4302, 4303, 4304, 4305, 4306, 4307, 4308, 4309, 4310, 4311, 4312, 4313, 4314, 4315, 4316, 4317, 4318, 4319, 4320, 4321, 4322, 4323, 4324, 4325, 4326, 4327, 4328, 4329, 4330, 4331, 4332, 4333, 4334, 4335, 4336, 4337, 4338, 4339, 4340, 4341, 4342, 4343, 4344, 4345, 4346, 4347, 4348, 4349, 4350, 4351, 4352, 4353, 4354, 4355, 4356, 4357, 4358, 4359, 4360, 4361, 4362, 4363, 4364, 4365, 4366, 4367, 4368, 4369, 4370, 4371, 4372, 4373, 4374, 4375, 4376, 4377, 4378, 4379, 4380, 4381, 4382, 4383, 4384, 4385, 4386, 4387, 4388, 4389, 4390, 4391, 4392, 4393, 4394, 4395, 4396, 4397, 4398, 4399, 4400, 4401, 4402, 4403, 4404, 4405, 4406, 4407, 4408, 4409, 4410, 4411, 4412, 4413, 4414, 4415, 4416, 4417, 4418, 4419, 4420, 4421, 4422, 4423, 4424, 4425, 4426, 4427, 4428, 4429, 4430, 4431, 4432, 4433, 4434, 4435, 4436, 4437, 4438, 4439, 4440, 4441, 4442, 4443, 4444, 4445, 4446, 4447, 4448, 4449, 4450, 4451, 4452, 4453, 4454, 4455, 4456, 4457, 4458, 4459, 4460, 4461, 4462, 4463, 4464, 4465, 4466, 4467, 4468, 4469, 4470, 4471, 4472, 4473, 4474, 4475, 4476, 4477, 4478, 4479, 4480, 4481, 4482, 4483, 4484, 4485, 4486, 4487, 4488, 4489, 4490, 4491, 4492, 4493, 4494, 4495, 4496, 4497, 4498, 4499, 4500, 4501, 4502, 4503, 4504, 4505, 4506, 4507, 4508, 4509, 4510, 4511, 4512, 4513, 4514, 4515, 4516, 4517, 4518, 4519, 4520, 4521, 4522, 4523, 4524, 4525, 4526, 4527, 4528, 4529, 4530, 4531, 4532, 4533, 4534, 4535, 4536, 4537, 4538, 4539, 4540, 4541, 4542, 4543, 4544, 4545, 4546, 4547, 4548, 4549, 4550, 4551, 4552, 4553, 4554, 4555, 4556, 4557, 4558, 4559, 4560, 4561, 4562, 4563, 4564, 4565, 4566, 4567, 4568, 4569, 4570, 4571, 4572, 4573, 4574, 4575, 4576, 4577, 4578, 4579, 4580, 4581, 4582, 4583, 4584, 4585, 4586, 4587, 4588, 4589, 4590, 4591, 4592, 4593, 4594, 4595, 4596, 4597, 4598, 4599, 4600, 4601, 4602, 4603, 4604, 4605, 4606, 4607, 4608, 4609, 4610, 4611, 4612, 4613, 4614, 4615, 4616, 4617, 4618, 4619, 4620, 4621, 4622, 4623, 4624, 4625, 4626, 4627, 4628, 4629, 4630, 4631, 4632, 4633, 4634, 4635, 4636, 4637, 4638, 4639, 4640, 4641, 4642, 4643, 4644, 4645, 4646, 4647, 4648, 4649, 4650, 4651, 4652, 4653, 4654, 4655, 4656, 4657, 4658, 4659, 4660, 4661, 4662, 4663, 4664, 4665, 4666, 4667, 4668, 4669, 4670, 4671, 4672, 4673, 4674, 4675, 4676, 4677, 4678, 4679, 4680, 4681, 4682, 4683, 4684, 4685, 4686, 4687, 4688, 4689, 4690, 4691, 4692, 4693, 4694, 4695, 4696, 4697, 4698, 4699, 4700, 4701, 4702, 4703, 4704, 4705, 4706, 4707, 4708, 4709, 4710, 4711, 4712, 4713, 4714, 4715, 4716, 4717, 4718, 4719, 4720, 4721, 4722, 4723, 4724, 4725, 4726, 4727, 4728, 4729, 4730, 4731, 4732, 4733, 4734, 4735, 4736, 4737, 4738, 4739, 4740, 4741, 4742, 4743, 4744, 4745, 4746, 4747, 4748, 4749, 4750, 4751, 4752, 4753, 4754, 4755, 4756, 4757, 4758, 4759, 4760, 4761, 4762, 4763, 4764, 4765, 4766, 4767, 4768, 4769, 4770, 4771, 4772, 4773, 4774, 4775, 4776, 4777, 4778, 4779, 4780, 4781, 4782, 4783, 4784, 4785, 4786, 4787, 4788, 4789, 4790, 4791, 4792, 4793, 4794, 4795, 4796, 4797, 4798, 4799, 4800, 4801, 4802, 4803, 4804, 4805, 4806, 4807, 4808, 4809, 4810, 4811, 4812, 4813, 4814, 4815, 4816, 4817, 4818, 4819, 4820, 4821, 4822, 4823, 4824, 4825, 4826, 4827, 4828, 4829, 4830, 4831, 4832, 4833, 4834, 4835, 4836, 4837, 4838, 4839, 4840, 4841, 4842, 4843, 4844, 4845, 4846, 4847, 4848, 4849, 4850, 4851, 4852, 4853, 4854, 4855, 4856, 4857, 4858, 4859, 4860, 4861, 4862, 4863, 4864, 4865, 4866, 4867, 4868, 4869, 4870, 4871, 4872, 4873, 4874, 4875, 4876, 4877, 4878, 4879, 4880, 4881, 4882, 4883, 4884, 4885, 4886, 4887, 4888, 4889, 4890, 4891, 4892, 4893, 4894, 4895, 4896, 4897, 4898, 4899, 4900, 4901, 4902, 4903, 4904, 4905, 4906, 4907, 4908, 4909, 4910, 4911, 4912, 4913, 4914, 4915, 4916, 4917, 4918, 4919, 4920, 4921, 4922, 4923, 4924, 4925, 4926, 4927, 4928, 4929, 4930, 4931, 4932, 4933, 4934, 4935, 4936, 4937, 4938, 4939, 4940, 4941, 4942, 4943, 4944, 4945, 4946, 4947, 4948, 4949, 4950, 4951, 4952, 4953, 4954, 4955, 4956, 4957, 4958, 4959, 4960, 4961, 4962, 4963, 4964, 4965, 4966, 4967, 4968, 4969, 4970, 4971, 4972, 4973, 4974, 4975, 4976, 4977, 4978, 4979, 4980, 4981, 4982, 4983, 4984, 4985, 4986, 4987, 4988, 4989, 4990, 4991, 4992, 4993, 4994, 4995, 4996, 4997, 4998, 4999, 5000, 5001, 5002, 5003, 5004, 5005, 5006, 5007, 5008, 5009, 5010, 5011, 5012, 5013, 5014, 5015, 5016, 5017, 5018, 5019, 5020, 5021, 5022, 5023, 5024, 5025, 5026, 5027, 5028, 5029, 5030, 5031, 5032, 5033, 5034, 5035, 5036, 5037, 5038, 5039, 5040, 5041, 5042, 5043, 5044, 5045, 5046, 5047, 5048, 5049, 5050, 5051, 5052, 5053, 5054, 5055, 5056, 5057, 5058, 5059, 5060, 5061, 5062, 5063, 5064, 5065, 5066, 5067, 5068, 5069, 5070, 5071, 5072, 5073, 5074, 5075, 5076, 5077, 5078, 5079, 5080, 5081, 5082, 5083, 5084, 5085, 5086, 5087, 5088, 5089, 5090, 5091, 5092, 5093, 5094, 5095, 5096, 5097, 5098, 5099, 5100, 5101, 5102, 5103, 5104, 5105, 5106, 5107, 5108, 5109, 5110, 5111, 5112, 5113, 5114, 5115, 5116, 5117, 5118, 5119, 5120, 5121, 5122, 5123, 5124, 5125, 5126, 5127, 5128, 5129, 5130, 5131, 5132, 5133, 5134, 5135, 5136, 5137, 5138, 5139, 5140, 5141, 5142, 5143, 5144, 5145, 5146, 5147, 5148, 5149, 5150, 5151, 5152, 5153, 5154, 5155, 5156, 5157, 5158, 5159, 5160, 5161, 5162, 5163, 5164, 5165, 5166, 5167, 5168, 5169, 5170, 5171, 5172, 5173, 5174, 5175, 5176, 5177, 5178, 5179, 5180, 5181, 5182, 5183, 5184, 5185, 5186, 5187, 5188, 5189, 5190, 5191, 5192, 5193, 5194, 5195, 5196, 5197, 5198, 5199, 5200, 5201, 5202, 5203, 5204, 5205, 5206, 5207, 5208, 5209, 5210, 5211, 5212, 5213, 5214, 5215, 5216, 5217, 5218, 5219, 5220, 5221, 5222, 5223, 5224, 5225, 5226, 5227, 5228, 5229, 5230, 5231, 5232, 5233, 5234, 5235, 5236, 5237, 5238, 5239, 5240, 5241, 5242, 5243, 5244, 5245, 5246, 5247, 5248, 5249, 5250, 5251, 5252, 5253, 5254, 5255, 5256, 5257, 5258, 5259, 5260, 5261, 5262, 5263, 5264, 5265, 5266, 5267, 5268, 5269, 5270, 5271, 5272, 5273, 5274, 5275, 5276, 5277, 5278, 5279, 5280, 5281, 5282, 5283, 5284, 5285, 5286, 5287, 5288, 5289, 5290, 5291, 5292, 5293, 5294, 5295, 5296, 5297, 5298, 5299, 5300, 5301, 5302, 5303, 5304, 5305, 5306, 5307, 5308, 5309, 5310, 5311, 5312, 5313, 5314, 5315, 5316, 5317, 5318, 5319, 5320, 5321, 5322, 5323, 5324, 5325, 5326, 5327, 5328, 5329, 5330, 5331, 5332, 5333, 5334, 5335, 5336, 5337, 5338, 5339, 5340, 5341, 5342, 5343, 5344, 5345, 5346, 5347, 5348, 5349, 5350, 5351, 5352, 5353, 5354, 5355, 5356, 5357, 5358, 5359, 5360, 5361, 5362, 5363, 5364, 5365, 5366, 5367, 5368, 5369, 5370, 5371, 5372, 5373, 5374, 5375, 5376, 5377, 5378, 5379, 5380, 5381, 5382, 5383, 5384, 5385, 5386, 5387, 5388, 5389, 5390, 5391, 5392, 5393, 5394, 5395, 5396, 5397, 5398, 5399, 5400, 5401, 5402, 5403, 5404, 5405, 5406, 5407, 5408, 5409, 5410, 5411, 5412, 5413, 5414, 5415, 5416, 5417, 5418, 5419, 5420, 5421, 5422, 5423, 5424, 5425, 5426, 5427, 5428, 5429, 5430, 5431, 5432, 5433, 5434, 5435, 5436, 5437, 5438, 5439, 5440, 5441, 5442, 5443, 5444, 5445, 5446, 5447, 5448, 5449, 5450, 5451, 5452, 5453, 5454, 5455, 5456, 5457, 5458, 5459, 5460, 5461, 5462, 5463, 5464, 5465, 5466, 5467, 5468, 5469, 5470, 5471, 5472, 5473, 5474, 5475, 5476, 5477, 5478, 5479, 5480, 5481, 5482, 5483, 5484, 5485, 5486, 5487, 5488, 5489, 5490, 5491, 5492, 5493, 5494, 5495, 5496, 5497, 5498, 5499, 5500, 5501, 5502, 5503, 5504, 5505, 5506, 5507, 5508, 5509, 5510, 5511, 5512, 5513, 5514, 5515, 5516, 5517, 5518, 5519, 5520, 5521, 5522, 5523, 5524, 5525, 5526, 5527, 5528, 5529, 5530, 5531, 5532, 5533, 5534, 5535, 5536, 5537, 5538, 5539, 5540, 5541, 5542, 5543, 5544, 5545, 5546, 5547, 5548, 5549, 5550, 5551, 5552, 5553, 5554, 5555, 5556, 5557, 5558, 5559, 5560, 5561, 5562, 5563, 5564, 5565, 5566, 5567, 5568, 5569, 5570, 5571, 5572, 5573, 5574, 5575, 5576, 5577, 5578, 5579, 5580, 5581, 5582, 5583, 5584, 5585, 5586, 5587, 5588, 5589, 5590, 5591, 5592, 5593, 5594, 5595, 5596, 5597, 5598, 5599, 5600, 5601, 5602, 5603, 5604, 5605, 5606, 5607, 5608, 5609, 5610, 5611, 5612, 5613, 5614, 5615, 5616, 5617, 5618, 5619, 5620, 5621, 5622, 5623, 5624, 5625, 5626, 5627, 5628, 5629, 5630, 5631, 5632, 5633, 5634, 5635, 5636, 5637, 5638, 5639, 5640, 5641, 5642, 5643, 5644, 5645, 5646, 5647, 5648, 5649, 5650, 5651, 5652, 5653, 5654, 5655, 5656, 5657, 5658, 5659, 5660, 5661, 5662, 5663, 5664, 5665, 5666, 5667, 5668, 5669, 5670, 5671, 5672, 5673, 5674, 5675, 5676, 5677, 5678, 5679, 5680, 5681, 5682, 5683, 5684, 5685, 5686, 5687, 5688, 5689, 5690, 5691, 5692, 5693, 5694, 5695, 5696, 5697, 5698, 5699, 5700, 5701, 5702, 5703, 5704, 5705, 5706, 5707, 5708, 5709, 5710, 5711, 5712, 5713, 5714, 5715, 5716, 5717, 5718, 5719, 5720, 5721, 5722, 5723, 5724, 5725, 5726, 5727, 5728, 5729, 5730, 5731, 5732, 5733, 5734, 5735, 5736, 5737, 5738, 5739, 5740, 5741, 5742, 5743, 5744, 5745, 5746, 5747, 5748, 5749, 5750, 5751, 5752, 5753, 5754, 5755, 5756, 5757, 5758, 5759, 5760, 5761, 5762, 5763, 5764, 5765, 5766, 5767, 5768, 5769, 5770, 5771, 5772, 5773, 5774, 5775, 5776, 5777, 5778, 5779, 5780, 5781, 5782, 5783, 5784, 5785, 5786, 5787, 5788, 5789, 5790, 5791, 5792, 5793, 5794, 5795, 5796, 5797, 5798, 5799, 5800, 5801, 5802, 5803, 5804, 5805, 5806, 5807, 5808, 5809, 5810, 5811, 5812, 5813, 5814, 5815, 5816, 5817, 5818, 5819, 5820, 5821, 5822, 5823, 5824, 5825, 5826, 5827, 5828, 5829, 5830, 5831, 5832, 5833, 5834, 5835, 5836, 5837, 5838, 5839, 5840, 5841, 5842, 5843, 5844, 5845, 5846, 5847, 5848, 5849, 5850, 5851, 5852, 5853, 5854, 5855, 5856, 5857, 5858, 5859, 5860, 5861, 5862, 5863, 5864, 5865, 5866, 5867, 5868, 5869, 5870, 5871, 5872, 5873, 5874, 5875, 5876, 5877, 5878, 5879, 5880, 5881, 5882, 5883, 5884, 5885, 5886, 5887, 5888, 5889, 5890, 5891, 5892, 5893, 5894, 5895, 5896, 5897, 5898, 5899, 5900, 5901, 5902, 5903, 5904, 5905, 5906, 5907, 5908, 5909, 5910, 5911, 5912, 5913, 5914, 5915, 5916, 5917, 5918, 5919, 5920, 5921, 5922, 5923, 5924, 5925, 5926, 5927, 5928, 5929, 5930, 5931, 5932, 5933, 5934, 5935, 5936, 5937, 5938, 5939, 5940, 5941, 5942, 5943, 5944, 5945, 5946, 5947, 5948, 5949, 5950, 5951, 5952, 5953, 5954, 5955, 5956, 5957, 5958, 5959, 5960, 5961, 5962, 5963, 5964, 5965, 5966, 5967, 5968, 5969, 5970, 5971, 5972, 5973, 5974, 5975, 5976, 5977, 5978, 5979, 5980, 5981, 5982, 5983, 5984, 5985, 5986, 5987, 5988, 5989, 5990, 5991, 5992, 5993, 5994, 5995, 5996, 5997, 5998, 5999, 6000, 6001, 6002, 6003, 6004, 6005, 6006, 6007, 6008, 6009, 6010, 6011, 6012, 6013, 6014, 6015, 6016, 6017, 6018, 6019, 6020, 6021, 6022, 6023, 6024, 6025, 6026, 6027, 6028, 6029, 6030, 6031, 6032, 6033, 6034, 6035, 6036, 6037, 6038, 6039, 6040, 6041, 6042, 6043, 6044, 6045, 6046, 6047, 6048, 6049, 6050, 6051, 6052, 6053, 6054, 6055, 6056, 6057, 6058, 6059, 6060, 6061, 6062, 6063, 6064, 6065, 6066, 6067, 6068, 6069, 6070, 6071, 6072, 6073, 6074, 6075, 6076, 6077, 6078, 6079, 6080, 6081, 6082, 6083, 6084, 6085, 6086, 6087, 6088, 6089, 6090, 6091, 6092, 6093, 6094, 6095, 6096, 6097, 6098, 6099, 6100, 6101, 6102, 6103, 6104, 6105, 6106, 6107, 6108, 6109, 6110, 6111, 6112, 6113, 6114, 6115, 6116, 6117, 6118, 6119, 6120, 6121, 6122, 6123, 6124, 6125, 6126, 6127, 6128, 6129, 6130, 6131, 6132, 6133, 6134, 6135, 6136, 6137, 6138, 6139, 6140, 6141, 6142, 6143, 6144, 6145, 6146, 6147, 6148, 6149, 6150, 6151, 6152, 6153, 6154, 6155, 6156, 6157, 6158, 6159, 6160, 6161, 6162, 6163, 6164, 6165, 6166, 6167, 6168, 6169, 6170, 6171, 6172, 6173, 6174, 6175, 6176, 6177, 6178, 6179, 6180, 6181, 6182, 6183, 6184, 6185, 6186, 6187, 6188, 6189, 6190, 6191, 6192, 6193, 6194, 6195, 6196, 6197, 6198, 6199, 6200, 6201, 6202, 6203, 6204, 6205, 6206, 6207, 6208, 6209, 6210, 6211, 6212, 6213, 6214, 6215, 6216, 6217, 6218, 6219, 6220, 6221, 6222, 6223, 6224, 6225, 6226, 6227, 6228, 6229, 6230, 6231, 6232, 6233, 6234, 6235, 6236, 6237, 6238, 6239, 6240, 6241, 6242, 6243, 6244, 6245, 6246, 6247, 6248, 6249, 6250, 6251, 6252, 6253, 6254, 6255, 6256, 6257, 6258, 6259, 6260, 6261, 6262, 6263, 6264, 6265, 6266, 6267, 6268, 6269, 6270, 6271, 6272, 6273, 6274, 6275, 6276, 6277, 6278, 6279, 6280, 6281, 6282, 6283, 6284, 6285, 6286, 6287, 6288, 6289, 6290, 6291, 6292, 6293, 6294, 6295, 6296, 6297, 6298, 6299, 6300, 6301, 6302, 6303, 6304, 6305, 6306, 6307, 6308, 6309, 6310, 6311, 6312, 6313, 6314, 6315, 6316, 6317, 6318, 6319, 6320, 6321, 6322, 6323, 6324, 6325, 6326, 6327, 6328, 6329, 6330, 6331, 6332, 6333, 6334, 6335, 6336, 6337, 6338, 6339, 6340, 6341, 6342, 6343, 6344, 6345, 6346, 6347, 6348, 6349, 6350, 6351, 6352, 6353, 6354, 6355, 6356, 6357, 6358, 6359, 6360, 6361, 6362, 6363, 6364, 6365, 6366, 6367, 6368, 6369, 6370, 6371, 6372, 6373, 6374, 6375, 6376, 6377, 6378, 6379, 6380, 6381, 6382, 6383, 6384, 6385, 6386, 6387, 6388, 6389, 6390, 6391, 6392, 6393, 6394, 6395, 6396, 6397, 6398, 6399, 6400, 6401, 6402, 6403, 6404, 6405, 6406, 6407, 6408, 6409, 6410, 6411, 6412, 6413, 6414, 6415, 6416, 6417, 6418, 6419, 6420, 6421, 6422, 6423, 6424, 6425, 6426, 6427, 6428, 6429, 6430, 6431, 6432, 6433, 6434, 6435, 6436, 6437, 6438, 6439, 6440, 6441, 6442, 6443, 6444, 6445, 6446, 6447, 6448, 6449, 6450, 6451, 6452, 6453, 6454, 6455, 6456, 6457, 6458, 6459, 6460, 6461, 6462, 6463, 6464, 6465, 6466, 6467, 6468, 6469, 6470, 6471, 6472, 6473, 6474, 6475, 6476, 6477, 6478, 6479, 6480, 6481, 6482, 6483, 6484, 6485, 6486, 6487, 6488, 6489, 6490, 6491, 6492, 6493, 6494, 6495, 6496, 6497, 6498, 6499, 6500, 6501, 6502, 6503, 6504, 6505, 6506, 6507, 6508, 6509, 6510, 6511, 6512, 6513, 6514, 6515, 6516, 6517, 6518, 6519, 6520, 6521, 6522, 6523, 6524, 6525, 6526, 6527, 6528, 6529, 6530, 6531, 6532, 6533, 6534, 6535, 6536, 6537, 6538, 6539, 6540, 6541, 6542, 6543, 6544, 6545, 6546, 6547, 6548, 6549, 6550, 6551, 6552, 6553, 6554, 6555, 6556, 6557, 6558, 6559, 6560, 6561, 6562, 6563, 6564, 6565, 6566, 6567, 6568, 6569, 6570, 6571, 6572, 6573, 6574, 6575, 6576, 6577, 6578, 6579, 6580, 6581, 6582, 6583, 6584, 6585, 6586, 6587, 6588, 6589, 6590, 6591, 6592, 6593, 6594, 6595, 6596, 6597, 6598, 6599, 6600, 6601, 6602, 6603, 6604, 6605, 6606, 6607, 6608, 6609, 6610, 6611, 6612, 6613, 6614, 6615, 6616, 6617, 6618, 6619, 6620, 6621, 6622, 6623, 6624, 6625, 6626, 6627, 6628, 6629, 6630, 6631, 6632, 6633, 6634, 6635, 6636, 6637, 6638, 6639, 6640, 6641, 6642, 6643, 6644, 6645, 6646, 6647, 6648, 6649, 6650, 6651, 6652, 6653, 6654, 6655, 6656, 6657, 6658, 6659, 6660, 6661, 6662, 6663, 6664, 6665, 6666, 6667, 6668, 6669, 6670, 6671, 6672, 6673, 6674, 6675, 6676, 6677, 6678, 6679, 6680, 6681, 6682, 6683, 6684, 6685, 6686, 6687, 6688, 6689, 6690, 6691, 6692, 6693, 6694, 6695, 6696, 6697, 6698, 6699, 6700, 6701, 6702, 6703, 6704, 6705, 6706, 6707, 6708, 6709, 6710, 6711, 6712, 6713, 6714, 6715, 6716, 6717, 6718, 6719, 6720, 6721, 6722, 6723, 6724, 6725, 6726, 6727, 6728, 6729, 6730, 6731, 6732, 6733, 6734, 6735, 6736, 6737, 6738, 6739, 6740, 6741, 6742, 6743, 6744, 6745, 6746, 6747, 6748, 6749, 6750, 6751, 6752, 6753, 6754, 6755, 6756, 6757, 6758, 6759, 6760, 6761, 6762, 6763, 6764, 6765, 6766, 6767, 6768, 6769, 6770, 6771, 6772, 6773, 6774, 6775, 6776, 6777, 6778, 6779, 6780, 6781, 6782, 6783, 6784, 6785, 6786, 6787, 6788, 6789, 6790, 6791, 6792, 6793, 6794, 6795, 6796, 6797, 6798, 6799, 6800, 6801, 6802, 6803, 6804, 6805, 6806, 6807, 6808, 6809, 6810, 6811, 6812, 6813, 6814, 6815, 6816, 6817, 6818, 6819, 6820, 6821, 6822, 6823, 6824, 6825, 6826, 6827, 6828, 6829, 6830, 6831, 6832, 6833, 6834, 6835, 6836, 6837, 6838, 6839, 6840, 6841, 6842, 6843, 6844, 6845, 6846, 6847, 6848, 6849, 6850, 6851, 6852, 6853, 6854, 6855, 6856, 6857, 6858, 6859, 6860, 6861, 6862, 6863, 6864, 6865, 6866, 6867, 6868, 6869, 6870, 6871, 6872, 6873, 6874, 6875, 6876, 6877, 6878, 6879, 6880, 6881, 6882, 6883, 6884, 6885, 6886, 6887, 6888, 6889, 6890, 6891, 6892, 6893, 6894, 6895, 6896, 6897, 6898, 6899, 6900, 6901, 6902, 6903, 6904, 6905, 6906, 6907, 6908, 6909, 6910, 6911, 6912, 6913, 6914, 6915, 6916, 6917, 6918, 6919, 6920, 6921, 6922, 6923, 6924, 6925, 6926, 6927, 6928, 6929, 6930, 6931, 6932, 6933, 6934, 6935, 6936, 6937, 6938, 6939, 6940, 6941, 6942, 6943, 6944, 6945, 6946, 6947, 6948, 6949, 6950, 6951, 6952, 6953, 6954, 6955, 6956, 6957, 6958, 6959, 6960, 6961, 6962, 6963, 6964, 6965, 6966, 6967, 6968, 6969, 6970, 6971, 6972, 6973, 6974, 6975, 6976, 6977, 6978, 6979, 6980, 6981, 6982, 6983, 6984, 6985, 6986, 6987, 6988, 6989, 6990, 6991, 6992, 6993, 6994, 6995, 6996, 6997, 6998, 6999, 7000, 7001, 7002, 7003, 7004, 7005, 7006, 7007, 7008, 7009, 7010, 7011, 7012, 7013, 7014, 7015, 7016, 7017, 7018, 7019, 7020, 7021, 7022, 7023, 7024, 7025, 7026, 7027, 7028, 7029, 7030, 7031, 7032, 7033, 7034, 7035, 7036, 7037, 7038, 7039, 7040, 7041, 7042, 7043, 7044, 7045, 7046, 7047, 7048, 7049, 7050, 7051, 7052, 7053, 7054, 7055, 7056, 7057, 7058, 7059, 7060, 7061, 7062, 7063, 7064, 7065, 7066, 7067, 7068, 7069, 7070, 7071, 7072, 7073, 7074, 7075, 7076, 7077, 7078, 7079, 7080, 7081, 7082, 7083, 7084, 7085, 7086, 7087, 7088, 7089, 7090, 7091, 7092, 7093, 7094, 7095, 7096, 7097, 7098, 7099, 7100, 7101, 7102, 7103, 7104, 7105, 7106, 7107, 7108, 7109, 7110, 7111, 7112, 7113, 7114, 7115, 7116, 7117, 7118, 7119, 7120, 7121, 7122, 7123, 7124, 7125, 7126, 7127, 7128, 7129, 7130, 7131, 7132, 7133, 7134, 7135, 7136, 7137, 7138, 7139, 7140, 7141, 7142, 7143, 7144, 7145, 7146, 7147, 7148, 7149, 7150, 7151, 7152, 7153, 7154, 7155, 7156, 7157, 7158, 7159, 7160, 7161, 7162, 7163, 7164, 7165, 7166, 7167, 7168, 7169, 7170, 7171, 7172, 7173, 7174, 7175, 7176, 7177, 7178, 7179, 7180, 7181, 7182, 7183, 7184, 7185, 7186, 7187, 7188, 7189, 7190, 7191, 7192, 7193, 7194, 7195, 7196, 7197, 7198, 7199, 7200, 7201, 7202, 7203, 7204, 7205, 7206, 7207, 7208, 7209, 7210, 7211, 7212, 7213, 7214, 7215, 7216, 7217, 7218, 7219, 7220, 7221, 7222, 7223, 7224, 7225, 7226, 7227, 7228, 7229, 7230, 7231, 7232, 7233, 7234, 7235, 7236, 7237, 7238, 7239, 7240, 7241, 7242, 7243, 7244, 7245, 7246, 7247, 7248, 7249, 7250, 7251, 7252, 7253, 7254, 7255, 7256, 7257, 7258, 7259, 7260, 7261, 7262, 7263, 7264, 7265, 7266, 7267, 7268, 7269, 7270, 7271, 7272, 7273, 7274, 7275, 7276, 7277, 7278, 7279, 7280, 7281, 7282, 7283, 7284, 7285, 7286, 7287, 7288, 7289, 7290, 7291, 7292, 7293, 7294, 7295, 7296, 7297, 7298, 7299, 7300, 7301, 7302, 7303, 7304, 7305, 7306, 7307, 7308, 7309, 7310, 7311, 7312, 7313, 7314, 7315, 7316, 7317, 7318, 7319, 7320, 7321, 7322, 7323, 7324, 7325, 7326, 7327, 7328, 7329, 7330, 7331, 7332, 7333, 7334, 7335, 7336, 7337, 7338, 7339, 7340, 7341, 7342, 7343, 7344, 7345, 7346, 7347, 7348, 7349, 7350, 7351, 7352, 7353, 7354, 7355, 7356, 7357, 7358, 7359, 7360, 7361, 7362, 7363, 7364, 7365, 7366, 7367, 7368, 7369, 7370, 7371, 7372, 7373, 7374, 7375, 7376, 7377, 7378, 7379, 7380, 7381, 7382, 7383, 7384, 7385, 7386, 7387, 7388, 7389, 7390, 7391, 7392, 7393, 7394, 7395, 7396, 7397, 7398, 7399, 7400, 7401, 7402, 7403, 7404, 7405, 7406, 7407, 7408, 7409, 7410, 7411, 7412, 7413, 7414, 7415, 7416, 7417, 7418, 7419, 7420, 7421, 7422, 7423, 7424, 7425, 7426, 7427, 7428, 7429, 7430, 7431, 7432, 7433, 7434, 7435, 7436, 7437, 7438, 7439, 7440, 7441, 7442, 7443, 7444, 7445, 7446, 7447, 7448, 7449, 7450, 7451, 7452, 7453, 7454, 7455, 7456, 7457, 7458, 7459, 7460, 7461, 7462, 7463, 7464, 7465, 7466, 7467, 7468, 7469, 7470, 7471, 7472, 7473, 7474, 7475, 7476, 7477, 7478, 7479, 7480, 7481, 7482, 7483, 7484, 7485, 7486, 7487, 7488, 7489, 7490, 7491, 7492, 7493, 7494, 7495, 7496, 7497, 7498, 7499, 7500, 7501, 7502, 7503, 7504, 7505, 7506, 7507, 7508, 7509, 7510, 7511, 7512, 7513, 7514, 7515, 7516, 7517, 7518, 7519, 7520, 7521, 7522, 7523, 7524, 7525, 7526, 7527, 7528, 7529, 7530, 7531, 7532, 7533, 7534, 7535, 7536, 7537, 7538, 7539, 7540, 7541, 7542, 7543, 7544, 7545, 7546, 7547, 7548, 7549, 7550, 7551, 7552, 7553, 7554, 7555, 7556, 7557, 7558, 7559, 7560, 7561, 7562, 7563, 7564, 7565, 7566, 7567, 7568, 7569, 7570, 7571, 7572, 7573, 7574, 7575, 7576, 7577, 7578, 7579, 7580, 7581, 7582, 7583, 7584, 7585, 7586, 7587, 7588, 7589, 7590, 7591, 7592, 7593, 7594, 7595, 7596, 7597, 7598, 7599, 7600, 7601, 7602, 7603, 7604, 7605, 7606, 7607, 7608, 7609, 7610, 7611, 7612, 7613, 7614, 7615, 7616, 7617, 7618, 7619, 7620, 7621, 7622, 7623, 7624, 7625, 7626, 7627, 7628, 7629, 7630, 7631, 7632, 7633, 7634, 7635, 7636, 7637, 7638, 7639, 7640, 7641, 7642, 7643, 7644, 7645, 7646, 7647, 7648, 7649, 7650, 7651, 7652, 7653, 7654, 7655, 7656, 7657, 7658, 7659, 7660, 7661, 7662, 7663, 7664, 7665, 7666, 7667, 7668, 7669, 7670, 7671, 7672, 7673, 7674, 7675, 7676, 7677, 7678, 7679, 7680, 7681, 7682, 7683, 7684, 7685, 7686, 7687, 7688, 7689, 7690, 7691, 7692, 7693, 7694, 7695, 7696, 7697, 7698, 7699, 7700, 7701, 7702, 7703, 7704, 7705, 7706, 7707, 7708, 7709, 7710, 7711, 7712, 7713, 7714, 7715, 7716, 7717, 7718, 7719, 7720, 7721, 7722, 7723, 7724, 7725, 7726, 7727, 7728, 7729, 7730, 7731, 7732, 7733, 7734, 7735, 7736, 7737, 7738, 7739, 7740, 7741, 7742, 7743, 7744, 7745, 7746, 7747, 7748, 7749, 7750, 7751, 7752, 7753, 7754, 7755, 7756, 7757, 7758, 7759, 7760, 7761, 7762, 7763, 7764, 7765, 7766, 7767, 7768, 7769, 7770, 7771, 7772, 7773, 7774, 7775, 7776, 7777, 7778, 7779, 7780, 7781, 7782, 7783, 7784, 7785, 7786, 7787, 7788, 7789, 7790, 7791, 7792, 7793, 7794, 7795, 7796, 7797, 7798, 7799, 7800, 7801, 7802, 7803, 7804, 7805, 7806, 7807, 7808, 7809, 7810, 7811, 7812, 7813, 7814, 7815, 7816, 7817, 7818, 7819, 7820, 7821, 7822, 7823, 7824, 7825, 7826, 7827, 7828, 7829, 7830, 7831, 7832, 7833, 7834, 7835, 7836, 7837, 7838, 7839, 7840, 7841, 7842, 7843, 7844, 7845, 7846, 7847, 7848, 7849, 7850, 7851, 7852, 7853, 7854, 7855, 7856, 7857, 7858, 7859, 7860, 7861, 7862, 7863, 7864, 7865, 7866, 7867, 7868, 7869, 7870, 7871, 7872, 7873, 7874, 7875, 7876, 7877, 7878, 7879, 7880, 7881, 7882, 7883, 7884, 7885, 7886, 7887, 7888, 7889, 7890, 7891, 7892, 7893, 7894, 7895, 7896, 7897, 7898, 7899, 7900, 7901, 7902, 7903, 7904, 7905, 7906, 7907, 7908, 7909, 7910, 7911, 7912, 7913, 7914, 7915, 7916, 7917, 7918, 7919, 7920, 7921, 7922, 7923, 7924, 7925, 7926, 7927, 7928, 7929, 7930, 7931, 7932, 7933, 7934, 7935, 7936, 7937, 7938, 7939, 7940, 7941, 7942, 7943, 7944, 7945, 7946, 7947, 7948, 7949, 7950, 7951, 7952, 7953, 7954, 7955, 7956, 7957, 7958, 7959, 7960, 7961, 7962, 7963, 7964, 7965, 7966, 7967, 7968, 7969, 7970, 7971, 7972, 7973, 7974, 7975, 7976, 7977, 7978, 7979, 7980, 7981, 7982, 7983, 7984, 7985, 7986, 7987, 7988, 7989, 7990, 7991, 7992, 7993, 7994, 7995, 7996, 7997, 7998, 7999, 8000, 8001, 8002, 8003, 8004, 8005, 8006, 8007, 8008, 8009, 8010, 8011, 8012, 8013, 8014, 8015, 8016, 8017, 8018, 8019, 8020, 8021, 8022, 8023, 8024, 8025, 8026, 8027, 8028, 8029, 8030, 8031, 8032, 8033, 8034, 8035, 8036, 8037, 8038, 8039, 8040, 8041, 8042, 8043, 8044, 8045, 8046, 8047, 8048, 8049, 8050, 8051, 8052, 8053, 8054, 8055, 8056, 8057, 8058, 8059, 8060, 8061, 8062, 8063, 8064, 8065, 8066, 8067, 8068, 8069, 8070, 8071, 8072, 8073, 8074, 8075, 8076, 8077, 8078, 8079, 8080, 8081, 8082, 8083, 8084, 8085, 8086, 8087, 8088, 8089, 8090, 8091, 8092, 8093, 8094, 8095, 8096, 8097, 8098, 8099, 8100, 8101, 8102, 8103, 8104, 8105, 8106, 8107, 8108, 8109, 8110, 8111, 8112, 8113, 8114, 8115, 8116, 8117, 8118, 8119, 8120, 8121, 8122, 8123, 8124, 8125, 8126, 8127, 8128, 8129, 8130, 8131, 8132, 8133, 8134, 8135, 8136, 8137, 8138, 8139, 8140, 8141, 8142, 8143, 8144, 8145, 8146, 8147, 8148, 8149, 8150, 8151, 8152, 8153, 8154, 8155, 8156, 8157, 8158, 8159, 8160, 8161, 8162, 8163, 8164, 8165, 8166, 8167, 8168, 8169, 8170, 8171, 8172, 8173, 8174, 8175, 8176, 8177, 8178, 8179, 8180, 8181, 8182, 8183, 8184, 8185, 8186, 8187, 8188, 8189, 8190, 8191, 8192, 8193, 8194, 8195, 8196, 8197, 8198, 8199, 8200, 8201, 8202, 8203, 8204, 8205, 8206, 8207, 8208, 8209, 8210, 8211, 8212, 8213, 8214, 8215, 8216, 8217, 8218, 8219, 8220, 8221, 8222, 8223, 8224, 8225, 8226, 8227, 8228, 8229, 8230, 8231, 8232, 8233, 8234, 8235, 8236, 8237, 8238, 8239, 8240, 8241, 8242, 8243, 8244, 8245, 8246, 8247, 8248, 8249, 8250, 8251, 8252, 8253, 8254, 8255, 8256, 8257, 8258, 8259, 8260, 8261, 8262, 8263, 8264, 8265, 8266, 8267, 8268, 8269, 8270, 8271, 8272, 8273, 8274, 8275, 8276, 8277, 8278, 8279, 8280, 8281, 8282, 8283, 8284, 8285, 8286, 8287, 8288, 8289, 8290, 8291, 8292, 8293, 8294, 8295, 8296, 8297, 8298, 8299, 8300, 8301, 8302, 8303, 8304, 8305, 8306, 8307, 8308, 8309, 8310, 8311, 8312, 8313, 8314, 8315, 8316, 8317, 8318, 8319, 8320, 8321, 8322, 8323, 8324, 8325, 8326, 8327, 8328, 8329, 8330, 8331, 8332, 8333, 8334, 8335, 8336, 8337, 8338, 8339, 8340, 8341, 8342, 8343, 8344, 8345, 8346, 8347, 8348, 8349, 8350, 8351, 8352, 8353, 8354, 8355, 8356, 8357, 8358, 8359, 8360, 8361, 8362, 8363, 8364, 8365, 8366, 8367, 8368, 8369, 8370, 8371, 8372, 8373, 8374, 8375, 8376, 8377, 8378, 8379, 8380, 8381, 8382, 8383, 8384, 8385, 8386, 8387, 8388, 8389, 8390, 8391, 8392, 8393, 8394, 8395, 8396, 8397, 8398, 8399, 8400, 8401, 8402, 8403, 8404, 8405, 8406, 8407, 8408, 8409, 8410, 8411, 8412, 8413, 8414, 8415, 8416, 8417, 8418, 8419, 8420, 8421, 8422, 8423, 8424, 8425, 8426, 8427, 8428, 8429, 8430, 8431, 8432, 8433, 8434, 8435, 8436, 8437, 8438, 8439, 8440, 8441, 8442, 8443, 8444, 8445, 8446, 8447, 8448, 8449, 8450, 8451, 8452, 8453, 8454, 8455, 8456, 8457, 8458, 8459, 8460, 8461, 8462, 8463, 8464, 8465, 8466, 8467, 8468, 8469, 8470, 8471, 8472, 8473, 8474, 8475, 8476, 8477, 8478, 8479, 8480, 8481, 8482, 8483, 8484, 8485, 8486, 8487, 8488, 8489, 8490, 8491, 8492, 8493, 8494, 8495, 8496, 8497, 8498, 8499, 8500, 8501, 8502, 8503, 8504, 8505, 8506, 8507, 8508, 8509, 8510, 8511, 8512, 8513, 8514, 8515, 8516, 8517, 8518, 8519, 8520, 8521, 8522, 8523, 8524, 8525, 8526, 8527, 8528, 8529, 8530, 8531, 8532, 8533, 8534, 8535, 8536, 8537, 8538, 8539, 8540, 8541, 8542, 8543, 8544, 8545, 8546, 8547, 8548, 8549, 8550, 8551, 8552, 8553, 8554, 8555, 8556, 8557, 8558, 8559, 8560, 8561, 8562, 8563, 8564, 8565, 8566, 8567, 8568, 8569, 8570, 8571, 8572, 8573, 8574, 8575, 8576, 8577, 8578, 8579, 8580, 8581, 8582, 8583, 8584, 8585, 8586, 8587, 8588, 8589, 8590, 8591, 8592, 8593, 8594, 8595, 8596, 8597, 8598, 8599, 8600, 8601, 8602, 8603, 8604, 8605, 8606, 8607, 8608, 8609, 8610, 8611, 8612, 8613, 8614, 8615, 8616, 8617, 8618, 8619, 8620, 8621, 8622, 8623, 8624, 8625, 8626, 8627, 8628, 8629, 8630, 8631, 8632, 8633, 8634, 8635, 8636, 8637, 8638, 8639, 8640, 8641, 8642, 8643, 8644, 8645, 8646, 8647, 8648, 8649, 8650, 8651, 8652, 8653, 8654, 8655, 8656, 8657, 8658, 8659, 8660, 8661, 8662, 8663, 8664, 8665, 8666, 8667, 8668, 8669, 8670, 8671, 8672, 8673, 8674, 8675, 8676, 8677, 8678, 8679, 8680, 8681, 8682, 8683, 8684, 8685, 8686, 8687, 8688, 8689, 8690, 8691, 8692, 8693, 8694, 8695, 8696, 8697, 8698, 8699, 8700, 8701, 8702, 8703, 8704, 8705, 8706, 8707, 8708, 8709, 8710, 8711, 8712, 8713, 8714, 8715, 8716, 8717, 8718, 8719, 8720, 8721, 8722, 8723, 8724, 8725, 8726, 8727, 8728, 8729, 8730, 8731, 8732, 8733, 8734, 8735, 8736, 8737, 8738, 8739, 8740, 8741, 8742, 8743, 8744, 8745, 8746, 8747, 8748, 8749, 8750, 8751, 8752, 8753, 8754, 8755, 8756, 8757, 8758, 8759, 8760, 8761, 8762, 8763, 8764, 8765, 8766, 8767, 8768, 8769, 8770, 8771, 8772, 8773, 8774, 8775, 8776, 8777, 8778, 8779, 8780, 8781, 8782, 8783, 8784, 8785, 8786, 8787, 8788, 8789, 8790, 8791, 8792, 8793, 8794, 8795, 8796, 8797, 8798, 8799, 8800, 8801, 8802, 8803, 8804, 8805, 8806, 8807, 8808, 8809, 8810, 8811, 8812, 8813, 8814, 8815, 8816, 8817, 8818, 8819, 8820, 8821, 8822, 8823, 8824, 8825, 8826, 8827, 8828, 8829, 8830, 8831, 8832, 8833, 8834, 8835, 8836, 8837, 8838, 8839, 8840, 8841, 8842, 8843, 8844, 8845, 8846, 8847, 8848, 8849, 8850, 8851, 8852, 8853, 8854, 8855, 8856, 8857, 8858, 8859, 8860, 8861, 8862, 8863, 8864, 8865, 8866, 8867, 8868, 8869, 8870, 8871, 8872, 8873, 8874, 8875, 8876, 8877, 8878, 8879, 8880, 8881, 8882, 8883, 8884, 8885, 8886, 8887, 8888, 8889, 8890, 8891, 8892, 8893, 8894, 8895, 8896, 8897, 8898, 8899, 8900, 8901, 8902, 8903, 8904, 8905, 8906, 8907, 8908, 8909, 8910, 8911, 8912, 8913, 8914, 8915, 8916, 8917, 8918, 8919, 8920, 8921, 8922, 8923, 8924, 8925, 8926, 8927, 8928, 8929, 8930, 8931, 8932, 8933, 8934, 8935, 8936, 8937, 8938, 8939, 8940, 8941, 8942, 8943, 8944, 8945, 8946, 8947, 8948, 8949, 8950, 8951, 8952, 8953, 8954, 8955, 8956, 8957, 8958, 8959, 8960, 8961, 8962, 8963, 8964, 8965, 8966, 8967, 8968, 8969, 8970, 8971, 8972, 8973, 8974, 8975, 8976, 8977, 8978, 8979, 8980, 8981, 8982, 8983, 8984, 8985, 8986, 8987, 8988, 8989, 8990, 8991, 8992, 8993, 8994, 8995, 8996, 8997, 8998, 8999, 9000, 9001, 9002, 9003, 9004, 9005, 9006, 9007, 9008, 9009, 9010, 9011, 9012, 9013, 9014, 9015, 9016, 9017, 9018, 9019, 9020, 9021, 9022, 9023, 9024, 9025, 9026, 9027, 9028, 9029, 9030, 9031, 9032, 9033, 9034, 9035, 9036, 9037, 9038, 9039, 9040, 9041, 9042, 9043, 9044, 9045, 9046, 9047, 9048, 9049, 9050, 9051, 9052, 9053, 9054, 9055, 9056, 9057, 9058, 9059, 9060, 9061, 9062, 9063, 9064, 9065, 9066, 9067, 9068, 9069, 9070, 9071, 9072, 9073, 9074, 9075, 9076, 9077, 9078, 9079, 9080, 9081, 9082, 9083, 9084, 9085, 9086, 9087, 9088, 9089, 9090, 9091, 9092, 9093, 9094, 9095, 9096, 9097, 9098, 9099, 9100, 9101, 9102, 9103, 9104, 9105, 9106, 9107, 9108, 9109, 9110, 9111, 9112, 9113, 9114, 9115, 9116, 9117, 9118, 9119, 9120, 9121, 9122, 9123, 9124, 9125, 9126, 9127, 9128, 9129, 9130, 9131, 9132, 9133, 9134, 9135, 9136, 9137, 9138, 9139, 9140, 9141, 9142, 9143, 9144, 9145, 9146, 9147, 9148, 9149, 9150, 9151, 9152, 9153, 9154, 9155, 9156, 9157, 9158, 9159, 9160, 9161, 9162, 9163, 9164, 9165, 9166, 9167, 9168, 9169, 9170, 9171, 9172, 9173, 9174, 9175, 9176, 9177, 9178, 9179, 9180, 9181, 9182, 9183, 9184, 9185, 9186, 9187, 9188, 9189, 9190, 9191, 9192, 9193, 9194, 9195, 9196, 9197, 9198, 9199, 9200, 9201, 9202, 9203, 9204, 9205, 9206, 9207, 9208, 9209, 9210, 9211, 9212, 9213, 9214, 9215, 9216, 9217, 9218, 9219, 9220, 9221, 9222, 9223, 9224, 9225, 9226, 9227, 9228, 9229, 9230, 9231, 9232, 9233, 9234, 9235, 9236, 9237, 9238, 9239, 9240, 9241, 9242, 9243, 9244, 9245, 9246, 9247, 9248, 9249, 9250, 9251, 9252, 9253, 9254, 9255, 9256, 9257, 9258, 9259, 9260, 9261, 9262, 9263, 9264, 9265, 9266, 9267, 9268, 9269, 9270, 9271, 9272, 9273, 9274, 9275, 9276, 9277, 9278, 9279, 9280, 9281, 9282, 9283, 9284, 9285, 9286, 9287, 9288, 9289, 9290, 9291, 9292, 9293, 9294, 9295, 9296, 9297, 9298, 9299, 9300, 9301, 9302, 9303, 9304, 9305, 9306, 9307, 9308, 9309, 9310, 9311, 9312, 9313, 9314, 9315, 9316, 9317, 9318, 9319, 9320, 9321, 9322, 9323, 9324, 9325, 9326, 9327, 9328, 9329, 9330, 9331, 9332, 9333, 9334, 9335, 9336, 9337, 9338, 9339, 9340, 9341, 9342, 9343, 9344, 9345, 9346, 9347, 9348, 9349, 9350, 9351, 9352, 9353, 9354, 9355, 9356, 9357, 9358, 9359, 9360, 9361, 9362, 9363, 9364, 9365, 9366, 9367, 9368, 9369, 9370, 9371, 9372, 9373, 9374, 9375, 9376, 9377, 9378, 9379, 9380, 9381, 9382, 9383, 9384, 9385, 9386, 9387, 9388, 9389, 9390, 9391, 9392, 9393, 9394, 9395, 9396, 9397, 9398, 9399, 9400, 9401, 9402, 9403, 9404, 9405, 9406, 9407, 9408, 9409, 9410, 9411, 9412, 9413, 9414, 9415, 9416, 9417, 9418, 9419, 9420, 9421, 9422, 9423, 9424, 9425, 9426, 9427, 9428, 9429, 9430, 9431, 9432, 9433, 9434, 9435, 9436, 9437, 9438, 9439, 9440, 9441, 9442, 9443, 9444, 9445, 9446, 9447, 9448, 9449, 9450, 9451, 9452, 9453, 9454, 9455, 9456, 9457, 9458, 9459, 9460, 9461, 9462, 9463, 9464, 9465, 9466, 9467, 9468, 9469, 9470, 9471, 9472, 9473, 9474, 9475, 9476, 9477, 9478, 9479, 9480, 9481, 9482, 9483, 9484, 9485, 9486, 9487, 9488, 9489, 9490, 9491, 9492, 9493, 9494, 9495, 9496, 9497, 9498, 9499, 9500, 9501, 9502, 9503, 9504, 9505, 9506, 9507, 9508, 9509, 9510, 9511, 9512, 9513, 9514, 9515, 9516, 9517, 9518, 9519, 9520, 9521, 9522, 9523, 9524, 9525, 9526, 9527, 9528, 9529, 9530, 9531, 9532, 9533, 9534, 9535, 9536, 9537, 9538, 9539, 9540, 9541, 9542, 9543, 9544, 9545, 9546, 9547, 9548, 9549, 9550, 9551, 9552, 9553, 9554, 9555, 9556, 9557, 9558, 9559, 9560, 9561, 9562, 9563, 9564, 9565, 9566, 9567, 9568, 9569, 9570, 9571, 9572, 9573, 9574, 9575, 9576, 9577, 9578, 9579, 9580, 9581, 9582, 9583, 9584, 9585, 9586, 9587, 9588, 9589, 9590, 9591, 9592, 9593, 9594, 9595, 9596, 9597, 9598, 9599, 9600, 9601, 9602, 9603, 9604, 9605, 9606, 9607, 9608, 9609, 9610, 9611, 9612, 9613, 9614, 9615, 9616, 9617, 9618, 9619, 9620, 9621, 9622, 9623, 9624, 9625, 9626, 9627, 9628, 9629, 9630, 9631, 9632, 9633, 9634, 9635, 9636, 9637, 9638, 9639, 9640, 9641, 9642, 9643, 9644, 9645, 9646, 9647, 9648, 9649, 9650, 9651, 9652, 9653, 9654, 9655, 9656, 9657, 9658, 9659, 9660, 9661, 9662, 9663, 9664, 9665, 9666, 9667, 9668, 9669, 9670, 9671, 9672, 9673, 9674, 9675, 9676, 9677, 9678, 9679, 9680, 9681, 9682, 9683, 9684, 9685, 9686, 9687, 9688, 9689, 9690, 9691, 9692, 9693, 9694, 9695, 9696, 9697, 9698, 9699, 9700, 9701, 9702, 9703, 9704, 9705, 9706, 9707, 9708, 9709, 9710, 9711, 9712, 9713, 9714, 9715, 9716, 9717, 9718, 9719, 9720, 9721, 9722, 9723, 9724, 9725, 9726, 9727, 9728, 9729, 9730, 9731, 9732, 9733, 9734, 9735, 9736, 9737, 9738, 9739, 9740, 9741, 9742, 9743, 9744, 9745, 9746, 9747, 9748, 9749, 9750, 9751, 9752, 9753, 9754, 9755, 9756, 9757, 9758, 9759, 9760, 9761, 9762, 9763, 9764, 9765, 9766, 9767, 9768, 9769, 9770, 9771, 9772, 9773, 9774, 9775, 9776, 9777, 9778, 9779, 9780, 9781, 9782, 9783, 9784, 9785, 9786, 9787, 9788, 9789, 9790, 9791, 9792, 9793, 9794, 9795, 9796, 9797, 9798, 9799, 9800, 9801, 9802, 9803, 9804, 9805, 9806, 9807, 9808, 9809, 9810, 9811, 9812, 9813, 9814, 9815, 9816, 9817, 9818, 9819, 9820, 9821, 9822, 9823, 9824, 9825, 9826, 9827, 9828, 9829, 9830, 9831, 9832, 9833, 9834, 9835, 9836, 9837, 9838, 9839, 9840, 9841, 9842, 9843, 9844, 9845, 9846, 9847, 9848, 9849, 9850, 9851, 9852, 9853, 9854, 9855, 9856, 9857, 9858, 9859, 9860, 9861, 9862, 9863, 9864, 9865, 9866, 9867, 9868, 9869, 9870, 9871, 9872, 9873, 9874, 9875, 9876, 9877, 9878, 9879, 9880, 9881, 9882, 9883, 9884, 9885, 9886, 9887, 9888, 9889, 9890, 9891, 9892, 9893, 9894, 9895, 9896, 9897, 9898, 9899, 9900, 9901, 9902, 9903, 9904, 9905, 9906, 9907, 9908, 9909, 9910, 9911, 9912, 9913, 9914, 9915, 9916, 9917, 9918, 9919, 9920, 9921, 9922, 9923, 9924, 9925, 9926, 9927, 9928, 9929, 9930, 9931, 9932, 9933, 9934, 9935, 9936, 9937, 9938, 9939, 9940, 9941, 9942, 9943, 9944, 9945, 9946, 9947, 9948, 9949, 9950, 9951, 9952, 9953, 9954, 9955, 9956, 9957, 9958, 9959, 9960, 9961, 9962, 9963, 9964, 9965, 9966, 9967, 9968, 9969, 9970, 9971, 9972, 9973, 9974, 9975, 9976, 9977, 9978, 9979, 9980, 9981, 9982, 9983, 9984, 9985, 9986, 9987, 9988, 9989, 9990, 9991, 9992, 9993, 9994, 9995, 9996, 9997, 9998, 9999]\n"
          ]
        }
      ]
    },
    {
      "cell_type": "code",
      "metadata": {
        "id": "PDEKohcOFZ32"
      },
      "source": [
        "def squence(N):\n",
        "  for i in range(N):\n",
        "    yield i"
      ],
      "execution_count": null,
      "outputs": []
    },
    {
      "cell_type": "code",
      "metadata": {
        "id": "C1ksG4VfFoi-",
        "colab": {
          "base_uri": "https://localhost:8080/"
        },
        "outputId": "907064bd-123b-42bb-f224-4201be2608c1"
      },
      "source": [
        "blist = squence(100000)\n",
        "print(blist)"
      ],
      "execution_count": null,
      "outputs": [
        {
          "output_type": "stream",
          "name": "stdout",
          "text": [
            "<generator object squence at 0x7f6c33308f50>\n"
          ]
        }
      ]
    },
    {
      "cell_type": "code",
      "metadata": {
        "id": "yplQYlpOF9b4",
        "colab": {
          "base_uri": "https://localhost:8080/"
        },
        "outputId": "3898157e-a4d1-4780-b817-13c31eca039c"
      },
      "source": [
        "print(f'size of variable new_list is',sys.getsizeof(alist),'bytes')\n",
        "print(f'size of variable new_list is',sys.getsizeof(blist),'bytes')"
      ],
      "execution_count": null,
      "outputs": [
        {
          "output_type": "stream",
          "name": "stdout",
          "text": [
            "size of variable new_list is 87632 bytes\n",
            "size of variable new_list is 128 bytes\n"
          ]
        }
      ]
    },
    {
      "cell_type": "code",
      "metadata": {
        "id": "4yokSQj3GEt1",
        "colab": {
          "base_uri": "https://localhost:8080/"
        },
        "outputId": "6f12856d-518c-41de-fbf4-b03f5eade5da"
      },
      "source": [
        "# A simple generator for Fibonacci Numbers\n",
        "def fib(limit):\n",
        "\n",
        "    # Initialize first two Fibonacci Numbers\n",
        "    a, b = 0, 1\n",
        "\n",
        "    # One by one yield next Fibonacci Number\n",
        "    while a < limit:\n",
        "        yield a\n",
        "        a, b = b, a + b\n",
        "\n",
        "# Create a generator object\n",
        "x = fib(5)\n",
        "\n",
        "# Iterating over the generator object using next\n",
        "while True:\n",
        "   try:\n",
        "      print (next(x), end=\"\\n\")\n",
        "   except StopIteration:\n",
        "      break\n"
      ],
      "execution_count": null,
      "outputs": [
        {
          "output_type": "stream",
          "name": "stdout",
          "text": [
            "0\n",
            "1\n",
            "1\n",
            "2\n",
            "3\n"
          ]
        }
      ]
    },
    {
      "cell_type": "markdown",
      "metadata": {
        "id": "gwhPYdpVGEuR"
      },
      "source": [
        "# File Handling"
      ]
    },
    {
      "cell_type": "code",
      "metadata": {
        "id": "xG1PD8j0GEuS",
        "colab": {
          "base_uri": "https://localhost:8080/",
          "height": 231
        },
        "outputId": "a0080b5e-957f-45e0-a141-fce3b9d41412"
      },
      "source": [
        "# file handling #\n",
        "# the open function takes two parameters filename and model #\n",
        "\n",
        "# there are 4 different methods for opening a file #\n",
        "# \"r\" - reads a default value\n",
        "# \"a\" - opens the file for append  and creates a file if it doesnot exist\n",
        "#\"w\"-write- opens a file for writing\n",
        "#\"x\"- creates a file\n",
        "\n",
        "# syntax #\n",
        "# to open a file or read a file\n",
        "\n",
        "f = open(\"/content/demo.txt\")\n",
        "f"
      ],
      "execution_count": null,
      "outputs": [
        {
          "output_type": "error",
          "ename": "FileNotFoundError",
          "evalue": "ignored",
          "traceback": [
            "\u001b[0;31m---------------------------------------------------------------------------\u001b[0m",
            "\u001b[0;31mFileNotFoundError\u001b[0m                         Traceback (most recent call last)",
            "\u001b[0;32m<ipython-input-1-aa52f83205e6>\u001b[0m in \u001b[0;36m<cell line: 13>\u001b[0;34m()\u001b[0m\n\u001b[1;32m     11\u001b[0m \u001b[0;31m# to open a file or read a file\u001b[0m\u001b[0;34m\u001b[0m\u001b[0;34m\u001b[0m\u001b[0m\n\u001b[1;32m     12\u001b[0m \u001b[0;34m\u001b[0m\u001b[0m\n\u001b[0;32m---> 13\u001b[0;31m \u001b[0mf\u001b[0m \u001b[0;34m=\u001b[0m \u001b[0mopen\u001b[0m\u001b[0;34m(\u001b[0m\u001b[0;34m\"/content/demo.txt\"\u001b[0m\u001b[0;34m)\u001b[0m\u001b[0;34m\u001b[0m\u001b[0;34m\u001b[0m\u001b[0m\n\u001b[0m\u001b[1;32m     14\u001b[0m \u001b[0mf\u001b[0m\u001b[0;34m\u001b[0m\u001b[0;34m\u001b[0m\u001b[0m\n",
            "\u001b[0;31mFileNotFoundError\u001b[0m: [Errno 2] No such file or directory: '/content/demo.txt'"
          ]
        }
      ]
    },
    {
      "cell_type": "code",
      "metadata": {
        "id": "4HUyismWSv6B"
      },
      "source": [
        "# another way to open file\n",
        "with open(\"/content/demo1.txt\") as file:\n",
        "  xy  = file.read()"
      ],
      "execution_count": null,
      "outputs": []
    },
    {
      "cell_type": "code",
      "metadata": {
        "id": "2ZXZ6QJ5g3Z_"
      },
      "source": [
        "xy"
      ],
      "execution_count": null,
      "outputs": []
    },
    {
      "cell_type": "code",
      "metadata": {
        "id": "saLeaVGcTRdk"
      },
      "source": [
        "f = open(\"/content/demo1.txt\")\n",
        "f.readline()   # one line at a time  --> fist line"
      ],
      "execution_count": null,
      "outputs": []
    },
    {
      "cell_type": "code",
      "metadata": {
        "id": "cwidzcIuTY2y"
      },
      "source": [
        "print(f.readline())    # --> second line\n",
        "print(f.readline())   # --> third line\n",
        "print(f.readline())   # --> forth line"
      ],
      "execution_count": null,
      "outputs": []
    },
    {
      "cell_type": "code",
      "metadata": {
        "id": "u3d-QE78UmYf"
      },
      "source": [
        "f = open(\"/content/demo1.txt\", mode = 'r')\n",
        "f.readlines()  # each line separated with comma (type list) and all the lines at once\n",
        "f.close()"
      ],
      "execution_count": null,
      "outputs": []
    },
    {
      "cell_type": "code",
      "metadata": {
        "id": "nsTxOWFaGEuU"
      },
      "source": [
        "# open files from different location #\n",
        "f = open(\"/content/demo1.txt\", \"r\")    # read\n",
        "print(f.read()) # reads content in the file"
      ],
      "execution_count": null,
      "outputs": []
    },
    {
      "cell_type": "code",
      "metadata": {
        "id": "TqNtx43qGEuV"
      },
      "source": [
        "f = open(\"/content/demo1.txt\")\n",
        "f.read(5) #reads first 5 characters"
      ],
      "execution_count": null,
      "outputs": []
    },
    {
      "cell_type": "code",
      "metadata": {
        "id": "_e8pRliHGEuW"
      },
      "source": [
        "# write to an existing file #\n",
        "f = open(\"/content/demo1.txt\", \"a\")   # create or append\n",
        "f.write(\"Now the file has more content!\")\n",
        "f.close()\n",
        "\n",
        "f = open(\"/content/demo1.txt\", \"r\")\n",
        "f.read() #observe one extra line is added"
      ],
      "execution_count": null,
      "outputs": []
    },
    {
      "cell_type": "code",
      "metadata": {
        "id": "0fVP-WbwGEuW"
      },
      "source": [
        "# creating a new file #\n",
        "f = open(\"/content/myfile1.txt\", \"x\")   # create\n",
        "f.write(' New file')\n",
        "f.close()\n"
      ],
      "execution_count": null,
      "outputs": []
    },
    {
      "cell_type": "code",
      "metadata": {
        "id": "OqrjIQW5iG0x"
      },
      "source": [
        "f=open('/content/myfile1.txt','r')\n",
        "print(f.read())\n",
        "\n",
        "f.close()"
      ],
      "execution_count": null,
      "outputs": []
    },
    {
      "cell_type": "code",
      "metadata": {
        "id": "ngCT4lxiGEuX"
      },
      "source": [
        "#Delete a File\n",
        "#To delete a file, you must import the OS module, and run its os.remove() function:\n",
        "import os\n",
        "os.remove(\"/content/myfile1.txt\")"
      ],
      "execution_count": null,
      "outputs": []
    },
    {
      "cell_type": "code",
      "metadata": {
        "id": "pwNwhHZ_jzXn"
      },
      "source": [
        "f=open('/content/sample_data/mnist_test.csv','r')\n",
        "print(f.read())\n",
        "\n",
        "f.close()"
      ],
      "execution_count": null,
      "outputs": []
    },
    {
      "cell_type": "markdown",
      "metadata": {
        "id": "QcLK-gPzGEuX"
      },
      "source": [
        "# Exception Handling"
      ]
    },
    {
      "cell_type": "code",
      "metadata": {
        "id": "CVp5ifRRGEuX",
        "colab": {
          "base_uri": "https://localhost:8080/"
        },
        "outputId": "1a2f0760-4d7f-4de1-ed20-70d9b00683a6"
      },
      "source": [
        "# try: and except: are key words for exceptional handling, try: provide the code ; except: except the error with a proper statement\n",
        "\n",
        "#Ex - 1:\n",
        "try:\n",
        "    x = eval(input(\"enter the 1st value = \"))\n",
        "    y = eval(input(\"enter the 2nd value = \"))\n",
        "    results = x+y\n",
        "    print(results)\n",
        "except:\n",
        "    print(\"please enter a valid number\")\n"
      ],
      "execution_count": null,
      "outputs": [
        {
          "output_type": "stream",
          "name": "stdout",
          "text": [
            "enter the 1st value = a\n",
            "please enter a valid number\n"
          ]
        }
      ]
    },
    {
      "cell_type": "code",
      "metadata": {
        "colab": {
          "base_uri": "https://localhost:8080/",
          "height": 220
        },
        "id": "Z9-jQErNluWr",
        "outputId": "38a6137e-ccfd-4870-e035-a0efd8579a38"
      },
      "source": [
        "x = eval(input(\"enter the 1st value = \"))"
      ],
      "execution_count": null,
      "outputs": [
        {
          "name": "stdout",
          "output_type": "stream",
          "text": [
            "enter the 1st value = a\n"
          ]
        },
        {
          "output_type": "error",
          "ename": "NameError",
          "evalue": "ignored",
          "traceback": [
            "\u001b[0;31m---------------------------------------------------------------------------\u001b[0m",
            "\u001b[0;31mNameError\u001b[0m                                 Traceback (most recent call last)",
            "\u001b[0;32m<ipython-input-27-030194d4f25f>\u001b[0m in \u001b[0;36m<module>\u001b[0;34m()\u001b[0m\n\u001b[0;32m----> 1\u001b[0;31m \u001b[0mx\u001b[0m \u001b[0;34m=\u001b[0m \u001b[0meval\u001b[0m\u001b[0;34m(\u001b[0m\u001b[0minput\u001b[0m\u001b[0;34m(\u001b[0m\u001b[0;34m\"enter the 1st value = \"\u001b[0m\u001b[0;34m)\u001b[0m\u001b[0;34m)\u001b[0m\u001b[0;34m\u001b[0m\u001b[0;34m\u001b[0m\u001b[0m\n\u001b[0m",
            "\u001b[0;32m<string>\u001b[0m in \u001b[0;36m<module>\u001b[0;34m()\u001b[0m\n",
            "\u001b[0;31mNameError\u001b[0m: name 'a' is not defined"
          ]
        }
      ]
    },
    {
      "cell_type": "code",
      "metadata": {
        "id": "xiSFiY0pGEuY",
        "colab": {
          "base_uri": "https://localhost:8080/"
        },
        "outputId": "0292b8d6-1b0a-42ef-8216-7a17f2cc301f"
      },
      "source": [
        "#Ex - 2:\n",
        "try:\n",
        "    x = eval(input(\"enter the 1st value = \"))\n",
        "    y = eval(input(\"enter the 2nd value = \"))\n",
        "    results = x/y\n",
        "    print(\"final results = \", results)\n",
        "except(ZeroDivisionError):\n",
        "    print(\"please enter a non-zero value for the divisor\")\n",
        "except(NameError):\n",
        "    print(\"Please enter valid number\")\n",
        "except(TypeError):\n",
        "    print(\"Please enter both same type\")\n"
      ],
      "execution_count": null,
      "outputs": [
        {
          "output_type": "stream",
          "name": "stdout",
          "text": [
            "enter the 1st value = 6\n",
            "enter the 2nd value = 0\n",
            "please enter a non-zero value for the divisor\n"
          ]
        }
      ]
    },
    {
      "cell_type": "code",
      "metadata": {
        "colab": {
          "base_uri": "https://localhost:8080/",
          "height": 167
        },
        "id": "B_9mpbkfmntr",
        "outputId": "d7c5e82a-d9a1-4a8b-c0c9-84811501cebd"
      },
      "source": [
        "6/0"
      ],
      "execution_count": null,
      "outputs": [
        {
          "output_type": "error",
          "ename": "ZeroDivisionError",
          "evalue": "ignored",
          "traceback": [
            "\u001b[0;31m---------------------------------------------------------------------------\u001b[0m",
            "\u001b[0;31mZeroDivisionError\u001b[0m                         Traceback (most recent call last)",
            "\u001b[0;32m<ipython-input-34-700aace389cf>\u001b[0m in \u001b[0;36m<module>\u001b[0;34m()\u001b[0m\n\u001b[0;32m----> 1\u001b[0;31m \u001b[0;36m6\u001b[0m\u001b[0;34m/\u001b[0m\u001b[0;36m0\u001b[0m\u001b[0;34m\u001b[0m\u001b[0;34m\u001b[0m\u001b[0m\n\u001b[0m",
            "\u001b[0;31mZeroDivisionError\u001b[0m: division by zero"
          ]
        }
      ]
    },
    {
      "cell_type": "code",
      "metadata": {
        "id": "EoPaSmqJGEuZ",
        "colab": {
          "base_uri": "https://localhost:8080/"
        },
        "outputId": "9fc999ae-54ce-479f-801b-793e8d5c3d39"
      },
      "source": [
        "##In Python, keywords else and finally can also be used along with the try and except clauses. While the except block is executed\n",
        "##if the exception occurs inside the try block, the else block gets processed if the try block is found to be exception free.\n",
        "try:\n",
        "    print(\"try block\")\n",
        "    x=int(input('Enter a number: '))\n",
        "    y=int(input('Enter another number: '))\n",
        "    z=x/y\n",
        "except ZeroDivisionError:\n",
        "    print(\"except ZeroDivisionError block\")\n",
        "    print(\"Division by 0 not accepted\")\n",
        "else:\n",
        "    print(\"else block\")\n",
        "    print(\"Division = \", z)\n",
        "finally:\n",
        "    print(\"finally block\")\n",
        "    x=0\n",
        "    y=0\n",
        "print (\"Out of try, except, else and finally blocks.\" )"
      ],
      "execution_count": null,
      "outputs": [
        {
          "output_type": "stream",
          "name": "stdout",
          "text": [
            "try block\n",
            "Enter a number: 5\n",
            "Enter another number: 10\n",
            "else block\n",
            "Division =  0.5\n",
            "finally block\n",
            "Out of try, except, else and finally blocks.\n"
          ]
        }
      ]
    },
    {
      "cell_type": "markdown",
      "metadata": {
        "id": "7ekf0BYrGEua"
      },
      "source": [
        "### Built-in Exceptions"
      ]
    },
    {
      "cell_type": "code",
      "metadata": {
        "id": "0I4y4O9IGEua",
        "colab": {
          "base_uri": "https://localhost:8080/"
        },
        "outputId": "74a21541-aa22-441a-d7cd-0b3f34e75666"
      },
      "source": [
        "## There are plenty of built-in exceptions in Python that are raised when corresponding errors occur.\n",
        "## We can view all the built-in exceptions using the built-in local() function as follows:\n",
        "print(dir(locals()['__builtins__']))"
      ],
      "execution_count": null,
      "outputs": [
        {
          "output_type": "stream",
          "name": "stdout",
          "text": [
            "['ArithmeticError', 'AssertionError', 'AttributeError', 'BaseException', 'BlockingIOError', 'BrokenPipeError', 'BufferError', 'BytesWarning', 'ChildProcessError', 'ConnectionAbortedError', 'ConnectionError', 'ConnectionRefusedError', 'ConnectionResetError', 'DeprecationWarning', 'EOFError', 'Ellipsis', 'EnvironmentError', 'Exception', 'False', 'FileExistsError', 'FileNotFoundError', 'FloatingPointError', 'FutureWarning', 'GeneratorExit', 'IOError', 'ImportError', 'ImportWarning', 'IndentationError', 'IndexError', 'InterruptedError', 'IsADirectoryError', 'KeyError', 'KeyboardInterrupt', 'LookupError', 'MemoryError', 'ModuleNotFoundError', 'NameError', 'None', 'NotADirectoryError', 'NotImplemented', 'NotImplementedError', 'OSError', 'OverflowError', 'PendingDeprecationWarning', 'PermissionError', 'ProcessLookupError', 'RecursionError', 'ReferenceError', 'ResourceWarning', 'RuntimeError', 'RuntimeWarning', 'StopAsyncIteration', 'StopIteration', 'SyntaxError', 'SyntaxWarning', 'SystemError', 'SystemExit', 'TabError', 'TimeoutError', 'True', 'TypeError', 'UnboundLocalError', 'UnicodeDecodeError', 'UnicodeEncodeError', 'UnicodeError', 'UnicodeTranslateError', 'UnicodeWarning', 'UserWarning', 'ValueError', 'Warning', 'ZeroDivisionError', '__IPYTHON__', '__build_class__', '__debug__', '__doc__', '__import__', '__loader__', '__name__', '__package__', '__spec__', 'abs', 'all', 'any', 'ascii', 'bin', 'bool', 'breakpoint', 'bytearray', 'bytes', 'callable', 'chr', 'classmethod', 'compile', 'complex', 'copyright', 'credits', 'delattr', 'dict', 'dir', 'display', 'divmod', 'dreload', 'enumerate', 'eval', 'exec', 'execfile', 'filter', 'float', 'format', 'frozenset', 'get_ipython', 'getattr', 'globals', 'hasattr', 'hash', 'help', 'hex', 'id', 'input', 'int', 'isinstance', 'issubclass', 'iter', 'len', 'license', 'list', 'locals', 'map', 'max', 'memoryview', 'min', 'next', 'object', 'oct', 'open', 'ord', 'pow', 'print', 'property', 'range', 'repr', 'reversed', 'round', 'runfile', 'set', 'setattr', 'slice', 'sorted', 'staticmethod', 'str', 'sum', 'super', 'tuple', 'type', 'vars', 'zip']\n"
          ]
        }
      ]
    },
    {
      "cell_type": "markdown",
      "metadata": {
        "id": "gDFT0GE-GEub"
      },
      "source": [
        "### User defined Exceptions"
      ]
    },
    {
      "cell_type": "code",
      "metadata": {
        "id": "VhAICzd6GEuc",
        "colab": {
          "base_uri": "https://localhost:8080/",
          "height": 255
        },
        "outputId": "91a9dc48-8314-459d-cfee-760ec07636ac"
      },
      "source": [
        "# User defined Exceptions\n",
        "x = int(input('Enter the number: '))\n",
        "if x < 18:\n",
        "  raise Exception(\"Sorry, You are not eligible for voting, register once you become 18 years old\")\n",
        "else:\n",
        "    print('you entered: ',x)"
      ],
      "execution_count": null,
      "outputs": [
        {
          "name": "stdout",
          "output_type": "stream",
          "text": [
            "Enter the number: 17\n"
          ]
        },
        {
          "output_type": "error",
          "ename": "Exception",
          "evalue": "ignored",
          "traceback": [
            "\u001b[0;31m---------------------------------------------------------------------------\u001b[0m",
            "\u001b[0;31mException\u001b[0m                                 Traceback (most recent call last)",
            "\u001b[0;32m<ipython-input-40-4ad17aacdb39>\u001b[0m in \u001b[0;36m<module>\u001b[0;34m()\u001b[0m\n\u001b[1;32m      2\u001b[0m \u001b[0mx\u001b[0m\u001b[0;34m=\u001b[0m\u001b[0mint\u001b[0m\u001b[0;34m(\u001b[0m\u001b[0minput\u001b[0m\u001b[0;34m(\u001b[0m\u001b[0;34m'Enter the number: '\u001b[0m\u001b[0;34m)\u001b[0m\u001b[0;34m)\u001b[0m\u001b[0;34m\u001b[0m\u001b[0;34m\u001b[0m\u001b[0m\n\u001b[1;32m      3\u001b[0m \u001b[0;32mif\u001b[0m \u001b[0mx\u001b[0m \u001b[0;34m<\u001b[0m \u001b[0;36m18\u001b[0m\u001b[0;34m:\u001b[0m\u001b[0;34m\u001b[0m\u001b[0;34m\u001b[0m\u001b[0m\n\u001b[0;32m----> 4\u001b[0;31m   \u001b[0;32mraise\u001b[0m \u001b[0mException\u001b[0m\u001b[0;34m(\u001b[0m\u001b[0;34m\"Sorry, You are not eligible for voting, register once you become to 18 years old\"\u001b[0m\u001b[0;34m)\u001b[0m\u001b[0;34m\u001b[0m\u001b[0;34m\u001b[0m\u001b[0m\n\u001b[0m\u001b[1;32m      5\u001b[0m \u001b[0;32melse\u001b[0m\u001b[0;34m:\u001b[0m\u001b[0;34m\u001b[0m\u001b[0;34m\u001b[0m\u001b[0m\n\u001b[1;32m      6\u001b[0m     \u001b[0mprint\u001b[0m\u001b[0;34m(\u001b[0m\u001b[0;34m'you entered: '\u001b[0m\u001b[0;34m,\u001b[0m\u001b[0mx\u001b[0m\u001b[0;34m)\u001b[0m\u001b[0;34m\u001b[0m\u001b[0;34m\u001b[0m\u001b[0m\n",
            "\u001b[0;31mException\u001b[0m: Sorry, You are not eligible for voting, register once you become to 18 years old"
          ]
        }
      ]
    },
    {
      "cell_type": "markdown",
      "metadata": {
        "id": "MWejNxkzGEun"
      },
      "source": [
        "# Classes and Objects\n"
      ]
    },
    {
      "cell_type": "code",
      "metadata": {
        "id": "nuaF-Rl7GEun"
      },
      "source": [
        "# Object\n",
        "\n",
        "x = 10 # x is an object and store the value of 10"
      ],
      "execution_count": null,
      "outputs": []
    },
    {
      "cell_type": "code",
      "metadata": {
        "id": "KW9t1IyeGEuo"
      },
      "source": [
        "# Class\n",
        "# bike is a class and will have multiple objects in a class, as example followes\n",
        "\n",
        "class bike:\n",
        "\n",
        "    def __init__(self, MPG, Speed, length, b):\n",
        "        self.MPG = MPG\n",
        "        self.Speed = Speed\n",
        "        self.length = length\n",
        "        self.b = b\n",
        "\n",
        "    def get_MPG(self):\n",
        "        print(self.MPG)\n",
        "\n",
        "    def area(self):\n",
        "        return self.length*self.b\n",
        "\n",
        "    def config(self):\n",
        "        print(\"1000cc, abs\")\n",
        "\n",
        "    def speed(self):\n",
        "        print(\"Top Speed is 250KMPS\")"
      ],
      "execution_count": null,
      "outputs": []
    },
    {
      "cell_type": "code",
      "metadata": {
        "id": "xe1QpOjBGEuo",
        "colab": {
          "base_uri": "https://localhost:8080/"
        },
        "outputId": "2c7539d7-4de7-4203-df23-0eb13e32a9b6"
      },
      "source": [
        "comp1 = bike(55, 200, 1, 0.5)  # once we create class we have to save in a constructor so, comp1 is a constructor\n",
        "\n",
        "# using below functions we can call different objects from a class\n",
        "comp1.config()"
      ],
      "execution_count": null,
      "outputs": [
        {
          "output_type": "stream",
          "name": "stdout",
          "text": [
            "1000cc, abs\n"
          ]
        }
      ]
    },
    {
      "cell_type": "code",
      "metadata": {
        "id": "nkoIy9nWGEup",
        "colab": {
          "base_uri": "https://localhost:8080/"
        },
        "outputId": "de5f7534-661b-4783-a1a5-5e5cc87d0b3c"
      },
      "source": [
        "comp1.get_MPG()\n"
      ],
      "execution_count": null,
      "outputs": [
        {
          "output_type": "stream",
          "name": "stdout",
          "text": [
            "55\n"
          ]
        }
      ]
    },
    {
      "cell_type": "markdown",
      "metadata": {
        "id": "p7TF8C26GEuq"
      },
      "source": [
        "# Inheritance"
      ]
    },
    {
      "cell_type": "code",
      "metadata": {
        "id": "G7qredSvGEuq"
      },
      "source": [
        "# What is Inheritance?\n",
        "# Inheritance is a powerful feature in object oriented programming.\n",
        "# Single level, Multi-level, Multiple Inheritance\n"
      ],
      "execution_count": null,
      "outputs": []
    },
    {
      "cell_type": "code",
      "metadata": {
        "id": "AsTw-IVkGEuq",
        "colab": {
          "base_uri": "https://localhost:8080/"
        },
        "outputId": "2ce890f8-cd3c-43a9-9a25-3fde3bc3783c"
      },
      "source": [
        "# Ex: Normal class definition\n",
        "class A:\n",
        "    def product1(self):\n",
        "        print(\"print product name1: \")\n",
        "\n",
        "    def product2(self):\n",
        "        print(\"print product name2: \")\n",
        "\n",
        "\n",
        "name_a = A()\n",
        "\n",
        "print(id(name_a))\n",
        "name_a.product1()"
      ],
      "execution_count": null,
      "outputs": [
        {
          "output_type": "stream",
          "name": "stdout",
          "text": [
            "140063470014928\n",
            "print product name1: \n"
          ]
        }
      ]
    },
    {
      "cell_type": "code",
      "metadata": {
        "id": "IOXetbQxGEur",
        "colab": {
          "base_uri": "https://localhost:8080/"
        },
        "outputId": "19a6b4c4-7bd4-4677-f225-f4d0a21b4530"
      },
      "source": [
        "# Inheritance.. A is super class and B is sub class\n",
        "\n",
        "class B(A):\n",
        "    def product3(self):\n",
        "        print(\"print product name3: \")\n",
        "    def product4(self):\n",
        "        print(\"print product name4: \")\n",
        "\n",
        "name_b = B()\n",
        "print(id(name_b))\n",
        "\n",
        "name_b.product3() # function in the sub class"
      ],
      "execution_count": null,
      "outputs": [
        {
          "output_type": "stream",
          "name": "stdout",
          "text": [
            "140063470016400\n",
            "print product name3: \n"
          ]
        }
      ]
    },
    {
      "cell_type": "code",
      "metadata": {
        "id": "Z_ayVd1zGEus",
        "colab": {
          "base_uri": "https://localhost:8080/"
        },
        "outputId": "65e369c7-b0a8-4a79-d9a6-03b331b23cca"
      },
      "source": [
        "name_b.product1() # function in the super class accessed with the sub class object"
      ],
      "execution_count": null,
      "outputs": [
        {
          "output_type": "stream",
          "name": "stdout",
          "text": [
            "print product name1: \n"
          ]
        }
      ]
    },
    {
      "cell_type": "code",
      "metadata": {
        "id": "P-zwlQrHGEu6"
      },
      "source": [
        "class C():\n",
        "    def product5(self):\n",
        "        print(\"print product name5: \")\n",
        "    def product6(self):\n",
        "        print(\"print product name6: \")\n",
        "\n",
        "name_c = C()"
      ],
      "execution_count": null,
      "outputs": []
    },
    {
      "cell_type": "code",
      "metadata": {
        "id": "OVUFhbK3GEu7"
      },
      "source": [
        "# Multiple Inheritance\n",
        "class D(A,C):\n",
        "    def product7(self):\n",
        "        print(\"Print product name7: \")\n",
        "    def product8(self):\n",
        "        print(\"Print Product name8: \")\n",
        "\n",
        "name_d = D()\n"
      ],
      "execution_count": null,
      "outputs": []
    },
    {
      "cell_type": "code",
      "metadata": {
        "id": "X8behDrVGEu8",
        "colab": {
          "base_uri": "https://localhost:8080/"
        },
        "outputId": "b3b01a3c-0b42-41d1-d4ab-1b4ff1ed4463"
      },
      "source": [
        "name_d.product1() # super class function accessed by sub class"
      ],
      "execution_count": null,
      "outputs": [
        {
          "output_type": "stream",
          "name": "stdout",
          "text": [
            "print product name1: \n"
          ]
        }
      ]
    },
    {
      "cell_type": "markdown",
      "metadata": {
        "id": "ffEoR2saGEu9"
      },
      "source": [
        "# Polymorphism"
      ]
    },
    {
      "cell_type": "code",
      "metadata": {
        "id": "UQaKR1xcGEu9"
      },
      "source": [
        "# What is Polymorphism\n",
        "# Polymorphism means that different types respond to the same function. Polymorphism is very useful as it makes\n",
        "# programming more intuitive and therefore easier.\n",
        "\n"
      ],
      "execution_count": null,
      "outputs": []
    },
    {
      "cell_type": "code",
      "metadata": {
        "id": "HSK55_hvGEu9"
      },
      "source": [
        "class Bird:\n",
        "    def intro(self):\n",
        "        print(\"There are many types of birds.\")\n",
        "\n",
        "    def flight(self):\n",
        "        print(\"Most of the birds can fly but some cannot.\")\n"
      ],
      "execution_count": null,
      "outputs": []
    },
    {
      "cell_type": "code",
      "metadata": {
        "id": "RUvinAiGGEu-"
      },
      "source": [
        "class sparrow(Bird):\n",
        "    def flight(self):\n",
        "        print(\"Sparrows can fly.\")\n",
        "\n",
        "class ostrich(Bird):\n",
        "    def flight(self):\n",
        "        print(\"Ostriches cannot fly.\")\n",
        "\n",
        "# different classses implimenting same method"
      ],
      "execution_count": null,
      "outputs": []
    },
    {
      "cell_type": "code",
      "metadata": {
        "id": "USFHJDllGEu-"
      },
      "source": [
        "# Creating instances of respective classes\n",
        "obj_bird = Bird()\n",
        "obj_spr = sparrow()\n",
        "obj_ost = ostrich()\n"
      ],
      "execution_count": null,
      "outputs": []
    },
    {
      "cell_type": "code",
      "metadata": {
        "id": "Ii0Yf8zjGEu_",
        "colab": {
          "base_uri": "https://localhost:8080/"
        },
        "outputId": "799085f5-be2c-4985-d8d0-23d7282f7423"
      },
      "source": [
        "obj_bird.flight() #"
      ],
      "execution_count": null,
      "outputs": [
        {
          "output_type": "stream",
          "name": "stdout",
          "text": [
            "Most of the birds can fly but some cannot.\n"
          ]
        }
      ]
    },
    {
      "cell_type": "code",
      "metadata": {
        "id": "oocAXgFmGEu_",
        "colab": {
          "base_uri": "https://localhost:8080/"
        },
        "outputId": "77e9162c-10fd-40fc-c114-9ea17e62afac"
      },
      "source": [
        "obj_spr.flight()"
      ],
      "execution_count": null,
      "outputs": [
        {
          "output_type": "stream",
          "name": "stdout",
          "text": [
            "Sparrows can fly.\n"
          ]
        }
      ]
    },
    {
      "cell_type": "code",
      "metadata": {
        "id": "Des21i5tGEvA",
        "colab": {
          "base_uri": "https://localhost:8080/"
        },
        "outputId": "6855014d-d509-4952-d216-30aa4769bfee"
      },
      "source": [
        "obj_ost.flight()"
      ],
      "execution_count": null,
      "outputs": [
        {
          "output_type": "stream",
          "name": "stdout",
          "text": [
            "Ostriches cannot fly.\n"
          ]
        }
      ]
    },
    {
      "cell_type": "markdown",
      "metadata": {
        "id": "i2jkOHRlGEvB"
      },
      "source": [
        "# Multi Threding\n"
      ]
    },
    {
      "cell_type": "code",
      "metadata": {
        "id": "XVkv4ogfGEvB"
      },
      "source": [
        "# Multi Threding\n",
        "#----multithreading using sum of square---#\n",
        "import time\n",
        "\n",
        "def calc_square(numbers):\n",
        "    print(\"calculate square numbers\")\n",
        "    for n in numbers:\n",
        "        time.sleep(0.3)\n",
        "        print('square:', n*n)\n",
        "\n",
        "def calc_cube(numbers):\n",
        "    print(\"calculate cube of numbers\")\n",
        "    for n in numbers:\n",
        "        time.sleep(0.1)\n",
        "        print('cube:', n*n*n)\n"
      ],
      "execution_count": null,
      "outputs": []
    },
    {
      "cell_type": "code",
      "metadata": {
        "id": "QFBwvl4TGEvC",
        "colab": {
          "base_uri": "https://localhost:8080/"
        },
        "outputId": "88bd34f1-f2ee-4f72-b0bf-28c547d10295"
      },
      "source": [
        "arr = [2,5,7,9]\n",
        "\n",
        "t = time.time()\n",
        "print(t)\n",
        "\n",
        "calc_square(arr)\n"
      ],
      "execution_count": null,
      "outputs": [
        {
          "output_type": "stream",
          "name": "stdout",
          "text": [
            "1636631136.1417296\n",
            "calculate square numbers\n",
            "square: 4\n",
            "square: 25\n",
            "square: 49\n",
            "square: 81\n"
          ]
        }
      ]
    },
    {
      "cell_type": "code",
      "metadata": {
        "id": "7sXjmLOgGEvD",
        "colab": {
          "base_uri": "https://localhost:8080/"
        },
        "outputId": "9bd69ca8-5f6d-47c5-f4b4-b5354288c430"
      },
      "source": [
        "calc_cube(arr)\n"
      ],
      "execution_count": null,
      "outputs": [
        {
          "output_type": "stream",
          "name": "stdout",
          "text": [
            "calculate cube of numbers\n",
            "cube: 8\n",
            "cube: 125\n",
            "cube: 343\n",
            "cube: 729\n"
          ]
        }
      ]
    },
    {
      "cell_type": "code",
      "metadata": {
        "id": "4eWm8e3uGEvE",
        "colab": {
          "base_uri": "https://localhost:8080/"
        },
        "outputId": "62af1ee6-69d9-4818-ad75-b17cdbcd2ac7"
      },
      "source": [
        "print(\"done in: \", time.time() - t)\n",
        "print(\"completed my way to work!\")\n"
      ],
      "execution_count": null,
      "outputs": [
        {
          "output_type": "stream",
          "name": "stdout",
          "text": [
            "done in:  8.800708055496216\n",
            "completed my way to work!\n"
          ]
        }
      ]
    },
    {
      "cell_type": "code",
      "metadata": {
        "id": "TSdaxBOfGEvF"
      },
      "source": [
        "import threading\n",
        "\n",
        "t1 = threading.Thread(target=calc_square, args=(arr,))\n",
        "t2 = threading.Thread(target=calc_cube, args=(arr,))\n"
      ],
      "execution_count": null,
      "outputs": []
    },
    {
      "cell_type": "code",
      "metadata": {
        "id": "CNVV09mpGEvF",
        "colab": {
          "base_uri": "https://localhost:8080/"
        },
        "outputId": "2f4e697b-d5a7-4184-f4e2-0ae753e6b794"
      },
      "source": [
        "t = time.time()\n",
        "\n",
        "t1.start()\n",
        "t2.start()\n",
        "\n",
        "t1.join()\n",
        "t2.join()\n",
        "\n",
        "print(\"done in: \", time.time()-t)\n",
        "print(\"completed my way to work!\")\n"
      ],
      "execution_count": null,
      "outputs": [
        {
          "output_type": "stream",
          "name": "stdout",
          "text": [
            "calculate square numbers\n",
            "calculate cube of numbers\n",
            "cube: 8\n",
            "cube: 125\n",
            "square: 4\n",
            "cube: 343\n",
            "cube: 729\n",
            "square: 25\n",
            "square: 49\n",
            "square: 81\n",
            "done in:  1.2082874774932861\n",
            "completed my way to work!\n"
          ]
        }
      ]
    },
    {
      "cell_type": "markdown",
      "metadata": {
        "id": "1rq29tZ2GEuD"
      },
      "source": [
        "# Modules"
      ]
    },
    {
      "cell_type": "code",
      "metadata": {
        "id": "g-p_GNNeGEuE",
        "colab": {
          "base_uri": "https://localhost:8080/"
        },
        "outputId": "79b392c8-5d58-44c1-afd6-93475f80dc40"
      },
      "source": [
        "################ Modules ######################\n",
        "\n",
        "# Modules are also called as packages\n",
        "# how to call package is : Import package_name\n",
        "\n",
        "#Example:1\n",
        "\n",
        "# maths related package\n",
        "import math\n",
        "\n",
        "math.sqrt(16), math.pow(2,5)\n"
      ],
      "execution_count": null,
      "outputs": [
        {
          "output_type": "execute_result",
          "data": {
            "text/plain": [
              "(4.0, 32.0)"
            ]
          },
          "metadata": {},
          "execution_count": 2
        }
      ]
    },
    {
      "cell_type": "code",
      "metadata": {
        "colab": {
          "base_uri": "https://localhost:8080/"
        },
        "id": "MLTi_8BN2x0M",
        "outputId": "c51a788b-194a-4486-e74c-3ce290b2caf6"
      },
      "source": [
        "dir(math)"
      ],
      "execution_count": null,
      "outputs": [
        {
          "output_type": "execute_result",
          "data": {
            "text/plain": [
              "['__doc__',\n",
              " '__loader__',\n",
              " '__name__',\n",
              " '__package__',\n",
              " '__spec__',\n",
              " 'acos',\n",
              " 'acosh',\n",
              " 'asin',\n",
              " 'asinh',\n",
              " 'atan',\n",
              " 'atan2',\n",
              " 'atanh',\n",
              " 'ceil',\n",
              " 'copysign',\n",
              " 'cos',\n",
              " 'cosh',\n",
              " 'degrees',\n",
              " 'e',\n",
              " 'erf',\n",
              " 'erfc',\n",
              " 'exp',\n",
              " 'expm1',\n",
              " 'fabs',\n",
              " 'factorial',\n",
              " 'floor',\n",
              " 'fmod',\n",
              " 'frexp',\n",
              " 'fsum',\n",
              " 'gamma',\n",
              " 'gcd',\n",
              " 'hypot',\n",
              " 'inf',\n",
              " 'isclose',\n",
              " 'isfinite',\n",
              " 'isinf',\n",
              " 'isnan',\n",
              " 'ldexp',\n",
              " 'lgamma',\n",
              " 'log',\n",
              " 'log10',\n",
              " 'log1p',\n",
              " 'log2',\n",
              " 'modf',\n",
              " 'nan',\n",
              " 'pi',\n",
              " 'pow',\n",
              " 'radians',\n",
              " 'remainder',\n",
              " 'sin',\n",
              " 'sinh',\n",
              " 'sqrt',\n",
              " 'tan',\n",
              " 'tanh',\n",
              " 'tau',\n",
              " 'trunc']"
            ]
          },
          "metadata": {},
          "execution_count": 3
        }
      ]
    },
    {
      "cell_type": "code",
      "metadata": {
        "id": "6GWeZK_-GEuF",
        "colab": {
          "base_uri": "https://localhost:8080/"
        },
        "outputId": "cbef5127-3d3c-4998-a9bd-83b04d51d8c9"
      },
      "source": [
        "#Example:2\n",
        "\n",
        "#calendar related package\n",
        "import calendar\n",
        "\n",
        "cal = calendar.month(2022, 1)\n",
        "\n",
        "print(cal)\n",
        "\n",
        "\n",
        "calendar.isleap(2018), calendar.isleap(2020)\n"
      ],
      "execution_count": null,
      "outputs": [
        {
          "output_type": "stream",
          "name": "stdout",
          "text": [
            "    January 2022\n",
            "Mo Tu We Th Fr Sa Su\n",
            "                1  2\n",
            " 3  4  5  6  7  8  9\n",
            "10 11 12 13 14 15 16\n",
            "17 18 19 20 21 22 23\n",
            "24 25 26 27 28 29 30\n",
            "31\n",
            "\n"
          ]
        },
        {
          "output_type": "execute_result",
          "data": {
            "text/plain": [
              "(False, True)"
            ]
          },
          "metadata": {},
          "execution_count": 1
        }
      ]
    },
    {
      "cell_type": "code",
      "source": [],
      "metadata": {
        "id": "GpEf8KQM3PR9"
      },
      "execution_count": null,
      "outputs": []
    },
    {
      "cell_type": "markdown",
      "metadata": {
        "id": "Nng_jnUbGEuF"
      },
      "source": [
        "### How to create own module?"
      ]
    },
    {
      "cell_type": "code",
      "metadata": {
        "id": "1Qh6ayzcGEuG"
      },
      "source": [
        "\n",
        "# create a new python file \"find_area.py\" with different fuctions as given below\n",
        "#\n",
        "# def cal_area_triangle(length,hight):\n",
        "#    return 1/2*length*hight\n",
        "\n",
        "# def cal_area_sqr(length):\n",
        "#    return length*length\n",
        "\n",
        "\n",
        "# def cal_area_rec(leng,bth):\n",
        "#    return leng*bth\n",
        "\n",
        "# def cal_area_cir(r):\n",
        "#    return 3.14*r*r\n",
        "\n",
        "# End of the Code\n"
      ],
      "execution_count": null,
      "outputs": []
    },
    {
      "cell_type": "markdown",
      "metadata": {
        "id": "-z5cjeF-GEuG"
      },
      "source": [
        "### Importing function from another file"
      ]
    },
    {
      "cell_type": "code",
      "metadata": {
        "id": "QMwO-unlGEuH"
      },
      "source": [
        "# Give path for the module\n",
        "import sys\n",
        "sys.path.append(\"/content/\")\n"
      ],
      "execution_count": null,
      "outputs": []
    },
    {
      "cell_type": "code",
      "metadata": {
        "colab": {
          "base_uri": "https://localhost:8080/"
        },
        "id": "YtROnaj74kDb",
        "outputId": "34b6b259-ae52-404e-cb05-1dc7bc216f61"
      },
      "source": [
        "sys.path"
      ],
      "execution_count": null,
      "outputs": [
        {
          "output_type": "execute_result",
          "data": {
            "text/plain": [
              "['',\n",
              " '/content',\n",
              " '/env/python',\n",
              " '/usr/lib/python37.zip',\n",
              " '/usr/lib/python3.7',\n",
              " '/usr/lib/python3.7/lib-dynload',\n",
              " '/usr/local/lib/python3.7/dist-packages',\n",
              " '/usr/lib/python3/dist-packages',\n",
              " '/usr/local/lib/python3.7/dist-packages/IPython/extensions',\n",
              " '/root/.ipython',\n",
              " '/content/find_area.py',\n",
              " '/content/']"
            ]
          },
          "metadata": {},
          "execution_count": 8
        }
      ]
    },
    {
      "cell_type": "code",
      "metadata": {
        "colab": {
          "base_uri": "https://localhost:8080/"
        },
        "id": "kpeTTp88osF0",
        "outputId": "6cb46481-3519-44df-ac7b-e07305744c5e"
      },
      "source": [
        "# call module and use functions\n",
        "import find_area as f\n",
        "\n",
        "area = f.cal_area_sqr(5)\n",
        "print(area)\n"
      ],
      "execution_count": null,
      "outputs": [
        {
          "output_type": "stream",
          "name": "stdout",
          "text": [
            "25\n"
          ]
        }
      ]
    },
    {
      "cell_type": "code",
      "metadata": {
        "id": "w246yh3EGEuH",
        "colab": {
          "base_uri": "https://localhost:8080/"
        },
        "outputId": "0f5e41c0-bd5c-40de-9a51-3b7c9af4a491"
      },
      "source": [
        "area = f.cal_area_triangle(5,11)\n",
        "print(area)\n"
      ],
      "execution_count": null,
      "outputs": [
        {
          "output_type": "stream",
          "name": "stdout",
          "text": [
            "27.5\n"
          ]
        }
      ]
    },
    {
      "cell_type": "code",
      "metadata": {
        "id": "USRgbNVCGEuI"
      },
      "source": [
        "# 1. Importing from folder\n",
        "# There are generally two types of import syntax. When you use the first one, you import the resource directly, like this:\n",
        "# \"import abc\"  #abc can be a package or a module.\n",
        "import math\n",
        "\n",
        "# When you use the second syntax, you import the resource from another package or module. Here’s an example:\n",
        "# \"from abc import xyz \" #xyz can be a module, subpackage, or object, such as a class or function.\n",
        "from math import cos\n",
        "\n",
        "# You can also choose to rename an imported resource, like so:\n",
        "# \"import abc as Other_name\"\n",
        "import math as m\n",
        "\n"
      ],
      "execution_count": null,
      "outputs": []
    },
    {
      "cell_type": "markdown",
      "metadata": {
        "id": "cIpxvMZFGEuJ"
      },
      "source": [
        "###  Folders vs Packages"
      ]
    },
    {
      "cell_type": "code",
      "metadata": {
        "id": "ZIS4-rVEGEuJ"
      },
      "source": [
        "\n",
        "# 1. A module is a file containing Python code. A package, however, is like a directory that holds sub-packages and modules.\n",
        "# 2. A package must hold the file __init__.py. This does not apply to modules.\n",
        "# 3. To import everything from a module, we use the wildcard *. But this does not work with packages.\n"
      ],
      "execution_count": null,
      "outputs": []
    },
    {
      "cell_type": "code",
      "metadata": {
        "id": "xadZY_-7GEuP"
      },
      "source": [
        "# import *\n",
        "from math import *\n",
        "# it ensures that everything that are present in math is imported and ready to use"
      ],
      "execution_count": null,
      "outputs": []
    },
    {
      "cell_type": "code",
      "metadata": {
        "id": "v0suwZ0bGEuN",
        "colab": {
          "base_uri": "https://localhost:8080/"
        },
        "outputId": "56d43145-9151-44c4-fb11-6cbd6a8593ed"
      },
      "source": [
        "# How all() works for dictionaries\n",
        "\n",
        "s = {0: 'False', 1: 'False'}\n",
        "print(all(s))\n",
        "\n",
        "s = {1: 'True', 2: 'True'}\n",
        "print(all(s))\n",
        "\n",
        "s = {1: 'True', False: 0}\n",
        "print(all(s))\n"
      ],
      "execution_count": null,
      "outputs": [
        {
          "output_type": "stream",
          "name": "stdout",
          "text": [
            "False\n",
            "True\n",
            "False\n"
          ]
        }
      ]
    },
    {
      "cell_type": "markdown",
      "metadata": {
        "id": "AB6sITqfGEuQ"
      },
      "source": [
        "### Recursive Import"
      ]
    },
    {
      "cell_type": "code",
      "metadata": {
        "id": "6kfj-XLO1wZb",
        "colab": {
          "base_uri": "https://localhost:8080/",
          "height": 399
        },
        "outputId": "4c9620d0-00de-42ad-98ae-89e6eb81f95a"
      },
      "source": [
        "# WE define 2 modules a and b.. such that both will import one in other.. a import b and b import a.\n",
        "\n",
        "#b.py\n",
        "\n",
        "print (\"b in\")\n",
        "import a\n",
        "print (\"b out\")\n",
        "x = 3\n",
        "\n",
        "\n",
        "#a.py:\n",
        "\n",
        "print (\"a in\")\n",
        "import sys\n",
        "print (\"b imported: %s\" % (\"b\" in sys.modules, ))\n",
        "import b\n",
        "print (\"a out\")\n",
        "\n"
      ],
      "execution_count": null,
      "outputs": [
        {
          "output_type": "stream",
          "name": "stdout",
          "text": [
            "b in\n"
          ]
        },
        {
          "output_type": "error",
          "ename": "ModuleNotFoundError",
          "evalue": "ignored",
          "traceback": [
            "\u001b[0;31m---------------------------------------------------------------------------\u001b[0m",
            "\u001b[0;31mModuleNotFoundError\u001b[0m                       Traceback (most recent call last)",
            "\u001b[0;32m<ipython-input-23-3a603b87ca90>\u001b[0m in \u001b[0;36m<cell line: 6>\u001b[0;34m()\u001b[0m\n\u001b[1;32m      4\u001b[0m \u001b[0;34m\u001b[0m\u001b[0m\n\u001b[1;32m      5\u001b[0m \u001b[0mprint\u001b[0m \u001b[0;34m(\u001b[0m\u001b[0;34m\"b in\"\u001b[0m\u001b[0;34m)\u001b[0m\u001b[0;34m\u001b[0m\u001b[0;34m\u001b[0m\u001b[0m\n\u001b[0;32m----> 6\u001b[0;31m \u001b[0;32mimport\u001b[0m \u001b[0ma\u001b[0m\u001b[0;34m\u001b[0m\u001b[0;34m\u001b[0m\u001b[0m\n\u001b[0m\u001b[1;32m      7\u001b[0m \u001b[0mprint\u001b[0m \u001b[0;34m(\u001b[0m\u001b[0;34m\"b out\"\u001b[0m\u001b[0;34m)\u001b[0m\u001b[0;34m\u001b[0m\u001b[0;34m\u001b[0m\u001b[0m\n\u001b[1;32m      8\u001b[0m \u001b[0mx\u001b[0m \u001b[0;34m=\u001b[0m \u001b[0;36m3\u001b[0m\u001b[0;34m\u001b[0m\u001b[0;34m\u001b[0m\u001b[0m\n",
            "\u001b[0;31mModuleNotFoundError\u001b[0m: No module named 'a'",
            "",
            "\u001b[0;31m---------------------------------------------------------------------------\u001b[0;32m\nNOTE: If your import is failing due to a missing package, you can\nmanually install dependencies using either !pip or !apt.\n\nTo view examples of installing some common dependencies, click the\n\"Open Examples\" button below.\n\u001b[0;31m---------------------------------------------------------------------------\u001b[0m\n"
          ],
          "errorDetails": {
            "actions": [
              {
                "action": "open_url",
                "actionText": "Open Examples",
                "url": "/notebooks/snippets/importing_libraries.ipynb"
              }
            ]
          }
        }
      ]
    },
    {
      "cell_type": "markdown",
      "metadata": {
        "id": "rZ6VHDPKGEud"
      },
      "source": [
        "# Regular Expressions"
      ]
    },
    {
      "cell_type": "code",
      "metadata": {
        "id": "LQ_GMJcHGEue"
      },
      "source": [
        "#Ex:1\n",
        "import re\n",
        "\n",
        "Nameage = '''Sharat is 25 and Pavan is 28 and Kaleem is 35 and Ganesh is 16'''\n",
        "\n",
        "age = re.findall(r'\\d{1,3}', Nameage)\n",
        "names = re.findall(r'[A-Z][a-z]*', Nameage)\n",
        "\n",
        "##agedict = {}\n",
        "\n",
        "#x = 0\n",
        "\n",
        "##for eachname in names:\n",
        "     #agedict[eachname] = age[x]\n",
        "     #x +=1\n",
        "\n",
        "#print(agedict)\n"
      ],
      "execution_count": null,
      "outputs": []
    },
    {
      "cell_type": "code",
      "source": [
        "age"
      ],
      "metadata": {
        "colab": {
          "base_uri": "https://localhost:8080/"
        },
        "id": "t5sW-mipbP4c",
        "outputId": "2a5769eb-de4b-4f65-d2bb-d61180f00cb1"
      },
      "execution_count": null,
      "outputs": [
        {
          "output_type": "execute_result",
          "data": {
            "text/plain": [
              "['25', '28', '35', '16']"
            ]
          },
          "metadata": {},
          "execution_count": 7
        }
      ]
    },
    {
      "cell_type": "code",
      "source": [
        "names"
      ],
      "metadata": {
        "colab": {
          "base_uri": "https://localhost:8080/"
        },
        "id": "kY2BNrMabPrj",
        "outputId": "85de726a-5e9a-4e80-f528-2f7c340a4c82"
      },
      "execution_count": null,
      "outputs": [
        {
          "output_type": "execute_result",
          "data": {
            "text/plain": [
              "['Sh', 'Pa', 'Ka', 'Ga']"
            ]
          },
          "metadata": {},
          "execution_count": 10
        }
      ]
    },
    {
      "cell_type": "code",
      "source": [
        "help(re.search)"
      ],
      "metadata": {
        "id": "d7tKffKDQZJz"
      },
      "execution_count": null,
      "outputs": []
    },
    {
      "cell_type": "code",
      "metadata": {
        "id": "53vZf5-jGEue",
        "colab": {
          "base_uri": "https://localhost:8080/"
        },
        "outputId": "8ebb487a-4c10-478b-a5ec-6aa2ffed630d"
      },
      "source": [
        "#Ex:2\n",
        "\n",
        "import re\n",
        "\n",
        "allname = re.findall(\"name\",\"My name is Sharat and what is your name\")\n",
        "\n",
        "for i in allname:\n",
        "    print(i)"
      ],
      "execution_count": null,
      "outputs": [
        {
          "output_type": "stream",
          "name": "stdout",
          "text": [
            "name\n",
            "name\n"
          ]
        }
      ]
    },
    {
      "cell_type": "code",
      "metadata": {
        "id": "8dbY_VgjGEuf",
        "colab": {
          "base_uri": "https://localhost:8080/"
        },
        "outputId": "fde2c9ae-44db-4d03-d457-5349295a8ad9"
      },
      "source": [
        "#Ex 3\n",
        "\n",
        "import re\n",
        "\n",
        "allname = \"My name is Sharat and what is your name\"\n"
      ],
      "execution_count": null,
      "outputs": [
        {
          "output_type": "stream",
          "name": "stdout",
          "text": [
            "(3, 7)\n",
            "(35, 39)\n"
          ]
        }
      ]
    },
    {
      "cell_type": "code",
      "metadata": {
        "id": "bNCixn2dGEuh",
        "colab": {
          "base_uri": "https://localhost:8080/"
        },
        "outputId": "6f857729-a539-4158-c2d1-4472b074ca5d"
      },
      "source": [
        "#Ex: 4 Find match pattern\n",
        "\n",
        "import re\n",
        "\n",
        "names = \"Aam,Bam,Sam,Ram,Mam,Jam,Fan\"\n",
        "\n",
        "allnames = re.findall(\"[^A-B]am\", names)\n",
        "allnames\n",
        "\n",
        "for i in allnames:\n",
        "  print(i)\n",
        "\n"
      ],
      "execution_count": null,
      "outputs": [
        {
          "output_type": "stream",
          "name": "stdout",
          "text": [
            "Sam\n",
            "Ram\n",
            "Mam\n",
            "Jam\n"
          ]
        }
      ]
    },
    {
      "cell_type": "code",
      "metadata": {
        "id": "Woydz-NdGEui",
        "colab": {
          "base_uri": "https://localhost:8080/"
        },
        "outputId": "b83a92c6-7ec4-47e6-c831-96c0a1dd2b01"
      },
      "source": [
        "#Replace string\n",
        "\n",
        "import re\n",
        "\n",
        "names = \"Sam,Ram,Mam,Jam\"\n",
        "\n",
        "regex =  re.compile(\"[R]am\")\n",
        "\n",
        "names = regex.sub(\"Rama\", names)\n",
        "\n",
        "print(names)\n",
        "\n"
      ],
      "execution_count": null,
      "outputs": [
        {
          "output_type": "stream",
          "name": "stdout",
          "text": [
            "Sam,Rama,Mam,Jam\n"
          ]
        }
      ]
    },
    {
      "cell_type": "code",
      "metadata": {
        "id": "sM2wtKEOGEuj",
        "colab": {
          "base_uri": "https://localhost:8080/",
          "height": 36
        },
        "outputId": "bca7939d-d531-4b8f-bb8c-61c7923552aa"
      },
      "source": [
        "## dividing num,alpha,special char\n",
        "import re\n",
        "\n",
        "re.sub(\"[A-Za-z]\",\"    \", \"ada 1231zxdq #@$@zxfsd312\")\n",
        "\n"
      ],
      "execution_count": null,
      "outputs": [
        {
          "output_type": "execute_result",
          "data": {
            "text/plain": [
              "'             1231                 #@$@                    312'"
            ],
            "application/vnd.google.colaboratory.intrinsic+json": {
              "type": "string"
            }
          },
          "metadata": {},
          "execution_count": 2
        }
      ]
    },
    {
      "cell_type": "code",
      "metadata": {
        "id": "5HJZP5VjGEuk",
        "colab": {
          "base_uri": "https://localhost:8080/",
          "height": 35
        },
        "outputId": "5986c63f-d1e9-445b-b9a7-d35815cf3c9e"
      },
      "source": [
        "re.sub(\"[^A-Za-z]\",\"#\", \"ada 1231zxdq #@$@zxfsd312\")\n"
      ],
      "execution_count": null,
      "outputs": [
        {
          "output_type": "execute_result",
          "data": {
            "application/vnd.google.colaboratory.intrinsic+json": {
              "type": "string"
            },
            "text/plain": [
              "'ada#####zxdq#####zxfsd###'"
            ]
          },
          "metadata": {},
          "execution_count": 11
        }
      ]
    },
    {
      "cell_type": "code",
      "metadata": {
        "id": "OC3cXciUGEuk",
        "colab": {
          "base_uri": "https://localhost:8080/"
        },
        "outputId": "6e35d44f-11a4-4abe-ded5-c75fbef792be"
      },
      "source": [
        "## Remove white space\n",
        "\n",
        "randstr = '''\n",
        "My\n",
        "name\n",
        "is\n",
        "Sharat\n",
        "'''\n",
        "print(randstr)\n",
        "\n"
      ],
      "execution_count": null,
      "outputs": [
        {
          "output_type": "stream",
          "name": "stdout",
          "text": [
            " \n",
            "My \n",
            "name \n",
            "is \n",
            "Sharat\n",
            "\n"
          ]
        }
      ]
    },
    {
      "cell_type": "code",
      "metadata": {
        "colab": {
          "base_uri": "https://localhost:8080/"
        },
        "id": "os1jm-XzBRev",
        "outputId": "42507c34-6a65-4a36-c866-f393f6c7d57c"
      },
      "source": [
        "regex = re.compile(\"\\n\")\n",
        "\n",
        "randstr = regex.sub(\"\", randstr)\n",
        "\n",
        "print(randstr)"
      ],
      "execution_count": null,
      "outputs": [
        {
          "output_type": "stream",
          "name": "stdout",
          "text": [
            " My name is Sharat\n"
          ]
        }
      ]
    },
    {
      "cell_type": "code",
      "metadata": {
        "id": "9gfeCQTPGEul",
        "colab": {
          "base_uri": "https://localhost:8080/"
        },
        "outputId": "fa3181fa-66fd-4420-b5e2-b39d35e2eccc"
      },
      "source": [
        "## Number\n",
        "\n",
        "import re\n",
        "\n",
        "randstr = \"12345\"\n",
        "\n",
        "print((re.findall(\"\\d\", randstr)))\n",
        "\n",
        "print(re.search(r\"\\d{3}\",randstr))\n",
        "\n"
      ],
      "execution_count": null,
      "outputs": [
        {
          "output_type": "stream",
          "name": "stdout",
          "text": [
            "['1', '2', '3', '4', '5']\n",
            "<re.Match object; span=(0, 3), match='123'>\n"
          ]
        }
      ]
    },
    {
      "cell_type": "code",
      "metadata": {
        "id": "nJadO8c6GEum",
        "colab": {
          "base_uri": "https://localhost:8080/"
        },
        "outputId": "ff3c5c6e-daee-4c4d-b46e-e85cd6a127f9"
      },
      "source": [
        "num = \"123 1234 12345 123456 1234567\"\n",
        "\n",
        "print(len(re.findall(\"\\d{5,7}\",num))) #gives max frequency in the given numbers\n"
      ],
      "execution_count": null,
      "outputs": [
        {
          "output_type": "stream",
          "name": "stdout",
          "text": [
            "3\n"
          ]
        }
      ]
    },
    {
      "cell_type": "code",
      "metadata": {
        "id": "BqCuGrCCGEum",
        "colab": {
          "base_uri": "https://localhost:8080/"
        },
        "outputId": "d22e12da-8dfe-47cb-aa7f-60a5c3cb0dab"
      },
      "source": [
        "## Pan number verification\n",
        "\n",
        "import re\n",
        "\n",
        "#\\d [0-9] - digits\n",
        "#\\w [a-zA-Z0-9_] - alphanumeric\n",
        "\n",
        "\n",
        "pan = \"4669-5549-AA1212hhwjjwkq3\"\n",
        "\n",
        "if re.search(\"\\d{4}-\\d{4}-\\w{15}\",pan):\n",
        "\n",
        "    print(\"it is a Pan No.\")\n",
        "\n",
        "else:\n",
        "    print(\"its not a Pan No.\")\n"
      ],
      "execution_count": null,
      "outputs": [
        {
          "output_type": "stream",
          "name": "stdout",
          "text": [
            "it is a Pan No.\n"
          ]
        }
      ]
    },
    {
      "cell_type": "code",
      "metadata": {
        "id": "vljnv1ktGEun",
        "colab": {
          "base_uri": "https://localhost:8080/"
        },
        "outputId": "cd8c51b9-b373-44a9-f334-6436c0e77f26"
      },
      "source": [
        "#Email Match\n",
        "\n",
        "import re\n",
        "\n",
        "email = \"nk@hyd.com, md@.com, @llo.com, j@com\"\n",
        "\n",
        "print(\"EmailMatches:\", (re.findall(\"[\\w._%+-]{1,20}@[\\w.-]{2,20}.[A-Za-z]{2,3}\", email)))\n"
      ],
      "execution_count": null,
      "outputs": [
        {
          "output_type": "stream",
          "name": "stdout",
          "text": [
            "EmailMatches: ['nk@hyd.com']\n"
          ]
        }
      ]
    },
    {
      "cell_type": "code",
      "metadata": {
        "colab": {
          "base_uri": "https://localhost:8080/"
        },
        "id": "W8ihvHh_EFF2",
        "outputId": "7306b40d-d3d8-4390-bc62-716b8f1a6aae"
      },
      "source": [
        "import re\n",
        "\n",
        "name = \"My name is Sharat but 1st you tell me what is your name\"\n",
        "\n",
        "re.split(\" \", name)"
      ],
      "execution_count": null,
      "outputs": [
        {
          "output_type": "execute_result",
          "data": {
            "text/plain": [
              "['My',\n",
              " 'name',\n",
              " 'is',\n",
              " 'Sharat',\n",
              " 'but',\n",
              " '1st',\n",
              " 'you',\n",
              " 'tell',\n",
              " 'me',\n",
              " 'what',\n",
              " 'is',\n",
              " 'your',\n",
              " 'name']"
            ]
          },
          "metadata": {},
          "execution_count": 4
        }
      ]
    },
    {
      "cell_type": "markdown",
      "metadata": {
        "id": "zufa63JNm7DL"
      },
      "source": [
        "# Python Packages for Data Analysis"
      ]
    },
    {
      "cell_type": "markdown",
      "metadata": {
        "id": "DETkpdHbm7DV"
      },
      "source": [
        "## numpy"
      ]
    },
    {
      "cell_type": "code",
      "metadata": {
        "id": "u9RVlnkam7DX",
        "outputId": "79795dbb-fc25-40a9-f818-d11097ea366e"
      },
      "source": [
        "import numpy as np\n",
        "\n",
        "# A list of elements in variable 'x'\n",
        "\n",
        "x = [10,21,3,14,15,16]\n",
        "\n",
        "# how to multiply the list values with 2\n",
        "x*2 #  provides dual list\n",
        "\n"
      ],
      "execution_count": null,
      "outputs": [
        {
          "data": {
            "text/plain": [
              "[10, 21, 3, 14, 15, 16, 10, 21, 3, 14, 15, 16]"
            ]
          },
          "execution_count": 1,
          "metadata": {},
          "output_type": "execute_result"
        }
      ]
    },
    {
      "cell_type": "code",
      "metadata": {
        "id": "LoShyQyLm7Dc",
        "outputId": "d2ab425d-6834-40e5-ca76-0474a1e61610"
      },
      "source": [
        "# Numpy array will help access the values\n",
        "y = np.array(x)\n",
        "print(type(y))\n",
        "print(y*2)\n",
        "\n",
        "y>10 , y[y>10]\n"
      ],
      "execution_count": null,
      "outputs": [
        {
          "name": "stdout",
          "output_type": "stream",
          "text": [
            "<class 'numpy.ndarray'>\n",
            "[20 42  6 28 30 32]\n"
          ]
        },
        {
          "data": {
            "text/plain": [
              "(array([False,  True, False,  True,  True,  True]), array([21, 14, 15, 16]))"
            ]
          },
          "execution_count": 3,
          "metadata": {},
          "output_type": "execute_result"
        }
      ]
    },
    {
      "cell_type": "markdown",
      "metadata": {
        "id": "BklMJE1Um7Df"
      },
      "source": [
        "### Memory savers"
      ]
    },
    {
      "cell_type": "code",
      "metadata": {
        "id": "MQqWj_L2m7Dg",
        "outputId": "c1cd790a-f64e-40bb-aa62-18b7459b6ab1"
      },
      "source": [
        "#numpy arrays shares the memory instead of allocating seperate memory\n",
        "\n",
        "a=np.arange(10)\n",
        "\n",
        "b=a[::2]\n",
        "print(np.shares_memory(a,b)) #check whether a and b shares memory\n",
        "a,b"
      ],
      "execution_count": null,
      "outputs": [
        {
          "name": "stdout",
          "output_type": "stream",
          "text": [
            "True\n"
          ]
        },
        {
          "data": {
            "text/plain": [
              "(array([0, 1, 2, 3, 4, 5, 6, 7, 8, 9]), array([0, 2, 4, 6, 8]))"
            ]
          },
          "execution_count": 2,
          "metadata": {},
          "output_type": "execute_result"
        }
      ]
    },
    {
      "cell_type": "markdown",
      "metadata": {
        "id": "9522l0bZm7Dm"
      },
      "source": [
        "### numpy matrices"
      ]
    },
    {
      "cell_type": "code",
      "metadata": {
        "id": "cO68I8-im7Do",
        "outputId": "85f5b111-fd63-43ce-fa6c-e7f0500214c0"
      },
      "source": [
        "# Numpy matrics\n",
        "#Ex:1\n",
        "a = np.matrix('1 2; 3 4')\n",
        "print(a)\n",
        "\n",
        "#Ex:2\n",
        "b = np.matrix([[1, 2], [3, 4]])\n",
        "print(b)\n"
      ],
      "execution_count": null,
      "outputs": [
        {
          "name": "stdout",
          "output_type": "stream",
          "text": [
            "[[1 2]\n",
            " [3 4]]\n",
            "[[1 2]\n",
            " [3 4]]\n"
          ]
        }
      ]
    },
    {
      "cell_type": "code",
      "metadata": {
        "id": "OZUrAmpZm7Dr",
        "outputId": "b70c356c-418b-4e14-9a85-47c61e202602"
      },
      "source": [
        "#numpy broad casting helps when working on different sized arrays\n",
        "a=np.arange(0,40,10)\n",
        "\n",
        "b=np.array([0,1,2])\n",
        "\n",
        "a.shape, a, b, b.shape"
      ],
      "execution_count": null,
      "outputs": [
        {
          "data": {
            "text/plain": [
              "((4,), array([ 0, 10, 20, 30]), array([0, 1, 2]), (3,))"
            ]
          },
          "execution_count": 6,
          "metadata": {},
          "output_type": "execute_result"
        }
      ]
    },
    {
      "cell_type": "markdown",
      "metadata": {
        "id": "O2k84hqVy2Ar"
      },
      "source": [
        "# Data Structures"
      ]
    },
    {
      "cell_type": "markdown",
      "metadata": {
        "id": "bSn4gbZazCiy"
      },
      "source": [
        "## Arrays/Vectors"
      ]
    },
    {
      "cell_type": "code",
      "source": [
        "from array import *"
      ],
      "metadata": {
        "id": "_Vttlhz70Pta"
      },
      "execution_count": null,
      "outputs": []
    },
    {
      "cell_type": "code",
      "source": [
        "dir(array)"
      ],
      "metadata": {
        "colab": {
          "base_uri": "https://localhost:8080/"
        },
        "id": "kJ_a-ixI0PlG",
        "outputId": "13c1b2e0-7e3a-4ee0-d7e2-40d17d030655"
      },
      "execution_count": null,
      "outputs": [
        {
          "output_type": "execute_result",
          "data": {
            "text/plain": [
              "['__add__',\n",
              " '__class__',\n",
              " '__contains__',\n",
              " '__copy__',\n",
              " '__deepcopy__',\n",
              " '__delattr__',\n",
              " '__delitem__',\n",
              " '__dir__',\n",
              " '__doc__',\n",
              " '__eq__',\n",
              " '__format__',\n",
              " '__ge__',\n",
              " '__getattribute__',\n",
              " '__getitem__',\n",
              " '__gt__',\n",
              " '__hash__',\n",
              " '__iadd__',\n",
              " '__imul__',\n",
              " '__init__',\n",
              " '__init_subclass__',\n",
              " '__iter__',\n",
              " '__le__',\n",
              " '__len__',\n",
              " '__lt__',\n",
              " '__module__',\n",
              " '__mul__',\n",
              " '__ne__',\n",
              " '__new__',\n",
              " '__reduce__',\n",
              " '__reduce_ex__',\n",
              " '__repr__',\n",
              " '__rmul__',\n",
              " '__setattr__',\n",
              " '__setitem__',\n",
              " '__sizeof__',\n",
              " '__str__',\n",
              " '__subclasshook__',\n",
              " 'append',\n",
              " 'buffer_info',\n",
              " 'byteswap',\n",
              " 'count',\n",
              " 'extend',\n",
              " 'frombytes',\n",
              " 'fromfile',\n",
              " 'fromlist',\n",
              " 'fromunicode',\n",
              " 'index',\n",
              " 'insert',\n",
              " 'itemsize',\n",
              " 'pop',\n",
              " 'remove',\n",
              " 'reverse',\n",
              " 'tobytes',\n",
              " 'tofile',\n",
              " 'tolist',\n",
              " 'tounicode',\n",
              " 'typecode']"
            ]
          },
          "metadata": {},
          "execution_count": 10
        }
      ]
    },
    {
      "cell_type": "code",
      "source": [
        "help()"
      ],
      "metadata": {
        "id": "yjpF_ySX0jQc"
      },
      "execution_count": null,
      "outputs": []
    },
    {
      "cell_type": "code",
      "metadata": {
        "colab": {
          "base_uri": "https://localhost:8080/"
        },
        "id": "SY1U5unIydA7",
        "outputId": "9ce99dcf-4ded-4d73-f07b-f422f1ea8d66"
      },
      "source": [
        "# Creating an array\n",
        "from array import *       # Array is created in Python by importing array module to the python program.\n",
        "\n",
        "array1 = array('i', [10,20,30,40,50])\n",
        "\n",
        "for x in array1:\n",
        " print(x)"
      ],
      "execution_count": null,
      "outputs": [
        {
          "output_type": "stream",
          "name": "stdout",
          "text": [
            "10\n",
            "20\n",
            "30\n",
            "40\n",
            "50\n"
          ]
        }
      ]
    },
    {
      "cell_type": "code",
      "source": [
        "array1"
      ],
      "metadata": {
        "colab": {
          "base_uri": "https://localhost:8080/"
        },
        "id": "hfoI8nlc0wpN",
        "outputId": "e5a67bda-6c29-45a2-f85f-296c626571a6"
      },
      "execution_count": null,
      "outputs": [
        {
          "output_type": "execute_result",
          "data": {
            "text/plain": [
              "array('i', [10, 20, 30, 40, 50])"
            ]
          },
          "metadata": {},
          "execution_count": 5
        }
      ]
    },
    {
      "cell_type": "code",
      "metadata": {
        "id": "CxJFbNsoyfEi"
      },
      "source": [
        "help(array)"
      ],
      "execution_count": null,
      "outputs": []
    },
    {
      "cell_type": "code",
      "metadata": {
        "id": "Zmgqc2SayfG6"
      },
      "source": [
        "# insert operation\n",
        "from array import *\n",
        "\n",
        "array1 = array('i', [10,20,30,40,50])\n",
        "\n",
        "array1.insert(1,60) # inserting the data at specified location"
      ],
      "execution_count": null,
      "outputs": []
    },
    {
      "cell_type": "code",
      "metadata": {
        "colab": {
          "base_uri": "https://localhost:8080/"
        },
        "id": "jd-2D75NydDL",
        "outputId": "84c0a05c-14bb-4a2c-8dc7-8cd61267239a"
      },
      "source": [
        "for x in array1:\n",
        " print(x)"
      ],
      "execution_count": null,
      "outputs": [
        {
          "output_type": "stream",
          "name": "stdout",
          "text": [
            "10\n",
            "60\n",
            "20\n",
            "30\n",
            "40\n",
            "50\n"
          ]
        }
      ]
    },
    {
      "cell_type": "code",
      "metadata": {
        "colab": {
          "base_uri": "https://localhost:8080/"
        },
        "id": "_cWTCa5aydGE",
        "outputId": "d5b6392d-de1d-4e01-8ddc-a2fd25323e53"
      },
      "source": [
        "# Deletion operation\n",
        "from array import *\n",
        "\n",
        "array1 = array('i', [10,20,30,40,50])\n",
        "\n",
        "array1.remove(40) # deleting data we want\n",
        "\n",
        "for x in array1:\n",
        " print(x)"
      ],
      "execution_count": null,
      "outputs": [
        {
          "output_type": "stream",
          "name": "stdout",
          "text": [
            "10\n",
            "20\n",
            "30\n",
            "50\n"
          ]
        }
      ]
    },
    {
      "cell_type": "code",
      "metadata": {
        "colab": {
          "base_uri": "https://localhost:8080/"
        },
        "id": "O5UlwPosydIz",
        "outputId": "63444f3f-e790-4173-80e0-e09584dcfbba"
      },
      "source": [
        "# Update operation\n",
        "from array import *\n",
        "\n",
        "array1 = array('i', [10,20,30,40,50])\n",
        "\n",
        "array1[4] = 80 #updating\n",
        "\n",
        "for x in array1:\n",
        " print(x)"
      ],
      "execution_count": null,
      "outputs": [
        {
          "output_type": "stream",
          "name": "stdout",
          "text": [
            "10\n",
            "20\n",
            "30\n",
            "40\n",
            "80\n"
          ]
        }
      ]
    },
    {
      "cell_type": "code",
      "metadata": {
        "id": "4koG35bszToB"
      },
      "source": [],
      "execution_count": null,
      "outputs": []
    },
    {
      "cell_type": "markdown",
      "metadata": {
        "id": "MnS7zduXzSTL"
      },
      "source": [
        "## 2D Arrays"
      ]
    },
    {
      "cell_type": "code",
      "metadata": {
        "colab": {
          "base_uri": "https://localhost:8080/"
        },
        "id": "g4zRayhbzOKT",
        "outputId": "19d602b4-2a14-4734-a9fc-e8eb1e7613dc"
      },
      "source": [
        "# Accessing Values in a Two Dimensional Array.\n",
        "# The data elements in two dimesnional arrays can be accessed using two indices.\n",
        "# One index referring to the main or parent array and another index referring to\n",
        "# the position of the data element in the inner array.\n",
        "# If we mention only one index then the entire inner array is printed for that index position.\n",
        "\n",
        "from array import *\n",
        "\n",
        "T = [[11, 12, 5, 2], [15, 6, 10], [10, 8, 12, 5], [12,15,8,6]] # 2D array\n",
        "\n",
        "print(T[0])\n",
        "\n",
        "print(T[1][2])"
      ],
      "execution_count": null,
      "outputs": [
        {
          "output_type": "stream",
          "name": "stdout",
          "text": [
            "[11, 12, 5, 2]\n",
            "10\n"
          ]
        }
      ]
    },
    {
      "cell_type": "code",
      "source": [
        "T"
      ],
      "metadata": {
        "colab": {
          "base_uri": "https://localhost:8080/"
        },
        "id": "pHBf8Z9W11Lg",
        "outputId": "c81aadb3-d34d-4ff3-b06f-e617f9b7a1ed"
      },
      "execution_count": null,
      "outputs": [
        {
          "output_type": "execute_result",
          "data": {
            "text/plain": [
              "[[11, 12, 5, 2], [15, 6, 10], [10, 8, 12, 5], [12, 15, 8, 6]]"
            ]
          },
          "metadata": {},
          "execution_count": 12
        }
      ]
    },
    {
      "cell_type": "code",
      "metadata": {
        "colab": {
          "base_uri": "https://localhost:8080/"
        },
        "id": "5izAAp3VzOMs",
        "outputId": "9b0f29af-43db-4da9-e19e-86ae19b4d178"
      },
      "source": [
        "# Inserting Values in Two Dimensional Array\n",
        "from array import *\n",
        "T = [[11, 12, 5, 2], [15, 6,10], [10, 8, 12, 5], [12,15,8,6]]\n",
        "print(T)\n",
        "\n",
        "T.insert(2, [0,5,11,13,6]) #inserting at index=2\n",
        "\n",
        "T"
      ],
      "execution_count": null,
      "outputs": [
        {
          "output_type": "stream",
          "name": "stdout",
          "text": [
            "[[11, 12, 5, 2], [15, 6, 10], [10, 8, 12, 5], [12, 15, 8, 6]]\n"
          ]
        },
        {
          "output_type": "execute_result",
          "data": {
            "text/plain": [
              "[[11, 12, 5, 2],\n",
              " [15, 6, 10],\n",
              " [0, 5, 11, 13, 6],\n",
              " [10, 8, 12, 5],\n",
              " [12, 15, 8, 6]]"
            ]
          },
          "metadata": {},
          "execution_count": 7
        }
      ]
    },
    {
      "cell_type": "code",
      "metadata": {
        "colab": {
          "base_uri": "https://localhost:8080/"
        },
        "id": "lfSQIfNXzdo8",
        "outputId": "dfc2edbd-b547-47c1-cf48-30a66339ca08"
      },
      "source": [
        "# Updating Values in Two Dimensional Array\n",
        "from array import *\n",
        "\n",
        "T = [[11, 12, 5, 2], [15, 6,10], [10, 8, 12, 5], [12,15,8,6]]\n",
        "print(T)\n",
        "\n",
        "T[2] = [11,9] #updating element (row) at index=2\n",
        "T[0][3] = 7 #updating element in first row, 4th column\n",
        "T"
      ],
      "execution_count": null,
      "outputs": [
        {
          "output_type": "stream",
          "name": "stdout",
          "text": [
            "[[11, 12, 5, 2], [15, 6, 10], [10, 8, 12, 5], [12, 15, 8, 6]]\n"
          ]
        },
        {
          "output_type": "execute_result",
          "data": {
            "text/plain": [
              "[[11, 12, 5, 7], [15, 6, 10], [11, 9], [12, 15, 8, 6]]"
            ]
          },
          "metadata": {},
          "execution_count": 8
        }
      ]
    },
    {
      "cell_type": "code",
      "metadata": {
        "colab": {
          "base_uri": "https://localhost:8080/"
        },
        "id": "UjBmzeymzdrc",
        "outputId": "5afbbd90-e4c0-47d8-f31c-36d8b8eef877"
      },
      "source": [
        "# Deleting the Values in Two Dimensional Array\n",
        "from array import *\n",
        "T = [[11, 12, 5, 2], [15, 6, 10], [10, 8, 12, 5], [12,15,8,6]]\n",
        "print(T)\n",
        "\n",
        "del T[3] # deleting at index=3\n",
        "T"
      ],
      "execution_count": null,
      "outputs": [
        {
          "output_type": "stream",
          "name": "stdout",
          "text": [
            "[[11, 12, 5, 2], [15, 6, 10], [10, 8, 12, 5], [12, 15, 8, 6]]\n"
          ]
        },
        {
          "output_type": "execute_result",
          "data": {
            "text/plain": [
              "[[11, 12, 5, 2], [15, 6, 10], [10, 8, 12, 5]]"
            ]
          },
          "metadata": {},
          "execution_count": 9
        }
      ]
    },
    {
      "cell_type": "code",
      "source": [
        "import array\n",
        "x= array.array('d', [1,2])\n"
      ],
      "metadata": {
        "id": "2ULWGQ7u3kw8"
      },
      "execution_count": null,
      "outputs": []
    },
    {
      "cell_type": "code",
      "source": [
        "x"
      ],
      "metadata": {
        "colab": {
          "base_uri": "https://localhost:8080/"
        },
        "id": "phCxMQIB3xrm",
        "outputId": "611dcbfc-0ec8-4e41-ebe6-9b0dfa209d94"
      },
      "execution_count": null,
      "outputs": [
        {
          "output_type": "execute_result",
          "data": {
            "text/plain": [
              "array('d', [1.0, 2.0, 10.0])"
            ]
          },
          "metadata": {},
          "execution_count": 16
        }
      ]
    },
    {
      "cell_type": "code",
      "source": [
        "y=10\n",
        "x.append(y)"
      ],
      "metadata": {
        "id": "oIIjSV1C3ztS"
      },
      "execution_count": null,
      "outputs": []
    },
    {
      "cell_type": "code",
      "source": [
        "help(x.pop)"
      ],
      "metadata": {
        "colab": {
          "base_uri": "https://localhost:8080/"
        },
        "id": "hII342TD4QbF",
        "outputId": "705213cd-8f78-4b16-d23d-d9db6f5b0277"
      },
      "execution_count": null,
      "outputs": [
        {
          "output_type": "stream",
          "name": "stdout",
          "text": [
            "Help on built-in function pop:\n",
            "\n",
            "pop(i=-1, /) method of array.array instance\n",
            "    Return the i-th element and delete it from the array.\n",
            "    \n",
            "    i defaults to -1.\n",
            "\n"
          ]
        }
      ]
    },
    {
      "cell_type": "code",
      "source": [
        "x= array.array('i',[1,2,3])\n",
        "x.pop(1)"
      ],
      "metadata": {
        "colab": {
          "base_uri": "https://localhost:8080/"
        },
        "id": "L-uREMnE4cd5",
        "outputId": "77a475bc-a58c-4b5c-8607-7a03e96e2ccf"
      },
      "execution_count": null,
      "outputs": [
        {
          "output_type": "execute_result",
          "data": {
            "text/plain": [
              "2"
            ]
          },
          "metadata": {},
          "execution_count": 19
        }
      ]
    },
    {
      "cell_type": "code",
      "source": [
        "x"
      ],
      "metadata": {
        "colab": {
          "base_uri": "https://localhost:8080/"
        },
        "id": "iiHJ9FAa4r2P",
        "outputId": "c8e3841d-072c-485e-ec24-ca996adaeba5"
      },
      "execution_count": null,
      "outputs": [
        {
          "output_type": "execute_result",
          "data": {
            "text/plain": [
              "array('i', [1, 3])"
            ]
          },
          "metadata": {},
          "execution_count": 20
        }
      ]
    },
    {
      "cell_type": "markdown",
      "metadata": {
        "id": "NAAzleVCznyD"
      },
      "source": [
        "## Matrix\n",
        "Matrix is a special case of two dimensional array where each data element is of strictly same size. So every matrix is also a two dimensional array but not vice versa. Matrices are very important data structures for many mathematical and scientific calculations."
      ]
    },
    {
      "cell_type": "code",
      "source": [
        "from numpy import *\n",
        "a = array([['Mon',18,20,22,17],['Tue',11,18,21,18],\n",
        "           ['Wed',15,21,20,19],['Thu',11,20,22,21],\n",
        "           ['Fri',18,17,23,22],['Sat',12,22,20,18],\n",
        "           ['Sun',13,15,19,16]])"
      ],
      "metadata": {
        "id": "WegQCQVN5D7p"
      },
      "execution_count": null,
      "outputs": []
    },
    {
      "cell_type": "code",
      "source": [
        "a.shape"
      ],
      "metadata": {
        "colab": {
          "base_uri": "https://localhost:8080/"
        },
        "id": "IOxiczSa5FAJ",
        "outputId": "0c050c2c-0390-4275-9e36-15c886c05c36"
      },
      "execution_count": null,
      "outputs": [
        {
          "output_type": "execute_result",
          "data": {
            "text/plain": [
              "(7, 5)"
            ]
          },
          "metadata": {},
          "execution_count": 22
        }
      ]
    },
    {
      "cell_type": "code",
      "metadata": {
        "colab": {
          "base_uri": "https://localhost:8080/"
        },
        "id": "b1ZCE6_4zjtd",
        "outputId": "4ffe8a1d-8b33-4af3-a567-35c543c7bfac"
      },
      "source": [
        "# Matrix Example\n",
        "from numpy import *\n",
        "a = array([['Mon',18,20,22,17],['Tue',11,18,21,18],\n",
        "           ['Wed',15,21,20,19],['Thu',11,20,22,21],\n",
        "           ['Fri',18,17,23,22],['Sat',12,22,20,18],\n",
        "           ['Sun',13,15,19,16]])\n",
        "\n",
        "m = reshape(a,(7,5)) # dimentisions of matrix aka rows*columns\n",
        "print(m)"
      ],
      "execution_count": null,
      "outputs": [
        {
          "output_type": "stream",
          "name": "stdout",
          "text": [
            "[['Mon' '18' '20' '22' '17']\n",
            " ['Tue' '11' '18' '21' '18']\n",
            " ['Wed' '15' '21' '20' '19']\n",
            " ['Thu' '11' '20' '22' '21']\n",
            " ['Fri' '18' '17' '23' '22']\n",
            " ['Sat' '12' '22' '20' '18']\n",
            " ['Sun' '13' '15' '19' '16']]\n"
          ]
        }
      ]
    },
    {
      "cell_type": "code",
      "metadata": {
        "colab": {
          "base_uri": "https://localhost:8080/"
        },
        "id": "zAT1KYzPzjvl",
        "outputId": "810019a3-ca0f-4ca7-cc2d-d41f2a2e6fcc"
      },
      "source": [
        "# Accessing Values in a Matrix\n",
        "from numpy import *\n",
        "m = array([['Mon',18,20,22,17],['Tue',11,18,21,18],\n",
        "           ['Wed',15,21,20,19],['Thu',11,20,22,21],\n",
        "           ['Fri',18,17,23,22],['Sat',12,22,20,18],\n",
        "           ['Sun',13,15,19,16]])\n",
        "\n",
        "# Print data for Wednesday\n",
        "print(m[2])\n",
        "\n",
        "# Print data for friday evening\n",
        "print(m[4][3])"
      ],
      "execution_count": null,
      "outputs": [
        {
          "output_type": "stream",
          "name": "stdout",
          "text": [
            "['Wed' '15' '21' '20' '19']\n",
            "23\n"
          ]
        }
      ]
    },
    {
      "cell_type": "code",
      "metadata": {
        "colab": {
          "base_uri": "https://localhost:8080/"
        },
        "id": "_6e9XqI-zxbb",
        "outputId": "331a0873-9a4a-4029-a54c-cc43c5282a56"
      },
      "source": [
        "# Adding the data\n",
        "from numpy import *\n",
        "m = array([['Mon',18,20,22,17],['Tue',11,18,21,18],\n",
        "           ['Wed',15,21,20,19],['Thu',11,20,22,21],\n",
        "           ['Fri',18,17,23,22],['Sat',12,22,20,18],\n",
        "           ['Sun',13,15,19,16]])\n",
        "\n",
        "m_r = append(m,[['Avg',12,15,13,11]],0) # adding by using append at the end .(0-- row)\n",
        "m_c = insert(m,[5],[[1],[2],[3],[4],[5],[6],[7]],1) # adding by using insert at required location .(1-- column)\n",
        "#print(m)\n",
        "print(m_r)\n",
        "print('***********')\n",
        "print(m_c)"
      ],
      "execution_count": null,
      "outputs": [
        {
          "output_type": "stream",
          "name": "stdout",
          "text": [
            "[['Mon' '18' '20' '22' '17']\n",
            " ['Tue' '11' '18' '21' '18']\n",
            " ['Wed' '15' '21' '20' '19']\n",
            " ['Thu' '11' '20' '22' '21']\n",
            " ['Fri' '18' '17' '23' '22']\n",
            " ['Sat' '12' '22' '20' '18']\n",
            " ['Sun' '13' '15' '19' '16']\n",
            " ['Avg' '12' '15' '13' '11']]\n",
            "***********\n",
            "[['Mon' '18' '20' '22' '17' '1']\n",
            " ['Tue' '11' '18' '21' '18' '2']\n",
            " ['Wed' '15' '21' '20' '19' '3']\n",
            " ['Thu' '11' '20' '22' '21' '4']\n",
            " ['Fri' '18' '17' '23' '22' '5']\n",
            " ['Sat' '12' '22' '20' '18' '6']\n",
            " ['Sun' '13' '15' '19' '16' '7']]\n"
          ]
        }
      ]
    },
    {
      "cell_type": "code",
      "source": [
        "help(insert)"
      ],
      "metadata": {
        "id": "Ryx1lKyf6uG6"
      },
      "execution_count": null,
      "outputs": []
    },
    {
      "cell_type": "code",
      "source": [
        "len(m)"
      ],
      "metadata": {
        "colab": {
          "base_uri": "https://localhost:8080/"
        },
        "id": "3B0urX2p8Y2u",
        "outputId": "2dfd1eee-1331-469a-aba9-a66bdc02b3fe"
      },
      "execution_count": null,
      "outputs": [
        {
          "output_type": "execute_result",
          "data": {
            "text/plain": [
              "7"
            ]
          },
          "metadata": {},
          "execution_count": 30
        }
      ]
    },
    {
      "cell_type": "code",
      "metadata": {
        "id": "kYNW2jbjz1D7"
      },
      "source": [
        "# Delete from matrix\n",
        "from numpy import *\n",
        "m = array([['Mon',18,20,22,17],['Tue',11,18,21,18],\n",
        "           ['Wed',15,21,20,19],['Thu',11,20,22,21],\n",
        "           ['Fri',18,17,23,22],['Sat',12,22,20,18],\n",
        "           ['Sun',13,15,19,16]])\n",
        "\n",
        "print(m) # original matrix\n",
        "print('********************')\n",
        "\n",
        "n1 = delete(m,[2],0) # deleting row at index=2\n",
        "print(n1)\n",
        "print('***********')\n",
        "n2 = delete(m,[2],1) # deleting column at index=2\n",
        "n2"
      ],
      "execution_count": null,
      "outputs": []
    },
    {
      "cell_type": "code",
      "metadata": {
        "id": "2dqCwdxQzxdt",
        "colab": {
          "base_uri": "https://localhost:8080/"
        },
        "outputId": "46ea9953-fa82-496d-820e-101ebbd490e9"
      },
      "source": [
        "delete(m,[4],1)"
      ],
      "execution_count": null,
      "outputs": [
        {
          "output_type": "execute_result",
          "data": {
            "text/plain": [
              "array([['Mon', '18', '20', '22'],\n",
              "       ['Tue', '11', '18', '21'],\n",
              "       ['Wed', '15', '21', '20'],\n",
              "       ['Thu', '11', '20', '22'],\n",
              "       ['Fri', '18', '17', '23'],\n",
              "       ['Sat', '12', '22', '20'],\n",
              "       ['Sun', '13', '15', '19']], dtype='<U21')"
            ]
          },
          "metadata": {},
          "execution_count": 34
        }
      ]
    },
    {
      "cell_type": "code",
      "source": [
        "import numpy as np"
      ],
      "metadata": {
        "id": "crKuSFI99xSm"
      },
      "execution_count": null,
      "outputs": []
    },
    {
      "cell_type": "code",
      "source": [
        "import array\n",
        "x= array.array('i',[1,2,3,4])\n",
        "x.reverse()\n",
        "x.extend([6,7])\n",
        "x"
      ],
      "metadata": {
        "colab": {
          "base_uri": "https://localhost:8080/"
        },
        "id": "NqY6NRrd9ifh",
        "outputId": "238a0b6e-f1b2-4586-8875-809dd0407889"
      },
      "execution_count": null,
      "outputs": [
        {
          "output_type": "execute_result",
          "data": {
            "text/plain": [
              "array('i', [4, 3, 2, 1, 6, 7])"
            ]
          },
          "metadata": {},
          "execution_count": 40
        }
      ]
    },
    {
      "cell_type": "code",
      "source": [
        "import numpy as np\n",
        "array1= np.zeros((2,3))\n",
        "array1"
      ],
      "metadata": {
        "colab": {
          "base_uri": "https://localhost:8080/"
        },
        "id": "GTNcO14F-SKu",
        "outputId": "0aa396a5-4315-492a-8ef7-373b9b6a8999"
      },
      "execution_count": null,
      "outputs": [
        {
          "output_type": "execute_result",
          "data": {
            "text/plain": [
              "array([[0., 0., 0.],\n",
              "       [0., 0., 0.]])"
            ]
          },
          "metadata": {},
          "execution_count": 41
        }
      ]
    },
    {
      "cell_type": "code",
      "source": [
        "array2=np.ones((,5),dtype=np.int32)\n",
        "array2= np.arange(12)\n",
        "array2.reshape(2,6)"
      ],
      "metadata": {
        "colab": {
          "base_uri": "https://localhost:8080/"
        },
        "id": "TLu-Cl2g-o0Y",
        "outputId": "39d03c47-1274-4cad-9ede-1e064a92b19e"
      },
      "execution_count": null,
      "outputs": [
        {
          "output_type": "execute_result",
          "data": {
            "text/plain": [
              "array([[ 0,  1,  2,  3,  4,  5],\n",
              "       [ 6,  7,  8,  9, 10, 11]])"
            ]
          },
          "metadata": {},
          "execution_count": 47
        }
      ]
    },
    {
      "cell_type": "code",
      "source": [
        "A= np.array([[1,4,5,12],[-5,8,9,10],[-6,7,11,19]])"
      ],
      "metadata": {
        "id": "sgLoKlCu-R-i"
      },
      "execution_count": null,
      "outputs": []
    },
    {
      "cell_type": "code",
      "source": [
        "B=np.array([[9,-3],[3,6]])"
      ],
      "metadata": {
        "id": "dklv9SE8_fZ8"
      },
      "execution_count": null,
      "outputs": []
    },
    {
      "cell_type": "code",
      "source": [
        "C= A*B"
      ],
      "metadata": {
        "id": "RFSxcrbJ_mZX"
      },
      "execution_count": null,
      "outputs": []
    },
    {
      "cell_type": "code",
      "source": [
        "C"
      ],
      "metadata": {
        "colab": {
          "base_uri": "https://localhost:8080/"
        },
        "id": "5St48R4__q_W",
        "outputId": "a5c8a214-8f14-4c24-8d45-eb06a5cf4689"
      },
      "execution_count": null,
      "outputs": [
        {
          "output_type": "execute_result",
          "data": {
            "text/plain": [
              "array([[ 18, -12],\n",
              "       [ 15, -36]])"
            ]
          },
          "metadata": {},
          "execution_count": 53
        }
      ]
    },
    {
      "cell_type": "code",
      "source": [
        "print(A.transpose())"
      ],
      "metadata": {
        "colab": {
          "base_uri": "https://localhost:8080/"
        },
        "id": "KsVVUfOF_3q6",
        "outputId": "c99c07ce-8cde-4550-dda6-d2f783721e73"
      },
      "execution_count": null,
      "outputs": [
        {
          "output_type": "stream",
          "name": "stdout",
          "text": [
            "[[ 2  5]\n",
            " [ 4 -6]]\n"
          ]
        }
      ]
    },
    {
      "cell_type": "code",
      "source": [
        "A"
      ],
      "metadata": {
        "colab": {
          "base_uri": "https://localhost:8080/"
        },
        "id": "-t8dE4aUAEbH",
        "outputId": "4ee4f4a7-5efc-475e-e53b-82807ef6c428"
      },
      "execution_count": null,
      "outputs": [
        {
          "output_type": "execute_result",
          "data": {
            "text/plain": [
              "array([[ 1,  4,  5, 12],\n",
              "       [-5,  8,  9, 10],\n",
              "       [-6,  7, 11, 19]])"
            ]
          },
          "metadata": {},
          "execution_count": 59
        }
      ]
    },
    {
      "cell_type": "code",
      "source": [
        "A[1:2,1:2]"
      ],
      "metadata": {
        "colab": {
          "base_uri": "https://localhost:8080/"
        },
        "id": "ajOI4OrnAK1X",
        "outputId": "0b7a92cf-0fea-40b7-d800-3e25f4c19add"
      },
      "execution_count": null,
      "outputs": [
        {
          "output_type": "execute_result",
          "data": {
            "text/plain": [
              "array([[8]])"
            ]
          },
          "metadata": {},
          "execution_count": 65
        }
      ]
    },
    {
      "cell_type": "markdown",
      "metadata": {
        "id": "CEBbcm5UR8wh"
      },
      "source": [
        "## Pandas"
      ]
    },
    {
      "cell_type": "code",
      "metadata": {
        "id": "sBjcXZixjfHB"
      },
      "source": [
        "# Importing necessary libraries\n",
        "import pandas as pd # importing pandas = > useful for creating dataframes\n",
        "import numpy as np   # importing numpy = > useful for creating numpy arrays"
      ],
      "execution_count": null,
      "outputs": []
    },
    {
      "cell_type": "code",
      "metadata": {
        "id": "CrWNMFY1jljO"
      },
      "source": [
        "dir(pd)"
      ],
      "execution_count": null,
      "outputs": []
    },
    {
      "cell_type": "code",
      "metadata": {
        "id": "nvuw_jwLR8wh",
        "colab": {
          "base_uri": "https://localhost:8080/",
          "height": 53
        },
        "outputId": "40f9d068-bb3e-41a0-e0d8-e62cc7c740c0"
      },
      "source": [
        "# Importing necessary libraries\n",
        "import pandas as pd # importing pandas = > useful for creating dataframes\n",
        "import numpy as np   # importing numpy = > useful for creating numpy arrays\n",
        "\n",
        "\n",
        "x1 = [1, 2, 3, 4,5] # list format\n",
        "x2 = [10, 11, 12,13,14]  # list format\n",
        "\n",
        "x3 = list(range(5))\n",
        "\n",
        "# Creating a data frame using explicits lists\n",
        "X = pd.DataFrame(columns = [\"X1\",\"X2\",\"X3\"])\n",
        "X"
      ],
      "execution_count": null,
      "outputs": [
        {
          "output_type": "execute_result",
          "data": {
            "text/plain": [
              "Empty DataFrame\n",
              "Columns: [X1, X2, X3]\n",
              "Index: []"
            ],
            "text/html": [
              "\n",
              "  <div id=\"df-0359f03d-744f-4557-bd1a-5ac7279eb058\" class=\"colab-df-container\">\n",
              "    <div>\n",
              "<style scoped>\n",
              "    .dataframe tbody tr th:only-of-type {\n",
              "        vertical-align: middle;\n",
              "    }\n",
              "\n",
              "    .dataframe tbody tr th {\n",
              "        vertical-align: top;\n",
              "    }\n",
              "\n",
              "    .dataframe thead th {\n",
              "        text-align: right;\n",
              "    }\n",
              "</style>\n",
              "<table border=\"1\" class=\"dataframe\">\n",
              "  <thead>\n",
              "    <tr style=\"text-align: right;\">\n",
              "      <th></th>\n",
              "      <th>X1</th>\n",
              "      <th>X2</th>\n",
              "      <th>X3</th>\n",
              "    </tr>\n",
              "  </thead>\n",
              "  <tbody>\n",
              "  </tbody>\n",
              "</table>\n",
              "</div>\n",
              "    <div class=\"colab-df-buttons\">\n",
              "\n",
              "  <div class=\"colab-df-container\">\n",
              "    <button class=\"colab-df-convert\" onclick=\"convertToInteractive('df-0359f03d-744f-4557-bd1a-5ac7279eb058')\"\n",
              "            title=\"Convert this dataframe to an interactive table.\"\n",
              "            style=\"display:none;\">\n",
              "\n",
              "  <svg xmlns=\"http://www.w3.org/2000/svg\" height=\"24px\" viewBox=\"0 -960 960 960\">\n",
              "    <path d=\"M120-120v-720h720v720H120Zm60-500h600v-160H180v160Zm220 220h160v-160H400v160Zm0 220h160v-160H400v160ZM180-400h160v-160H180v160Zm440 0h160v-160H620v160ZM180-180h160v-160H180v160Zm440 0h160v-160H620v160Z\"/>\n",
              "  </svg>\n",
              "    </button>\n",
              "\n",
              "  <style>\n",
              "    .colab-df-container {\n",
              "      display:flex;\n",
              "      gap: 12px;\n",
              "    }\n",
              "\n",
              "    .colab-df-convert {\n",
              "      background-color: #E8F0FE;\n",
              "      border: none;\n",
              "      border-radius: 50%;\n",
              "      cursor: pointer;\n",
              "      display: none;\n",
              "      fill: #1967D2;\n",
              "      height: 32px;\n",
              "      padding: 0 0 0 0;\n",
              "      width: 32px;\n",
              "    }\n",
              "\n",
              "    .colab-df-convert:hover {\n",
              "      background-color: #E2EBFA;\n",
              "      box-shadow: 0px 1px 2px rgba(60, 64, 67, 0.3), 0px 1px 3px 1px rgba(60, 64, 67, 0.15);\n",
              "      fill: #174EA6;\n",
              "    }\n",
              "\n",
              "    .colab-df-buttons div {\n",
              "      margin-bottom: 4px;\n",
              "    }\n",
              "\n",
              "    [theme=dark] .colab-df-convert {\n",
              "      background-color: #3B4455;\n",
              "      fill: #D2E3FC;\n",
              "    }\n",
              "\n",
              "    [theme=dark] .colab-df-convert:hover {\n",
              "      background-color: #434B5C;\n",
              "      box-shadow: 0px 1px 3px 1px rgba(0, 0, 0, 0.15);\n",
              "      filter: drop-shadow(0px 1px 2px rgba(0, 0, 0, 0.3));\n",
              "      fill: #FFFFFF;\n",
              "    }\n",
              "  </style>\n",
              "\n",
              "    <script>\n",
              "      const buttonEl =\n",
              "        document.querySelector('#df-0359f03d-744f-4557-bd1a-5ac7279eb058 button.colab-df-convert');\n",
              "      buttonEl.style.display =\n",
              "        google.colab.kernel.accessAllowed ? 'block' : 'none';\n",
              "\n",
              "      async function convertToInteractive(key) {\n",
              "        const element = document.querySelector('#df-0359f03d-744f-4557-bd1a-5ac7279eb058');\n",
              "        const dataTable =\n",
              "          await google.colab.kernel.invokeFunction('convertToInteractive',\n",
              "                                                    [key], {});\n",
              "        if (!dataTable) return;\n",
              "\n",
              "        const docLinkHtml = 'Like what you see? Visit the ' +\n",
              "          '<a target=\"_blank\" href=https://colab.research.google.com/notebooks/data_table.ipynb>data table notebook</a>'\n",
              "          + ' to learn more about interactive tables.';\n",
              "        element.innerHTML = '';\n",
              "        dataTable['output_type'] = 'display_data';\n",
              "        await google.colab.output.renderOutput(dataTable, element);\n",
              "        const docLink = document.createElement('div');\n",
              "        docLink.innerHTML = docLinkHtml;\n",
              "        element.appendChild(docLink);\n",
              "      }\n",
              "    </script>\n",
              "  </div>\n",
              "\n",
              "    </div>\n",
              "  </div>\n"
            ]
          },
          "metadata": {},
          "execution_count": 107
        }
      ]
    },
    {
      "cell_type": "code",
      "source": [
        "X= range(6)"
      ],
      "metadata": {
        "id": "4I_PxfhtCmah"
      },
      "execution_count": null,
      "outputs": []
    },
    {
      "cell_type": "code",
      "source": [
        "list(X)"
      ],
      "metadata": {
        "colab": {
          "base_uri": "https://localhost:8080/"
        },
        "id": "rVXXortoCqLw",
        "outputId": "72494262-a14a-4658-877b-c85c8e4718f0"
      },
      "execution_count": null,
      "outputs": [
        {
          "output_type": "execute_result",
          "data": {
            "text/plain": [
              "[0, 1, 2, 3, 4, 5]"
            ]
          },
          "metadata": {},
          "execution_count": 78
        }
      ]
    },
    {
      "cell_type": "code",
      "metadata": {
        "id": "M_RqsHweR8wj"
      },
      "source": [
        "X.X1 = x1 # Converting list format into pandas series format\n",
        "X.X2 = x2 # Converting list format into pandas series format\n",
        "X.X3 = x3\n"
      ],
      "execution_count": null,
      "outputs": []
    },
    {
      "cell_type": "code",
      "source": [
        "X.X2=pd.Series(x2)\n",
        "X.X3= x3"
      ],
      "metadata": {
        "id": "l3LZwEnvHf9U"
      },
      "execution_count": null,
      "outputs": []
    },
    {
      "cell_type": "code",
      "source": [
        "X"
      ],
      "metadata": {
        "colab": {
          "base_uri": "https://localhost:8080/",
          "height": 206
        },
        "id": "-SxxBMj5H0yk",
        "outputId": "cdfe7572-092a-44d8-a566-a052f5149f9a"
      },
      "execution_count": null,
      "outputs": [
        {
          "output_type": "execute_result",
          "data": {
            "text/plain": [
              "   X1    X2  X3\n",
              "0   1  10.0   0\n",
              "1   2  11.0   1\n",
              "2   3  12.0   2\n",
              "3   4   NaN   3\n",
              "4   5   NaN   4"
            ],
            "text/html": [
              "\n",
              "  <div id=\"df-51f0db03-c394-4bc3-8875-2184e3aff187\" class=\"colab-df-container\">\n",
              "    <div>\n",
              "<style scoped>\n",
              "    .dataframe tbody tr th:only-of-type {\n",
              "        vertical-align: middle;\n",
              "    }\n",
              "\n",
              "    .dataframe tbody tr th {\n",
              "        vertical-align: top;\n",
              "    }\n",
              "\n",
              "    .dataframe thead th {\n",
              "        text-align: right;\n",
              "    }\n",
              "</style>\n",
              "<table border=\"1\" class=\"dataframe\">\n",
              "  <thead>\n",
              "    <tr style=\"text-align: right;\">\n",
              "      <th></th>\n",
              "      <th>X1</th>\n",
              "      <th>X2</th>\n",
              "      <th>X3</th>\n",
              "    </tr>\n",
              "  </thead>\n",
              "  <tbody>\n",
              "    <tr>\n",
              "      <th>0</th>\n",
              "      <td>1</td>\n",
              "      <td>10.0</td>\n",
              "      <td>0</td>\n",
              "    </tr>\n",
              "    <tr>\n",
              "      <th>1</th>\n",
              "      <td>2</td>\n",
              "      <td>11.0</td>\n",
              "      <td>1</td>\n",
              "    </tr>\n",
              "    <tr>\n",
              "      <th>2</th>\n",
              "      <td>3</td>\n",
              "      <td>12.0</td>\n",
              "      <td>2</td>\n",
              "    </tr>\n",
              "    <tr>\n",
              "      <th>3</th>\n",
              "      <td>4</td>\n",
              "      <td>NaN</td>\n",
              "      <td>3</td>\n",
              "    </tr>\n",
              "    <tr>\n",
              "      <th>4</th>\n",
              "      <td>5</td>\n",
              "      <td>NaN</td>\n",
              "      <td>4</td>\n",
              "    </tr>\n",
              "  </tbody>\n",
              "</table>\n",
              "</div>\n",
              "    <div class=\"colab-df-buttons\">\n",
              "\n",
              "  <div class=\"colab-df-container\">\n",
              "    <button class=\"colab-df-convert\" onclick=\"convertToInteractive('df-51f0db03-c394-4bc3-8875-2184e3aff187')\"\n",
              "            title=\"Convert this dataframe to an interactive table.\"\n",
              "            style=\"display:none;\">\n",
              "\n",
              "  <svg xmlns=\"http://www.w3.org/2000/svg\" height=\"24px\" viewBox=\"0 -960 960 960\">\n",
              "    <path d=\"M120-120v-720h720v720H120Zm60-500h600v-160H180v160Zm220 220h160v-160H400v160Zm0 220h160v-160H400v160ZM180-400h160v-160H180v160Zm440 0h160v-160H620v160ZM180-180h160v-160H180v160Zm440 0h160v-160H620v160Z\"/>\n",
              "  </svg>\n",
              "    </button>\n",
              "\n",
              "  <style>\n",
              "    .colab-df-container {\n",
              "      display:flex;\n",
              "      gap: 12px;\n",
              "    }\n",
              "\n",
              "    .colab-df-convert {\n",
              "      background-color: #E8F0FE;\n",
              "      border: none;\n",
              "      border-radius: 50%;\n",
              "      cursor: pointer;\n",
              "      display: none;\n",
              "      fill: #1967D2;\n",
              "      height: 32px;\n",
              "      padding: 0 0 0 0;\n",
              "      width: 32px;\n",
              "    }\n",
              "\n",
              "    .colab-df-convert:hover {\n",
              "      background-color: #E2EBFA;\n",
              "      box-shadow: 0px 1px 2px rgba(60, 64, 67, 0.3), 0px 1px 3px 1px rgba(60, 64, 67, 0.15);\n",
              "      fill: #174EA6;\n",
              "    }\n",
              "\n",
              "    .colab-df-buttons div {\n",
              "      margin-bottom: 4px;\n",
              "    }\n",
              "\n",
              "    [theme=dark] .colab-df-convert {\n",
              "      background-color: #3B4455;\n",
              "      fill: #D2E3FC;\n",
              "    }\n",
              "\n",
              "    [theme=dark] .colab-df-convert:hover {\n",
              "      background-color: #434B5C;\n",
              "      box-shadow: 0px 1px 3px 1px rgba(0, 0, 0, 0.15);\n",
              "      filter: drop-shadow(0px 1px 2px rgba(0, 0, 0, 0.3));\n",
              "      fill: #FFFFFF;\n",
              "    }\n",
              "  </style>\n",
              "\n",
              "    <script>\n",
              "      const buttonEl =\n",
              "        document.querySelector('#df-51f0db03-c394-4bc3-8875-2184e3aff187 button.colab-df-convert');\n",
              "      buttonEl.style.display =\n",
              "        google.colab.kernel.accessAllowed ? 'block' : 'none';\n",
              "\n",
              "      async function convertToInteractive(key) {\n",
              "        const element = document.querySelector('#df-51f0db03-c394-4bc3-8875-2184e3aff187');\n",
              "        const dataTable =\n",
              "          await google.colab.kernel.invokeFunction('convertToInteractive',\n",
              "                                                    [key], {});\n",
              "        if (!dataTable) return;\n",
              "\n",
              "        const docLinkHtml = 'Like what you see? Visit the ' +\n",
              "          '<a target=\"_blank\" href=https://colab.research.google.com/notebooks/data_table.ipynb>data table notebook</a>'\n",
              "          + ' to learn more about interactive tables.';\n",
              "        element.innerHTML = '';\n",
              "        dataTable['output_type'] = 'display_data';\n",
              "        await google.colab.output.renderOutput(dataTable, element);\n",
              "        const docLink = document.createElement('div');\n",
              "        docLink.innerHTML = docLinkHtml;\n",
              "        element.appendChild(docLink);\n",
              "      }\n",
              "    </script>\n",
              "  </div>\n",
              "\n",
              "\n",
              "<div id=\"df-0a5be266-5814-43a6-bbd3-8536866db6a0\">\n",
              "  <button class=\"colab-df-quickchart\" onclick=\"quickchart('df-0a5be266-5814-43a6-bbd3-8536866db6a0')\"\n",
              "            title=\"Suggest charts.\"\n",
              "            style=\"display:none;\">\n",
              "\n",
              "<svg xmlns=\"http://www.w3.org/2000/svg\" height=\"24px\"viewBox=\"0 0 24 24\"\n",
              "     width=\"24px\">\n",
              "    <g>\n",
              "        <path d=\"M19 3H5c-1.1 0-2 .9-2 2v14c0 1.1.9 2 2 2h14c1.1 0 2-.9 2-2V5c0-1.1-.9-2-2-2zM9 17H7v-7h2v7zm4 0h-2V7h2v10zm4 0h-2v-4h2v4z\"/>\n",
              "    </g>\n",
              "</svg>\n",
              "  </button>\n",
              "\n",
              "<style>\n",
              "  .colab-df-quickchart {\n",
              "    background-color: #E8F0FE;\n",
              "    border: none;\n",
              "    border-radius: 50%;\n",
              "    cursor: pointer;\n",
              "    display: none;\n",
              "    fill: #1967D2;\n",
              "    height: 32px;\n",
              "    padding: 0 0 0 0;\n",
              "    width: 32px;\n",
              "  }\n",
              "\n",
              "  .colab-df-quickchart:hover {\n",
              "    background-color: #E2EBFA;\n",
              "    box-shadow: 0px 1px 2px rgba(60, 64, 67, 0.3), 0px 1px 3px 1px rgba(60, 64, 67, 0.15);\n",
              "    fill: #174EA6;\n",
              "  }\n",
              "\n",
              "  [theme=dark] .colab-df-quickchart {\n",
              "    background-color: #3B4455;\n",
              "    fill: #D2E3FC;\n",
              "  }\n",
              "\n",
              "  [theme=dark] .colab-df-quickchart:hover {\n",
              "    background-color: #434B5C;\n",
              "    box-shadow: 0px 1px 3px 1px rgba(0, 0, 0, 0.15);\n",
              "    filter: drop-shadow(0px 1px 2px rgba(0, 0, 0, 0.3));\n",
              "    fill: #FFFFFF;\n",
              "  }\n",
              "</style>\n",
              "\n",
              "  <script>\n",
              "    async function quickchart(key) {\n",
              "      const charts = await google.colab.kernel.invokeFunction(\n",
              "          'suggestCharts', [key], {});\n",
              "    }\n",
              "    (() => {\n",
              "      let quickchartButtonEl =\n",
              "        document.querySelector('#df-0a5be266-5814-43a6-bbd3-8536866db6a0 button');\n",
              "      quickchartButtonEl.style.display =\n",
              "        google.colab.kernel.accessAllowed ? 'block' : 'none';\n",
              "    })();\n",
              "  </script>\n",
              "</div>\n",
              "    </div>\n",
              "  </div>\n"
            ]
          },
          "metadata": {},
          "execution_count": 103
        }
      ]
    },
    {
      "cell_type": "code",
      "metadata": {
        "id": "qUr1m6mTUNmw"
      },
      "source": [
        "# Copy same data into another variable\n",
        "dff = X.copy(deep=False)    # Shallow copy shares data and index with original.\n",
        "dff1 = X.copy(deep=True)    # Deep copy has own copy of data and index."
      ],
      "execution_count": null,
      "outputs": []
    },
    {
      "cell_type": "code",
      "source": [
        "dff"
      ],
      "metadata": {
        "colab": {
          "base_uri": "https://localhost:8080/",
          "height": 206
        },
        "id": "cqg_gpTuEKlr",
        "outputId": "b1c1f836-89e1-4396-a9f5-e70daf00b102"
      },
      "execution_count": null,
      "outputs": [
        {
          "output_type": "execute_result",
          "data": {
            "text/plain": [
              "   age  gender  state\n",
              "0    1      10      0\n",
              "1    2      11      1\n",
              "2    3      12      2\n",
              "3    4      13      3\n",
              "4    5      14      4"
            ],
            "text/html": [
              "\n",
              "  <div id=\"df-5f7a5a8f-6868-4b44-804c-31da936f3db1\" class=\"colab-df-container\">\n",
              "    <div>\n",
              "<style scoped>\n",
              "    .dataframe tbody tr th:only-of-type {\n",
              "        vertical-align: middle;\n",
              "    }\n",
              "\n",
              "    .dataframe tbody tr th {\n",
              "        vertical-align: top;\n",
              "    }\n",
              "\n",
              "    .dataframe thead th {\n",
              "        text-align: right;\n",
              "    }\n",
              "</style>\n",
              "<table border=\"1\" class=\"dataframe\">\n",
              "  <thead>\n",
              "    <tr style=\"text-align: right;\">\n",
              "      <th></th>\n",
              "      <th>age</th>\n",
              "      <th>gender</th>\n",
              "      <th>state</th>\n",
              "    </tr>\n",
              "  </thead>\n",
              "  <tbody>\n",
              "    <tr>\n",
              "      <th>0</th>\n",
              "      <td>1</td>\n",
              "      <td>10</td>\n",
              "      <td>0</td>\n",
              "    </tr>\n",
              "    <tr>\n",
              "      <th>1</th>\n",
              "      <td>2</td>\n",
              "      <td>11</td>\n",
              "      <td>1</td>\n",
              "    </tr>\n",
              "    <tr>\n",
              "      <th>2</th>\n",
              "      <td>3</td>\n",
              "      <td>12</td>\n",
              "      <td>2</td>\n",
              "    </tr>\n",
              "    <tr>\n",
              "      <th>3</th>\n",
              "      <td>4</td>\n",
              "      <td>13</td>\n",
              "      <td>3</td>\n",
              "    </tr>\n",
              "    <tr>\n",
              "      <th>4</th>\n",
              "      <td>5</td>\n",
              "      <td>14</td>\n",
              "      <td>4</td>\n",
              "    </tr>\n",
              "  </tbody>\n",
              "</table>\n",
              "</div>\n",
              "    <div class=\"colab-df-buttons\">\n",
              "\n",
              "  <div class=\"colab-df-container\">\n",
              "    <button class=\"colab-df-convert\" onclick=\"convertToInteractive('df-5f7a5a8f-6868-4b44-804c-31da936f3db1')\"\n",
              "            title=\"Convert this dataframe to an interactive table.\"\n",
              "            style=\"display:none;\">\n",
              "\n",
              "  <svg xmlns=\"http://www.w3.org/2000/svg\" height=\"24px\" viewBox=\"0 -960 960 960\">\n",
              "    <path d=\"M120-120v-720h720v720H120Zm60-500h600v-160H180v160Zm220 220h160v-160H400v160Zm0 220h160v-160H400v160ZM180-400h160v-160H180v160Zm440 0h160v-160H620v160ZM180-180h160v-160H180v160Zm440 0h160v-160H620v160Z\"/>\n",
              "  </svg>\n",
              "    </button>\n",
              "\n",
              "  <style>\n",
              "    .colab-df-container {\n",
              "      display:flex;\n",
              "      gap: 12px;\n",
              "    }\n",
              "\n",
              "    .colab-df-convert {\n",
              "      background-color: #E8F0FE;\n",
              "      border: none;\n",
              "      border-radius: 50%;\n",
              "      cursor: pointer;\n",
              "      display: none;\n",
              "      fill: #1967D2;\n",
              "      height: 32px;\n",
              "      padding: 0 0 0 0;\n",
              "      width: 32px;\n",
              "    }\n",
              "\n",
              "    .colab-df-convert:hover {\n",
              "      background-color: #E2EBFA;\n",
              "      box-shadow: 0px 1px 2px rgba(60, 64, 67, 0.3), 0px 1px 3px 1px rgba(60, 64, 67, 0.15);\n",
              "      fill: #174EA6;\n",
              "    }\n",
              "\n",
              "    .colab-df-buttons div {\n",
              "      margin-bottom: 4px;\n",
              "    }\n",
              "\n",
              "    [theme=dark] .colab-df-convert {\n",
              "      background-color: #3B4455;\n",
              "      fill: #D2E3FC;\n",
              "    }\n",
              "\n",
              "    [theme=dark] .colab-df-convert:hover {\n",
              "      background-color: #434B5C;\n",
              "      box-shadow: 0px 1px 3px 1px rgba(0, 0, 0, 0.15);\n",
              "      filter: drop-shadow(0px 1px 2px rgba(0, 0, 0, 0.3));\n",
              "      fill: #FFFFFF;\n",
              "    }\n",
              "  </style>\n",
              "\n",
              "    <script>\n",
              "      const buttonEl =\n",
              "        document.querySelector('#df-5f7a5a8f-6868-4b44-804c-31da936f3db1 button.colab-df-convert');\n",
              "      buttonEl.style.display =\n",
              "        google.colab.kernel.accessAllowed ? 'block' : 'none';\n",
              "\n",
              "      async function convertToInteractive(key) {\n",
              "        const element = document.querySelector('#df-5f7a5a8f-6868-4b44-804c-31da936f3db1');\n",
              "        const dataTable =\n",
              "          await google.colab.kernel.invokeFunction('convertToInteractive',\n",
              "                                                    [key], {});\n",
              "        if (!dataTable) return;\n",
              "\n",
              "        const docLinkHtml = 'Like what you see? Visit the ' +\n",
              "          '<a target=\"_blank\" href=https://colab.research.google.com/notebooks/data_table.ipynb>data table notebook</a>'\n",
              "          + ' to learn more about interactive tables.';\n",
              "        element.innerHTML = '';\n",
              "        dataTable['output_type'] = 'display_data';\n",
              "        await google.colab.output.renderOutput(dataTable, element);\n",
              "        const docLink = document.createElement('div');\n",
              "        docLink.innerHTML = docLinkHtml;\n",
              "        element.appendChild(docLink);\n",
              "      }\n",
              "    </script>\n",
              "  </div>\n",
              "\n",
              "\n",
              "<div id=\"df-5f690a17-9976-4afc-b5c7-cdcf531e44c0\">\n",
              "  <button class=\"colab-df-quickchart\" onclick=\"quickchart('df-5f690a17-9976-4afc-b5c7-cdcf531e44c0')\"\n",
              "            title=\"Suggest charts.\"\n",
              "            style=\"display:none;\">\n",
              "\n",
              "<svg xmlns=\"http://www.w3.org/2000/svg\" height=\"24px\"viewBox=\"0 0 24 24\"\n",
              "     width=\"24px\">\n",
              "    <g>\n",
              "        <path d=\"M19 3H5c-1.1 0-2 .9-2 2v14c0 1.1.9 2 2 2h14c1.1 0 2-.9 2-2V5c0-1.1-.9-2-2-2zM9 17H7v-7h2v7zm4 0h-2V7h2v10zm4 0h-2v-4h2v4z\"/>\n",
              "    </g>\n",
              "</svg>\n",
              "  </button>\n",
              "\n",
              "<style>\n",
              "  .colab-df-quickchart {\n",
              "    background-color: #E8F0FE;\n",
              "    border: none;\n",
              "    border-radius: 50%;\n",
              "    cursor: pointer;\n",
              "    display: none;\n",
              "    fill: #1967D2;\n",
              "    height: 32px;\n",
              "    padding: 0 0 0 0;\n",
              "    width: 32px;\n",
              "  }\n",
              "\n",
              "  .colab-df-quickchart:hover {\n",
              "    background-color: #E2EBFA;\n",
              "    box-shadow: 0px 1px 2px rgba(60, 64, 67, 0.3), 0px 1px 3px 1px rgba(60, 64, 67, 0.15);\n",
              "    fill: #174EA6;\n",
              "  }\n",
              "\n",
              "  [theme=dark] .colab-df-quickchart {\n",
              "    background-color: #3B4455;\n",
              "    fill: #D2E3FC;\n",
              "  }\n",
              "\n",
              "  [theme=dark] .colab-df-quickchart:hover {\n",
              "    background-color: #434B5C;\n",
              "    box-shadow: 0px 1px 3px 1px rgba(0, 0, 0, 0.15);\n",
              "    filter: drop-shadow(0px 1px 2px rgba(0, 0, 0, 0.3));\n",
              "    fill: #FFFFFF;\n",
              "  }\n",
              "</style>\n",
              "\n",
              "  <script>\n",
              "    async function quickchart(key) {\n",
              "      const charts = await google.colab.kernel.invokeFunction(\n",
              "          'suggestCharts', [key], {});\n",
              "    }\n",
              "    (() => {\n",
              "      let quickchartButtonEl =\n",
              "        document.querySelector('#df-5f690a17-9976-4afc-b5c7-cdcf531e44c0 button');\n",
              "      quickchartButtonEl.style.display =\n",
              "        google.colab.kernel.accessAllowed ? 'block' : 'none';\n",
              "    })();\n",
              "  </script>\n",
              "</div>\n",
              "    </div>\n",
              "  </div>\n"
            ]
          },
          "metadata": {},
          "execution_count": 88
        }
      ]
    },
    {
      "cell_type": "code",
      "source": [
        "id(dff)"
      ],
      "metadata": {
        "colab": {
          "base_uri": "https://localhost:8080/"
        },
        "id": "Qk9-dsuFEmhn",
        "outputId": "6365dbdf-3cd9-48ca-fe76-e7fefedd0b1d"
      },
      "execution_count": null,
      "outputs": [
        {
          "output_type": "execute_result",
          "data": {
            "text/plain": [
              "138226989084736"
            ]
          },
          "metadata": {},
          "execution_count": 90
        }
      ]
    },
    {
      "cell_type": "code",
      "source": [
        "id(dff1)"
      ],
      "metadata": {
        "colab": {
          "base_uri": "https://localhost:8080/"
        },
        "id": "eCLG40a0EpCt",
        "outputId": "0c7a2c1e-c018-4d9e-b886-b0daeca20263"
      },
      "execution_count": null,
      "outputs": [
        {
          "output_type": "execute_result",
          "data": {
            "text/plain": [
              "138226122897632"
            ]
          },
          "metadata": {},
          "execution_count": 91
        }
      ]
    },
    {
      "cell_type": "code",
      "metadata": {
        "colab": {
          "base_uri": "https://localhost:8080/",
          "height": 206
        },
        "id": "Rbnpawalmin5",
        "outputId": "4a0524a2-bd09-49a2-b0a0-6789eebdb30d"
      },
      "source": [
        "dff1"
      ],
      "execution_count": null,
      "outputs": [
        {
          "output_type": "execute_result",
          "data": {
            "text/plain": [
              "   age  gender  state\n",
              "0    1      10      0\n",
              "1    2      11      1\n",
              "2    3      12      2\n",
              "3    4      13      3\n",
              "4    5      14      4"
            ],
            "text/html": [
              "\n",
              "  <div id=\"df-58a91f03-de5f-4af3-bcdf-4dd73018314a\" class=\"colab-df-container\">\n",
              "    <div>\n",
              "<style scoped>\n",
              "    .dataframe tbody tr th:only-of-type {\n",
              "        vertical-align: middle;\n",
              "    }\n",
              "\n",
              "    .dataframe tbody tr th {\n",
              "        vertical-align: top;\n",
              "    }\n",
              "\n",
              "    .dataframe thead th {\n",
              "        text-align: right;\n",
              "    }\n",
              "</style>\n",
              "<table border=\"1\" class=\"dataframe\">\n",
              "  <thead>\n",
              "    <tr style=\"text-align: right;\">\n",
              "      <th></th>\n",
              "      <th>age</th>\n",
              "      <th>gender</th>\n",
              "      <th>state</th>\n",
              "    </tr>\n",
              "  </thead>\n",
              "  <tbody>\n",
              "    <tr>\n",
              "      <th>0</th>\n",
              "      <td>1</td>\n",
              "      <td>10</td>\n",
              "      <td>0</td>\n",
              "    </tr>\n",
              "    <tr>\n",
              "      <th>1</th>\n",
              "      <td>2</td>\n",
              "      <td>11</td>\n",
              "      <td>1</td>\n",
              "    </tr>\n",
              "    <tr>\n",
              "      <th>2</th>\n",
              "      <td>3</td>\n",
              "      <td>12</td>\n",
              "      <td>2</td>\n",
              "    </tr>\n",
              "    <tr>\n",
              "      <th>3</th>\n",
              "      <td>4</td>\n",
              "      <td>13</td>\n",
              "      <td>3</td>\n",
              "    </tr>\n",
              "    <tr>\n",
              "      <th>4</th>\n",
              "      <td>5</td>\n",
              "      <td>14</td>\n",
              "      <td>4</td>\n",
              "    </tr>\n",
              "  </tbody>\n",
              "</table>\n",
              "</div>\n",
              "    <div class=\"colab-df-buttons\">\n",
              "\n",
              "  <div class=\"colab-df-container\">\n",
              "    <button class=\"colab-df-convert\" onclick=\"convertToInteractive('df-58a91f03-de5f-4af3-bcdf-4dd73018314a')\"\n",
              "            title=\"Convert this dataframe to an interactive table.\"\n",
              "            style=\"display:none;\">\n",
              "\n",
              "  <svg xmlns=\"http://www.w3.org/2000/svg\" height=\"24px\" viewBox=\"0 -960 960 960\">\n",
              "    <path d=\"M120-120v-720h720v720H120Zm60-500h600v-160H180v160Zm220 220h160v-160H400v160Zm0 220h160v-160H400v160ZM180-400h160v-160H180v160Zm440 0h160v-160H620v160ZM180-180h160v-160H180v160Zm440 0h160v-160H620v160Z\"/>\n",
              "  </svg>\n",
              "    </button>\n",
              "\n",
              "  <style>\n",
              "    .colab-df-container {\n",
              "      display:flex;\n",
              "      gap: 12px;\n",
              "    }\n",
              "\n",
              "    .colab-df-convert {\n",
              "      background-color: #E8F0FE;\n",
              "      border: none;\n",
              "      border-radius: 50%;\n",
              "      cursor: pointer;\n",
              "      display: none;\n",
              "      fill: #1967D2;\n",
              "      height: 32px;\n",
              "      padding: 0 0 0 0;\n",
              "      width: 32px;\n",
              "    }\n",
              "\n",
              "    .colab-df-convert:hover {\n",
              "      background-color: #E2EBFA;\n",
              "      box-shadow: 0px 1px 2px rgba(60, 64, 67, 0.3), 0px 1px 3px 1px rgba(60, 64, 67, 0.15);\n",
              "      fill: #174EA6;\n",
              "    }\n",
              "\n",
              "    .colab-df-buttons div {\n",
              "      margin-bottom: 4px;\n",
              "    }\n",
              "\n",
              "    [theme=dark] .colab-df-convert {\n",
              "      background-color: #3B4455;\n",
              "      fill: #D2E3FC;\n",
              "    }\n",
              "\n",
              "    [theme=dark] .colab-df-convert:hover {\n",
              "      background-color: #434B5C;\n",
              "      box-shadow: 0px 1px 3px 1px rgba(0, 0, 0, 0.15);\n",
              "      filter: drop-shadow(0px 1px 2px rgba(0, 0, 0, 0.3));\n",
              "      fill: #FFFFFF;\n",
              "    }\n",
              "  </style>\n",
              "\n",
              "    <script>\n",
              "      const buttonEl =\n",
              "        document.querySelector('#df-58a91f03-de5f-4af3-bcdf-4dd73018314a button.colab-df-convert');\n",
              "      buttonEl.style.display =\n",
              "        google.colab.kernel.accessAllowed ? 'block' : 'none';\n",
              "\n",
              "      async function convertToInteractive(key) {\n",
              "        const element = document.querySelector('#df-58a91f03-de5f-4af3-bcdf-4dd73018314a');\n",
              "        const dataTable =\n",
              "          await google.colab.kernel.invokeFunction('convertToInteractive',\n",
              "                                                    [key], {});\n",
              "        if (!dataTable) return;\n",
              "\n",
              "        const docLinkHtml = 'Like what you see? Visit the ' +\n",
              "          '<a target=\"_blank\" href=https://colab.research.google.com/notebooks/data_table.ipynb>data table notebook</a>'\n",
              "          + ' to learn more about interactive tables.';\n",
              "        element.innerHTML = '';\n",
              "        dataTable['output_type'] = 'display_data';\n",
              "        await google.colab.output.renderOutput(dataTable, element);\n",
              "        const docLink = document.createElement('div');\n",
              "        docLink.innerHTML = docLinkHtml;\n",
              "        element.appendChild(docLink);\n",
              "      }\n",
              "    </script>\n",
              "  </div>\n",
              "\n",
              "\n",
              "<div id=\"df-7b28bfc1-9321-4300-92af-afb69a0b97ee\">\n",
              "  <button class=\"colab-df-quickchart\" onclick=\"quickchart('df-7b28bfc1-9321-4300-92af-afb69a0b97ee')\"\n",
              "            title=\"Suggest charts.\"\n",
              "            style=\"display:none;\">\n",
              "\n",
              "<svg xmlns=\"http://www.w3.org/2000/svg\" height=\"24px\"viewBox=\"0 0 24 24\"\n",
              "     width=\"24px\">\n",
              "    <g>\n",
              "        <path d=\"M19 3H5c-1.1 0-2 .9-2 2v14c0 1.1.9 2 2 2h14c1.1 0 2-.9 2-2V5c0-1.1-.9-2-2-2zM9 17H7v-7h2v7zm4 0h-2V7h2v10zm4 0h-2v-4h2v4z\"/>\n",
              "    </g>\n",
              "</svg>\n",
              "  </button>\n",
              "\n",
              "<style>\n",
              "  .colab-df-quickchart {\n",
              "    background-color: #E8F0FE;\n",
              "    border: none;\n",
              "    border-radius: 50%;\n",
              "    cursor: pointer;\n",
              "    display: none;\n",
              "    fill: #1967D2;\n",
              "    height: 32px;\n",
              "    padding: 0 0 0 0;\n",
              "    width: 32px;\n",
              "  }\n",
              "\n",
              "  .colab-df-quickchart:hover {\n",
              "    background-color: #E2EBFA;\n",
              "    box-shadow: 0px 1px 2px rgba(60, 64, 67, 0.3), 0px 1px 3px 1px rgba(60, 64, 67, 0.15);\n",
              "    fill: #174EA6;\n",
              "  }\n",
              "\n",
              "  [theme=dark] .colab-df-quickchart {\n",
              "    background-color: #3B4455;\n",
              "    fill: #D2E3FC;\n",
              "  }\n",
              "\n",
              "  [theme=dark] .colab-df-quickchart:hover {\n",
              "    background-color: #434B5C;\n",
              "    box-shadow: 0px 1px 3px 1px rgba(0, 0, 0, 0.15);\n",
              "    filter: drop-shadow(0px 1px 2px rgba(0, 0, 0, 0.3));\n",
              "    fill: #FFFFFF;\n",
              "  }\n",
              "</style>\n",
              "\n",
              "  <script>\n",
              "    async function quickchart(key) {\n",
              "      const charts = await google.colab.kernel.invokeFunction(\n",
              "          'suggestCharts', [key], {});\n",
              "    }\n",
              "    (() => {\n",
              "      let quickchartButtonEl =\n",
              "        document.querySelector('#df-7b28bfc1-9321-4300-92af-afb69a0b97ee button');\n",
              "      quickchartButtonEl.style.display =\n",
              "        google.colab.kernel.accessAllowed ? 'block' : 'none';\n",
              "    })();\n",
              "  </script>\n",
              "</div>\n",
              "    </div>\n",
              "  </div>\n"
            ]
          },
          "metadata": {},
          "execution_count": 89
        }
      ]
    },
    {
      "cell_type": "markdown",
      "metadata": {
        "id": "oHz2MBfoX2st"
      },
      "source": [
        "Explanation"
      ]
    },
    {
      "cell_type": "code",
      "metadata": {
        "id": "EdzLxlCtWoSF",
        "colab": {
          "base_uri": "https://localhost:8080/",
          "height": 313
        },
        "outputId": "670733ec-facd-493d-9c6d-03cb22e8eeed"
      },
      "source": [
        "# shallow copy\n",
        "dff['age'][0] = 10\n",
        "print(dff)   # Any change in copy format will going to make changes in original data also\n",
        "X"
      ],
      "execution_count": null,
      "outputs": [
        {
          "output_type": "stream",
          "name": "stdout",
          "text": [
            "   age  gender  state\n",
            "0   10      10      0\n",
            "1    2      11      1\n",
            "2    3      12      2\n",
            "3    4      13      3\n",
            "4    5      14      4\n"
          ]
        },
        {
          "output_type": "execute_result",
          "data": {
            "text/plain": [
              "   age  gender  state\n",
              "0   10      10      0\n",
              "1    2      11      1\n",
              "2    3      12      2\n",
              "3    4      13      3\n",
              "4    5      14      4"
            ],
            "text/html": [
              "\n",
              "  <div id=\"df-7a3b0a7b-30e3-47f2-b8a1-ed20a2e13611\" class=\"colab-df-container\">\n",
              "    <div>\n",
              "<style scoped>\n",
              "    .dataframe tbody tr th:only-of-type {\n",
              "        vertical-align: middle;\n",
              "    }\n",
              "\n",
              "    .dataframe tbody tr th {\n",
              "        vertical-align: top;\n",
              "    }\n",
              "\n",
              "    .dataframe thead th {\n",
              "        text-align: right;\n",
              "    }\n",
              "</style>\n",
              "<table border=\"1\" class=\"dataframe\">\n",
              "  <thead>\n",
              "    <tr style=\"text-align: right;\">\n",
              "      <th></th>\n",
              "      <th>age</th>\n",
              "      <th>gender</th>\n",
              "      <th>state</th>\n",
              "    </tr>\n",
              "  </thead>\n",
              "  <tbody>\n",
              "    <tr>\n",
              "      <th>0</th>\n",
              "      <td>10</td>\n",
              "      <td>10</td>\n",
              "      <td>0</td>\n",
              "    </tr>\n",
              "    <tr>\n",
              "      <th>1</th>\n",
              "      <td>2</td>\n",
              "      <td>11</td>\n",
              "      <td>1</td>\n",
              "    </tr>\n",
              "    <tr>\n",
              "      <th>2</th>\n",
              "      <td>3</td>\n",
              "      <td>12</td>\n",
              "      <td>2</td>\n",
              "    </tr>\n",
              "    <tr>\n",
              "      <th>3</th>\n",
              "      <td>4</td>\n",
              "      <td>13</td>\n",
              "      <td>3</td>\n",
              "    </tr>\n",
              "    <tr>\n",
              "      <th>4</th>\n",
              "      <td>5</td>\n",
              "      <td>14</td>\n",
              "      <td>4</td>\n",
              "    </tr>\n",
              "  </tbody>\n",
              "</table>\n",
              "</div>\n",
              "    <div class=\"colab-df-buttons\">\n",
              "\n",
              "  <div class=\"colab-df-container\">\n",
              "    <button class=\"colab-df-convert\" onclick=\"convertToInteractive('df-7a3b0a7b-30e3-47f2-b8a1-ed20a2e13611')\"\n",
              "            title=\"Convert this dataframe to an interactive table.\"\n",
              "            style=\"display:none;\">\n",
              "\n",
              "  <svg xmlns=\"http://www.w3.org/2000/svg\" height=\"24px\" viewBox=\"0 -960 960 960\">\n",
              "    <path d=\"M120-120v-720h720v720H120Zm60-500h600v-160H180v160Zm220 220h160v-160H400v160Zm0 220h160v-160H400v160ZM180-400h160v-160H180v160Zm440 0h160v-160H620v160ZM180-180h160v-160H180v160Zm440 0h160v-160H620v160Z\"/>\n",
              "  </svg>\n",
              "    </button>\n",
              "\n",
              "  <style>\n",
              "    .colab-df-container {\n",
              "      display:flex;\n",
              "      gap: 12px;\n",
              "    }\n",
              "\n",
              "    .colab-df-convert {\n",
              "      background-color: #E8F0FE;\n",
              "      border: none;\n",
              "      border-radius: 50%;\n",
              "      cursor: pointer;\n",
              "      display: none;\n",
              "      fill: #1967D2;\n",
              "      height: 32px;\n",
              "      padding: 0 0 0 0;\n",
              "      width: 32px;\n",
              "    }\n",
              "\n",
              "    .colab-df-convert:hover {\n",
              "      background-color: #E2EBFA;\n",
              "      box-shadow: 0px 1px 2px rgba(60, 64, 67, 0.3), 0px 1px 3px 1px rgba(60, 64, 67, 0.15);\n",
              "      fill: #174EA6;\n",
              "    }\n",
              "\n",
              "    .colab-df-buttons div {\n",
              "      margin-bottom: 4px;\n",
              "    }\n",
              "\n",
              "    [theme=dark] .colab-df-convert {\n",
              "      background-color: #3B4455;\n",
              "      fill: #D2E3FC;\n",
              "    }\n",
              "\n",
              "    [theme=dark] .colab-df-convert:hover {\n",
              "      background-color: #434B5C;\n",
              "      box-shadow: 0px 1px 3px 1px rgba(0, 0, 0, 0.15);\n",
              "      filter: drop-shadow(0px 1px 2px rgba(0, 0, 0, 0.3));\n",
              "      fill: #FFFFFF;\n",
              "    }\n",
              "  </style>\n",
              "\n",
              "    <script>\n",
              "      const buttonEl =\n",
              "        document.querySelector('#df-7a3b0a7b-30e3-47f2-b8a1-ed20a2e13611 button.colab-df-convert');\n",
              "      buttonEl.style.display =\n",
              "        google.colab.kernel.accessAllowed ? 'block' : 'none';\n",
              "\n",
              "      async function convertToInteractive(key) {\n",
              "        const element = document.querySelector('#df-7a3b0a7b-30e3-47f2-b8a1-ed20a2e13611');\n",
              "        const dataTable =\n",
              "          await google.colab.kernel.invokeFunction('convertToInteractive',\n",
              "                                                    [key], {});\n",
              "        if (!dataTable) return;\n",
              "\n",
              "        const docLinkHtml = 'Like what you see? Visit the ' +\n",
              "          '<a target=\"_blank\" href=https://colab.research.google.com/notebooks/data_table.ipynb>data table notebook</a>'\n",
              "          + ' to learn more about interactive tables.';\n",
              "        element.innerHTML = '';\n",
              "        dataTable['output_type'] = 'display_data';\n",
              "        await google.colab.output.renderOutput(dataTable, element);\n",
              "        const docLink = document.createElement('div');\n",
              "        docLink.innerHTML = docLinkHtml;\n",
              "        element.appendChild(docLink);\n",
              "      }\n",
              "    </script>\n",
              "  </div>\n",
              "\n",
              "\n",
              "<div id=\"df-750fad0e-2b7b-4cca-93cc-e163c716d684\">\n",
              "  <button class=\"colab-df-quickchart\" onclick=\"quickchart('df-750fad0e-2b7b-4cca-93cc-e163c716d684')\"\n",
              "            title=\"Suggest charts.\"\n",
              "            style=\"display:none;\">\n",
              "\n",
              "<svg xmlns=\"http://www.w3.org/2000/svg\" height=\"24px\"viewBox=\"0 0 24 24\"\n",
              "     width=\"24px\">\n",
              "    <g>\n",
              "        <path d=\"M19 3H5c-1.1 0-2 .9-2 2v14c0 1.1.9 2 2 2h14c1.1 0 2-.9 2-2V5c0-1.1-.9-2-2-2zM9 17H7v-7h2v7zm4 0h-2V7h2v10zm4 0h-2v-4h2v4z\"/>\n",
              "    </g>\n",
              "</svg>\n",
              "  </button>\n",
              "\n",
              "<style>\n",
              "  .colab-df-quickchart {\n",
              "    background-color: #E8F0FE;\n",
              "    border: none;\n",
              "    border-radius: 50%;\n",
              "    cursor: pointer;\n",
              "    display: none;\n",
              "    fill: #1967D2;\n",
              "    height: 32px;\n",
              "    padding: 0 0 0 0;\n",
              "    width: 32px;\n",
              "  }\n",
              "\n",
              "  .colab-df-quickchart:hover {\n",
              "    background-color: #E2EBFA;\n",
              "    box-shadow: 0px 1px 2px rgba(60, 64, 67, 0.3), 0px 1px 3px 1px rgba(60, 64, 67, 0.15);\n",
              "    fill: #174EA6;\n",
              "  }\n",
              "\n",
              "  [theme=dark] .colab-df-quickchart {\n",
              "    background-color: #3B4455;\n",
              "    fill: #D2E3FC;\n",
              "  }\n",
              "\n",
              "  [theme=dark] .colab-df-quickchart:hover {\n",
              "    background-color: #434B5C;\n",
              "    box-shadow: 0px 1px 3px 1px rgba(0, 0, 0, 0.15);\n",
              "    filter: drop-shadow(0px 1px 2px rgba(0, 0, 0, 0.3));\n",
              "    fill: #FFFFFF;\n",
              "  }\n",
              "</style>\n",
              "\n",
              "  <script>\n",
              "    async function quickchart(key) {\n",
              "      const charts = await google.colab.kernel.invokeFunction(\n",
              "          'suggestCharts', [key], {});\n",
              "    }\n",
              "    (() => {\n",
              "      let quickchartButtonEl =\n",
              "        document.querySelector('#df-750fad0e-2b7b-4cca-93cc-e163c716d684 button');\n",
              "      quickchartButtonEl.style.display =\n",
              "        google.colab.kernel.accessAllowed ? 'block' : 'none';\n",
              "    })();\n",
              "  </script>\n",
              "</div>\n",
              "    </div>\n",
              "  </div>\n"
            ]
          },
          "metadata": {},
          "execution_count": 93
        }
      ]
    },
    {
      "cell_type": "code",
      "metadata": {
        "colab": {
          "base_uri": "https://localhost:8080/",
          "height": 313
        },
        "id": "tc4gveh3WzME",
        "outputId": "053fef2b-183c-44c7-a58a-df0443e58b50"
      },
      "source": [
        "# Deep copy\n",
        "dff1['age'][0] = 15\n",
        "print(dff1)    # Any change in copy format will not going to make changes in original data\n",
        "X"
      ],
      "execution_count": null,
      "outputs": [
        {
          "output_type": "stream",
          "name": "stdout",
          "text": [
            "   age  gender  state\n",
            "0   15      10      0\n",
            "1    2      11      1\n",
            "2    3      12      2\n",
            "3    4      13      3\n",
            "4    5      14      4\n"
          ]
        },
        {
          "output_type": "execute_result",
          "data": {
            "text/plain": [
              "   age  gender  state\n",
              "0   10      10      0\n",
              "1    2      11      1\n",
              "2    3      12      2\n",
              "3    4      13      3\n",
              "4    5      14      4"
            ],
            "text/html": [
              "\n",
              "  <div id=\"df-3bc16c06-e22f-449b-af0d-9e14b0fe0da3\" class=\"colab-df-container\">\n",
              "    <div>\n",
              "<style scoped>\n",
              "    .dataframe tbody tr th:only-of-type {\n",
              "        vertical-align: middle;\n",
              "    }\n",
              "\n",
              "    .dataframe tbody tr th {\n",
              "        vertical-align: top;\n",
              "    }\n",
              "\n",
              "    .dataframe thead th {\n",
              "        text-align: right;\n",
              "    }\n",
              "</style>\n",
              "<table border=\"1\" class=\"dataframe\">\n",
              "  <thead>\n",
              "    <tr style=\"text-align: right;\">\n",
              "      <th></th>\n",
              "      <th>age</th>\n",
              "      <th>gender</th>\n",
              "      <th>state</th>\n",
              "    </tr>\n",
              "  </thead>\n",
              "  <tbody>\n",
              "    <tr>\n",
              "      <th>0</th>\n",
              "      <td>10</td>\n",
              "      <td>10</td>\n",
              "      <td>0</td>\n",
              "    </tr>\n",
              "    <tr>\n",
              "      <th>1</th>\n",
              "      <td>2</td>\n",
              "      <td>11</td>\n",
              "      <td>1</td>\n",
              "    </tr>\n",
              "    <tr>\n",
              "      <th>2</th>\n",
              "      <td>3</td>\n",
              "      <td>12</td>\n",
              "      <td>2</td>\n",
              "    </tr>\n",
              "    <tr>\n",
              "      <th>3</th>\n",
              "      <td>4</td>\n",
              "      <td>13</td>\n",
              "      <td>3</td>\n",
              "    </tr>\n",
              "    <tr>\n",
              "      <th>4</th>\n",
              "      <td>5</td>\n",
              "      <td>14</td>\n",
              "      <td>4</td>\n",
              "    </tr>\n",
              "  </tbody>\n",
              "</table>\n",
              "</div>\n",
              "    <div class=\"colab-df-buttons\">\n",
              "\n",
              "  <div class=\"colab-df-container\">\n",
              "    <button class=\"colab-df-convert\" onclick=\"convertToInteractive('df-3bc16c06-e22f-449b-af0d-9e14b0fe0da3')\"\n",
              "            title=\"Convert this dataframe to an interactive table.\"\n",
              "            style=\"display:none;\">\n",
              "\n",
              "  <svg xmlns=\"http://www.w3.org/2000/svg\" height=\"24px\" viewBox=\"0 -960 960 960\">\n",
              "    <path d=\"M120-120v-720h720v720H120Zm60-500h600v-160H180v160Zm220 220h160v-160H400v160Zm0 220h160v-160H400v160ZM180-400h160v-160H180v160Zm440 0h160v-160H620v160ZM180-180h160v-160H180v160Zm440 0h160v-160H620v160Z\"/>\n",
              "  </svg>\n",
              "    </button>\n",
              "\n",
              "  <style>\n",
              "    .colab-df-container {\n",
              "      display:flex;\n",
              "      gap: 12px;\n",
              "    }\n",
              "\n",
              "    .colab-df-convert {\n",
              "      background-color: #E8F0FE;\n",
              "      border: none;\n",
              "      border-radius: 50%;\n",
              "      cursor: pointer;\n",
              "      display: none;\n",
              "      fill: #1967D2;\n",
              "      height: 32px;\n",
              "      padding: 0 0 0 0;\n",
              "      width: 32px;\n",
              "    }\n",
              "\n",
              "    .colab-df-convert:hover {\n",
              "      background-color: #E2EBFA;\n",
              "      box-shadow: 0px 1px 2px rgba(60, 64, 67, 0.3), 0px 1px 3px 1px rgba(60, 64, 67, 0.15);\n",
              "      fill: #174EA6;\n",
              "    }\n",
              "\n",
              "    .colab-df-buttons div {\n",
              "      margin-bottom: 4px;\n",
              "    }\n",
              "\n",
              "    [theme=dark] .colab-df-convert {\n",
              "      background-color: #3B4455;\n",
              "      fill: #D2E3FC;\n",
              "    }\n",
              "\n",
              "    [theme=dark] .colab-df-convert:hover {\n",
              "      background-color: #434B5C;\n",
              "      box-shadow: 0px 1px 3px 1px rgba(0, 0, 0, 0.15);\n",
              "      filter: drop-shadow(0px 1px 2px rgba(0, 0, 0, 0.3));\n",
              "      fill: #FFFFFF;\n",
              "    }\n",
              "  </style>\n",
              "\n",
              "    <script>\n",
              "      const buttonEl =\n",
              "        document.querySelector('#df-3bc16c06-e22f-449b-af0d-9e14b0fe0da3 button.colab-df-convert');\n",
              "      buttonEl.style.display =\n",
              "        google.colab.kernel.accessAllowed ? 'block' : 'none';\n",
              "\n",
              "      async function convertToInteractive(key) {\n",
              "        const element = document.querySelector('#df-3bc16c06-e22f-449b-af0d-9e14b0fe0da3');\n",
              "        const dataTable =\n",
              "          await google.colab.kernel.invokeFunction('convertToInteractive',\n",
              "                                                    [key], {});\n",
              "        if (!dataTable) return;\n",
              "\n",
              "        const docLinkHtml = 'Like what you see? Visit the ' +\n",
              "          '<a target=\"_blank\" href=https://colab.research.google.com/notebooks/data_table.ipynb>data table notebook</a>'\n",
              "          + ' to learn more about interactive tables.';\n",
              "        element.innerHTML = '';\n",
              "        dataTable['output_type'] = 'display_data';\n",
              "        await google.colab.output.renderOutput(dataTable, element);\n",
              "        const docLink = document.createElement('div');\n",
              "        docLink.innerHTML = docLinkHtml;\n",
              "        element.appendChild(docLink);\n",
              "      }\n",
              "    </script>\n",
              "  </div>\n",
              "\n",
              "\n",
              "<div id=\"df-b3a49711-30b4-4966-b3ce-5314127a28e2\">\n",
              "  <button class=\"colab-df-quickchart\" onclick=\"quickchart('df-b3a49711-30b4-4966-b3ce-5314127a28e2')\"\n",
              "            title=\"Suggest charts.\"\n",
              "            style=\"display:none;\">\n",
              "\n",
              "<svg xmlns=\"http://www.w3.org/2000/svg\" height=\"24px\"viewBox=\"0 0 24 24\"\n",
              "     width=\"24px\">\n",
              "    <g>\n",
              "        <path d=\"M19 3H5c-1.1 0-2 .9-2 2v14c0 1.1.9 2 2 2h14c1.1 0 2-.9 2-2V5c0-1.1-.9-2-2-2zM9 17H7v-7h2v7zm4 0h-2V7h2v10zm4 0h-2v-4h2v4z\"/>\n",
              "    </g>\n",
              "</svg>\n",
              "  </button>\n",
              "\n",
              "<style>\n",
              "  .colab-df-quickchart {\n",
              "    background-color: #E8F0FE;\n",
              "    border: none;\n",
              "    border-radius: 50%;\n",
              "    cursor: pointer;\n",
              "    display: none;\n",
              "    fill: #1967D2;\n",
              "    height: 32px;\n",
              "    padding: 0 0 0 0;\n",
              "    width: 32px;\n",
              "  }\n",
              "\n",
              "  .colab-df-quickchart:hover {\n",
              "    background-color: #E2EBFA;\n",
              "    box-shadow: 0px 1px 2px rgba(60, 64, 67, 0.3), 0px 1px 3px 1px rgba(60, 64, 67, 0.15);\n",
              "    fill: #174EA6;\n",
              "  }\n",
              "\n",
              "  [theme=dark] .colab-df-quickchart {\n",
              "    background-color: #3B4455;\n",
              "    fill: #D2E3FC;\n",
              "  }\n",
              "\n",
              "  [theme=dark] .colab-df-quickchart:hover {\n",
              "    background-color: #434B5C;\n",
              "    box-shadow: 0px 1px 3px 1px rgba(0, 0, 0, 0.15);\n",
              "    filter: drop-shadow(0px 1px 2px rgba(0, 0, 0, 0.3));\n",
              "    fill: #FFFFFF;\n",
              "  }\n",
              "</style>\n",
              "\n",
              "  <script>\n",
              "    async function quickchart(key) {\n",
              "      const charts = await google.colab.kernel.invokeFunction(\n",
              "          'suggestCharts', [key], {});\n",
              "    }\n",
              "    (() => {\n",
              "      let quickchartButtonEl =\n",
              "        document.querySelector('#df-b3a49711-30b4-4966-b3ce-5314127a28e2 button');\n",
              "      quickchartButtonEl.style.display =\n",
              "        google.colab.kernel.accessAllowed ? 'block' : 'none';\n",
              "    })();\n",
              "  </script>\n",
              "</div>\n",
              "    </div>\n",
              "  </div>\n"
            ]
          },
          "metadata": {},
          "execution_count": 94
        }
      ]
    },
    {
      "cell_type": "code",
      "metadata": {
        "id": "Erqch9-FR8wk",
        "colab": {
          "base_uri": "https://localhost:8080/",
          "height": 206
        },
        "outputId": "d9698c60-42a6-4b60-8c96-880ea8f54980"
      },
      "source": [
        "X[\"X1\"] = pd.Series(x1) # Converting list format into pandas series format\n",
        "X[\"X2\"] = pd.Series(x2) # Converting list format into pandas series format\n",
        "X[\"X3\"] = pd.Series(x3)\n",
        "X"
      ],
      "execution_count": null,
      "outputs": [
        {
          "output_type": "execute_result",
          "data": {
            "text/plain": [
              "   X1  X2  X3\n",
              "0   1  10   0\n",
              "1   2  11   1\n",
              "2   3  12   2\n",
              "3   4  13   3\n",
              "4   5  14   4"
            ],
            "text/html": [
              "\n",
              "  <div id=\"df-5aaefd24-6b8a-4f2e-8540-69c402b50bde\" class=\"colab-df-container\">\n",
              "    <div>\n",
              "<style scoped>\n",
              "    .dataframe tbody tr th:only-of-type {\n",
              "        vertical-align: middle;\n",
              "    }\n",
              "\n",
              "    .dataframe tbody tr th {\n",
              "        vertical-align: top;\n",
              "    }\n",
              "\n",
              "    .dataframe thead th {\n",
              "        text-align: right;\n",
              "    }\n",
              "</style>\n",
              "<table border=\"1\" class=\"dataframe\">\n",
              "  <thead>\n",
              "    <tr style=\"text-align: right;\">\n",
              "      <th></th>\n",
              "      <th>X1</th>\n",
              "      <th>X2</th>\n",
              "      <th>X3</th>\n",
              "    </tr>\n",
              "  </thead>\n",
              "  <tbody>\n",
              "    <tr>\n",
              "      <th>0</th>\n",
              "      <td>1</td>\n",
              "      <td>10</td>\n",
              "      <td>0</td>\n",
              "    </tr>\n",
              "    <tr>\n",
              "      <th>1</th>\n",
              "      <td>2</td>\n",
              "      <td>11</td>\n",
              "      <td>1</td>\n",
              "    </tr>\n",
              "    <tr>\n",
              "      <th>2</th>\n",
              "      <td>3</td>\n",
              "      <td>12</td>\n",
              "      <td>2</td>\n",
              "    </tr>\n",
              "    <tr>\n",
              "      <th>3</th>\n",
              "      <td>4</td>\n",
              "      <td>13</td>\n",
              "      <td>3</td>\n",
              "    </tr>\n",
              "    <tr>\n",
              "      <th>4</th>\n",
              "      <td>5</td>\n",
              "      <td>14</td>\n",
              "      <td>4</td>\n",
              "    </tr>\n",
              "  </tbody>\n",
              "</table>\n",
              "</div>\n",
              "    <div class=\"colab-df-buttons\">\n",
              "\n",
              "  <div class=\"colab-df-container\">\n",
              "    <button class=\"colab-df-convert\" onclick=\"convertToInteractive('df-5aaefd24-6b8a-4f2e-8540-69c402b50bde')\"\n",
              "            title=\"Convert this dataframe to an interactive table.\"\n",
              "            style=\"display:none;\">\n",
              "\n",
              "  <svg xmlns=\"http://www.w3.org/2000/svg\" height=\"24px\" viewBox=\"0 -960 960 960\">\n",
              "    <path d=\"M120-120v-720h720v720H120Zm60-500h600v-160H180v160Zm220 220h160v-160H400v160Zm0 220h160v-160H400v160ZM180-400h160v-160H180v160Zm440 0h160v-160H620v160ZM180-180h160v-160H180v160Zm440 0h160v-160H620v160Z\"/>\n",
              "  </svg>\n",
              "    </button>\n",
              "\n",
              "  <style>\n",
              "    .colab-df-container {\n",
              "      display:flex;\n",
              "      gap: 12px;\n",
              "    }\n",
              "\n",
              "    .colab-df-convert {\n",
              "      background-color: #E8F0FE;\n",
              "      border: none;\n",
              "      border-radius: 50%;\n",
              "      cursor: pointer;\n",
              "      display: none;\n",
              "      fill: #1967D2;\n",
              "      height: 32px;\n",
              "      padding: 0 0 0 0;\n",
              "      width: 32px;\n",
              "    }\n",
              "\n",
              "    .colab-df-convert:hover {\n",
              "      background-color: #E2EBFA;\n",
              "      box-shadow: 0px 1px 2px rgba(60, 64, 67, 0.3), 0px 1px 3px 1px rgba(60, 64, 67, 0.15);\n",
              "      fill: #174EA6;\n",
              "    }\n",
              "\n",
              "    .colab-df-buttons div {\n",
              "      margin-bottom: 4px;\n",
              "    }\n",
              "\n",
              "    [theme=dark] .colab-df-convert {\n",
              "      background-color: #3B4455;\n",
              "      fill: #D2E3FC;\n",
              "    }\n",
              "\n",
              "    [theme=dark] .colab-df-convert:hover {\n",
              "      background-color: #434B5C;\n",
              "      box-shadow: 0px 1px 3px 1px rgba(0, 0, 0, 0.15);\n",
              "      filter: drop-shadow(0px 1px 2px rgba(0, 0, 0, 0.3));\n",
              "      fill: #FFFFFF;\n",
              "    }\n",
              "  </style>\n",
              "\n",
              "    <script>\n",
              "      const buttonEl =\n",
              "        document.querySelector('#df-5aaefd24-6b8a-4f2e-8540-69c402b50bde button.colab-df-convert');\n",
              "      buttonEl.style.display =\n",
              "        google.colab.kernel.accessAllowed ? 'block' : 'none';\n",
              "\n",
              "      async function convertToInteractive(key) {\n",
              "        const element = document.querySelector('#df-5aaefd24-6b8a-4f2e-8540-69c402b50bde');\n",
              "        const dataTable =\n",
              "          await google.colab.kernel.invokeFunction('convertToInteractive',\n",
              "                                                    [key], {});\n",
              "        if (!dataTable) return;\n",
              "\n",
              "        const docLinkHtml = 'Like what you see? Visit the ' +\n",
              "          '<a target=\"_blank\" href=https://colab.research.google.com/notebooks/data_table.ipynb>data table notebook</a>'\n",
              "          + ' to learn more about interactive tables.';\n",
              "        element.innerHTML = '';\n",
              "        dataTable['output_type'] = 'display_data';\n",
              "        await google.colab.output.renderOutput(dataTable, element);\n",
              "        const docLink = document.createElement('div');\n",
              "        docLink.innerHTML = docLinkHtml;\n",
              "        element.appendChild(docLink);\n",
              "      }\n",
              "    </script>\n",
              "  </div>\n",
              "\n",
              "\n",
              "<div id=\"df-bb4d3c30-d8dd-4873-9147-ab35329afc7c\">\n",
              "  <button class=\"colab-df-quickchart\" onclick=\"quickchart('df-bb4d3c30-d8dd-4873-9147-ab35329afc7c')\"\n",
              "            title=\"Suggest charts.\"\n",
              "            style=\"display:none;\">\n",
              "\n",
              "<svg xmlns=\"http://www.w3.org/2000/svg\" height=\"24px\"viewBox=\"0 0 24 24\"\n",
              "     width=\"24px\">\n",
              "    <g>\n",
              "        <path d=\"M19 3H5c-1.1 0-2 .9-2 2v14c0 1.1.9 2 2 2h14c1.1 0 2-.9 2-2V5c0-1.1-.9-2-2-2zM9 17H7v-7h2v7zm4 0h-2V7h2v10zm4 0h-2v-4h2v4z\"/>\n",
              "    </g>\n",
              "</svg>\n",
              "  </button>\n",
              "\n",
              "<style>\n",
              "  .colab-df-quickchart {\n",
              "    background-color: #E8F0FE;\n",
              "    border: none;\n",
              "    border-radius: 50%;\n",
              "    cursor: pointer;\n",
              "    display: none;\n",
              "    fill: #1967D2;\n",
              "    height: 32px;\n",
              "    padding: 0 0 0 0;\n",
              "    width: 32px;\n",
              "  }\n",
              "\n",
              "  .colab-df-quickchart:hover {\n",
              "    background-color: #E2EBFA;\n",
              "    box-shadow: 0px 1px 2px rgba(60, 64, 67, 0.3), 0px 1px 3px 1px rgba(60, 64, 67, 0.15);\n",
              "    fill: #174EA6;\n",
              "  }\n",
              "\n",
              "  [theme=dark] .colab-df-quickchart {\n",
              "    background-color: #3B4455;\n",
              "    fill: #D2E3FC;\n",
              "  }\n",
              "\n",
              "  [theme=dark] .colab-df-quickchart:hover {\n",
              "    background-color: #434B5C;\n",
              "    box-shadow: 0px 1px 3px 1px rgba(0, 0, 0, 0.15);\n",
              "    filter: drop-shadow(0px 1px 2px rgba(0, 0, 0, 0.3));\n",
              "    fill: #FFFFFF;\n",
              "  }\n",
              "</style>\n",
              "\n",
              "  <script>\n",
              "    async function quickchart(key) {\n",
              "      const charts = await google.colab.kernel.invokeFunction(\n",
              "          'suggestCharts', [key], {});\n",
              "    }\n",
              "    (() => {\n",
              "      let quickchartButtonEl =\n",
              "        document.querySelector('#df-bb4d3c30-d8dd-4873-9147-ab35329afc7c button');\n",
              "      quickchartButtonEl.style.display =\n",
              "        google.colab.kernel.accessAllowed ? 'block' : 'none';\n",
              "    })();\n",
              "  </script>\n",
              "</div>\n",
              "    </div>\n",
              "  </div>\n"
            ]
          },
          "metadata": {},
          "execution_count": 108
        }
      ]
    },
    {
      "cell_type": "code",
      "metadata": {
        "id": "EnyBY-7_R8wl",
        "colab": {
          "base_uri": "https://localhost:8080/"
        },
        "outputId": "d29599f4-c8fe-4150-f5b9-a243b8013ffe"
      },
      "source": [
        "# Accessing columns using \".\" (dot) operation\n",
        "X.X1\n"
      ],
      "execution_count": null,
      "outputs": [
        {
          "output_type": "execute_result",
          "data": {
            "text/plain": [
              "0    1\n",
              "1    2\n",
              "2    3\n",
              "3    4\n",
              "4    5\n",
              "Name: X1, dtype: int64"
            ]
          },
          "metadata": {},
          "execution_count": 104
        }
      ]
    },
    {
      "cell_type": "code",
      "metadata": {
        "id": "9VqOx3HGR8wn",
        "colab": {
          "base_uri": "https://localhost:8080/"
        },
        "outputId": "03ca9e77-79c3-4c84-c3ab-2c906f084f63"
      },
      "source": [
        "# Accessing columns alternative way\n",
        "X[\"X1\"]\n"
      ],
      "execution_count": null,
      "outputs": [
        {
          "output_type": "execute_result",
          "data": {
            "text/plain": [
              "0    1\n",
              "1    2\n",
              "2    3\n",
              "3    4\n",
              "4    5\n",
              "Name: X1, dtype: int64"
            ]
          },
          "metadata": {},
          "execution_count": 105
        }
      ]
    },
    {
      "cell_type": "code",
      "metadata": {
        "id": "7rDQl86JR8wo",
        "colab": {
          "base_uri": "https://localhost:8080/",
          "height": 206
        },
        "outputId": "f6ea57d5-ebf0-422e-a8cf-45d6af815e63"
      },
      "source": [
        "# Accessing multiple columns : giving column names as input in list format\n",
        "X[[\"X1\",\"X2\"]]\n"
      ],
      "execution_count": null,
      "outputs": [
        {
          "output_type": "execute_result",
          "data": {
            "text/plain": [
              "   X1  X2\n",
              "0   1  10\n",
              "1   2  11\n",
              "2   3  12\n",
              "3   4  13\n",
              "4   5  14"
            ],
            "text/html": [
              "\n",
              "  <div id=\"df-37abebb6-eb91-43b4-abbb-6d19c850cd3f\" class=\"colab-df-container\">\n",
              "    <div>\n",
              "<style scoped>\n",
              "    .dataframe tbody tr th:only-of-type {\n",
              "        vertical-align: middle;\n",
              "    }\n",
              "\n",
              "    .dataframe tbody tr th {\n",
              "        vertical-align: top;\n",
              "    }\n",
              "\n",
              "    .dataframe thead th {\n",
              "        text-align: right;\n",
              "    }\n",
              "</style>\n",
              "<table border=\"1\" class=\"dataframe\">\n",
              "  <thead>\n",
              "    <tr style=\"text-align: right;\">\n",
              "      <th></th>\n",
              "      <th>X1</th>\n",
              "      <th>X2</th>\n",
              "    </tr>\n",
              "  </thead>\n",
              "  <tbody>\n",
              "    <tr>\n",
              "      <th>0</th>\n",
              "      <td>1</td>\n",
              "      <td>10</td>\n",
              "    </tr>\n",
              "    <tr>\n",
              "      <th>1</th>\n",
              "      <td>2</td>\n",
              "      <td>11</td>\n",
              "    </tr>\n",
              "    <tr>\n",
              "      <th>2</th>\n",
              "      <td>3</td>\n",
              "      <td>12</td>\n",
              "    </tr>\n",
              "    <tr>\n",
              "      <th>3</th>\n",
              "      <td>4</td>\n",
              "      <td>13</td>\n",
              "    </tr>\n",
              "    <tr>\n",
              "      <th>4</th>\n",
              "      <td>5</td>\n",
              "      <td>14</td>\n",
              "    </tr>\n",
              "  </tbody>\n",
              "</table>\n",
              "</div>\n",
              "    <div class=\"colab-df-buttons\">\n",
              "\n",
              "  <div class=\"colab-df-container\">\n",
              "    <button class=\"colab-df-convert\" onclick=\"convertToInteractive('df-37abebb6-eb91-43b4-abbb-6d19c850cd3f')\"\n",
              "            title=\"Convert this dataframe to an interactive table.\"\n",
              "            style=\"display:none;\">\n",
              "\n",
              "  <svg xmlns=\"http://www.w3.org/2000/svg\" height=\"24px\" viewBox=\"0 -960 960 960\">\n",
              "    <path d=\"M120-120v-720h720v720H120Zm60-500h600v-160H180v160Zm220 220h160v-160H400v160Zm0 220h160v-160H400v160ZM180-400h160v-160H180v160Zm440 0h160v-160H620v160ZM180-180h160v-160H180v160Zm440 0h160v-160H620v160Z\"/>\n",
              "  </svg>\n",
              "    </button>\n",
              "\n",
              "  <style>\n",
              "    .colab-df-container {\n",
              "      display:flex;\n",
              "      gap: 12px;\n",
              "    }\n",
              "\n",
              "    .colab-df-convert {\n",
              "      background-color: #E8F0FE;\n",
              "      border: none;\n",
              "      border-radius: 50%;\n",
              "      cursor: pointer;\n",
              "      display: none;\n",
              "      fill: #1967D2;\n",
              "      height: 32px;\n",
              "      padding: 0 0 0 0;\n",
              "      width: 32px;\n",
              "    }\n",
              "\n",
              "    .colab-df-convert:hover {\n",
              "      background-color: #E2EBFA;\n",
              "      box-shadow: 0px 1px 2px rgba(60, 64, 67, 0.3), 0px 1px 3px 1px rgba(60, 64, 67, 0.15);\n",
              "      fill: #174EA6;\n",
              "    }\n",
              "\n",
              "    .colab-df-buttons div {\n",
              "      margin-bottom: 4px;\n",
              "    }\n",
              "\n",
              "    [theme=dark] .colab-df-convert {\n",
              "      background-color: #3B4455;\n",
              "      fill: #D2E3FC;\n",
              "    }\n",
              "\n",
              "    [theme=dark] .colab-df-convert:hover {\n",
              "      background-color: #434B5C;\n",
              "      box-shadow: 0px 1px 3px 1px rgba(0, 0, 0, 0.15);\n",
              "      filter: drop-shadow(0px 1px 2px rgba(0, 0, 0, 0.3));\n",
              "      fill: #FFFFFF;\n",
              "    }\n",
              "  </style>\n",
              "\n",
              "    <script>\n",
              "      const buttonEl =\n",
              "        document.querySelector('#df-37abebb6-eb91-43b4-abbb-6d19c850cd3f button.colab-df-convert');\n",
              "      buttonEl.style.display =\n",
              "        google.colab.kernel.accessAllowed ? 'block' : 'none';\n",
              "\n",
              "      async function convertToInteractive(key) {\n",
              "        const element = document.querySelector('#df-37abebb6-eb91-43b4-abbb-6d19c850cd3f');\n",
              "        const dataTable =\n",
              "          await google.colab.kernel.invokeFunction('convertToInteractive',\n",
              "                                                    [key], {});\n",
              "        if (!dataTable) return;\n",
              "\n",
              "        const docLinkHtml = 'Like what you see? Visit the ' +\n",
              "          '<a target=\"_blank\" href=https://colab.research.google.com/notebooks/data_table.ipynb>data table notebook</a>'\n",
              "          + ' to learn more about interactive tables.';\n",
              "        element.innerHTML = '';\n",
              "        dataTable['output_type'] = 'display_data';\n",
              "        await google.colab.output.renderOutput(dataTable, element);\n",
              "        const docLink = document.createElement('div');\n",
              "        docLink.innerHTML = docLinkHtml;\n",
              "        element.appendChild(docLink);\n",
              "      }\n",
              "    </script>\n",
              "  </div>\n",
              "\n",
              "\n",
              "<div id=\"df-a65e2883-d5d2-4c11-9fb9-602f099860da\">\n",
              "  <button class=\"colab-df-quickchart\" onclick=\"quickchart('df-a65e2883-d5d2-4c11-9fb9-602f099860da')\"\n",
              "            title=\"Suggest charts.\"\n",
              "            style=\"display:none;\">\n",
              "\n",
              "<svg xmlns=\"http://www.w3.org/2000/svg\" height=\"24px\"viewBox=\"0 0 24 24\"\n",
              "     width=\"24px\">\n",
              "    <g>\n",
              "        <path d=\"M19 3H5c-1.1 0-2 .9-2 2v14c0 1.1.9 2 2 2h14c1.1 0 2-.9 2-2V5c0-1.1-.9-2-2-2zM9 17H7v-7h2v7zm4 0h-2V7h2v10zm4 0h-2v-4h2v4z\"/>\n",
              "    </g>\n",
              "</svg>\n",
              "  </button>\n",
              "\n",
              "<style>\n",
              "  .colab-df-quickchart {\n",
              "    background-color: #E8F0FE;\n",
              "    border: none;\n",
              "    border-radius: 50%;\n",
              "    cursor: pointer;\n",
              "    display: none;\n",
              "    fill: #1967D2;\n",
              "    height: 32px;\n",
              "    padding: 0 0 0 0;\n",
              "    width: 32px;\n",
              "  }\n",
              "\n",
              "  .colab-df-quickchart:hover {\n",
              "    background-color: #E2EBFA;\n",
              "    box-shadow: 0px 1px 2px rgba(60, 64, 67, 0.3), 0px 1px 3px 1px rgba(60, 64, 67, 0.15);\n",
              "    fill: #174EA6;\n",
              "  }\n",
              "\n",
              "  [theme=dark] .colab-df-quickchart {\n",
              "    background-color: #3B4455;\n",
              "    fill: #D2E3FC;\n",
              "  }\n",
              "\n",
              "  [theme=dark] .colab-df-quickchart:hover {\n",
              "    background-color: #434B5C;\n",
              "    box-shadow: 0px 1px 3px 1px rgba(0, 0, 0, 0.15);\n",
              "    filter: drop-shadow(0px 1px 2px rgba(0, 0, 0, 0.3));\n",
              "    fill: #FFFFFF;\n",
              "  }\n",
              "</style>\n",
              "\n",
              "  <script>\n",
              "    async function quickchart(key) {\n",
              "      const charts = await google.colab.kernel.invokeFunction(\n",
              "          'suggestCharts', [key], {});\n",
              "    }\n",
              "    (() => {\n",
              "      let quickchartButtonEl =\n",
              "        document.querySelector('#df-a65e2883-d5d2-4c11-9fb9-602f099860da button');\n",
              "      quickchartButtonEl.style.display =\n",
              "        google.colab.kernel.accessAllowed ? 'block' : 'none';\n",
              "    })();\n",
              "  </script>\n",
              "</div>\n",
              "    </div>\n",
              "  </div>\n"
            ]
          },
          "metadata": {},
          "execution_count": 109
        }
      ]
    },
    {
      "cell_type": "code",
      "metadata": {
        "id": "vTr0BZTzR8wq",
        "colab": {
          "base_uri": "https://localhost:8080/"
        },
        "outputId": "5cfd4250-7d0c-4a99-931b-3475c0203b4b"
      },
      "source": [
        "# Accessing elements using \".iloc\" : accessing each cell by row and column\n",
        "# index values\n",
        "X.iloc[:,1]"
      ],
      "execution_count": null,
      "outputs": [
        {
          "output_type": "execute_result",
          "data": {
            "text/plain": [
              "0    10\n",
              "1    11\n",
              "2    12\n",
              "3    13\n",
              "4    14\n",
              "Name: X2, dtype: int64"
            ]
          },
          "metadata": {},
          "execution_count": 110
        }
      ]
    },
    {
      "cell_type": "code",
      "metadata": {
        "id": "BaxACD58R8ws",
        "colab": {
          "base_uri": "https://localhost:8080/",
          "height": 204
        },
        "outputId": "e701c9c7-0b40-4c37-9cc5-4f3ef1064b98"
      },
      "source": [
        "X.iloc[:,:] # Get entire data frame"
      ],
      "execution_count": null,
      "outputs": [
        {
          "output_type": "execute_result",
          "data": {
            "text/html": [
              "<div>\n",
              "<style scoped>\n",
              "    .dataframe tbody tr th:only-of-type {\n",
              "        vertical-align: middle;\n",
              "    }\n",
              "\n",
              "    .dataframe tbody tr th {\n",
              "        vertical-align: top;\n",
              "    }\n",
              "\n",
              "    .dataframe thead th {\n",
              "        text-align: right;\n",
              "    }\n",
              "</style>\n",
              "<table border=\"1\" class=\"dataframe\">\n",
              "  <thead>\n",
              "    <tr style=\"text-align: right;\">\n",
              "      <th></th>\n",
              "      <th>X1</th>\n",
              "      <th>X2</th>\n",
              "      <th>X3</th>\n",
              "    </tr>\n",
              "  </thead>\n",
              "  <tbody>\n",
              "    <tr>\n",
              "      <th>0</th>\n",
              "      <td>1</td>\n",
              "      <td>10</td>\n",
              "      <td>0</td>\n",
              "    </tr>\n",
              "    <tr>\n",
              "      <th>1</th>\n",
              "      <td>2</td>\n",
              "      <td>11</td>\n",
              "      <td>1</td>\n",
              "    </tr>\n",
              "    <tr>\n",
              "      <th>2</th>\n",
              "      <td>3</td>\n",
              "      <td>12</td>\n",
              "      <td>2</td>\n",
              "    </tr>\n",
              "    <tr>\n",
              "      <th>3</th>\n",
              "      <td>4</td>\n",
              "      <td>13</td>\n",
              "      <td>3</td>\n",
              "    </tr>\n",
              "    <tr>\n",
              "      <th>4</th>\n",
              "      <td>5</td>\n",
              "      <td>14</td>\n",
              "      <td>4</td>\n",
              "    </tr>\n",
              "  </tbody>\n",
              "</table>\n",
              "</div>"
            ],
            "text/plain": [
              "   X1  X2  X3\n",
              "0   1  10   0\n",
              "1   2  11   1\n",
              "2   3  12   2\n",
              "3   4  13   3\n",
              "4   5  14   4"
            ]
          },
          "metadata": {},
          "execution_count": 19
        }
      ]
    },
    {
      "cell_type": "code",
      "metadata": {
        "id": "ENPjTyqxR8wt",
        "colab": {
          "base_uri": "https://localhost:8080/",
          "height": 143
        },
        "outputId": "c251735c-1391-4568-cc14-21a6e12ac0b7"
      },
      "source": [
        "X.loc[0:2,[\"X1\",\"X3\"]] # Get specified columns"
      ],
      "execution_count": null,
      "outputs": [
        {
          "output_type": "execute_result",
          "data": {
            "text/plain": [
              "   X1  X3\n",
              "0   1   0\n",
              "1   2   1\n",
              "2   3   2"
            ],
            "text/html": [
              "\n",
              "  <div id=\"df-f875cf29-6402-4587-9561-ee80d6ac776f\" class=\"colab-df-container\">\n",
              "    <div>\n",
              "<style scoped>\n",
              "    .dataframe tbody tr th:only-of-type {\n",
              "        vertical-align: middle;\n",
              "    }\n",
              "\n",
              "    .dataframe tbody tr th {\n",
              "        vertical-align: top;\n",
              "    }\n",
              "\n",
              "    .dataframe thead th {\n",
              "        text-align: right;\n",
              "    }\n",
              "</style>\n",
              "<table border=\"1\" class=\"dataframe\">\n",
              "  <thead>\n",
              "    <tr style=\"text-align: right;\">\n",
              "      <th></th>\n",
              "      <th>X1</th>\n",
              "      <th>X3</th>\n",
              "    </tr>\n",
              "  </thead>\n",
              "  <tbody>\n",
              "    <tr>\n",
              "      <th>0</th>\n",
              "      <td>1</td>\n",
              "      <td>0</td>\n",
              "    </tr>\n",
              "    <tr>\n",
              "      <th>1</th>\n",
              "      <td>2</td>\n",
              "      <td>1</td>\n",
              "    </tr>\n",
              "    <tr>\n",
              "      <th>2</th>\n",
              "      <td>3</td>\n",
              "      <td>2</td>\n",
              "    </tr>\n",
              "  </tbody>\n",
              "</table>\n",
              "</div>\n",
              "    <div class=\"colab-df-buttons\">\n",
              "\n",
              "  <div class=\"colab-df-container\">\n",
              "    <button class=\"colab-df-convert\" onclick=\"convertToInteractive('df-f875cf29-6402-4587-9561-ee80d6ac776f')\"\n",
              "            title=\"Convert this dataframe to an interactive table.\"\n",
              "            style=\"display:none;\">\n",
              "\n",
              "  <svg xmlns=\"http://www.w3.org/2000/svg\" height=\"24px\" viewBox=\"0 -960 960 960\">\n",
              "    <path d=\"M120-120v-720h720v720H120Zm60-500h600v-160H180v160Zm220 220h160v-160H400v160Zm0 220h160v-160H400v160ZM180-400h160v-160H180v160Zm440 0h160v-160H620v160ZM180-180h160v-160H180v160Zm440 0h160v-160H620v160Z\"/>\n",
              "  </svg>\n",
              "    </button>\n",
              "\n",
              "  <style>\n",
              "    .colab-df-container {\n",
              "      display:flex;\n",
              "      gap: 12px;\n",
              "    }\n",
              "\n",
              "    .colab-df-convert {\n",
              "      background-color: #E8F0FE;\n",
              "      border: none;\n",
              "      border-radius: 50%;\n",
              "      cursor: pointer;\n",
              "      display: none;\n",
              "      fill: #1967D2;\n",
              "      height: 32px;\n",
              "      padding: 0 0 0 0;\n",
              "      width: 32px;\n",
              "    }\n",
              "\n",
              "    .colab-df-convert:hover {\n",
              "      background-color: #E2EBFA;\n",
              "      box-shadow: 0px 1px 2px rgba(60, 64, 67, 0.3), 0px 1px 3px 1px rgba(60, 64, 67, 0.15);\n",
              "      fill: #174EA6;\n",
              "    }\n",
              "\n",
              "    .colab-df-buttons div {\n",
              "      margin-bottom: 4px;\n",
              "    }\n",
              "\n",
              "    [theme=dark] .colab-df-convert {\n",
              "      background-color: #3B4455;\n",
              "      fill: #D2E3FC;\n",
              "    }\n",
              "\n",
              "    [theme=dark] .colab-df-convert:hover {\n",
              "      background-color: #434B5C;\n",
              "      box-shadow: 0px 1px 3px 1px rgba(0, 0, 0, 0.15);\n",
              "      filter: drop-shadow(0px 1px 2px rgba(0, 0, 0, 0.3));\n",
              "      fill: #FFFFFF;\n",
              "    }\n",
              "  </style>\n",
              "\n",
              "    <script>\n",
              "      const buttonEl =\n",
              "        document.querySelector('#df-f875cf29-6402-4587-9561-ee80d6ac776f button.colab-df-convert');\n",
              "      buttonEl.style.display =\n",
              "        google.colab.kernel.accessAllowed ? 'block' : 'none';\n",
              "\n",
              "      async function convertToInteractive(key) {\n",
              "        const element = document.querySelector('#df-f875cf29-6402-4587-9561-ee80d6ac776f');\n",
              "        const dataTable =\n",
              "          await google.colab.kernel.invokeFunction('convertToInteractive',\n",
              "                                                    [key], {});\n",
              "        if (!dataTable) return;\n",
              "\n",
              "        const docLinkHtml = 'Like what you see? Visit the ' +\n",
              "          '<a target=\"_blank\" href=https://colab.research.google.com/notebooks/data_table.ipynb>data table notebook</a>'\n",
              "          + ' to learn more about interactive tables.';\n",
              "        element.innerHTML = '';\n",
              "        dataTable['output_type'] = 'display_data';\n",
              "        await google.colab.output.renderOutput(dataTable, element);\n",
              "        const docLink = document.createElement('div');\n",
              "        docLink.innerHTML = docLinkHtml;\n",
              "        element.appendChild(docLink);\n",
              "      }\n",
              "    </script>\n",
              "  </div>\n",
              "\n",
              "    </div>\n",
              "  </div>\n"
            ]
          },
          "metadata": {},
          "execution_count": 111
        }
      ]
    },
    {
      "cell_type": "code",
      "metadata": {
        "id": "Mm1OK-mpR8wt",
        "colab": {
          "base_uri": "https://localhost:8080/",
          "height": 426
        },
        "outputId": "7246154e-0c6d-4f27-81d8-ceadec26f1e2"
      },
      "source": [
        "# Merge operation using pandas dataframe\n",
        "import pandas as pd\n",
        "df1 = pd.DataFrame({\"X1\":[1,2,3],\"X2\":[4,8,12],})\n",
        "df2 = pd.DataFrame({\"X1\":[1,2,3,4],\"X3\":[4,8,12,15],})\n",
        "\n",
        "dfm = pd.merge(df1,df2, how='cross') # merge function\n",
        "dfm"
      ],
      "execution_count": null,
      "outputs": [
        {
          "output_type": "execute_result",
          "data": {
            "text/plain": [
              "    X1_x  X2  X1_y  X3\n",
              "0      1   4     1   4\n",
              "1      1   4     2   8\n",
              "2      1   4     3  12\n",
              "3      1   4     4  15\n",
              "4      2   8     1   4\n",
              "5      2   8     2   8\n",
              "6      2   8     3  12\n",
              "7      2   8     4  15\n",
              "8      3  12     1   4\n",
              "9      3  12     2   8\n",
              "10     3  12     3  12\n",
              "11     3  12     4  15"
            ],
            "text/html": [
              "\n",
              "  <div id=\"df-87f0e7f6-34e8-4c32-9317-547783513fef\" class=\"colab-df-container\">\n",
              "    <div>\n",
              "<style scoped>\n",
              "    .dataframe tbody tr th:only-of-type {\n",
              "        vertical-align: middle;\n",
              "    }\n",
              "\n",
              "    .dataframe tbody tr th {\n",
              "        vertical-align: top;\n",
              "    }\n",
              "\n",
              "    .dataframe thead th {\n",
              "        text-align: right;\n",
              "    }\n",
              "</style>\n",
              "<table border=\"1\" class=\"dataframe\">\n",
              "  <thead>\n",
              "    <tr style=\"text-align: right;\">\n",
              "      <th></th>\n",
              "      <th>X1_x</th>\n",
              "      <th>X2</th>\n",
              "      <th>X1_y</th>\n",
              "      <th>X3</th>\n",
              "    </tr>\n",
              "  </thead>\n",
              "  <tbody>\n",
              "    <tr>\n",
              "      <th>0</th>\n",
              "      <td>1</td>\n",
              "      <td>4</td>\n",
              "      <td>1</td>\n",
              "      <td>4</td>\n",
              "    </tr>\n",
              "    <tr>\n",
              "      <th>1</th>\n",
              "      <td>1</td>\n",
              "      <td>4</td>\n",
              "      <td>2</td>\n",
              "      <td>8</td>\n",
              "    </tr>\n",
              "    <tr>\n",
              "      <th>2</th>\n",
              "      <td>1</td>\n",
              "      <td>4</td>\n",
              "      <td>3</td>\n",
              "      <td>12</td>\n",
              "    </tr>\n",
              "    <tr>\n",
              "      <th>3</th>\n",
              "      <td>1</td>\n",
              "      <td>4</td>\n",
              "      <td>4</td>\n",
              "      <td>15</td>\n",
              "    </tr>\n",
              "    <tr>\n",
              "      <th>4</th>\n",
              "      <td>2</td>\n",
              "      <td>8</td>\n",
              "      <td>1</td>\n",
              "      <td>4</td>\n",
              "    </tr>\n",
              "    <tr>\n",
              "      <th>5</th>\n",
              "      <td>2</td>\n",
              "      <td>8</td>\n",
              "      <td>2</td>\n",
              "      <td>8</td>\n",
              "    </tr>\n",
              "    <tr>\n",
              "      <th>6</th>\n",
              "      <td>2</td>\n",
              "      <td>8</td>\n",
              "      <td>3</td>\n",
              "      <td>12</td>\n",
              "    </tr>\n",
              "    <tr>\n",
              "      <th>7</th>\n",
              "      <td>2</td>\n",
              "      <td>8</td>\n",
              "      <td>4</td>\n",
              "      <td>15</td>\n",
              "    </tr>\n",
              "    <tr>\n",
              "      <th>8</th>\n",
              "      <td>3</td>\n",
              "      <td>12</td>\n",
              "      <td>1</td>\n",
              "      <td>4</td>\n",
              "    </tr>\n",
              "    <tr>\n",
              "      <th>9</th>\n",
              "      <td>3</td>\n",
              "      <td>12</td>\n",
              "      <td>2</td>\n",
              "      <td>8</td>\n",
              "    </tr>\n",
              "    <tr>\n",
              "      <th>10</th>\n",
              "      <td>3</td>\n",
              "      <td>12</td>\n",
              "      <td>3</td>\n",
              "      <td>12</td>\n",
              "    </tr>\n",
              "    <tr>\n",
              "      <th>11</th>\n",
              "      <td>3</td>\n",
              "      <td>12</td>\n",
              "      <td>4</td>\n",
              "      <td>15</td>\n",
              "    </tr>\n",
              "  </tbody>\n",
              "</table>\n",
              "</div>\n",
              "    <div class=\"colab-df-buttons\">\n",
              "\n",
              "  <div class=\"colab-df-container\">\n",
              "    <button class=\"colab-df-convert\" onclick=\"convertToInteractive('df-87f0e7f6-34e8-4c32-9317-547783513fef')\"\n",
              "            title=\"Convert this dataframe to an interactive table.\"\n",
              "            style=\"display:none;\">\n",
              "\n",
              "  <svg xmlns=\"http://www.w3.org/2000/svg\" height=\"24px\" viewBox=\"0 -960 960 960\">\n",
              "    <path d=\"M120-120v-720h720v720H120Zm60-500h600v-160H180v160Zm220 220h160v-160H400v160Zm0 220h160v-160H400v160ZM180-400h160v-160H180v160Zm440 0h160v-160H620v160ZM180-180h160v-160H180v160Zm440 0h160v-160H620v160Z\"/>\n",
              "  </svg>\n",
              "    </button>\n",
              "\n",
              "  <style>\n",
              "    .colab-df-container {\n",
              "      display:flex;\n",
              "      gap: 12px;\n",
              "    }\n",
              "\n",
              "    .colab-df-convert {\n",
              "      background-color: #E8F0FE;\n",
              "      border: none;\n",
              "      border-radius: 50%;\n",
              "      cursor: pointer;\n",
              "      display: none;\n",
              "      fill: #1967D2;\n",
              "      height: 32px;\n",
              "      padding: 0 0 0 0;\n",
              "      width: 32px;\n",
              "    }\n",
              "\n",
              "    .colab-df-convert:hover {\n",
              "      background-color: #E2EBFA;\n",
              "      box-shadow: 0px 1px 2px rgba(60, 64, 67, 0.3), 0px 1px 3px 1px rgba(60, 64, 67, 0.15);\n",
              "      fill: #174EA6;\n",
              "    }\n",
              "\n",
              "    .colab-df-buttons div {\n",
              "      margin-bottom: 4px;\n",
              "    }\n",
              "\n",
              "    [theme=dark] .colab-df-convert {\n",
              "      background-color: #3B4455;\n",
              "      fill: #D2E3FC;\n",
              "    }\n",
              "\n",
              "    [theme=dark] .colab-df-convert:hover {\n",
              "      background-color: #434B5C;\n",
              "      box-shadow: 0px 1px 3px 1px rgba(0, 0, 0, 0.15);\n",
              "      filter: drop-shadow(0px 1px 2px rgba(0, 0, 0, 0.3));\n",
              "      fill: #FFFFFF;\n",
              "    }\n",
              "  </style>\n",
              "\n",
              "    <script>\n",
              "      const buttonEl =\n",
              "        document.querySelector('#df-87f0e7f6-34e8-4c32-9317-547783513fef button.colab-df-convert');\n",
              "      buttonEl.style.display =\n",
              "        google.colab.kernel.accessAllowed ? 'block' : 'none';\n",
              "\n",
              "      async function convertToInteractive(key) {\n",
              "        const element = document.querySelector('#df-87f0e7f6-34e8-4c32-9317-547783513fef');\n",
              "        const dataTable =\n",
              "          await google.colab.kernel.invokeFunction('convertToInteractive',\n",
              "                                                    [key], {});\n",
              "        if (!dataTable) return;\n",
              "\n",
              "        const docLinkHtml = 'Like what you see? Visit the ' +\n",
              "          '<a target=\"_blank\" href=https://colab.research.google.com/notebooks/data_table.ipynb>data table notebook</a>'\n",
              "          + ' to learn more about interactive tables.';\n",
              "        element.innerHTML = '';\n",
              "        dataTable['output_type'] = 'display_data';\n",
              "        await google.colab.output.renderOutput(dataTable, element);\n",
              "        const docLink = document.createElement('div');\n",
              "        docLink.innerHTML = docLinkHtml;\n",
              "        element.appendChild(docLink);\n",
              "      }\n",
              "    </script>\n",
              "  </div>\n",
              "\n",
              "\n",
              "<div id=\"df-b0006750-16b6-434a-b6eb-7e907ef3702c\">\n",
              "  <button class=\"colab-df-quickchart\" onclick=\"quickchart('df-b0006750-16b6-434a-b6eb-7e907ef3702c')\"\n",
              "            title=\"Suggest charts.\"\n",
              "            style=\"display:none;\">\n",
              "\n",
              "<svg xmlns=\"http://www.w3.org/2000/svg\" height=\"24px\"viewBox=\"0 0 24 24\"\n",
              "     width=\"24px\">\n",
              "    <g>\n",
              "        <path d=\"M19 3H5c-1.1 0-2 .9-2 2v14c0 1.1.9 2 2 2h14c1.1 0 2-.9 2-2V5c0-1.1-.9-2-2-2zM9 17H7v-7h2v7zm4 0h-2V7h2v10zm4 0h-2v-4h2v4z\"/>\n",
              "    </g>\n",
              "</svg>\n",
              "  </button>\n",
              "\n",
              "<style>\n",
              "  .colab-df-quickchart {\n",
              "    background-color: #E8F0FE;\n",
              "    border: none;\n",
              "    border-radius: 50%;\n",
              "    cursor: pointer;\n",
              "    display: none;\n",
              "    fill: #1967D2;\n",
              "    height: 32px;\n",
              "    padding: 0 0 0 0;\n",
              "    width: 32px;\n",
              "  }\n",
              "\n",
              "  .colab-df-quickchart:hover {\n",
              "    background-color: #E2EBFA;\n",
              "    box-shadow: 0px 1px 2px rgba(60, 64, 67, 0.3), 0px 1px 3px 1px rgba(60, 64, 67, 0.15);\n",
              "    fill: #174EA6;\n",
              "  }\n",
              "\n",
              "  [theme=dark] .colab-df-quickchart {\n",
              "    background-color: #3B4455;\n",
              "    fill: #D2E3FC;\n",
              "  }\n",
              "\n",
              "  [theme=dark] .colab-df-quickchart:hover {\n",
              "    background-color: #434B5C;\n",
              "    box-shadow: 0px 1px 3px 1px rgba(0, 0, 0, 0.15);\n",
              "    filter: drop-shadow(0px 1px 2px rgba(0, 0, 0, 0.3));\n",
              "    fill: #FFFFFF;\n",
              "  }\n",
              "</style>\n",
              "\n",
              "  <script>\n",
              "    async function quickchart(key) {\n",
              "      const charts = await google.colab.kernel.invokeFunction(\n",
              "          'suggestCharts', [key], {});\n",
              "    }\n",
              "    (() => {\n",
              "      let quickchartButtonEl =\n",
              "        document.querySelector('#df-b0006750-16b6-434a-b6eb-7e907ef3702c button');\n",
              "      quickchartButtonEl.style.display =\n",
              "        google.colab.kernel.accessAllowed ? 'block' : 'none';\n",
              "    })();\n",
              "  </script>\n",
              "</div>\n",
              "    </div>\n",
              "  </div>\n"
            ]
          },
          "metadata": {},
          "execution_count": 128
        }
      ]
    },
    {
      "cell_type": "code",
      "source": [
        "df1 = pd.DataFrame({'lkey': ['foo', 'bar', 'baz', 'foo'],\n",
        "                        'value': [1, 2, 3, 5]})\n",
        "df2 = pd.DataFrame({'rkey': ['foo', 'bar', 'baz', 'foo'],\n",
        "                        'value': [5, 6, 7, 8]})"
      ],
      "metadata": {
        "id": "MuFsTiMbNHfl"
      },
      "execution_count": null,
      "outputs": []
    },
    {
      "cell_type": "code",
      "source": [
        "df1"
      ],
      "metadata": {
        "colab": {
          "base_uri": "https://localhost:8080/",
          "height": 175
        },
        "id": "GEGqfzYSNLPj",
        "outputId": "18df7543-558d-47c6-a0ec-b454678c65de"
      },
      "execution_count": null,
      "outputs": [
        {
          "output_type": "execute_result",
          "data": {
            "text/plain": [
              "  lkey  value\n",
              "0  foo      1\n",
              "1  bar      2\n",
              "2  baz      3\n",
              "3  foo      5"
            ],
            "text/html": [
              "\n",
              "  <div id=\"df-d7ff5515-eab6-4dcc-874c-ad159fecf404\" class=\"colab-df-container\">\n",
              "    <div>\n",
              "<style scoped>\n",
              "    .dataframe tbody tr th:only-of-type {\n",
              "        vertical-align: middle;\n",
              "    }\n",
              "\n",
              "    .dataframe tbody tr th {\n",
              "        vertical-align: top;\n",
              "    }\n",
              "\n",
              "    .dataframe thead th {\n",
              "        text-align: right;\n",
              "    }\n",
              "</style>\n",
              "<table border=\"1\" class=\"dataframe\">\n",
              "  <thead>\n",
              "    <tr style=\"text-align: right;\">\n",
              "      <th></th>\n",
              "      <th>lkey</th>\n",
              "      <th>value</th>\n",
              "    </tr>\n",
              "  </thead>\n",
              "  <tbody>\n",
              "    <tr>\n",
              "      <th>0</th>\n",
              "      <td>foo</td>\n",
              "      <td>1</td>\n",
              "    </tr>\n",
              "    <tr>\n",
              "      <th>1</th>\n",
              "      <td>bar</td>\n",
              "      <td>2</td>\n",
              "    </tr>\n",
              "    <tr>\n",
              "      <th>2</th>\n",
              "      <td>baz</td>\n",
              "      <td>3</td>\n",
              "    </tr>\n",
              "    <tr>\n",
              "      <th>3</th>\n",
              "      <td>foo</td>\n",
              "      <td>5</td>\n",
              "    </tr>\n",
              "  </tbody>\n",
              "</table>\n",
              "</div>\n",
              "    <div class=\"colab-df-buttons\">\n",
              "\n",
              "  <div class=\"colab-df-container\">\n",
              "    <button class=\"colab-df-convert\" onclick=\"convertToInteractive('df-d7ff5515-eab6-4dcc-874c-ad159fecf404')\"\n",
              "            title=\"Convert this dataframe to an interactive table.\"\n",
              "            style=\"display:none;\">\n",
              "\n",
              "  <svg xmlns=\"http://www.w3.org/2000/svg\" height=\"24px\" viewBox=\"0 -960 960 960\">\n",
              "    <path d=\"M120-120v-720h720v720H120Zm60-500h600v-160H180v160Zm220 220h160v-160H400v160Zm0 220h160v-160H400v160ZM180-400h160v-160H180v160Zm440 0h160v-160H620v160ZM180-180h160v-160H180v160Zm440 0h160v-160H620v160Z\"/>\n",
              "  </svg>\n",
              "    </button>\n",
              "\n",
              "  <style>\n",
              "    .colab-df-container {\n",
              "      display:flex;\n",
              "      gap: 12px;\n",
              "    }\n",
              "\n",
              "    .colab-df-convert {\n",
              "      background-color: #E8F0FE;\n",
              "      border: none;\n",
              "      border-radius: 50%;\n",
              "      cursor: pointer;\n",
              "      display: none;\n",
              "      fill: #1967D2;\n",
              "      height: 32px;\n",
              "      padding: 0 0 0 0;\n",
              "      width: 32px;\n",
              "    }\n",
              "\n",
              "    .colab-df-convert:hover {\n",
              "      background-color: #E2EBFA;\n",
              "      box-shadow: 0px 1px 2px rgba(60, 64, 67, 0.3), 0px 1px 3px 1px rgba(60, 64, 67, 0.15);\n",
              "      fill: #174EA6;\n",
              "    }\n",
              "\n",
              "    .colab-df-buttons div {\n",
              "      margin-bottom: 4px;\n",
              "    }\n",
              "\n",
              "    [theme=dark] .colab-df-convert {\n",
              "      background-color: #3B4455;\n",
              "      fill: #D2E3FC;\n",
              "    }\n",
              "\n",
              "    [theme=dark] .colab-df-convert:hover {\n",
              "      background-color: #434B5C;\n",
              "      box-shadow: 0px 1px 3px 1px rgba(0, 0, 0, 0.15);\n",
              "      filter: drop-shadow(0px 1px 2px rgba(0, 0, 0, 0.3));\n",
              "      fill: #FFFFFF;\n",
              "    }\n",
              "  </style>\n",
              "\n",
              "    <script>\n",
              "      const buttonEl =\n",
              "        document.querySelector('#df-d7ff5515-eab6-4dcc-874c-ad159fecf404 button.colab-df-convert');\n",
              "      buttonEl.style.display =\n",
              "        google.colab.kernel.accessAllowed ? 'block' : 'none';\n",
              "\n",
              "      async function convertToInteractive(key) {\n",
              "        const element = document.querySelector('#df-d7ff5515-eab6-4dcc-874c-ad159fecf404');\n",
              "        const dataTable =\n",
              "          await google.colab.kernel.invokeFunction('convertToInteractive',\n",
              "                                                    [key], {});\n",
              "        if (!dataTable) return;\n",
              "\n",
              "        const docLinkHtml = 'Like what you see? Visit the ' +\n",
              "          '<a target=\"_blank\" href=https://colab.research.google.com/notebooks/data_table.ipynb>data table notebook</a>'\n",
              "          + ' to learn more about interactive tables.';\n",
              "        element.innerHTML = '';\n",
              "        dataTable['output_type'] = 'display_data';\n",
              "        await google.colab.output.renderOutput(dataTable, element);\n",
              "        const docLink = document.createElement('div');\n",
              "        docLink.innerHTML = docLinkHtml;\n",
              "        element.appendChild(docLink);\n",
              "      }\n",
              "    </script>\n",
              "  </div>\n",
              "\n",
              "    </div>\n",
              "  </div>\n"
            ]
          },
          "metadata": {},
          "execution_count": 130
        }
      ]
    },
    {
      "cell_type": "code",
      "source": [
        "df2"
      ],
      "metadata": {
        "colab": {
          "base_uri": "https://localhost:8080/",
          "height": 175
        },
        "id": "PjiVxJjZNLJO",
        "outputId": "48534536-7f62-4cf3-b99d-3d165353b377"
      },
      "execution_count": null,
      "outputs": [
        {
          "output_type": "execute_result",
          "data": {
            "text/plain": [
              "  rkey  value\n",
              "0  foo      5\n",
              "1  bar      6\n",
              "2  baz      7\n",
              "3  foo      8"
            ],
            "text/html": [
              "\n",
              "  <div id=\"df-4deb7052-8808-4049-a716-9015c57c1ce2\" class=\"colab-df-container\">\n",
              "    <div>\n",
              "<style scoped>\n",
              "    .dataframe tbody tr th:only-of-type {\n",
              "        vertical-align: middle;\n",
              "    }\n",
              "\n",
              "    .dataframe tbody tr th {\n",
              "        vertical-align: top;\n",
              "    }\n",
              "\n",
              "    .dataframe thead th {\n",
              "        text-align: right;\n",
              "    }\n",
              "</style>\n",
              "<table border=\"1\" class=\"dataframe\">\n",
              "  <thead>\n",
              "    <tr style=\"text-align: right;\">\n",
              "      <th></th>\n",
              "      <th>rkey</th>\n",
              "      <th>value</th>\n",
              "    </tr>\n",
              "  </thead>\n",
              "  <tbody>\n",
              "    <tr>\n",
              "      <th>0</th>\n",
              "      <td>foo</td>\n",
              "      <td>5</td>\n",
              "    </tr>\n",
              "    <tr>\n",
              "      <th>1</th>\n",
              "      <td>bar</td>\n",
              "      <td>6</td>\n",
              "    </tr>\n",
              "    <tr>\n",
              "      <th>2</th>\n",
              "      <td>baz</td>\n",
              "      <td>7</td>\n",
              "    </tr>\n",
              "    <tr>\n",
              "      <th>3</th>\n",
              "      <td>foo</td>\n",
              "      <td>8</td>\n",
              "    </tr>\n",
              "  </tbody>\n",
              "</table>\n",
              "</div>\n",
              "    <div class=\"colab-df-buttons\">\n",
              "\n",
              "  <div class=\"colab-df-container\">\n",
              "    <button class=\"colab-df-convert\" onclick=\"convertToInteractive('df-4deb7052-8808-4049-a716-9015c57c1ce2')\"\n",
              "            title=\"Convert this dataframe to an interactive table.\"\n",
              "            style=\"display:none;\">\n",
              "\n",
              "  <svg xmlns=\"http://www.w3.org/2000/svg\" height=\"24px\" viewBox=\"0 -960 960 960\">\n",
              "    <path d=\"M120-120v-720h720v720H120Zm60-500h600v-160H180v160Zm220 220h160v-160H400v160Zm0 220h160v-160H400v160ZM180-400h160v-160H180v160Zm440 0h160v-160H620v160ZM180-180h160v-160H180v160Zm440 0h160v-160H620v160Z\"/>\n",
              "  </svg>\n",
              "    </button>\n",
              "\n",
              "  <style>\n",
              "    .colab-df-container {\n",
              "      display:flex;\n",
              "      gap: 12px;\n",
              "    }\n",
              "\n",
              "    .colab-df-convert {\n",
              "      background-color: #E8F0FE;\n",
              "      border: none;\n",
              "      border-radius: 50%;\n",
              "      cursor: pointer;\n",
              "      display: none;\n",
              "      fill: #1967D2;\n",
              "      height: 32px;\n",
              "      padding: 0 0 0 0;\n",
              "      width: 32px;\n",
              "    }\n",
              "\n",
              "    .colab-df-convert:hover {\n",
              "      background-color: #E2EBFA;\n",
              "      box-shadow: 0px 1px 2px rgba(60, 64, 67, 0.3), 0px 1px 3px 1px rgba(60, 64, 67, 0.15);\n",
              "      fill: #174EA6;\n",
              "    }\n",
              "\n",
              "    .colab-df-buttons div {\n",
              "      margin-bottom: 4px;\n",
              "    }\n",
              "\n",
              "    [theme=dark] .colab-df-convert {\n",
              "      background-color: #3B4455;\n",
              "      fill: #D2E3FC;\n",
              "    }\n",
              "\n",
              "    [theme=dark] .colab-df-convert:hover {\n",
              "      background-color: #434B5C;\n",
              "      box-shadow: 0px 1px 3px 1px rgba(0, 0, 0, 0.15);\n",
              "      filter: drop-shadow(0px 1px 2px rgba(0, 0, 0, 0.3));\n",
              "      fill: #FFFFFF;\n",
              "    }\n",
              "  </style>\n",
              "\n",
              "    <script>\n",
              "      const buttonEl =\n",
              "        document.querySelector('#df-4deb7052-8808-4049-a716-9015c57c1ce2 button.colab-df-convert');\n",
              "      buttonEl.style.display =\n",
              "        google.colab.kernel.accessAllowed ? 'block' : 'none';\n",
              "\n",
              "      async function convertToInteractive(key) {\n",
              "        const element = document.querySelector('#df-4deb7052-8808-4049-a716-9015c57c1ce2');\n",
              "        const dataTable =\n",
              "          await google.colab.kernel.invokeFunction('convertToInteractive',\n",
              "                                                    [key], {});\n",
              "        if (!dataTable) return;\n",
              "\n",
              "        const docLinkHtml = 'Like what you see? Visit the ' +\n",
              "          '<a target=\"_blank\" href=https://colab.research.google.com/notebooks/data_table.ipynb>data table notebook</a>'\n",
              "          + ' to learn more about interactive tables.';\n",
              "        element.innerHTML = '';\n",
              "        dataTable['output_type'] = 'display_data';\n",
              "        await google.colab.output.renderOutput(dataTable, element);\n",
              "        const docLink = document.createElement('div');\n",
              "        docLink.innerHTML = docLinkHtml;\n",
              "        element.appendChild(docLink);\n",
              "      }\n",
              "    </script>\n",
              "  </div>\n",
              "\n",
              "    </div>\n",
              "  </div>\n"
            ]
          },
          "metadata": {},
          "execution_count": 131
        }
      ]
    },
    {
      "cell_type": "code",
      "source": [
        "df1.merge(df2, how='cross')"
      ],
      "metadata": {
        "id": "fZcexjfpNTLe",
        "outputId": "facc54c8-516c-4e67-b335-3b32f136e525",
        "colab": {
          "base_uri": "https://localhost:8080/",
          "height": 551
        }
      },
      "execution_count": null,
      "outputs": [
        {
          "output_type": "execute_result",
          "data": {
            "text/plain": [
              "   lkey  value_x rkey  value_y\n",
              "0   foo        1  foo        5\n",
              "1   foo        1  bar        6\n",
              "2   foo        1  baz        7\n",
              "3   foo        1  foo        8\n",
              "4   bar        2  foo        5\n",
              "5   bar        2  bar        6\n",
              "6   bar        2  baz        7\n",
              "7   bar        2  foo        8\n",
              "8   baz        3  foo        5\n",
              "9   baz        3  bar        6\n",
              "10  baz        3  baz        7\n",
              "11  baz        3  foo        8\n",
              "12  foo        5  foo        5\n",
              "13  foo        5  bar        6\n",
              "14  foo        5  baz        7\n",
              "15  foo        5  foo        8"
            ],
            "text/html": [
              "\n",
              "  <div id=\"df-d5874565-9bb2-4a50-a7e3-51a50b0050b3\" class=\"colab-df-container\">\n",
              "    <div>\n",
              "<style scoped>\n",
              "    .dataframe tbody tr th:only-of-type {\n",
              "        vertical-align: middle;\n",
              "    }\n",
              "\n",
              "    .dataframe tbody tr th {\n",
              "        vertical-align: top;\n",
              "    }\n",
              "\n",
              "    .dataframe thead th {\n",
              "        text-align: right;\n",
              "    }\n",
              "</style>\n",
              "<table border=\"1\" class=\"dataframe\">\n",
              "  <thead>\n",
              "    <tr style=\"text-align: right;\">\n",
              "      <th></th>\n",
              "      <th>lkey</th>\n",
              "      <th>value_x</th>\n",
              "      <th>rkey</th>\n",
              "      <th>value_y</th>\n",
              "    </tr>\n",
              "  </thead>\n",
              "  <tbody>\n",
              "    <tr>\n",
              "      <th>0</th>\n",
              "      <td>foo</td>\n",
              "      <td>1</td>\n",
              "      <td>foo</td>\n",
              "      <td>5</td>\n",
              "    </tr>\n",
              "    <tr>\n",
              "      <th>1</th>\n",
              "      <td>foo</td>\n",
              "      <td>1</td>\n",
              "      <td>bar</td>\n",
              "      <td>6</td>\n",
              "    </tr>\n",
              "    <tr>\n",
              "      <th>2</th>\n",
              "      <td>foo</td>\n",
              "      <td>1</td>\n",
              "      <td>baz</td>\n",
              "      <td>7</td>\n",
              "    </tr>\n",
              "    <tr>\n",
              "      <th>3</th>\n",
              "      <td>foo</td>\n",
              "      <td>1</td>\n",
              "      <td>foo</td>\n",
              "      <td>8</td>\n",
              "    </tr>\n",
              "    <tr>\n",
              "      <th>4</th>\n",
              "      <td>bar</td>\n",
              "      <td>2</td>\n",
              "      <td>foo</td>\n",
              "      <td>5</td>\n",
              "    </tr>\n",
              "    <tr>\n",
              "      <th>5</th>\n",
              "      <td>bar</td>\n",
              "      <td>2</td>\n",
              "      <td>bar</td>\n",
              "      <td>6</td>\n",
              "    </tr>\n",
              "    <tr>\n",
              "      <th>6</th>\n",
              "      <td>bar</td>\n",
              "      <td>2</td>\n",
              "      <td>baz</td>\n",
              "      <td>7</td>\n",
              "    </tr>\n",
              "    <tr>\n",
              "      <th>7</th>\n",
              "      <td>bar</td>\n",
              "      <td>2</td>\n",
              "      <td>foo</td>\n",
              "      <td>8</td>\n",
              "    </tr>\n",
              "    <tr>\n",
              "      <th>8</th>\n",
              "      <td>baz</td>\n",
              "      <td>3</td>\n",
              "      <td>foo</td>\n",
              "      <td>5</td>\n",
              "    </tr>\n",
              "    <tr>\n",
              "      <th>9</th>\n",
              "      <td>baz</td>\n",
              "      <td>3</td>\n",
              "      <td>bar</td>\n",
              "      <td>6</td>\n",
              "    </tr>\n",
              "    <tr>\n",
              "      <th>10</th>\n",
              "      <td>baz</td>\n",
              "      <td>3</td>\n",
              "      <td>baz</td>\n",
              "      <td>7</td>\n",
              "    </tr>\n",
              "    <tr>\n",
              "      <th>11</th>\n",
              "      <td>baz</td>\n",
              "      <td>3</td>\n",
              "      <td>foo</td>\n",
              "      <td>8</td>\n",
              "    </tr>\n",
              "    <tr>\n",
              "      <th>12</th>\n",
              "      <td>foo</td>\n",
              "      <td>5</td>\n",
              "      <td>foo</td>\n",
              "      <td>5</td>\n",
              "    </tr>\n",
              "    <tr>\n",
              "      <th>13</th>\n",
              "      <td>foo</td>\n",
              "      <td>5</td>\n",
              "      <td>bar</td>\n",
              "      <td>6</td>\n",
              "    </tr>\n",
              "    <tr>\n",
              "      <th>14</th>\n",
              "      <td>foo</td>\n",
              "      <td>5</td>\n",
              "      <td>baz</td>\n",
              "      <td>7</td>\n",
              "    </tr>\n",
              "    <tr>\n",
              "      <th>15</th>\n",
              "      <td>foo</td>\n",
              "      <td>5</td>\n",
              "      <td>foo</td>\n",
              "      <td>8</td>\n",
              "    </tr>\n",
              "  </tbody>\n",
              "</table>\n",
              "</div>\n",
              "    <div class=\"colab-df-buttons\">\n",
              "\n",
              "  <div class=\"colab-df-container\">\n",
              "    <button class=\"colab-df-convert\" onclick=\"convertToInteractive('df-d5874565-9bb2-4a50-a7e3-51a50b0050b3')\"\n",
              "            title=\"Convert this dataframe to an interactive table.\"\n",
              "            style=\"display:none;\">\n",
              "\n",
              "  <svg xmlns=\"http://www.w3.org/2000/svg\" height=\"24px\" viewBox=\"0 -960 960 960\">\n",
              "    <path d=\"M120-120v-720h720v720H120Zm60-500h600v-160H180v160Zm220 220h160v-160H400v160Zm0 220h160v-160H400v160ZM180-400h160v-160H180v160Zm440 0h160v-160H620v160ZM180-180h160v-160H180v160Zm440 0h160v-160H620v160Z\"/>\n",
              "  </svg>\n",
              "    </button>\n",
              "\n",
              "  <style>\n",
              "    .colab-df-container {\n",
              "      display:flex;\n",
              "      gap: 12px;\n",
              "    }\n",
              "\n",
              "    .colab-df-convert {\n",
              "      background-color: #E8F0FE;\n",
              "      border: none;\n",
              "      border-radius: 50%;\n",
              "      cursor: pointer;\n",
              "      display: none;\n",
              "      fill: #1967D2;\n",
              "      height: 32px;\n",
              "      padding: 0 0 0 0;\n",
              "      width: 32px;\n",
              "    }\n",
              "\n",
              "    .colab-df-convert:hover {\n",
              "      background-color: #E2EBFA;\n",
              "      box-shadow: 0px 1px 2px rgba(60, 64, 67, 0.3), 0px 1px 3px 1px rgba(60, 64, 67, 0.15);\n",
              "      fill: #174EA6;\n",
              "    }\n",
              "\n",
              "    .colab-df-buttons div {\n",
              "      margin-bottom: 4px;\n",
              "    }\n",
              "\n",
              "    [theme=dark] .colab-df-convert {\n",
              "      background-color: #3B4455;\n",
              "      fill: #D2E3FC;\n",
              "    }\n",
              "\n",
              "    [theme=dark] .colab-df-convert:hover {\n",
              "      background-color: #434B5C;\n",
              "      box-shadow: 0px 1px 3px 1px rgba(0, 0, 0, 0.15);\n",
              "      filter: drop-shadow(0px 1px 2px rgba(0, 0, 0, 0.3));\n",
              "      fill: #FFFFFF;\n",
              "    }\n",
              "  </style>\n",
              "\n",
              "    <script>\n",
              "      const buttonEl =\n",
              "        document.querySelector('#df-d5874565-9bb2-4a50-a7e3-51a50b0050b3 button.colab-df-convert');\n",
              "      buttonEl.style.display =\n",
              "        google.colab.kernel.accessAllowed ? 'block' : 'none';\n",
              "\n",
              "      async function convertToInteractive(key) {\n",
              "        const element = document.querySelector('#df-d5874565-9bb2-4a50-a7e3-51a50b0050b3');\n",
              "        const dataTable =\n",
              "          await google.colab.kernel.invokeFunction('convertToInteractive',\n",
              "                                                    [key], {});\n",
              "        if (!dataTable) return;\n",
              "\n",
              "        const docLinkHtml = 'Like what you see? Visit the ' +\n",
              "          '<a target=\"_blank\" href=https://colab.research.google.com/notebooks/data_table.ipynb>data table notebook</a>'\n",
              "          + ' to learn more about interactive tables.';\n",
              "        element.innerHTML = '';\n",
              "        dataTable['output_type'] = 'display_data';\n",
              "        await google.colab.output.renderOutput(dataTable, element);\n",
              "        const docLink = document.createElement('div');\n",
              "        docLink.innerHTML = docLinkHtml;\n",
              "        element.appendChild(docLink);\n",
              "      }\n",
              "    </script>\n",
              "  </div>\n",
              "\n",
              "\n",
              "<div id=\"df-1d417c3c-5d1c-481f-a1a9-21d8d2daa1cc\">\n",
              "  <button class=\"colab-df-quickchart\" onclick=\"quickchart('df-1d417c3c-5d1c-481f-a1a9-21d8d2daa1cc')\"\n",
              "            title=\"Suggest charts.\"\n",
              "            style=\"display:none;\">\n",
              "\n",
              "<svg xmlns=\"http://www.w3.org/2000/svg\" height=\"24px\"viewBox=\"0 0 24 24\"\n",
              "     width=\"24px\">\n",
              "    <g>\n",
              "        <path d=\"M19 3H5c-1.1 0-2 .9-2 2v14c0 1.1.9 2 2 2h14c1.1 0 2-.9 2-2V5c0-1.1-.9-2-2-2zM9 17H7v-7h2v7zm4 0h-2V7h2v10zm4 0h-2v-4h2v4z\"/>\n",
              "    </g>\n",
              "</svg>\n",
              "  </button>\n",
              "\n",
              "<style>\n",
              "  .colab-df-quickchart {\n",
              "    background-color: #E8F0FE;\n",
              "    border: none;\n",
              "    border-radius: 50%;\n",
              "    cursor: pointer;\n",
              "    display: none;\n",
              "    fill: #1967D2;\n",
              "    height: 32px;\n",
              "    padding: 0 0 0 0;\n",
              "    width: 32px;\n",
              "  }\n",
              "\n",
              "  .colab-df-quickchart:hover {\n",
              "    background-color: #E2EBFA;\n",
              "    box-shadow: 0px 1px 2px rgba(60, 64, 67, 0.3), 0px 1px 3px 1px rgba(60, 64, 67, 0.15);\n",
              "    fill: #174EA6;\n",
              "  }\n",
              "\n",
              "  [theme=dark] .colab-df-quickchart {\n",
              "    background-color: #3B4455;\n",
              "    fill: #D2E3FC;\n",
              "  }\n",
              "\n",
              "  [theme=dark] .colab-df-quickchart:hover {\n",
              "    background-color: #434B5C;\n",
              "    box-shadow: 0px 1px 3px 1px rgba(0, 0, 0, 0.15);\n",
              "    filter: drop-shadow(0px 1px 2px rgba(0, 0, 0, 0.3));\n",
              "    fill: #FFFFFF;\n",
              "  }\n",
              "</style>\n",
              "\n",
              "  <script>\n",
              "    async function quickchart(key) {\n",
              "      const charts = await google.colab.kernel.invokeFunction(\n",
              "          'suggestCharts', [key], {});\n",
              "    }\n",
              "    (() => {\n",
              "      let quickchartButtonEl =\n",
              "        document.querySelector('#df-1d417c3c-5d1c-481f-a1a9-21d8d2daa1cc button');\n",
              "      quickchartButtonEl.style.display =\n",
              "        google.colab.kernel.accessAllowed ? 'block' : 'none';\n",
              "    })();\n",
              "  </script>\n",
              "</div>\n",
              "    </div>\n",
              "  </div>\n"
            ]
          },
          "metadata": {},
          "execution_count": 132
        }
      ]
    },
    {
      "cell_type": "code",
      "source": [
        "help(pd.merge)"
      ],
      "metadata": {
        "colab": {
          "base_uri": "https://localhost:8080/"
        },
        "id": "KYeXUqoEKZju",
        "outputId": "c9aebfaa-b66d-475c-fee1-cdb933ca559e"
      },
      "execution_count": null,
      "outputs": [
        {
          "output_type": "stream",
          "name": "stdout",
          "text": [
            "Help on function merge in module pandas.core.reshape.merge:\n",
            "\n",
            "merge(left: 'DataFrame | Series', right: 'DataFrame | Series', how: 'str' = 'inner', on: 'IndexLabel | None' = None, left_on: 'IndexLabel | None' = None, right_on: 'IndexLabel | None' = None, left_index: 'bool' = False, right_index: 'bool' = False, sort: 'bool' = False, suffixes: 'Suffixes' = ('_x', '_y'), copy: 'bool' = True, indicator: 'bool' = False, validate: 'str | None' = None) -> 'DataFrame'\n",
            "    Merge DataFrame or named Series objects with a database-style join.\n",
            "    \n",
            "    A named Series object is treated as a DataFrame with a single named column.\n",
            "    \n",
            "    The join is done on columns or indexes. If joining columns on\n",
            "    columns, the DataFrame indexes *will be ignored*. Otherwise if joining indexes\n",
            "    on indexes or indexes on a column or columns, the index will be passed on.\n",
            "    When performing a cross merge, no column specifications to merge on are\n",
            "    allowed.\n",
            "    \n",
            "    .. warning::\n",
            "    \n",
            "        If both key columns contain rows where the key is a null value, those\n",
            "        rows will be matched against each other. This is different from usual SQL\n",
            "        join behaviour and can lead to unexpected results.\n",
            "    \n",
            "    Parameters\n",
            "    ----------\n",
            "    left : DataFrame\n",
            "    right : DataFrame or named Series\n",
            "        Object to merge with.\n",
            "    how : {'left', 'right', 'outer', 'inner', 'cross'}, default 'inner'\n",
            "        Type of merge to be performed.\n",
            "    \n",
            "        * left: use only keys from left frame, similar to a SQL left outer join;\n",
            "          preserve key order.\n",
            "        * right: use only keys from right frame, similar to a SQL right outer join;\n",
            "          preserve key order.\n",
            "        * outer: use union of keys from both frames, similar to a SQL full outer\n",
            "          join; sort keys lexicographically.\n",
            "        * inner: use intersection of keys from both frames, similar to a SQL inner\n",
            "          join; preserve the order of the left keys.\n",
            "        * cross: creates the cartesian product from both frames, preserves the order\n",
            "          of the left keys.\n",
            "    \n",
            "          .. versionadded:: 1.2.0\n",
            "    \n",
            "    on : label or list\n",
            "        Column or index level names to join on. These must be found in both\n",
            "        DataFrames. If `on` is None and not merging on indexes then this defaults\n",
            "        to the intersection of the columns in both DataFrames.\n",
            "    left_on : label or list, or array-like\n",
            "        Column or index level names to join on in the left DataFrame. Can also\n",
            "        be an array or list of arrays of the length of the left DataFrame.\n",
            "        These arrays are treated as if they are columns.\n",
            "    right_on : label or list, or array-like\n",
            "        Column or index level names to join on in the right DataFrame. Can also\n",
            "        be an array or list of arrays of the length of the right DataFrame.\n",
            "        These arrays are treated as if they are columns.\n",
            "    left_index : bool, default False\n",
            "        Use the index from the left DataFrame as the join key(s). If it is a\n",
            "        MultiIndex, the number of keys in the other DataFrame (either the index\n",
            "        or a number of columns) must match the number of levels.\n",
            "    right_index : bool, default False\n",
            "        Use the index from the right DataFrame as the join key. Same caveats as\n",
            "        left_index.\n",
            "    sort : bool, default False\n",
            "        Sort the join keys lexicographically in the result DataFrame. If False,\n",
            "        the order of the join keys depends on the join type (how keyword).\n",
            "    suffixes : list-like, default is (\"_x\", \"_y\")\n",
            "        A length-2 sequence where each element is optionally a string\n",
            "        indicating the suffix to add to overlapping column names in\n",
            "        `left` and `right` respectively. Pass a value of `None` instead\n",
            "        of a string to indicate that the column name from `left` or\n",
            "        `right` should be left as-is, with no suffix. At least one of the\n",
            "        values must not be None.\n",
            "    copy : bool, default True\n",
            "        If False, avoid copy if possible.\n",
            "    indicator : bool or str, default False\n",
            "        If True, adds a column to the output DataFrame called \"_merge\" with\n",
            "        information on the source of each row. The column can be given a different\n",
            "        name by providing a string argument. The column will have a Categorical\n",
            "        type with the value of \"left_only\" for observations whose merge key only\n",
            "        appears in the left DataFrame, \"right_only\" for observations\n",
            "        whose merge key only appears in the right DataFrame, and \"both\"\n",
            "        if the observation's merge key is found in both DataFrames.\n",
            "    \n",
            "    validate : str, optional\n",
            "        If specified, checks if merge is of specified type.\n",
            "    \n",
            "        * \"one_to_one\" or \"1:1\": check if merge keys are unique in both\n",
            "          left and right datasets.\n",
            "        * \"one_to_many\" or \"1:m\": check if merge keys are unique in left\n",
            "          dataset.\n",
            "        * \"many_to_one\" or \"m:1\": check if merge keys are unique in right\n",
            "          dataset.\n",
            "        * \"many_to_many\" or \"m:m\": allowed, but does not result in checks.\n",
            "    \n",
            "    Returns\n",
            "    -------\n",
            "    DataFrame\n",
            "        A DataFrame of the two merged objects.\n",
            "    \n",
            "    See Also\n",
            "    --------\n",
            "    merge_ordered : Merge with optional filling/interpolation.\n",
            "    merge_asof : Merge on nearest keys.\n",
            "    DataFrame.join : Similar method using indices.\n",
            "    \n",
            "    Notes\n",
            "    -----\n",
            "    Support for specifying index levels as the `on`, `left_on`, and\n",
            "    `right_on` parameters was added in version 0.23.0\n",
            "    Support for merging named Series objects was added in version 0.24.0\n",
            "    \n",
            "    Examples\n",
            "    --------\n",
            "    >>> df1 = pd.DataFrame({'lkey': ['foo', 'bar', 'baz', 'foo'],\n",
            "    ...                     'value': [1, 2, 3, 5]})\n",
            "    >>> df2 = pd.DataFrame({'rkey': ['foo', 'bar', 'baz', 'foo'],\n",
            "    ...                     'value': [5, 6, 7, 8]})\n",
            "    >>> df1\n",
            "        lkey value\n",
            "    0   foo      1\n",
            "    1   bar      2\n",
            "    2   baz      3\n",
            "    3   foo      5\n",
            "    >>> df2\n",
            "        rkey value\n",
            "    0   foo      5\n",
            "    1   bar      6\n",
            "    2   baz      7\n",
            "    3   foo      8\n",
            "    \n",
            "    Merge df1 and df2 on the lkey and rkey columns. The value columns have\n",
            "    the default suffixes, _x and _y, appended.\n",
            "    \n",
            "    >>> df1.merge(df2, left_on='lkey', right_on='rkey')\n",
            "      lkey  value_x rkey  value_y\n",
            "    0  foo        1  foo        5\n",
            "    1  foo        1  foo        8\n",
            "    2  foo        5  foo        5\n",
            "    3  foo        5  foo        8\n",
            "    4  bar        2  bar        6\n",
            "    5  baz        3  baz        7\n",
            "    \n",
            "    Merge DataFrames df1 and df2 with specified left and right suffixes\n",
            "    appended to any overlapping columns.\n",
            "    \n",
            "    >>> df1.merge(df2, left_on='lkey', right_on='rkey',\n",
            "    ...           suffixes=('_left', '_right'))\n",
            "      lkey  value_left rkey  value_right\n",
            "    0  foo           1  foo            5\n",
            "    1  foo           1  foo            8\n",
            "    2  foo           5  foo            5\n",
            "    3  foo           5  foo            8\n",
            "    4  bar           2  bar            6\n",
            "    5  baz           3  baz            7\n",
            "    \n",
            "    Merge DataFrames df1 and df2, but raise an exception if the DataFrames have\n",
            "    any overlapping columns.\n",
            "    \n",
            "    >>> df1.merge(df2, left_on='lkey', right_on='rkey', suffixes=(False, False))\n",
            "    Traceback (most recent call last):\n",
            "    ...\n",
            "    ValueError: columns overlap but no suffix specified:\n",
            "        Index(['value'], dtype='object')\n",
            "    \n",
            "    >>> df1 = pd.DataFrame({'a': ['foo', 'bar'], 'b': [1, 2]})\n",
            "    >>> df2 = pd.DataFrame({'a': ['foo', 'baz'], 'c': [3, 4]})\n",
            "    >>> df1\n",
            "          a  b\n",
            "    0   foo  1\n",
            "    1   bar  2\n",
            "    >>> df2\n",
            "          a  c\n",
            "    0   foo  3\n",
            "    1   baz  4\n",
            "    \n",
            "    >>> df1.merge(df2, how='inner', on='a')\n",
            "          a  b  c\n",
            "    0   foo  1  3\n",
            "    \n",
            "    >>> df1.merge(df2, how='left', on='a')\n",
            "          a  b  c\n",
            "    0   foo  1  3.0\n",
            "    1   bar  2  NaN\n",
            "    \n",
            "    >>> df1 = pd.DataFrame({'left': ['foo', 'bar']})\n",
            "    >>> df2 = pd.DataFrame({'right': [7, 8]})\n",
            "    >>> df1\n",
            "        left\n",
            "    0   foo\n",
            "    1   bar\n",
            "    >>> df2\n",
            "        right\n",
            "    0   7\n",
            "    1   8\n",
            "    \n",
            "    >>> df1.merge(df2, how='cross')\n",
            "       left  right\n",
            "    0   foo      7\n",
            "    1   foo      8\n",
            "    2   bar      7\n",
            "    3   bar      8\n",
            "\n"
          ]
        }
      ]
    },
    {
      "cell_type": "code",
      "metadata": {
        "id": "3G92Q8rGR8wv",
        "colab": {
          "base_uri": "https://localhost:8080/",
          "height": 321
        },
        "outputId": "5bb6c925-5743-4039-992c-071331bfff3f"
      },
      "source": [
        "#joining operation\n",
        "df1 = pd.DataFrame({\"X1\":[1,2,3],\"X2\":[4,8,12],},index = [2000,2001,2002])\n",
        "df2 = pd.DataFrame({\"X3\":[1,2,3],\"X4\":[4,8,12],},index = [2001,2002,2003])\n",
        "\n",
        "print(df1)\n",
        "print('*********')\n",
        "print(df2)\n",
        "print('*********')\n",
        "joined = df1.join(df2) # join function based on index values\n",
        "joined\n"
      ],
      "execution_count": null,
      "outputs": [
        {
          "output_type": "stream",
          "name": "stdout",
          "text": [
            "      X1  X2\n",
            "2000   1   4\n",
            "2001   2   8\n",
            "2002   3  12\n",
            "*********\n",
            "      X3  X4\n",
            "2001   1   4\n",
            "2002   2   8\n",
            "2003   3  12\n",
            "*********\n"
          ]
        },
        {
          "output_type": "execute_result",
          "data": {
            "text/plain": [
              "      X1  X2   X3   X4\n",
              "2000   1   4  NaN  NaN\n",
              "2001   2   8  1.0  4.0\n",
              "2002   3  12  2.0  8.0"
            ],
            "text/html": [
              "\n",
              "  <div id=\"df-51d9fb50-832f-4fae-b917-cfd9c757565b\">\n",
              "    <div class=\"colab-df-container\">\n",
              "      <div>\n",
              "<style scoped>\n",
              "    .dataframe tbody tr th:only-of-type {\n",
              "        vertical-align: middle;\n",
              "    }\n",
              "\n",
              "    .dataframe tbody tr th {\n",
              "        vertical-align: top;\n",
              "    }\n",
              "\n",
              "    .dataframe thead th {\n",
              "        text-align: right;\n",
              "    }\n",
              "</style>\n",
              "<table border=\"1\" class=\"dataframe\">\n",
              "  <thead>\n",
              "    <tr style=\"text-align: right;\">\n",
              "      <th></th>\n",
              "      <th>X1</th>\n",
              "      <th>X2</th>\n",
              "      <th>X3</th>\n",
              "      <th>X4</th>\n",
              "    </tr>\n",
              "  </thead>\n",
              "  <tbody>\n",
              "    <tr>\n",
              "      <th>2000</th>\n",
              "      <td>1</td>\n",
              "      <td>4</td>\n",
              "      <td>NaN</td>\n",
              "      <td>NaN</td>\n",
              "    </tr>\n",
              "    <tr>\n",
              "      <th>2001</th>\n",
              "      <td>2</td>\n",
              "      <td>8</td>\n",
              "      <td>1.0</td>\n",
              "      <td>4.0</td>\n",
              "    </tr>\n",
              "    <tr>\n",
              "      <th>2002</th>\n",
              "      <td>3</td>\n",
              "      <td>12</td>\n",
              "      <td>2.0</td>\n",
              "      <td>8.0</td>\n",
              "    </tr>\n",
              "  </tbody>\n",
              "</table>\n",
              "</div>\n",
              "      <button class=\"colab-df-convert\" onclick=\"convertToInteractive('df-51d9fb50-832f-4fae-b917-cfd9c757565b')\"\n",
              "              title=\"Convert this dataframe to an interactive table.\"\n",
              "              style=\"display:none;\">\n",
              "        \n",
              "  <svg xmlns=\"http://www.w3.org/2000/svg\" height=\"24px\"viewBox=\"0 0 24 24\"\n",
              "       width=\"24px\">\n",
              "    <path d=\"M0 0h24v24H0V0z\" fill=\"none\"/>\n",
              "    <path d=\"M18.56 5.44l.94 2.06.94-2.06 2.06-.94-2.06-.94-.94-2.06-.94 2.06-2.06.94zm-11 1L8.5 8.5l.94-2.06 2.06-.94-2.06-.94L8.5 2.5l-.94 2.06-2.06.94zm10 10l.94 2.06.94-2.06 2.06-.94-2.06-.94-.94-2.06-.94 2.06-2.06.94z\"/><path d=\"M17.41 7.96l-1.37-1.37c-.4-.4-.92-.59-1.43-.59-.52 0-1.04.2-1.43.59L10.3 9.45l-7.72 7.72c-.78.78-.78 2.05 0 2.83L4 21.41c.39.39.9.59 1.41.59.51 0 1.02-.2 1.41-.59l7.78-7.78 2.81-2.81c.8-.78.8-2.07 0-2.86zM5.41 20L4 18.59l7.72-7.72 1.47 1.35L5.41 20z\"/>\n",
              "  </svg>\n",
              "      </button>\n",
              "      \n",
              "  <style>\n",
              "    .colab-df-container {\n",
              "      display:flex;\n",
              "      flex-wrap:wrap;\n",
              "      gap: 12px;\n",
              "    }\n",
              "\n",
              "    .colab-df-convert {\n",
              "      background-color: #E8F0FE;\n",
              "      border: none;\n",
              "      border-radius: 50%;\n",
              "      cursor: pointer;\n",
              "      display: none;\n",
              "      fill: #1967D2;\n",
              "      height: 32px;\n",
              "      padding: 0 0 0 0;\n",
              "      width: 32px;\n",
              "    }\n",
              "\n",
              "    .colab-df-convert:hover {\n",
              "      background-color: #E2EBFA;\n",
              "      box-shadow: 0px 1px 2px rgba(60, 64, 67, 0.3), 0px 1px 3px 1px rgba(60, 64, 67, 0.15);\n",
              "      fill: #174EA6;\n",
              "    }\n",
              "\n",
              "    [theme=dark] .colab-df-convert {\n",
              "      background-color: #3B4455;\n",
              "      fill: #D2E3FC;\n",
              "    }\n",
              "\n",
              "    [theme=dark] .colab-df-convert:hover {\n",
              "      background-color: #434B5C;\n",
              "      box-shadow: 0px 1px 3px 1px rgba(0, 0, 0, 0.15);\n",
              "      filter: drop-shadow(0px 1px 2px rgba(0, 0, 0, 0.3));\n",
              "      fill: #FFFFFF;\n",
              "    }\n",
              "  </style>\n",
              "\n",
              "      <script>\n",
              "        const buttonEl =\n",
              "          document.querySelector('#df-51d9fb50-832f-4fae-b917-cfd9c757565b button.colab-df-convert');\n",
              "        buttonEl.style.display =\n",
              "          google.colab.kernel.accessAllowed ? 'block' : 'none';\n",
              "\n",
              "        async function convertToInteractive(key) {\n",
              "          const element = document.querySelector('#df-51d9fb50-832f-4fae-b917-cfd9c757565b');\n",
              "          const dataTable =\n",
              "            await google.colab.kernel.invokeFunction('convertToInteractive',\n",
              "                                                     [key], {});\n",
              "          if (!dataTable) return;\n",
              "\n",
              "          const docLinkHtml = 'Like what you see? Visit the ' +\n",
              "            '<a target=\"_blank\" href=https://colab.research.google.com/notebooks/data_table.ipynb>data table notebook</a>'\n",
              "            + ' to learn more about interactive tables.';\n",
              "          element.innerHTML = '';\n",
              "          dataTable['output_type'] = 'display_data';\n",
              "          await google.colab.output.renderOutput(dataTable, element);\n",
              "          const docLink = document.createElement('div');\n",
              "          docLink.innerHTML = docLinkHtml;\n",
              "          element.appendChild(docLink);\n",
              "        }\n",
              "      </script>\n",
              "    </div>\n",
              "  </div>\n",
              "  "
            ]
          },
          "metadata": {},
          "execution_count": 11
        }
      ]
    },
    {
      "cell_type": "code",
      "metadata": {
        "id": "PrxBFYUVR8ww",
        "colab": {
          "base_uri": "https://localhost:8080/"
        },
        "outputId": "d1a3db6a-1a98-4701-9172-bd2268477a01"
      },
      "source": [
        "# Replace index name\n",
        "df = pd.DataFrame({\"X1\":[1,2,3],\"X2\":[4,8,12],})\n",
        "print(df)\n",
        "print('********')\n"
      ],
      "execution_count": null,
      "outputs": [
        {
          "output_type": "stream",
          "name": "stdout",
          "text": [
            "   X1  X2\n",
            "0   1   4\n",
            "1   2   8\n",
            "2   3  12\n",
            "********\n"
          ]
        }
      ]
    },
    {
      "cell_type": "code",
      "metadata": {
        "id": "VsB8M1EDscQa"
      },
      "source": [
        "df.set_index(\"X1\", inplace = True) # Assiging index names using column names"
      ],
      "execution_count": null,
      "outputs": []
    },
    {
      "cell_type": "code",
      "metadata": {
        "colab": {
          "base_uri": "https://localhost:8080/",
          "height": 173
        },
        "id": "jxR2UARhs2Yi",
        "outputId": "5d4be3e8-04a4-436a-a8b5-7fcd872f8be6"
      },
      "source": [
        "df"
      ],
      "execution_count": null,
      "outputs": [
        {
          "output_type": "execute_result",
          "data": {
            "text/html": [
              "<div>\n",
              "<style scoped>\n",
              "    .dataframe tbody tr th:only-of-type {\n",
              "        vertical-align: middle;\n",
              "    }\n",
              "\n",
              "    .dataframe tbody tr th {\n",
              "        vertical-align: top;\n",
              "    }\n",
              "\n",
              "    .dataframe thead th {\n",
              "        text-align: right;\n",
              "    }\n",
              "</style>\n",
              "<table border=\"1\" class=\"dataframe\">\n",
              "  <thead>\n",
              "    <tr style=\"text-align: right;\">\n",
              "      <th></th>\n",
              "      <th>X2</th>\n",
              "    </tr>\n",
              "    <tr>\n",
              "      <th>X1</th>\n",
              "      <th></th>\n",
              "    </tr>\n",
              "  </thead>\n",
              "  <tbody>\n",
              "    <tr>\n",
              "      <th>1</th>\n",
              "      <td>4</td>\n",
              "    </tr>\n",
              "    <tr>\n",
              "      <th>2</th>\n",
              "      <td>8</td>\n",
              "    </tr>\n",
              "    <tr>\n",
              "      <th>3</th>\n",
              "      <td>12</td>\n",
              "    </tr>\n",
              "  </tbody>\n",
              "</table>\n",
              "</div>"
            ],
            "text/plain": [
              "    X2\n",
              "X1    \n",
              "1    4\n",
              "2    8\n",
              "3   12"
            ]
          },
          "metadata": {},
          "execution_count": 11
        }
      ]
    },
    {
      "cell_type": "code",
      "metadata": {
        "id": "RcWpCQ9iR8wx",
        "colab": {
          "base_uri": "https://localhost:8080/"
        },
        "outputId": "b50d393b-e682-40a1-ee17-cb3171adc759"
      },
      "source": [
        "# Change the column names\n",
        "df = pd.DataFrame({\"X1\":[1,2,3],\"X2\":[4,8,12],})\n",
        "print(df)\n",
        "print('*****')\n",
        "\n",
        "df  = df.rename(columns = {\"X1\":\"X3\"}) # Change column names\n",
        "\n",
        "print(df)\n"
      ],
      "execution_count": null,
      "outputs": [
        {
          "output_type": "stream",
          "name": "stdout",
          "text": [
            "   X1  X2\n",
            "0   1   4\n",
            "1   2   8\n",
            "2   3  12\n",
            "*****\n",
            "   X3  X2\n",
            "0   1   4\n",
            "1   2   8\n",
            "2   3  12\n"
          ]
        }
      ]
    },
    {
      "cell_type": "code",
      "metadata": {
        "id": "AhxaY2wNR8wy",
        "colab": {
          "base_uri": "https://localhost:8080/"
        },
        "outputId": "c6da1cd1-483c-4299-a6cd-4361124522b3"
      },
      "source": [
        "# Concatenation\n",
        "\n",
        "df1 = pd.DataFrame({\"X1\":[1,2,3],\"X2\":[4,8,12],},index = [2000,2001,2002])\n",
        "df2 = pd.DataFrame({\"X1\":[4,5,6],\"X3\":[14,16,18],},index = [2003,2004,2005])\n",
        "\n",
        "Concatenate = pd.concat([df1,df2])\n",
        "\n",
        "print(Concatenate)\n"
      ],
      "execution_count": null,
      "outputs": [
        {
          "output_type": "stream",
          "name": "stdout",
          "text": [
            "      X1    X2    X3\n",
            "2000   1   4.0   NaN\n",
            "2001   2   8.0   NaN\n",
            "2002   3  12.0   NaN\n",
            "2003   4   NaN  14.0\n",
            "2004   5   NaN  16.0\n",
            "2005   6   NaN  18.0\n"
          ]
        }
      ]
    },
    {
      "cell_type": "code",
      "metadata": {
        "id": "YML8HHBIuhht"
      },
      "source": [
        "import pandas as pd"
      ],
      "execution_count": null,
      "outputs": []
    },
    {
      "cell_type": "code",
      "metadata": {
        "id": "rSNijgu9R8wy",
        "colab": {
          "base_uri": "https://localhost:8080/"
        },
        "outputId": "0c8de5f3-0f6e-4caa-fa24-0e55a82f293d"
      },
      "source": [
        "# Import data (.csv file) using pandas. We are using education data set\n",
        "mba = pd.read_csv(\"/content/education.csv\")\n",
        "#mba = pd.read_csv(\"\")\n",
        "\n",
        "print(type(mba)) # pandas data frame\n",
        "\n",
        "mba.shape # Size of the dataframe"
      ],
      "execution_count": null,
      "outputs": [
        {
          "output_type": "stream",
          "name": "stdout",
          "text": [
            "<class 'pandas.core.frame.DataFrame'>\n"
          ]
        },
        {
          "output_type": "execute_result",
          "data": {
            "text/plain": [
              "(773, 3)"
            ]
          },
          "metadata": {},
          "execution_count": 3
        }
      ]
    },
    {
      "cell_type": "code",
      "metadata": {
        "id": "9KytQaH7R8w0",
        "colab": {
          "base_uri": "https://localhost:8080/",
          "height": 360
        },
        "outputId": "1c0227a5-9822-4d4f-9fda-08e615eb6e8d"
      },
      "source": [
        "mba.head(10) # Gives first 5 records data"
      ],
      "execution_count": null,
      "outputs": [
        {
          "output_type": "execute_result",
          "data": {
            "text/html": [
              "<div>\n",
              "<style scoped>\n",
              "    .dataframe tbody tr th:only-of-type {\n",
              "        vertical-align: middle;\n",
              "    }\n",
              "\n",
              "    .dataframe tbody tr th {\n",
              "        vertical-align: top;\n",
              "    }\n",
              "\n",
              "    .dataframe thead th {\n",
              "        text-align: right;\n",
              "    }\n",
              "</style>\n",
              "<table border=\"1\" class=\"dataframe\">\n",
              "  <thead>\n",
              "    <tr style=\"text-align: right;\">\n",
              "      <th></th>\n",
              "      <th>datasrno</th>\n",
              "      <th>workex</th>\n",
              "      <th>gmat</th>\n",
              "    </tr>\n",
              "  </thead>\n",
              "  <tbody>\n",
              "    <tr>\n",
              "      <th>0</th>\n",
              "      <td>1</td>\n",
              "      <td>21</td>\n",
              "      <td>720</td>\n",
              "    </tr>\n",
              "    <tr>\n",
              "      <th>1</th>\n",
              "      <td>2</td>\n",
              "      <td>107</td>\n",
              "      <td>640</td>\n",
              "    </tr>\n",
              "    <tr>\n",
              "      <th>2</th>\n",
              "      <td>3</td>\n",
              "      <td>57</td>\n",
              "      <td>740</td>\n",
              "    </tr>\n",
              "    <tr>\n",
              "      <th>3</th>\n",
              "      <td>4</td>\n",
              "      <td>99</td>\n",
              "      <td>690</td>\n",
              "    </tr>\n",
              "    <tr>\n",
              "      <th>4</th>\n",
              "      <td>5</td>\n",
              "      <td>208</td>\n",
              "      <td>710</td>\n",
              "    </tr>\n",
              "    <tr>\n",
              "      <th>5</th>\n",
              "      <td>6</td>\n",
              "      <td>136</td>\n",
              "      <td>660</td>\n",
              "    </tr>\n",
              "    <tr>\n",
              "      <th>6</th>\n",
              "      <td>7</td>\n",
              "      <td>70</td>\n",
              "      <td>660</td>\n",
              "    </tr>\n",
              "    <tr>\n",
              "      <th>7</th>\n",
              "      <td>8</td>\n",
              "      <td>103</td>\n",
              "      <td>710</td>\n",
              "    </tr>\n",
              "    <tr>\n",
              "      <th>8</th>\n",
              "      <td>9</td>\n",
              "      <td>79</td>\n",
              "      <td>700</td>\n",
              "    </tr>\n",
              "    <tr>\n",
              "      <th>9</th>\n",
              "      <td>10</td>\n",
              "      <td>22</td>\n",
              "      <td>730</td>\n",
              "    </tr>\n",
              "  </tbody>\n",
              "</table>\n",
              "</div>"
            ],
            "text/plain": [
              "   datasrno  workex  gmat\n",
              "0         1      21   720\n",
              "1         2     107   640\n",
              "2         3      57   740\n",
              "3         4      99   690\n",
              "4         5     208   710\n",
              "5         6     136   660\n",
              "6         7      70   660\n",
              "7         8     103   710\n",
              "8         9      79   700\n",
              "9        10      22   730"
            ]
          },
          "metadata": {},
          "execution_count": 19
        }
      ]
    },
    {
      "cell_type": "code",
      "metadata": {
        "id": "2A-KEZExR8w1",
        "colab": {
          "base_uri": "https://localhost:8080/"
        },
        "outputId": "293391b5-b69f-43f3-b86d-825b13a937c0"
      },
      "source": [
        "mba.iloc[1].value_counts # Gives frequency distribution of partcular column"
      ],
      "execution_count": null,
      "outputs": [
        {
          "output_type": "execute_result",
          "data": {
            "text/plain": [
              "<bound method IndexOpsMixin.value_counts of datasrno      2\n",
              "workex      107\n",
              "gmat        640\n",
              "Name: 1, dtype: int64>"
            ]
          },
          "metadata": {},
          "execution_count": 4
        }
      ]
    },
    {
      "cell_type": "code",
      "metadata": {
        "id": "2PhoF0ubR8w2",
        "colab": {
          "base_uri": "https://localhost:8080/"
        },
        "outputId": "c0260feb-e293-452b-89c4-84cc8cb0583e"
      },
      "source": [
        "mba.workex.value_counts"
      ],
      "execution_count": null,
      "outputs": [
        {
          "output_type": "execute_result",
          "data": {
            "text/plain": [
              "<bound method IndexOpsMixin.value_counts of 0       21\n",
              "1      107\n",
              "2       57\n",
              "3       99\n",
              "4      208\n",
              "      ... \n",
              "768     88\n",
              "769    132\n",
              "770     28\n",
              "771     10\n",
              "772     52\n",
              "Name: workex, Length: 773, dtype: int64>"
            ]
          },
          "metadata": {},
          "execution_count": 21
        }
      ]
    },
    {
      "cell_type": "code",
      "metadata": {
        "id": "CB-RuESPR8w3",
        "colab": {
          "base_uri": "https://localhost:8080/",
          "height": 297
        },
        "outputId": "a6b517fc-210a-41a4-f1e6-7df37bb5830c"
      },
      "source": [
        "mba.describe() # Gives descriptive stats"
      ],
      "execution_count": null,
      "outputs": [
        {
          "output_type": "execute_result",
          "data": {
            "text/html": [
              "<div>\n",
              "<style scoped>\n",
              "    .dataframe tbody tr th:only-of-type {\n",
              "        vertical-align: middle;\n",
              "    }\n",
              "\n",
              "    .dataframe tbody tr th {\n",
              "        vertical-align: top;\n",
              "    }\n",
              "\n",
              "    .dataframe thead th {\n",
              "        text-align: right;\n",
              "    }\n",
              "</style>\n",
              "<table border=\"1\" class=\"dataframe\">\n",
              "  <thead>\n",
              "    <tr style=\"text-align: right;\">\n",
              "      <th></th>\n",
              "      <th>datasrno</th>\n",
              "      <th>workex</th>\n",
              "      <th>gmat</th>\n",
              "    </tr>\n",
              "  </thead>\n",
              "  <tbody>\n",
              "    <tr>\n",
              "      <th>count</th>\n",
              "      <td>773.00000</td>\n",
              "      <td>773.00000</td>\n",
              "      <td>773.000000</td>\n",
              "    </tr>\n",
              "    <tr>\n",
              "      <th>mean</th>\n",
              "      <td>387.00000</td>\n",
              "      <td>57.50194</td>\n",
              "      <td>711.164295</td>\n",
              "    </tr>\n",
              "    <tr>\n",
              "      <th>std</th>\n",
              "      <td>223.29017</td>\n",
              "      <td>27.38682</td>\n",
              "      <td>29.339714</td>\n",
              "    </tr>\n",
              "    <tr>\n",
              "      <th>min</th>\n",
              "      <td>1.00000</td>\n",
              "      <td>9.00000</td>\n",
              "      <td>600.000000</td>\n",
              "    </tr>\n",
              "    <tr>\n",
              "      <th>25%</th>\n",
              "      <td>194.00000</td>\n",
              "      <td>41.00000</td>\n",
              "      <td>690.000000</td>\n",
              "    </tr>\n",
              "    <tr>\n",
              "      <th>50%</th>\n",
              "      <td>387.00000</td>\n",
              "      <td>52.00000</td>\n",
              "      <td>710.000000</td>\n",
              "    </tr>\n",
              "    <tr>\n",
              "      <th>75%</th>\n",
              "      <td>580.00000</td>\n",
              "      <td>69.00000</td>\n",
              "      <td>730.000000</td>\n",
              "    </tr>\n",
              "    <tr>\n",
              "      <th>max</th>\n",
              "      <td>773.00000</td>\n",
              "      <td>279.00000</td>\n",
              "      <td>780.000000</td>\n",
              "    </tr>\n",
              "  </tbody>\n",
              "</table>\n",
              "</div>"
            ],
            "text/plain": [
              "        datasrno     workex        gmat\n",
              "count  773.00000  773.00000  773.000000\n",
              "mean   387.00000   57.50194  711.164295\n",
              "std    223.29017   27.38682   29.339714\n",
              "min      1.00000    9.00000  600.000000\n",
              "25%    194.00000   41.00000  690.000000\n",
              "50%    387.00000   52.00000  710.000000\n",
              "75%    580.00000   69.00000  730.000000\n",
              "max    773.00000  279.00000  780.000000"
            ]
          },
          "metadata": {},
          "execution_count": 22
        }
      ]
    },
    {
      "cell_type": "code",
      "metadata": {
        "id": "aF_i-_h-Sa3e"
      },
      "source": [
        "help(pd)"
      ],
      "execution_count": null,
      "outputs": []
    },
    {
      "cell_type": "markdown",
      "metadata": {
        "id": "jrWT6ANHZr1i"
      },
      "source": [
        "## Boolean indexing"
      ]
    },
    {
      "cell_type": "code",
      "metadata": {
        "colab": {
          "base_uri": "https://localhost:8080/",
          "height": 204
        },
        "id": "qJfn_7SGuDGV",
        "outputId": "99ef50bc-bb5a-4056-a797-8b296bdd6970"
      },
      "source": [
        "dff1"
      ],
      "execution_count": null,
      "outputs": [
        {
          "output_type": "execute_result",
          "data": {
            "text/html": [
              "<div>\n",
              "<style scoped>\n",
              "    .dataframe tbody tr th:only-of-type {\n",
              "        vertical-align: middle;\n",
              "    }\n",
              "\n",
              "    .dataframe tbody tr th {\n",
              "        vertical-align: top;\n",
              "    }\n",
              "\n",
              "    .dataframe thead th {\n",
              "        text-align: right;\n",
              "    }\n",
              "</style>\n",
              "<table border=\"1\" class=\"dataframe\">\n",
              "  <thead>\n",
              "    <tr style=\"text-align: right;\">\n",
              "      <th></th>\n",
              "      <th>X1</th>\n",
              "      <th>X2</th>\n",
              "      <th>X3</th>\n",
              "    </tr>\n",
              "  </thead>\n",
              "  <tbody>\n",
              "    <tr>\n",
              "      <th>0</th>\n",
              "      <td>1</td>\n",
              "      <td>10</td>\n",
              "      <td>0</td>\n",
              "    </tr>\n",
              "    <tr>\n",
              "      <th>1</th>\n",
              "      <td>2</td>\n",
              "      <td>11</td>\n",
              "      <td>1</td>\n",
              "    </tr>\n",
              "    <tr>\n",
              "      <th>2</th>\n",
              "      <td>3</td>\n",
              "      <td>12</td>\n",
              "      <td>2</td>\n",
              "    </tr>\n",
              "    <tr>\n",
              "      <th>3</th>\n",
              "      <td>4</td>\n",
              "      <td>13</td>\n",
              "      <td>3</td>\n",
              "    </tr>\n",
              "    <tr>\n",
              "      <th>4</th>\n",
              "      <td>5</td>\n",
              "      <td>14</td>\n",
              "      <td>4</td>\n",
              "    </tr>\n",
              "  </tbody>\n",
              "</table>\n",
              "</div>"
            ],
            "text/plain": [
              "   X1  X2  X3\n",
              "0   1  10   0\n",
              "1   2  11   1\n",
              "2   3  12   2\n",
              "3   4  13   3\n",
              "4   5  14   4"
            ]
          },
          "metadata": {},
          "execution_count": 26
        }
      ]
    },
    {
      "cell_type": "code",
      "metadata": {
        "colab": {
          "base_uri": "https://localhost:8080/",
          "height": 111
        },
        "id": "3DqYk-zVZu2x",
        "outputId": "6ecf2f07-d15f-4ead-e90a-ef5f312e1156"
      },
      "source": [
        "dff1[dff1.X1 > 3]     # Getting values greater than 3 in from X1 column"
      ],
      "execution_count": null,
      "outputs": [
        {
          "output_type": "execute_result",
          "data": {
            "text/html": [
              "<div>\n",
              "<style scoped>\n",
              "    .dataframe tbody tr th:only-of-type {\n",
              "        vertical-align: middle;\n",
              "    }\n",
              "\n",
              "    .dataframe tbody tr th {\n",
              "        vertical-align: top;\n",
              "    }\n",
              "\n",
              "    .dataframe thead th {\n",
              "        text-align: right;\n",
              "    }\n",
              "</style>\n",
              "<table border=\"1\" class=\"dataframe\">\n",
              "  <thead>\n",
              "    <tr style=\"text-align: right;\">\n",
              "      <th></th>\n",
              "      <th>X1</th>\n",
              "      <th>X2</th>\n",
              "      <th>X3</th>\n",
              "    </tr>\n",
              "  </thead>\n",
              "  <tbody>\n",
              "    <tr>\n",
              "      <th>3</th>\n",
              "      <td>4</td>\n",
              "      <td>13</td>\n",
              "      <td>3</td>\n",
              "    </tr>\n",
              "    <tr>\n",
              "      <th>4</th>\n",
              "      <td>5</td>\n",
              "      <td>14</td>\n",
              "      <td>4</td>\n",
              "    </tr>\n",
              "  </tbody>\n",
              "</table>\n",
              "</div>"
            ],
            "text/plain": [
              "   X1  X2  X3\n",
              "3   4  13   3\n",
              "4   5  14   4"
            ]
          },
          "metadata": {},
          "execution_count": 27
        }
      ]
    },
    {
      "cell_type": "code",
      "metadata": {
        "id": "SNL8pFmwaDgz"
      },
      "source": [
        "dff1['A'] = ['one', 'one','two','three','four']"
      ],
      "execution_count": null,
      "outputs": []
    },
    {
      "cell_type": "code",
      "metadata": {
        "colab": {
          "base_uri": "https://localhost:8080/",
          "height": 204
        },
        "id": "9v6AUHr6aijp",
        "outputId": "0cb8a3ac-1dea-426c-d7b6-6b09eba4ead5"
      },
      "source": [
        "dff1"
      ],
      "execution_count": null,
      "outputs": [
        {
          "output_type": "execute_result",
          "data": {
            "text/html": [
              "<div>\n",
              "<style scoped>\n",
              "    .dataframe tbody tr th:only-of-type {\n",
              "        vertical-align: middle;\n",
              "    }\n",
              "\n",
              "    .dataframe tbody tr th {\n",
              "        vertical-align: top;\n",
              "    }\n",
              "\n",
              "    .dataframe thead th {\n",
              "        text-align: right;\n",
              "    }\n",
              "</style>\n",
              "<table border=\"1\" class=\"dataframe\">\n",
              "  <thead>\n",
              "    <tr style=\"text-align: right;\">\n",
              "      <th></th>\n",
              "      <th>X1</th>\n",
              "      <th>X2</th>\n",
              "      <th>X3</th>\n",
              "      <th>A</th>\n",
              "    </tr>\n",
              "  </thead>\n",
              "  <tbody>\n",
              "    <tr>\n",
              "      <th>0</th>\n",
              "      <td>1</td>\n",
              "      <td>10</td>\n",
              "      <td>0</td>\n",
              "      <td>one</td>\n",
              "    </tr>\n",
              "    <tr>\n",
              "      <th>1</th>\n",
              "      <td>2</td>\n",
              "      <td>11</td>\n",
              "      <td>1</td>\n",
              "      <td>one</td>\n",
              "    </tr>\n",
              "    <tr>\n",
              "      <th>2</th>\n",
              "      <td>3</td>\n",
              "      <td>12</td>\n",
              "      <td>2</td>\n",
              "      <td>two</td>\n",
              "    </tr>\n",
              "    <tr>\n",
              "      <th>3</th>\n",
              "      <td>4</td>\n",
              "      <td>13</td>\n",
              "      <td>3</td>\n",
              "      <td>three</td>\n",
              "    </tr>\n",
              "    <tr>\n",
              "      <th>4</th>\n",
              "      <td>5</td>\n",
              "      <td>14</td>\n",
              "      <td>4</td>\n",
              "      <td>four</td>\n",
              "    </tr>\n",
              "  </tbody>\n",
              "</table>\n",
              "</div>"
            ],
            "text/plain": [
              "   X1  X2  X3      A\n",
              "0   1  10   0    one\n",
              "1   2  11   1    one\n",
              "2   3  12   2    two\n",
              "3   4  13   3  three\n",
              "4   5  14   4   four"
            ]
          },
          "metadata": {},
          "execution_count": 29
        }
      ]
    },
    {
      "cell_type": "code",
      "metadata": {
        "colab": {
          "base_uri": "https://localhost:8080/"
        },
        "id": "HI7GJVhValWw",
        "outputId": "9def40ac-aacc-43af-e289-9c2d631a57e0"
      },
      "source": [
        "dff1.A.isin(['one'])"
      ],
      "execution_count": null,
      "outputs": [
        {
          "output_type": "execute_result",
          "data": {
            "text/plain": [
              "0     True\n",
              "1     True\n",
              "2    False\n",
              "3    False\n",
              "4    False\n",
              "Name: A, dtype: bool"
            ]
          },
          "metadata": {},
          "execution_count": 30
        }
      ]
    },
    {
      "cell_type": "code",
      "metadata": {
        "colab": {
          "base_uri": "https://localhost:8080/",
          "height": 142
        },
        "id": "oyYofO3ebCol",
        "outputId": "ab3f557e-1ae8-4ad3-ef08-6f5f9c0afda6"
      },
      "source": [
        "dff1[dff1.A.isin(['one','three'])]"
      ],
      "execution_count": null,
      "outputs": [
        {
          "output_type": "execute_result",
          "data": {
            "text/html": [
              "<div>\n",
              "<style scoped>\n",
              "    .dataframe tbody tr th:only-of-type {\n",
              "        vertical-align: middle;\n",
              "    }\n",
              "\n",
              "    .dataframe tbody tr th {\n",
              "        vertical-align: top;\n",
              "    }\n",
              "\n",
              "    .dataframe thead th {\n",
              "        text-align: right;\n",
              "    }\n",
              "</style>\n",
              "<table border=\"1\" class=\"dataframe\">\n",
              "  <thead>\n",
              "    <tr style=\"text-align: right;\">\n",
              "      <th></th>\n",
              "      <th>X1</th>\n",
              "      <th>X2</th>\n",
              "      <th>X3</th>\n",
              "      <th>A</th>\n",
              "    </tr>\n",
              "  </thead>\n",
              "  <tbody>\n",
              "    <tr>\n",
              "      <th>0</th>\n",
              "      <td>1</td>\n",
              "      <td>10</td>\n",
              "      <td>0</td>\n",
              "      <td>one</td>\n",
              "    </tr>\n",
              "    <tr>\n",
              "      <th>1</th>\n",
              "      <td>2</td>\n",
              "      <td>11</td>\n",
              "      <td>1</td>\n",
              "      <td>one</td>\n",
              "    </tr>\n",
              "    <tr>\n",
              "      <th>3</th>\n",
              "      <td>4</td>\n",
              "      <td>13</td>\n",
              "      <td>3</td>\n",
              "      <td>three</td>\n",
              "    </tr>\n",
              "  </tbody>\n",
              "</table>\n",
              "</div>"
            ],
            "text/plain": [
              "   X1  X2  X3      A\n",
              "0   1  10   0    one\n",
              "1   2  11   1    one\n",
              "3   4  13   3  three"
            ]
          },
          "metadata": {},
          "execution_count": 31
        }
      ]
    },
    {
      "cell_type": "code",
      "metadata": {
        "colab": {
          "base_uri": "https://localhost:8080/",
          "height": 204
        },
        "id": "m-UEOdZ3bQKV",
        "outputId": "e1f499e1-d714-4dd1-c391-d1ed3e648776"
      },
      "source": [
        "dff1.iat[1,2] = 5   # Setting values by positions\n",
        "dff1"
      ],
      "execution_count": null,
      "outputs": [
        {
          "output_type": "execute_result",
          "data": {
            "text/html": [
              "<div>\n",
              "<style scoped>\n",
              "    .dataframe tbody tr th:only-of-type {\n",
              "        vertical-align: middle;\n",
              "    }\n",
              "\n",
              "    .dataframe tbody tr th {\n",
              "        vertical-align: top;\n",
              "    }\n",
              "\n",
              "    .dataframe thead th {\n",
              "        text-align: right;\n",
              "    }\n",
              "</style>\n",
              "<table border=\"1\" class=\"dataframe\">\n",
              "  <thead>\n",
              "    <tr style=\"text-align: right;\">\n",
              "      <th></th>\n",
              "      <th>X1</th>\n",
              "      <th>X2</th>\n",
              "      <th>X3</th>\n",
              "      <th>A</th>\n",
              "    </tr>\n",
              "  </thead>\n",
              "  <tbody>\n",
              "    <tr>\n",
              "      <th>0</th>\n",
              "      <td>1</td>\n",
              "      <td>10</td>\n",
              "      <td>0</td>\n",
              "      <td>one</td>\n",
              "    </tr>\n",
              "    <tr>\n",
              "      <th>1</th>\n",
              "      <td>2</td>\n",
              "      <td>11</td>\n",
              "      <td>5</td>\n",
              "      <td>one</td>\n",
              "    </tr>\n",
              "    <tr>\n",
              "      <th>2</th>\n",
              "      <td>3</td>\n",
              "      <td>12</td>\n",
              "      <td>2</td>\n",
              "      <td>two</td>\n",
              "    </tr>\n",
              "    <tr>\n",
              "      <th>3</th>\n",
              "      <td>4</td>\n",
              "      <td>13</td>\n",
              "      <td>3</td>\n",
              "      <td>three</td>\n",
              "    </tr>\n",
              "    <tr>\n",
              "      <th>4</th>\n",
              "      <td>5</td>\n",
              "      <td>14</td>\n",
              "      <td>4</td>\n",
              "      <td>four</td>\n",
              "    </tr>\n",
              "  </tbody>\n",
              "</table>\n",
              "</div>"
            ],
            "text/plain": [
              "   X1  X2  X3      A\n",
              "0   1  10   0    one\n",
              "1   2  11   5    one\n",
              "2   3  12   2    two\n",
              "3   4  13   3  three\n",
              "4   5  14   4   four"
            ]
          },
          "metadata": {},
          "execution_count": 32
        }
      ]
    },
    {
      "cell_type": "markdown",
      "metadata": {
        "id": "menXgQfhTSaN"
      },
      "source": [
        "## Missing data"
      ]
    },
    {
      "cell_type": "code",
      "metadata": {
        "colab": {
          "base_uri": "https://localhost:8080/",
          "height": 312
        },
        "id": "cbbdmmDRUBx3",
        "outputId": "30419f38-b7eb-4518-eeb1-ce18afea42a2"
      },
      "source": [
        "dff1.X2[3], dff1.X1[2] = None, None\n",
        "dff1"
      ],
      "execution_count": null,
      "outputs": [
        {
          "output_type": "stream",
          "name": "stderr",
          "text": [
            "/usr/local/lib/python3.7/dist-packages/ipykernel_launcher.py:1: SettingWithCopyWarning: \n",
            "A value is trying to be set on a copy of a slice from a DataFrame\n",
            "\n",
            "See the caveats in the documentation: https://pandas.pydata.org/pandas-docs/stable/user_guide/indexing.html#returning-a-view-versus-a-copy\n",
            "  \"\"\"Entry point for launching an IPython kernel.\n"
          ]
        },
        {
          "output_type": "execute_result",
          "data": {
            "text/html": [
              "<div>\n",
              "<style scoped>\n",
              "    .dataframe tbody tr th:only-of-type {\n",
              "        vertical-align: middle;\n",
              "    }\n",
              "\n",
              "    .dataframe tbody tr th {\n",
              "        vertical-align: top;\n",
              "    }\n",
              "\n",
              "    .dataframe thead th {\n",
              "        text-align: right;\n",
              "    }\n",
              "</style>\n",
              "<table border=\"1\" class=\"dataframe\">\n",
              "  <thead>\n",
              "    <tr style=\"text-align: right;\">\n",
              "      <th></th>\n",
              "      <th>X1</th>\n",
              "      <th>X2</th>\n",
              "      <th>X3</th>\n",
              "      <th>A</th>\n",
              "    </tr>\n",
              "  </thead>\n",
              "  <tbody>\n",
              "    <tr>\n",
              "      <th>0</th>\n",
              "      <td>1.0</td>\n",
              "      <td>10.0</td>\n",
              "      <td>0</td>\n",
              "      <td>one</td>\n",
              "    </tr>\n",
              "    <tr>\n",
              "      <th>1</th>\n",
              "      <td>2.0</td>\n",
              "      <td>11.0</td>\n",
              "      <td>5</td>\n",
              "      <td>one</td>\n",
              "    </tr>\n",
              "    <tr>\n",
              "      <th>2</th>\n",
              "      <td>NaN</td>\n",
              "      <td>12.0</td>\n",
              "      <td>2</td>\n",
              "      <td>two</td>\n",
              "    </tr>\n",
              "    <tr>\n",
              "      <th>3</th>\n",
              "      <td>4.0</td>\n",
              "      <td>NaN</td>\n",
              "      <td>3</td>\n",
              "      <td>three</td>\n",
              "    </tr>\n",
              "    <tr>\n",
              "      <th>4</th>\n",
              "      <td>5.0</td>\n",
              "      <td>14.0</td>\n",
              "      <td>4</td>\n",
              "      <td>four</td>\n",
              "    </tr>\n",
              "  </tbody>\n",
              "</table>\n",
              "</div>"
            ],
            "text/plain": [
              "    X1    X2  X3      A\n",
              "0  1.0  10.0   0    one\n",
              "1  2.0  11.0   5    one\n",
              "2  NaN  12.0   2    two\n",
              "3  4.0   NaN   3  three\n",
              "4  5.0  14.0   4   four"
            ]
          },
          "metadata": {},
          "execution_count": 33
        }
      ]
    },
    {
      "cell_type": "code",
      "metadata": {
        "colab": {
          "base_uri": "https://localhost:8080/"
        },
        "id": "T3lBWrHgTO0O",
        "outputId": "049e9d00-cdf4-4601-e6a1-97e48d93b0e5"
      },
      "source": [
        "dff1.info()    # Having null values in X1 and X2"
      ],
      "execution_count": null,
      "outputs": [
        {
          "output_type": "stream",
          "name": "stdout",
          "text": [
            "<class 'pandas.core.frame.DataFrame'>\n",
            "RangeIndex: 5 entries, 0 to 4\n",
            "Data columns (total 4 columns):\n",
            " #   Column  Non-Null Count  Dtype  \n",
            "---  ------  --------------  -----  \n",
            " 0   X1      4 non-null      float64\n",
            " 1   X2      4 non-null      float64\n",
            " 2   X3      5 non-null      int64  \n",
            " 3   A       5 non-null      object \n",
            "dtypes: float64(2), int64(1), object(1)\n",
            "memory usage: 288.0+ bytes\n"
          ]
        }
      ]
    },
    {
      "cell_type": "code",
      "metadata": {
        "colab": {
          "base_uri": "https://localhost:8080/",
          "height": 204
        },
        "id": "8ZlSUEATctDP",
        "outputId": "2a1e8070-1b50-44f8-e3f6-17269d598255"
      },
      "source": [
        "dff1.isnull()"
      ],
      "execution_count": null,
      "outputs": [
        {
          "output_type": "execute_result",
          "data": {
            "text/html": [
              "<div>\n",
              "<style scoped>\n",
              "    .dataframe tbody tr th:only-of-type {\n",
              "        vertical-align: middle;\n",
              "    }\n",
              "\n",
              "    .dataframe tbody tr th {\n",
              "        vertical-align: top;\n",
              "    }\n",
              "\n",
              "    .dataframe thead th {\n",
              "        text-align: right;\n",
              "    }\n",
              "</style>\n",
              "<table border=\"1\" class=\"dataframe\">\n",
              "  <thead>\n",
              "    <tr style=\"text-align: right;\">\n",
              "      <th></th>\n",
              "      <th>X1</th>\n",
              "      <th>X2</th>\n",
              "      <th>X3</th>\n",
              "      <th>A</th>\n",
              "    </tr>\n",
              "  </thead>\n",
              "  <tbody>\n",
              "    <tr>\n",
              "      <th>0</th>\n",
              "      <td>False</td>\n",
              "      <td>False</td>\n",
              "      <td>False</td>\n",
              "      <td>False</td>\n",
              "    </tr>\n",
              "    <tr>\n",
              "      <th>1</th>\n",
              "      <td>False</td>\n",
              "      <td>False</td>\n",
              "      <td>False</td>\n",
              "      <td>False</td>\n",
              "    </tr>\n",
              "    <tr>\n",
              "      <th>2</th>\n",
              "      <td>True</td>\n",
              "      <td>False</td>\n",
              "      <td>False</td>\n",
              "      <td>False</td>\n",
              "    </tr>\n",
              "    <tr>\n",
              "      <th>3</th>\n",
              "      <td>False</td>\n",
              "      <td>True</td>\n",
              "      <td>False</td>\n",
              "      <td>False</td>\n",
              "    </tr>\n",
              "    <tr>\n",
              "      <th>4</th>\n",
              "      <td>False</td>\n",
              "      <td>False</td>\n",
              "      <td>False</td>\n",
              "      <td>False</td>\n",
              "    </tr>\n",
              "  </tbody>\n",
              "</table>\n",
              "</div>"
            ],
            "text/plain": [
              "      X1     X2     X3      A\n",
              "0  False  False  False  False\n",
              "1  False  False  False  False\n",
              "2   True  False  False  False\n",
              "3  False   True  False  False\n",
              "4  False  False  False  False"
            ]
          },
          "metadata": {},
          "execution_count": 35
        }
      ]
    },
    {
      "cell_type": "code",
      "metadata": {
        "colab": {
          "base_uri": "https://localhost:8080/",
          "height": 204
        },
        "id": "i4Hl7kAjc6NB",
        "outputId": "f0c55ee3-70c9-4c0d-c12d-b77c6ab425bb"
      },
      "source": [
        "dff1.isna()"
      ],
      "execution_count": null,
      "outputs": [
        {
          "output_type": "execute_result",
          "data": {
            "text/html": [
              "<div>\n",
              "<style scoped>\n",
              "    .dataframe tbody tr th:only-of-type {\n",
              "        vertical-align: middle;\n",
              "    }\n",
              "\n",
              "    .dataframe tbody tr th {\n",
              "        vertical-align: top;\n",
              "    }\n",
              "\n",
              "    .dataframe thead th {\n",
              "        text-align: right;\n",
              "    }\n",
              "</style>\n",
              "<table border=\"1\" class=\"dataframe\">\n",
              "  <thead>\n",
              "    <tr style=\"text-align: right;\">\n",
              "      <th></th>\n",
              "      <th>X1</th>\n",
              "      <th>X2</th>\n",
              "      <th>X3</th>\n",
              "      <th>A</th>\n",
              "    </tr>\n",
              "  </thead>\n",
              "  <tbody>\n",
              "    <tr>\n",
              "      <th>0</th>\n",
              "      <td>False</td>\n",
              "      <td>False</td>\n",
              "      <td>False</td>\n",
              "      <td>False</td>\n",
              "    </tr>\n",
              "    <tr>\n",
              "      <th>1</th>\n",
              "      <td>False</td>\n",
              "      <td>False</td>\n",
              "      <td>False</td>\n",
              "      <td>False</td>\n",
              "    </tr>\n",
              "    <tr>\n",
              "      <th>2</th>\n",
              "      <td>True</td>\n",
              "      <td>False</td>\n",
              "      <td>False</td>\n",
              "      <td>False</td>\n",
              "    </tr>\n",
              "    <tr>\n",
              "      <th>3</th>\n",
              "      <td>False</td>\n",
              "      <td>True</td>\n",
              "      <td>False</td>\n",
              "      <td>False</td>\n",
              "    </tr>\n",
              "    <tr>\n",
              "      <th>4</th>\n",
              "      <td>False</td>\n",
              "      <td>False</td>\n",
              "      <td>False</td>\n",
              "      <td>False</td>\n",
              "    </tr>\n",
              "  </tbody>\n",
              "</table>\n",
              "</div>"
            ],
            "text/plain": [
              "      X1     X2     X3      A\n",
              "0  False  False  False  False\n",
              "1  False  False  False  False\n",
              "2   True  False  False  False\n",
              "3  False   True  False  False\n",
              "4  False  False  False  False"
            ]
          },
          "metadata": {},
          "execution_count": 36
        }
      ]
    },
    {
      "cell_type": "code",
      "metadata": {
        "colab": {
          "base_uri": "https://localhost:8080/"
        },
        "id": "vrOAHEf_c-jV",
        "outputId": "042e8b1c-b80b-4c87-eaae-eddb1ab36254"
      },
      "source": [
        "dff1.isna().sum()"
      ],
      "execution_count": null,
      "outputs": [
        {
          "output_type": "execute_result",
          "data": {
            "text/plain": [
              "X1    1\n",
              "X2    1\n",
              "X3    0\n",
              "A     0\n",
              "dtype: int64"
            ]
          },
          "metadata": {},
          "execution_count": 37
        }
      ]
    },
    {
      "cell_type": "code",
      "metadata": {
        "colab": {
          "base_uri": "https://localhost:8080/",
          "height": 142
        },
        "id": "a6sBU6jEdKeq",
        "outputId": "2dcc976f-41ef-40e2-ccf8-9fcbe1c496cc"
      },
      "source": [
        "# Dropping Na values\n",
        "\n",
        "dff1.dropna(inplace=False)   # inplace = True, will going to make changes in original DataFrame"
      ],
      "execution_count": null,
      "outputs": [
        {
          "output_type": "execute_result",
          "data": {
            "text/html": [
              "<div>\n",
              "<style scoped>\n",
              "    .dataframe tbody tr th:only-of-type {\n",
              "        vertical-align: middle;\n",
              "    }\n",
              "\n",
              "    .dataframe tbody tr th {\n",
              "        vertical-align: top;\n",
              "    }\n",
              "\n",
              "    .dataframe thead th {\n",
              "        text-align: right;\n",
              "    }\n",
              "</style>\n",
              "<table border=\"1\" class=\"dataframe\">\n",
              "  <thead>\n",
              "    <tr style=\"text-align: right;\">\n",
              "      <th></th>\n",
              "      <th>X1</th>\n",
              "      <th>X2</th>\n",
              "      <th>X3</th>\n",
              "      <th>A</th>\n",
              "    </tr>\n",
              "  </thead>\n",
              "  <tbody>\n",
              "    <tr>\n",
              "      <th>0</th>\n",
              "      <td>1.0</td>\n",
              "      <td>10.0</td>\n",
              "      <td>0</td>\n",
              "      <td>one</td>\n",
              "    </tr>\n",
              "    <tr>\n",
              "      <th>1</th>\n",
              "      <td>2.0</td>\n",
              "      <td>11.0</td>\n",
              "      <td>5</td>\n",
              "      <td>one</td>\n",
              "    </tr>\n",
              "    <tr>\n",
              "      <th>4</th>\n",
              "      <td>5.0</td>\n",
              "      <td>14.0</td>\n",
              "      <td>4</td>\n",
              "      <td>four</td>\n",
              "    </tr>\n",
              "  </tbody>\n",
              "</table>\n",
              "</div>"
            ],
            "text/plain": [
              "    X1    X2  X3     A\n",
              "0  1.0  10.0   0   one\n",
              "1  2.0  11.0   5   one\n",
              "4  5.0  14.0   4  four"
            ]
          },
          "metadata": {},
          "execution_count": 38
        }
      ]
    },
    {
      "cell_type": "code",
      "metadata": {
        "colab": {
          "base_uri": "https://localhost:8080/",
          "height": 204
        },
        "id": "V8L1VCbndih2",
        "outputId": "bbb4d766-c3d1-4f74-c773-6d149c8151bf"
      },
      "source": [
        "# Filling all na values\n",
        "\n",
        "dff1.fillna(value = 100, inplace = False)"
      ],
      "execution_count": null,
      "outputs": [
        {
          "output_type": "execute_result",
          "data": {
            "text/html": [
              "<div>\n",
              "<style scoped>\n",
              "    .dataframe tbody tr th:only-of-type {\n",
              "        vertical-align: middle;\n",
              "    }\n",
              "\n",
              "    .dataframe tbody tr th {\n",
              "        vertical-align: top;\n",
              "    }\n",
              "\n",
              "    .dataframe thead th {\n",
              "        text-align: right;\n",
              "    }\n",
              "</style>\n",
              "<table border=\"1\" class=\"dataframe\">\n",
              "  <thead>\n",
              "    <tr style=\"text-align: right;\">\n",
              "      <th></th>\n",
              "      <th>X1</th>\n",
              "      <th>X2</th>\n",
              "      <th>X3</th>\n",
              "      <th>A</th>\n",
              "    </tr>\n",
              "  </thead>\n",
              "  <tbody>\n",
              "    <tr>\n",
              "      <th>0</th>\n",
              "      <td>1.0</td>\n",
              "      <td>10.0</td>\n",
              "      <td>0</td>\n",
              "      <td>one</td>\n",
              "    </tr>\n",
              "    <tr>\n",
              "      <th>1</th>\n",
              "      <td>2.0</td>\n",
              "      <td>11.0</td>\n",
              "      <td>5</td>\n",
              "      <td>one</td>\n",
              "    </tr>\n",
              "    <tr>\n",
              "      <th>2</th>\n",
              "      <td>100.0</td>\n",
              "      <td>12.0</td>\n",
              "      <td>2</td>\n",
              "      <td>two</td>\n",
              "    </tr>\n",
              "    <tr>\n",
              "      <th>3</th>\n",
              "      <td>4.0</td>\n",
              "      <td>100.0</td>\n",
              "      <td>3</td>\n",
              "      <td>three</td>\n",
              "    </tr>\n",
              "    <tr>\n",
              "      <th>4</th>\n",
              "      <td>5.0</td>\n",
              "      <td>14.0</td>\n",
              "      <td>4</td>\n",
              "      <td>four</td>\n",
              "    </tr>\n",
              "  </tbody>\n",
              "</table>\n",
              "</div>"
            ],
            "text/plain": [
              "      X1     X2  X3      A\n",
              "0    1.0   10.0   0    one\n",
              "1    2.0   11.0   5    one\n",
              "2  100.0   12.0   2    two\n",
              "3    4.0  100.0   3  three\n",
              "4    5.0   14.0   4   four"
            ]
          },
          "metadata": {},
          "execution_count": 39
        }
      ]
    },
    {
      "cell_type": "code",
      "metadata": {
        "colab": {
          "base_uri": "https://localhost:8080/"
        },
        "id": "UBs-uz7ZeECP",
        "outputId": "784ba040-6437-4af0-abd3-7d4b8b49a9da"
      },
      "source": [
        "# only one column\n",
        "\n",
        "dff1.X1.fillna(value = 500, inplace=False)"
      ],
      "execution_count": null,
      "outputs": [
        {
          "output_type": "execute_result",
          "data": {
            "text/plain": [
              "0      1.0\n",
              "1      2.0\n",
              "2    500.0\n",
              "3      4.0\n",
              "4      5.0\n",
              "Name: X1, dtype: float64"
            ]
          },
          "metadata": {},
          "execution_count": 40
        }
      ]
    },
    {
      "cell_type": "code",
      "metadata": {
        "colab": {
          "base_uri": "https://localhost:8080/",
          "height": 204
        },
        "id": "POldLMChepek",
        "outputId": "2dc20a0b-487b-4acb-a7a0-eb7c26dc0fb5"
      },
      "source": [
        "# Multiple columns\n",
        "\n",
        "dff1.loc[:,['X1','X2']].fillna(value = 500,inplace=False)"
      ],
      "execution_count": null,
      "outputs": [
        {
          "output_type": "execute_result",
          "data": {
            "text/html": [
              "<div>\n",
              "<style scoped>\n",
              "    .dataframe tbody tr th:only-of-type {\n",
              "        vertical-align: middle;\n",
              "    }\n",
              "\n",
              "    .dataframe tbody tr th {\n",
              "        vertical-align: top;\n",
              "    }\n",
              "\n",
              "    .dataframe thead th {\n",
              "        text-align: right;\n",
              "    }\n",
              "</style>\n",
              "<table border=\"1\" class=\"dataframe\">\n",
              "  <thead>\n",
              "    <tr style=\"text-align: right;\">\n",
              "      <th></th>\n",
              "      <th>X1</th>\n",
              "      <th>X2</th>\n",
              "    </tr>\n",
              "  </thead>\n",
              "  <tbody>\n",
              "    <tr>\n",
              "      <th>0</th>\n",
              "      <td>1.0</td>\n",
              "      <td>10.0</td>\n",
              "    </tr>\n",
              "    <tr>\n",
              "      <th>1</th>\n",
              "      <td>2.0</td>\n",
              "      <td>11.0</td>\n",
              "    </tr>\n",
              "    <tr>\n",
              "      <th>2</th>\n",
              "      <td>500.0</td>\n",
              "      <td>12.0</td>\n",
              "    </tr>\n",
              "    <tr>\n",
              "      <th>3</th>\n",
              "      <td>4.0</td>\n",
              "      <td>500.0</td>\n",
              "    </tr>\n",
              "    <tr>\n",
              "      <th>4</th>\n",
              "      <td>5.0</td>\n",
              "      <td>14.0</td>\n",
              "    </tr>\n",
              "  </tbody>\n",
              "</table>\n",
              "</div>"
            ],
            "text/plain": [
              "      X1     X2\n",
              "0    1.0   10.0\n",
              "1    2.0   11.0\n",
              "2  500.0   12.0\n",
              "3    4.0  500.0\n",
              "4    5.0   14.0"
            ]
          },
          "metadata": {},
          "execution_count": 41
        }
      ]
    },
    {
      "cell_type": "markdown",
      "metadata": {
        "id": "4OhZ9R8Zlg2I"
      },
      "source": [
        "## Operations in pandas"
      ]
    },
    {
      "cell_type": "code",
      "metadata": {
        "id": "b6OJRbhRmqVj"
      },
      "source": [
        "import pandas as pd\n",
        "import numpy as np"
      ],
      "execution_count": null,
      "outputs": []
    },
    {
      "cell_type": "code",
      "metadata": {
        "id": "L20FLBTxmVY_"
      },
      "source": [
        "x1 = [1, 2, 3, 4,5] # list format\n",
        "x2 = [10, 11, 12,13,14]  # list format\n",
        "\n",
        "x3 = list(range(5))\n",
        "\n",
        "# Creating a data frame using explicits lists\n",
        "dff1 = pd.DataFrame({\"X1\":x1,\"X2\":x2,\"X3\":x3})"
      ],
      "execution_count": null,
      "outputs": []
    },
    {
      "cell_type": "code",
      "metadata": {
        "colab": {
          "base_uri": "https://localhost:8080/",
          "height": 204
        },
        "id": "jhASIhfu1bgS",
        "outputId": "42ab3542-97ec-4c94-97ac-41ad7819a0bc"
      },
      "source": [
        "dff1"
      ],
      "execution_count": null,
      "outputs": [
        {
          "output_type": "execute_result",
          "data": {
            "text/html": [
              "<div>\n",
              "<style scoped>\n",
              "    .dataframe tbody tr th:only-of-type {\n",
              "        vertical-align: middle;\n",
              "    }\n",
              "\n",
              "    .dataframe tbody tr th {\n",
              "        vertical-align: top;\n",
              "    }\n",
              "\n",
              "    .dataframe thead th {\n",
              "        text-align: right;\n",
              "    }\n",
              "</style>\n",
              "<table border=\"1\" class=\"dataframe\">\n",
              "  <thead>\n",
              "    <tr style=\"text-align: right;\">\n",
              "      <th></th>\n",
              "      <th>X1</th>\n",
              "      <th>X2</th>\n",
              "      <th>X3</th>\n",
              "    </tr>\n",
              "  </thead>\n",
              "  <tbody>\n",
              "    <tr>\n",
              "      <th>0</th>\n",
              "      <td>1</td>\n",
              "      <td>10</td>\n",
              "      <td>0</td>\n",
              "    </tr>\n",
              "    <tr>\n",
              "      <th>1</th>\n",
              "      <td>2</td>\n",
              "      <td>11</td>\n",
              "      <td>1</td>\n",
              "    </tr>\n",
              "    <tr>\n",
              "      <th>2</th>\n",
              "      <td>3</td>\n",
              "      <td>12</td>\n",
              "      <td>2</td>\n",
              "    </tr>\n",
              "    <tr>\n",
              "      <th>3</th>\n",
              "      <td>4</td>\n",
              "      <td>13</td>\n",
              "      <td>3</td>\n",
              "    </tr>\n",
              "    <tr>\n",
              "      <th>4</th>\n",
              "      <td>5</td>\n",
              "      <td>14</td>\n",
              "      <td>4</td>\n",
              "    </tr>\n",
              "  </tbody>\n",
              "</table>\n",
              "</div>"
            ],
            "text/plain": [
              "   X1  X2  X3\n",
              "0   1  10   0\n",
              "1   2  11   1\n",
              "2   3  12   2\n",
              "3   4  13   3\n",
              "4   5  14   4"
            ]
          },
          "metadata": {},
          "execution_count": 11
        }
      ]
    },
    {
      "cell_type": "code",
      "metadata": {
        "colab": {
          "base_uri": "https://localhost:8080/"
        },
        "id": "G8giULcUn61-",
        "outputId": "28b4284c-5478-4593-ba9b-09fc6f021e79"
      },
      "source": [
        "dff1.X1 + dff1.X2"
      ],
      "execution_count": null,
      "outputs": [
        {
          "output_type": "execute_result",
          "data": {
            "text/plain": [
              "0    11\n",
              "1    13\n",
              "2    15\n",
              "3    17\n",
              "4    19\n",
              "dtype: int64"
            ]
          },
          "metadata": {},
          "execution_count": 12
        }
      ]
    },
    {
      "cell_type": "code",
      "metadata": {
        "colab": {
          "base_uri": "https://localhost:8080/"
        },
        "id": "5P5M09YmoBbi",
        "outputId": "d05a969e-cfa4-4961-bde7-d7cb0e09db56"
      },
      "source": [
        "dff1.X1 + dff1.X2 * dff1.X3"
      ],
      "execution_count": null,
      "outputs": [
        {
          "output_type": "execute_result",
          "data": {
            "text/plain": [
              "0     1\n",
              "1    13\n",
              "2    27\n",
              "3    43\n",
              "4    61\n",
              "dtype: int64"
            ]
          },
          "metadata": {},
          "execution_count": 13
        }
      ]
    },
    {
      "cell_type": "code",
      "metadata": {
        "id": "TvklL0fsoKhI",
        "colab": {
          "base_uri": "https://localhost:8080/",
          "height": 204
        },
        "outputId": "5deb3e06-a403-4d9c-de3a-3d49ac62894f"
      },
      "source": [
        "dff1['new'] = dff1.X1 + dff1.X2 * dff1.X3 + 5\n",
        "dff1"
      ],
      "execution_count": null,
      "outputs": [
        {
          "output_type": "execute_result",
          "data": {
            "text/html": [
              "<div>\n",
              "<style scoped>\n",
              "    .dataframe tbody tr th:only-of-type {\n",
              "        vertical-align: middle;\n",
              "    }\n",
              "\n",
              "    .dataframe tbody tr th {\n",
              "        vertical-align: top;\n",
              "    }\n",
              "\n",
              "    .dataframe thead th {\n",
              "        text-align: right;\n",
              "    }\n",
              "</style>\n",
              "<table border=\"1\" class=\"dataframe\">\n",
              "  <thead>\n",
              "    <tr style=\"text-align: right;\">\n",
              "      <th></th>\n",
              "      <th>X1</th>\n",
              "      <th>X2</th>\n",
              "      <th>X3</th>\n",
              "      <th>new</th>\n",
              "    </tr>\n",
              "  </thead>\n",
              "  <tbody>\n",
              "    <tr>\n",
              "      <th>0</th>\n",
              "      <td>1</td>\n",
              "      <td>10</td>\n",
              "      <td>0</td>\n",
              "      <td>6</td>\n",
              "    </tr>\n",
              "    <tr>\n",
              "      <th>1</th>\n",
              "      <td>2</td>\n",
              "      <td>11</td>\n",
              "      <td>1</td>\n",
              "      <td>18</td>\n",
              "    </tr>\n",
              "    <tr>\n",
              "      <th>2</th>\n",
              "      <td>3</td>\n",
              "      <td>12</td>\n",
              "      <td>2</td>\n",
              "      <td>32</td>\n",
              "    </tr>\n",
              "    <tr>\n",
              "      <th>3</th>\n",
              "      <td>4</td>\n",
              "      <td>13</td>\n",
              "      <td>3</td>\n",
              "      <td>48</td>\n",
              "    </tr>\n",
              "    <tr>\n",
              "      <th>4</th>\n",
              "      <td>5</td>\n",
              "      <td>14</td>\n",
              "      <td>4</td>\n",
              "      <td>66</td>\n",
              "    </tr>\n",
              "  </tbody>\n",
              "</table>\n",
              "</div>"
            ],
            "text/plain": [
              "   X1  X2  X3  new\n",
              "0   1  10   0    6\n",
              "1   2  11   1   18\n",
              "2   3  12   2   32\n",
              "3   4  13   3   48\n",
              "4   5  14   4   66"
            ]
          },
          "metadata": {},
          "execution_count": 14
        }
      ]
    },
    {
      "cell_type": "code",
      "metadata": {
        "colab": {
          "base_uri": "https://localhost:8080/"
        },
        "id": "vDBknDQBlg2J",
        "outputId": "8fb2d064-bfcc-4459-c7bd-035ce606c734"
      },
      "source": [
        "dff1.X1.mean()"
      ],
      "execution_count": null,
      "outputs": [
        {
          "output_type": "execute_result",
          "data": {
            "text/plain": [
              "3.0"
            ]
          },
          "metadata": {},
          "execution_count": 15
        }
      ]
    },
    {
      "cell_type": "code",
      "metadata": {
        "colab": {
          "base_uri": "https://localhost:8080/"
        },
        "id": "l1zLnsk9lg2J",
        "outputId": "fa161771-2c98-43d7-9a51-2fcf3ed977b5"
      },
      "source": [
        "dff1.mean()"
      ],
      "execution_count": null,
      "outputs": [
        {
          "output_type": "execute_result",
          "data": {
            "text/plain": [
              "X1      3.0\n",
              "X2     12.0\n",
              "X3      2.0\n",
              "new    34.0\n",
              "dtype: float64"
            ]
          },
          "metadata": {},
          "execution_count": 16
        }
      ]
    },
    {
      "cell_type": "code",
      "metadata": {
        "colab": {
          "base_uri": "https://localhost:8080/"
        },
        "id": "uAW2qNYylg2K",
        "outputId": "20bd5c71-029b-4744-a084-9e9c6c5c8012"
      },
      "source": [
        "dff1.sum()"
      ],
      "execution_count": null,
      "outputs": [
        {
          "output_type": "execute_result",
          "data": {
            "text/plain": [
              "X1      15\n",
              "X2      60\n",
              "X3      10\n",
              "new    170\n",
              "dtype: int64"
            ]
          },
          "metadata": {},
          "execution_count": 17
        }
      ]
    },
    {
      "cell_type": "code",
      "metadata": {
        "colab": {
          "base_uri": "https://localhost:8080/"
        },
        "id": "dN_jpMoilg2K",
        "outputId": "6d204e8e-7970-4e79-8959-21890f8bcf3e"
      },
      "source": [
        "dff1.max()"
      ],
      "execution_count": null,
      "outputs": [
        {
          "output_type": "execute_result",
          "data": {
            "text/plain": [
              "X1      5\n",
              "X2     14\n",
              "X3      4\n",
              "new    66\n",
              "dtype: int64"
            ]
          },
          "metadata": {},
          "execution_count": 18
        }
      ]
    },
    {
      "cell_type": "code",
      "metadata": {
        "colab": {
          "base_uri": "https://localhost:8080/"
        },
        "id": "4PyEAjiplg2L",
        "outputId": "7e709106-1c6c-48f3-f0c7-1b8d7ceb8a94"
      },
      "source": [
        "dff1.min()"
      ],
      "execution_count": null,
      "outputs": [
        {
          "output_type": "execute_result",
          "data": {
            "text/plain": [
              "X1      1\n",
              "X2     10\n",
              "X3      0\n",
              "new     6\n",
              "dtype: int64"
            ]
          },
          "metadata": {},
          "execution_count": 19
        }
      ]
    },
    {
      "cell_type": "code",
      "metadata": {
        "colab": {
          "base_uri": "https://localhost:8080/"
        },
        "id": "C8-1XEu9lg2L",
        "outputId": "0dbc83e6-1faf-4ec4-929b-10e9897cb616"
      },
      "source": [
        "dff1.count()"
      ],
      "execution_count": null,
      "outputs": [
        {
          "output_type": "execute_result",
          "data": {
            "text/plain": [
              "X1     5\n",
              "X2     5\n",
              "X3     5\n",
              "new    5\n",
              "dtype: int64"
            ]
          },
          "metadata": {},
          "execution_count": 20
        }
      ]
    },
    {
      "cell_type": "code",
      "metadata": {
        "colab": {
          "base_uri": "https://localhost:8080/"
        },
        "id": "BEINLjom30Gj",
        "outputId": "fd2feb84-2c23-4ea3-a677-8cec47d7143f"
      },
      "source": [
        "dff1.info()"
      ],
      "execution_count": null,
      "outputs": [
        {
          "output_type": "stream",
          "name": "stdout",
          "text": [
            "<class 'pandas.core.frame.DataFrame'>\n",
            "RangeIndex: 5 entries, 0 to 4\n",
            "Data columns (total 4 columns):\n",
            " #   Column  Non-Null Count  Dtype\n",
            "---  ------  --------------  -----\n",
            " 0   X1      5 non-null      int64\n",
            " 1   X2      5 non-null      int64\n",
            " 2   X3      5 non-null      int64\n",
            " 3   new     5 non-null      int64\n",
            "dtypes: int64(4)\n",
            "memory usage: 288.0 bytes\n"
          ]
        }
      ]
    },
    {
      "cell_type": "code",
      "metadata": {
        "colab": {
          "base_uri": "https://localhost:8080/"
        },
        "id": "-_YOVHaK38Op",
        "outputId": "beda3f34-ef89-4c55-b77e-f76ebf1be081"
      },
      "source": [
        "dff1.dtypes"
      ],
      "execution_count": null,
      "outputs": [
        {
          "output_type": "execute_result",
          "data": {
            "text/plain": [
              "X1     int64\n",
              "X2     int64\n",
              "X3     int64\n",
              "new    int64\n",
              "dtype: object"
            ]
          },
          "metadata": {},
          "execution_count": 22
        }
      ]
    },
    {
      "cell_type": "code",
      "metadata": {
        "colab": {
          "base_uri": "https://localhost:8080/"
        },
        "id": "dK3NYBFQlg2L",
        "outputId": "4d6d618c-a576-4a8b-f7d5-7402e74815fd"
      },
      "source": [
        "# Apply method is very helpful for applying any kind of function in DataFrame\n",
        "\n",
        "dff1.apply(lambda x : x.max() + x.min())"
      ],
      "execution_count": null,
      "outputs": [
        {
          "output_type": "execute_result",
          "data": {
            "text/plain": [
              "X1      6\n",
              "X2     24\n",
              "X3      4\n",
              "new    72\n",
              "dtype: int64"
            ]
          },
          "metadata": {},
          "execution_count": 23
        }
      ]
    },
    {
      "cell_type": "code",
      "metadata": {
        "colab": {
          "base_uri": "https://localhost:8080/"
        },
        "id": "6-9Hypz2lg2M",
        "outputId": "5564a9a7-bc1c-4f3d-aaf7-64b3b7d14ee9"
      },
      "source": [
        "dff1.apply(lambda x : x.max() + x.min(),axis=0)"
      ],
      "execution_count": null,
      "outputs": [
        {
          "output_type": "execute_result",
          "data": {
            "text/plain": [
              "X1      6\n",
              "X2     24\n",
              "X3      4\n",
              "new    72\n",
              "dtype: int64"
            ]
          },
          "metadata": {},
          "execution_count": 24
        }
      ]
    },
    {
      "cell_type": "code",
      "metadata": {
        "colab": {
          "base_uri": "https://localhost:8080/"
        },
        "id": "6UQtZa0alg2M",
        "outputId": "ba7da6f0-adc3-4363-8bf3-67046bc7ad6a"
      },
      "source": [
        "dff1.X1.apply(lambda x : x + 2 )"
      ],
      "execution_count": null,
      "outputs": [
        {
          "output_type": "execute_result",
          "data": {
            "text/plain": [
              "0    3\n",
              "1    4\n",
              "2    5\n",
              "3    6\n",
              "4    7\n",
              "Name: X1, dtype: int64"
            ]
          },
          "metadata": {},
          "execution_count": 25
        }
      ]
    },
    {
      "cell_type": "code",
      "metadata": {
        "id": "8xL9N4Gglg2N"
      },
      "source": [
        "def manuplate(x):\n",
        "  if x > 2:\n",
        "    return 'Yes'\n",
        "  else:\n",
        "    return 'No'"
      ],
      "execution_count": null,
      "outputs": []
    },
    {
      "cell_type": "code",
      "metadata": {
        "colab": {
          "base_uri": "https://localhost:8080/"
        },
        "id": "y5Z8oqR7lg2N",
        "outputId": "25934f47-71f1-4f7d-eeb8-fb62c6514334"
      },
      "source": [
        "# using other function\n",
        "\n",
        "dff1.X1.apply(lambda x : manuplate(x))"
      ],
      "execution_count": null,
      "outputs": [
        {
          "output_type": "execute_result",
          "data": {
            "text/plain": [
              "0     No\n",
              "1     No\n",
              "2    Yes\n",
              "3    Yes\n",
              "4    Yes\n",
              "Name: X1, dtype: object"
            ]
          },
          "metadata": {},
          "execution_count": 27
        }
      ]
    },
    {
      "cell_type": "code",
      "metadata": {
        "colab": {
          "base_uri": "https://localhost:8080/"
        },
        "id": "2qaupaNhlg2O",
        "outputId": "ba48b977-37ca-4512-ab48-bc5c50dadb6f"
      },
      "source": [
        "# another way\n",
        "\n",
        "dff1.X1.apply(manuplate)"
      ],
      "execution_count": null,
      "outputs": [
        {
          "output_type": "execute_result",
          "data": {
            "text/plain": [
              "0     No\n",
              "1     No\n",
              "2    Yes\n",
              "3    Yes\n",
              "4    Yes\n",
              "Name: X1, dtype: object"
            ]
          },
          "metadata": {},
          "execution_count": 28
        }
      ]
    },
    {
      "cell_type": "code",
      "metadata": {
        "colab": {
          "base_uri": "https://localhost:8080/"
        },
        "id": "SjeGmysklg2O",
        "outputId": "826736ae-34ff-46e2-c7d8-ad441458893a"
      },
      "source": [
        "dff1.X1.apply(np.sqrt)"
      ],
      "execution_count": null,
      "outputs": [
        {
          "output_type": "execute_result",
          "data": {
            "text/plain": [
              "0    1.000000\n",
              "1    1.414214\n",
              "2    1.732051\n",
              "3    2.000000\n",
              "4    2.236068\n",
              "Name: X1, dtype: float64"
            ]
          },
          "metadata": {},
          "execution_count": 29
        }
      ]
    },
    {
      "cell_type": "code",
      "metadata": {
        "colab": {
          "base_uri": "https://localhost:8080/",
          "height": 204
        },
        "id": "DgKUbYdHlg2O",
        "outputId": "8558a523-ad9c-49c2-d5c3-a8fdb9def34e"
      },
      "source": [
        "dff1"
      ],
      "execution_count": null,
      "outputs": [
        {
          "output_type": "execute_result",
          "data": {
            "text/html": [
              "<div>\n",
              "<style scoped>\n",
              "    .dataframe tbody tr th:only-of-type {\n",
              "        vertical-align: middle;\n",
              "    }\n",
              "\n",
              "    .dataframe tbody tr th {\n",
              "        vertical-align: top;\n",
              "    }\n",
              "\n",
              "    .dataframe thead th {\n",
              "        text-align: right;\n",
              "    }\n",
              "</style>\n",
              "<table border=\"1\" class=\"dataframe\">\n",
              "  <thead>\n",
              "    <tr style=\"text-align: right;\">\n",
              "      <th></th>\n",
              "      <th>X1</th>\n",
              "      <th>X2</th>\n",
              "      <th>X3</th>\n",
              "      <th>new</th>\n",
              "    </tr>\n",
              "  </thead>\n",
              "  <tbody>\n",
              "    <tr>\n",
              "      <th>0</th>\n",
              "      <td>1</td>\n",
              "      <td>10</td>\n",
              "      <td>0</td>\n",
              "      <td>6</td>\n",
              "    </tr>\n",
              "    <tr>\n",
              "      <th>1</th>\n",
              "      <td>2</td>\n",
              "      <td>11</td>\n",
              "      <td>1</td>\n",
              "      <td>18</td>\n",
              "    </tr>\n",
              "    <tr>\n",
              "      <th>2</th>\n",
              "      <td>3</td>\n",
              "      <td>12</td>\n",
              "      <td>2</td>\n",
              "      <td>32</td>\n",
              "    </tr>\n",
              "    <tr>\n",
              "      <th>3</th>\n",
              "      <td>4</td>\n",
              "      <td>13</td>\n",
              "      <td>3</td>\n",
              "      <td>48</td>\n",
              "    </tr>\n",
              "    <tr>\n",
              "      <th>4</th>\n",
              "      <td>5</td>\n",
              "      <td>14</td>\n",
              "      <td>4</td>\n",
              "      <td>66</td>\n",
              "    </tr>\n",
              "  </tbody>\n",
              "</table>\n",
              "</div>"
            ],
            "text/plain": [
              "   X1  X2  X3  new\n",
              "0   1  10   0    6\n",
              "1   2  11   1   18\n",
              "2   3  12   2   32\n",
              "3   4  13   3   48\n",
              "4   5  14   4   66"
            ]
          },
          "metadata": {},
          "execution_count": 30
        }
      ]
    },
    {
      "cell_type": "code",
      "metadata": {
        "colab": {
          "base_uri": "https://localhost:8080/",
          "height": 204
        },
        "id": "ZJ5NJliBlg2P",
        "outputId": "b088b580-b259-4389-8332-501e454933a6"
      },
      "source": [
        "# Multiple columns\n",
        "\n",
        "dff1.loc[:,['X1','X2']].apply(lambda x: x + 2)"
      ],
      "execution_count": null,
      "outputs": [
        {
          "output_type": "execute_result",
          "data": {
            "text/html": [
              "<div>\n",
              "<style scoped>\n",
              "    .dataframe tbody tr th:only-of-type {\n",
              "        vertical-align: middle;\n",
              "    }\n",
              "\n",
              "    .dataframe tbody tr th {\n",
              "        vertical-align: top;\n",
              "    }\n",
              "\n",
              "    .dataframe thead th {\n",
              "        text-align: right;\n",
              "    }\n",
              "</style>\n",
              "<table border=\"1\" class=\"dataframe\">\n",
              "  <thead>\n",
              "    <tr style=\"text-align: right;\">\n",
              "      <th></th>\n",
              "      <th>X1</th>\n",
              "      <th>X2</th>\n",
              "    </tr>\n",
              "  </thead>\n",
              "  <tbody>\n",
              "    <tr>\n",
              "      <th>0</th>\n",
              "      <td>3</td>\n",
              "      <td>12</td>\n",
              "    </tr>\n",
              "    <tr>\n",
              "      <th>1</th>\n",
              "      <td>4</td>\n",
              "      <td>13</td>\n",
              "    </tr>\n",
              "    <tr>\n",
              "      <th>2</th>\n",
              "      <td>5</td>\n",
              "      <td>14</td>\n",
              "    </tr>\n",
              "    <tr>\n",
              "      <th>3</th>\n",
              "      <td>6</td>\n",
              "      <td>15</td>\n",
              "    </tr>\n",
              "    <tr>\n",
              "      <th>4</th>\n",
              "      <td>7</td>\n",
              "      <td>16</td>\n",
              "    </tr>\n",
              "  </tbody>\n",
              "</table>\n",
              "</div>"
            ],
            "text/plain": [
              "   X1  X2\n",
              "0   3  12\n",
              "1   4  13\n",
              "2   5  14\n",
              "3   6  15\n",
              "4   7  16"
            ]
          },
          "metadata": {},
          "execution_count": 31
        }
      ]
    },
    {
      "cell_type": "code",
      "metadata": {
        "colab": {
          "base_uri": "https://localhost:8080/"
        },
        "id": "11hXY6dTlg2P",
        "outputId": "474b2d88-964c-4d22-d033-98b9e35b8be9"
      },
      "source": [
        "# Applying changes according to multiple columns\n",
        "\n",
        "dff1.apply(lambda x: x.X1 + x.X2, axis=1)"
      ],
      "execution_count": null,
      "outputs": [
        {
          "output_type": "execute_result",
          "data": {
            "text/plain": [
              "0    11\n",
              "1    13\n",
              "2    15\n",
              "3    17\n",
              "4    19\n",
              "dtype: int64"
            ]
          },
          "metadata": {},
          "execution_count": 32
        }
      ]
    },
    {
      "cell_type": "markdown",
      "metadata": {
        "id": "ZaSjoFsWl07V"
      },
      "source": [
        "## Dates and Times"
      ]
    },
    {
      "cell_type": "code",
      "metadata": {
        "id": "lRVuKqtUl07e",
        "colab": {
          "base_uri": "https://localhost:8080/"
        },
        "outputId": "342483db-416d-43fe-95a5-5110dcc5f438"
      },
      "source": [
        "# To deal with dates and times we have seperate packages in python - datetime\n",
        "from datetime import date\n",
        "\n",
        "date.fromisoformat('2019-12-04')    # format YYYY-MM-DD"
      ],
      "execution_count": null,
      "outputs": [
        {
          "output_type": "execute_result",
          "data": {
            "text/plain": [
              "datetime.date(2019, 12, 4)"
            ]
          },
          "metadata": {},
          "execution_count": 33
        }
      ]
    },
    {
      "cell_type": "code",
      "metadata": {
        "id": "A1qwJCFul07i",
        "colab": {
          "base_uri": "https://localhost:8080/"
        },
        "outputId": "d94d6072-8bd6-4364-b9f9-05c2a40896c0"
      },
      "source": [
        "byt = bytes(3)\n",
        "\n",
        "print(type(byt))\n",
        "\n",
        "print(byt)"
      ],
      "execution_count": null,
      "outputs": [
        {
          "output_type": "stream",
          "name": "stdout",
          "text": [
            "<class 'bytes'>\n",
            "b'\\x00\\x00\\x00'\n"
          ]
        }
      ]
    },
    {
      "cell_type": "code",
      "metadata": {
        "id": "xmfZh-rfl07k",
        "colab": {
          "base_uri": "https://localhost:8080/"
        },
        "outputId": "d9a30bb3-fa39-402a-aff2-c031715fc42f"
      },
      "source": [
        "# we can replace the dates\n",
        "d = date(2002, 12, 31)\n",
        "d.replace(day=26)"
      ],
      "execution_count": null,
      "outputs": [
        {
          "output_type": "execute_result",
          "data": {
            "text/plain": [
              "datetime.date(2002, 12, 26)"
            ]
          },
          "metadata": {},
          "execution_count": 35
        }
      ]
    },
    {
      "cell_type": "code",
      "metadata": {
        "id": "smq3kpKwl07l",
        "colab": {
          "base_uri": "https://localhost:8080/"
        },
        "outputId": "8e81e33e-f95e-42bd-9cf1-b3e423275a26"
      },
      "source": [
        "#Example\n",
        "#date.isocalendar()\n",
        "from datetime import date\n",
        "date(2003, 12, 29).isocalendar()\n"
      ],
      "execution_count": null,
      "outputs": [
        {
          "output_type": "execute_result",
          "data": {
            "text/plain": [
              "(2004, 1, 1)"
            ]
          },
          "metadata": {},
          "execution_count": 36
        }
      ]
    },
    {
      "cell_type": "code",
      "metadata": {
        "id": "MNufp0D5l07m",
        "colab": {
          "base_uri": "https://localhost:8080/",
          "height": 35
        },
        "outputId": "f230de74-01b3-42c1-d9fa-11e593fa2173"
      },
      "source": [
        "#date.isoformat()\n",
        "from datetime import date\n",
        "date(2002, 12, 4).isoformat()"
      ],
      "execution_count": null,
      "outputs": [
        {
          "output_type": "execute_result",
          "data": {
            "application/vnd.google.colaboratory.intrinsic+json": {
              "type": "string"
            },
            "text/plain": [
              "'2002-12-04'"
            ]
          },
          "metadata": {},
          "execution_count": 37
        }
      ]
    },
    {
      "cell_type": "code",
      "metadata": {
        "id": "D5V4UrHzl07n",
        "colab": {
          "base_uri": "https://localhost:8080/"
        },
        "outputId": "8e199e65-48da-4d95-c079-db2e678ed656"
      },
      "source": [
        "# Timedelta function demonstration\n",
        "\n",
        "from datetime import datetime, timedelta\n",
        "\n",
        "\n",
        "# Using current time\n",
        "ini_time_for_now = datetime.now()\n",
        "\n",
        "# printing initial_date\n",
        "print (\"initial_date\", str(ini_time_for_now))\n",
        "\n",
        "# Calculating future dates\n",
        "# for two years\n",
        "future_date_after_2yrs = ini_time_for_now + timedelta(days = 730)\n",
        "# printing calculated future_dates\n",
        "print('future_date_after_2yrs:', str(future_date_after_2yrs))"
      ],
      "execution_count": null,
      "outputs": [
        {
          "output_type": "stream",
          "name": "stdout",
          "text": [
            "initial_date 2021-11-18 12:11:50.842591\n",
            "future_date_after_2yrs: 2023-11-18 12:11:50.842591\n"
          ]
        }
      ]
    },
    {
      "cell_type": "code",
      "metadata": {
        "id": "wh0VboSzl07p",
        "colab": {
          "base_uri": "https://localhost:8080/"
        },
        "outputId": "72e05bff-fd2b-4915-be6a-bd324a3ebdbc"
      },
      "source": [
        "import time\n",
        "date.fromtimestamp(time.time())"
      ],
      "execution_count": null,
      "outputs": [
        {
          "output_type": "execute_result",
          "data": {
            "text/plain": [
              "datetime.date(2021, 11, 18)"
            ]
          },
          "metadata": {},
          "execution_count": 43
        }
      ]
    },
    {
      "cell_type": "markdown",
      "metadata": {
        "id": "VXIcUxX7KdUH"
      },
      "source": [
        "## Date Formatting"
      ]
    },
    {
      "cell_type": "markdown",
      "metadata": {
        "id": "5iOErxXxKFuL"
      },
      "source": [
        "%a\tAbbreviated weekday name.\tSun, Mon, ...\n",
        "\n",
        "%A\tFull weekday name.\tSunday, Monday, ...\n",
        "\n",
        "%w\tWeekday as a decimal number.\t0, 1, ..., 6\n",
        "\n",
        "%d\tDay of the month as a zero-padded decimal.\t01, 02, ..., 31\n",
        "\n",
        "%-d\tDay of the month as a decimal number.\t1, 2, ..., 30\n",
        "\n",
        "%b\tAbbreviated month name.\tJan, Feb, ..., Dec\n",
        "\n",
        "%B\tFull month name.\tJanuary, February, ...\n",
        "\n",
        "%m\tMonth as a zero-padded decimal number.\t01, 02, ..., 12\n",
        "\n",
        "%-m\tMonth as a decimal number.\t1, 2, ..., 12\n",
        "\n",
        "%y\tYear without century as a zero-padded decimal number.\t00, 01, ..., 99\n",
        "\n",
        "%-y\tYear without century as a decimal number.\t0, 1, ..., 99\n",
        "\n",
        "%Y\tYear with century as a decimal number.\t2013, 2019 etc.\n",
        "\n",
        "%H\tHour (24-hour clock) as a zero-padded decimal number.\t00, 01, ..., 23\n",
        "\n",
        "%-H\tHour (24-hour clock) as a decimal number.\t0, 1, ..., 23\n",
        "\n",
        "%I\tHour (12-hour clock) as a zero-padded decimal number.\t01, 02, ..., 12\n",
        "\n",
        "%-I\tHour (12-hour clock) as a decimal number.\t1, 2, ... 12\n",
        "\n",
        "%p\tLocale’s AM or PM.\tAM, PM\n",
        "\n",
        "%M\tMinute as a zero-padded decimal number.\t00, 01, ..., 59\n",
        "\n",
        "%-M\tMinute as a decimal number.\t0, 1, ..., 59\n",
        "\n",
        "%S\tSecond as a zero-padded decimal number.\t00, 01, ..., 59\n",
        "\n",
        "%-S\tSecond as a decimal number.\t0, 1, ..., 59\n",
        "\n",
        "%f\tMicrosecond as a decimal number, zero-padded on the left.\t000000 - 999999\n",
        "\n",
        "%z\tUTC offset in the form +HHMM or -HHMM.\n",
        "\n",
        "%Z\tTime zone name.\n",
        "\n",
        "%j\tDay of the year as a zero-padded decimal number.\t001, 002, ..., 366\n",
        "\n",
        "%-j\tDay of the year as a decimal number.\t1, 2, ..., 366\n",
        "\n",
        "%U\tWeek number of the year (Sunday as the first day of the week). All days in a new year preceding the first Sunday are considered to be in week 0.\t00, 01, ..., 53\n",
        "\n",
        "%W\tWeek number of the year (Monday as the first day of the week). All days in a new year preceding the first Monday are considered to be in week 0.\t00, 01, ..., 53\n",
        "\n",
        "%c\tLocale’s appropriate date and time representation.\tMon Sep 30 07:06:05 2013\n",
        "\n",
        "%x\tLocale’s appropriate date representation.\t09/30/13\n",
        "\n",
        "%X\tLocale’s appropriate time representation.\t07:06:05\n",
        "\n",
        "%%\tA literal '%' character."
      ]
    },
    {
      "cell_type": "code",
      "metadata": {
        "colab": {
          "base_uri": "https://localhost:8080/"
        },
        "id": "k2w-Io0OJ-Bj",
        "outputId": "2c5df960-a3e0-4565-f9cb-6736abeffd7d"
      },
      "source": [
        "import datetime\n",
        "\n",
        "date_time_str = '2018-06-29 08:15:27.243860'\n",
        "date_time_obj = datetime.datetime.strptime(date_time_str, '%Y-%m-%d %H:%M:%S.%f')\n",
        "\n",
        "print('Date:', date_time_obj.date())\n",
        "print('Time:', date_time_obj.time())\n",
        "print('Date-time:', date_time_obj)"
      ],
      "execution_count": null,
      "outputs": [
        {
          "output_type": "stream",
          "name": "stdout",
          "text": [
            "Date: 2018-06-29\n",
            "Time: 08:15:27.243860\n",
            "Date-time: 2018-06-29 08:15:27.243860\n"
          ]
        }
      ]
    },
    {
      "cell_type": "code",
      "metadata": {
        "id": "IzNmwcpaKitd",
        "colab": {
          "base_uri": "https://localhost:8080/"
        },
        "outputId": "82279236-24b0-4b7d-b25d-01cc91e62a9c"
      },
      "source": [
        "date_time_str = '2018-jan-29 08:15:27'\n",
        "date_time_obj = datetime.datetime.strptime(date_time_str, '%Y-%b-%d %H:%M:%S')\n",
        "print(date_time_obj)"
      ],
      "execution_count": null,
      "outputs": [
        {
          "output_type": "stream",
          "name": "stdout",
          "text": [
            "2018-01-29 08:15:27\n"
          ]
        }
      ]
    },
    {
      "cell_type": "markdown",
      "metadata": {
        "id": "EPsyqVRaL_gS"
      },
      "source": [
        "Formatting Examples"
      ]
    },
    {
      "cell_type": "code",
      "metadata": {
        "colab": {
          "base_uri": "https://localhost:8080/"
        },
        "id": "BkKW7x4NLWLG",
        "outputId": "82c3ffd2-9b45-49fb-d5c4-59647b294060"
      },
      "source": [
        "print(date_time_obj.strftime('%Y-%b-%d'))\n",
        "print(date_time_obj.strftime('%a-%b-%y'))\n",
        "print(date_time_obj.strftime('%a-%b-%y %I:%M:%S %p'))\n",
        "print(date_time_obj.strftime('Date is %D, and Time is %T'))\n",
        "print(date_time_obj.strftime('%A-%B-%Y'))"
      ],
      "execution_count": null,
      "outputs": [
        {
          "output_type": "stream",
          "name": "stdout",
          "text": [
            "2018-Jan-29\n",
            "Mon-Jan-18\n",
            "Mon-Jan-18 08:15:27 AM\n",
            "Date is 01/29/18, and Time is 08:15:27\n",
            "Monday-January-2018\n"
          ]
        }
      ]
    },
    {
      "cell_type": "markdown",
      "metadata": {
        "id": "Ua4V6_wv8Db_"
      },
      "source": [
        "## Date and time manuplation with pandas\n",
        "\n",
        "Lets first create DataFrame"
      ]
    },
    {
      "cell_type": "code",
      "metadata": {
        "id": "VqFm4WDkBEHW"
      },
      "source": [
        "# Function for genrating random date and time for a range of date\n",
        "\n",
        "from random import randrange\n",
        "from datetime import timedelta\n",
        "\n",
        "def random_date(start, end):\n",
        "    ''' genrating random date '''\n",
        "    delta = end - start\n",
        "    int_delta = (delta.days * 24 * 60 * 60) + delta.seconds\n",
        "    random_second = randrange(int_delta)\n",
        "    return start + timedelta(seconds=random_second)\n"
      ],
      "execution_count": null,
      "outputs": []
    },
    {
      "cell_type": "code",
      "metadata": {
        "colab": {
          "base_uri": "https://localhost:8080/"
        },
        "id": "U5ELi1I86GND",
        "outputId": "9bfe39c3-6a5b-415e-979c-a7e633de16a6"
      },
      "source": [
        "from datetime import datetime\n",
        "d1 = datetime.strptime('1/1/1998 1:30 PM', '%m/%d/%Y %I:%M %p')\n",
        "d2 = datetime.strptime('1/1/2020 4:50 AM', '%m/%d/%Y %I:%M %p')\n",
        "print(random_date(d1, d2))"
      ],
      "execution_count": null,
      "outputs": [
        {
          "output_type": "stream",
          "name": "stdout",
          "text": [
            "2014-06-01 10:50:47\n"
          ]
        }
      ]
    },
    {
      "cell_type": "code",
      "metadata": {
        "id": "0YuPapZK7hxY",
        "colab": {
          "base_uri": "https://localhost:8080/"
        },
        "outputId": "f0640a80-0f54-4271-9ca5-0dfa2b6a1f76"
      },
      "source": [
        "date_time = []\n",
        "for i in range(50):\n",
        "  date_time.append(random_date(d1, d2))\n",
        "date_time"
      ],
      "execution_count": null,
      "outputs": [
        {
          "output_type": "execute_result",
          "data": {
            "text/plain": [
              "[datetime.datetime(2001, 4, 27, 5, 29, 42),\n",
              " datetime.datetime(2003, 11, 11, 23, 59, 17),\n",
              " datetime.datetime(2004, 5, 5, 23, 48, 49),\n",
              " datetime.datetime(2009, 3, 4, 8, 39, 48),\n",
              " datetime.datetime(2004, 8, 25, 13, 58, 48),\n",
              " datetime.datetime(2001, 6, 22, 17, 52, 54),\n",
              " datetime.datetime(2018, 11, 22, 18, 49, 47),\n",
              " datetime.datetime(1999, 10, 24, 1, 53, 37),\n",
              " datetime.datetime(2006, 4, 11, 2, 4, 35),\n",
              " datetime.datetime(2018, 9, 12, 12, 49, 35),\n",
              " datetime.datetime(2016, 3, 8, 14, 36, 29),\n",
              " datetime.datetime(2010, 9, 24, 14, 59, 6),\n",
              " datetime.datetime(2000, 12, 26, 16, 12, 46),\n",
              " datetime.datetime(2013, 12, 30, 22, 51, 2),\n",
              " datetime.datetime(2018, 3, 2, 12, 54, 49),\n",
              " datetime.datetime(1999, 1, 20, 8, 4, 13),\n",
              " datetime.datetime(2000, 2, 2, 5, 40, 35),\n",
              " datetime.datetime(2006, 10, 24, 3, 59, 45),\n",
              " datetime.datetime(1999, 4, 9, 16, 1, 8),\n",
              " datetime.datetime(2003, 5, 2, 19, 1, 35),\n",
              " datetime.datetime(1998, 1, 13, 23, 0, 25),\n",
              " datetime.datetime(2009, 11, 29, 23, 12, 37),\n",
              " datetime.datetime(2011, 5, 2, 15, 51, 59),\n",
              " datetime.datetime(2001, 6, 5, 20, 42, 2),\n",
              " datetime.datetime(2016, 7, 24, 1, 51, 42),\n",
              " datetime.datetime(2019, 8, 28, 21, 31, 10),\n",
              " datetime.datetime(2011, 5, 18, 9, 13, 9),\n",
              " datetime.datetime(2002, 10, 5, 9, 21, 9),\n",
              " datetime.datetime(2018, 10, 17, 14, 25, 11),\n",
              " datetime.datetime(2006, 9, 18, 11, 53, 50),\n",
              " datetime.datetime(2010, 5, 7, 6, 3, 11),\n",
              " datetime.datetime(2002, 12, 26, 18, 56, 53),\n",
              " datetime.datetime(2014, 9, 11, 0, 18),\n",
              " datetime.datetime(1998, 12, 20, 6, 35, 34),\n",
              " datetime.datetime(2013, 4, 25, 16, 51, 21),\n",
              " datetime.datetime(2002, 3, 31, 21, 51, 54),\n",
              " datetime.datetime(2014, 1, 9, 19, 44, 59),\n",
              " datetime.datetime(2006, 7, 3, 19, 32, 14),\n",
              " datetime.datetime(2016, 8, 26, 4, 8, 50),\n",
              " datetime.datetime(2016, 4, 22, 15, 4, 24),\n",
              " datetime.datetime(2007, 2, 28, 14, 0),\n",
              " datetime.datetime(2015, 11, 30, 16, 37, 35),\n",
              " datetime.datetime(2005, 12, 31, 10, 50, 7),\n",
              " datetime.datetime(2008, 1, 26, 17, 56, 18),\n",
              " datetime.datetime(2008, 11, 2, 3, 36, 24),\n",
              " datetime.datetime(2012, 7, 14, 9, 27, 45),\n",
              " datetime.datetime(2018, 7, 5, 17, 14, 58),\n",
              " datetime.datetime(2011, 8, 7, 13, 4, 18),\n",
              " datetime.datetime(2019, 6, 21, 18, 2, 31),\n",
              " datetime.datetime(2009, 11, 2, 5, 38, 19)]"
            ]
          },
          "metadata": {},
          "execution_count": 22
        }
      ]
    },
    {
      "cell_type": "code",
      "metadata": {
        "id": "i8UDhLCF8A7x",
        "colab": {
          "base_uri": "https://localhost:8080/"
        },
        "outputId": "3815830b-5b85-4da0-c984-175d5e35f66d"
      },
      "source": [
        "# genarating random date string format\n",
        "\n",
        "date_time0 = []\n",
        "for i in range(50):\n",
        "  year_month_day = str(randrange(1998,2021)) + '-' + str(randrange(1,12)) + '-' + str(randrange(1,25))\n",
        "  date_time0.append(year_month_day)\n",
        "date_time0"
      ],
      "execution_count": null,
      "outputs": [
        {
          "output_type": "execute_result",
          "data": {
            "text/plain": [
              "['2002-6-21',\n",
              " '2008-10-16',\n",
              " '2014-3-19',\n",
              " '2018-1-18',\n",
              " '2011-4-20',\n",
              " '2014-4-21',\n",
              " '2006-1-17',\n",
              " '2015-9-24',\n",
              " '2008-2-19',\n",
              " '1999-5-16',\n",
              " '1998-10-2',\n",
              " '2005-10-3',\n",
              " '2002-4-2',\n",
              " '2014-8-6',\n",
              " '2004-6-9',\n",
              " '2008-4-14',\n",
              " '2010-10-17',\n",
              " '2018-2-22',\n",
              " '2006-5-12',\n",
              " '2012-9-12',\n",
              " '2003-8-7',\n",
              " '2017-4-1',\n",
              " '2001-3-17',\n",
              " '2013-1-24',\n",
              " '2012-3-17',\n",
              " '1999-10-1',\n",
              " '2004-3-5',\n",
              " '2004-1-12',\n",
              " '2006-7-22',\n",
              " '2001-9-10',\n",
              " '2012-11-22',\n",
              " '2006-2-9',\n",
              " '2004-9-8',\n",
              " '2001-7-3',\n",
              " '2009-2-11',\n",
              " '2006-1-19',\n",
              " '2008-9-7',\n",
              " '2005-4-15',\n",
              " '2002-8-18',\n",
              " '2006-2-9',\n",
              " '2004-1-11',\n",
              " '2002-11-13',\n",
              " '2010-3-16',\n",
              " '2004-2-10',\n",
              " '2020-3-15',\n",
              " '2016-1-17',\n",
              " '2020-10-13',\n",
              " '2003-11-1',\n",
              " '1999-10-1',\n",
              " '2017-10-7']"
            ]
          },
          "metadata": {},
          "execution_count": 26
        }
      ]
    },
    {
      "cell_type": "code",
      "metadata": {
        "id": "I9LBLueF85Po",
        "colab": {
          "base_uri": "https://localhost:8080/"
        },
        "outputId": "87a82bdf-c468-41de-b1dd-156d1b2379a8"
      },
      "source": [
        "# genarating random date time string format\n",
        "\n",
        "date_time1 = []\n",
        "for i in range(50):\n",
        "  year_month_day_hour_min_sec = str(randrange(1998,2021)) + '-' + str(randrange(1,12)) + '-' + str(randrange(1,25)) + ' ' + str(randrange(1,23)) \\\n",
        "  + ':' + str(randrange(0,59)) + ':' + str(randrange(0,59))\n",
        "  date_time1.append(year_month_day_hour_min_sec)\n",
        "date_time1"
      ],
      "execution_count": null,
      "outputs": [
        {
          "output_type": "execute_result",
          "data": {
            "text/plain": [
              "['2001-6-4 9:40:53',\n",
              " '2019-10-1 18:36:16',\n",
              " '2004-5-9 22:45:11',\n",
              " '2002-4-4 20:55:46',\n",
              " '2006-2-21 4:37:9',\n",
              " '2020-2-13 4:15:52',\n",
              " '1998-6-17 18:16:19',\n",
              " '2018-2-19 7:6:1',\n",
              " '2005-11-19 3:39:48',\n",
              " '1999-2-3 8:55:44',\n",
              " '2008-4-21 11:54:0',\n",
              " '1999-10-6 5:16:53',\n",
              " '2014-3-11 19:50:42',\n",
              " '2013-8-3 15:46:7',\n",
              " '2005-8-24 3:47:46',\n",
              " '2014-10-9 13:38:38',\n",
              " '2010-5-18 1:51:50',\n",
              " '2002-3-15 2:7:28',\n",
              " '2012-10-8 10:22:48',\n",
              " '2008-7-2 2:34:26',\n",
              " '2006-4-1 20:48:23',\n",
              " '2011-9-3 20:46:26',\n",
              " '2011-9-8 3:25:33',\n",
              " '2001-3-5 9:11:22',\n",
              " '1999-5-14 2:42:13',\n",
              " '2004-7-16 2:26:0',\n",
              " '2002-10-6 2:15:4',\n",
              " '2015-11-17 22:46:10',\n",
              " '1999-5-21 11:42:3',\n",
              " '2001-9-10 14:8:30',\n",
              " '2015-1-16 8:13:58',\n",
              " '2017-9-20 7:10:33',\n",
              " '2009-1-16 12:30:26',\n",
              " '2011-9-6 12:53:47',\n",
              " '2001-11-20 12:22:53',\n",
              " '2018-3-12 5:32:2',\n",
              " '2007-3-14 12:21:19',\n",
              " '2005-7-3 22:45:18',\n",
              " '2019-10-7 22:34:21',\n",
              " '2016-1-11 2:51:18',\n",
              " '2017-1-20 16:40:30',\n",
              " '2008-9-1 10:32:5',\n",
              " '2020-11-9 22:38:40',\n",
              " '2000-3-19 4:19:11',\n",
              " '2004-5-18 12:53:19',\n",
              " '2015-9-4 3:26:31',\n",
              " '2011-2-3 18:12:6',\n",
              " '2020-11-16 7:10:8',\n",
              " '2009-6-23 21:32:36',\n",
              " '2014-10-9 2:10:45']"
            ]
          },
          "metadata": {},
          "execution_count": 27
        }
      ]
    },
    {
      "cell_type": "markdown",
      "metadata": {
        "id": "VeGfQ6av_L6U"
      },
      "source": [
        "Creating DataFrame"
      ]
    },
    {
      "cell_type": "code",
      "metadata": {
        "id": "di7wChy5_HQj",
        "colab": {
          "base_uri": "https://localhost:8080/",
          "height": 204
        },
        "outputId": "d6a10864-430b-45a1-94a4-07bb7ae131b1"
      },
      "source": [
        "import pandas as pd\n",
        "df = pd.DataFrame(\n",
        "    {'first_col':date_time,'second_col':date_time0,'third_col':date_time1}\n",
        ")\n",
        "df.head()  # for getting first five columns"
      ],
      "execution_count": null,
      "outputs": [
        {
          "output_type": "execute_result",
          "data": {
            "text/html": [
              "<div>\n",
              "<style scoped>\n",
              "    .dataframe tbody tr th:only-of-type {\n",
              "        vertical-align: middle;\n",
              "    }\n",
              "\n",
              "    .dataframe tbody tr th {\n",
              "        vertical-align: top;\n",
              "    }\n",
              "\n",
              "    .dataframe thead th {\n",
              "        text-align: right;\n",
              "    }\n",
              "</style>\n",
              "<table border=\"1\" class=\"dataframe\">\n",
              "  <thead>\n",
              "    <tr style=\"text-align: right;\">\n",
              "      <th></th>\n",
              "      <th>first_col</th>\n",
              "      <th>second_col</th>\n",
              "      <th>third_col</th>\n",
              "    </tr>\n",
              "  </thead>\n",
              "  <tbody>\n",
              "    <tr>\n",
              "      <th>0</th>\n",
              "      <td>2001-04-27 05:29:42</td>\n",
              "      <td>2002-6-21</td>\n",
              "      <td>2001-6-4 9:40:53</td>\n",
              "    </tr>\n",
              "    <tr>\n",
              "      <th>1</th>\n",
              "      <td>2003-11-11 23:59:17</td>\n",
              "      <td>2008-10-16</td>\n",
              "      <td>2019-10-1 18:36:16</td>\n",
              "    </tr>\n",
              "    <tr>\n",
              "      <th>2</th>\n",
              "      <td>2004-05-05 23:48:49</td>\n",
              "      <td>2014-3-19</td>\n",
              "      <td>2004-5-9 22:45:11</td>\n",
              "    </tr>\n",
              "    <tr>\n",
              "      <th>3</th>\n",
              "      <td>2009-03-04 08:39:48</td>\n",
              "      <td>2018-1-18</td>\n",
              "      <td>2002-4-4 20:55:46</td>\n",
              "    </tr>\n",
              "    <tr>\n",
              "      <th>4</th>\n",
              "      <td>2004-08-25 13:58:48</td>\n",
              "      <td>2011-4-20</td>\n",
              "      <td>2006-2-21 4:37:9</td>\n",
              "    </tr>\n",
              "  </tbody>\n",
              "</table>\n",
              "</div>"
            ],
            "text/plain": [
              "            first_col  second_col           third_col\n",
              "0 2001-04-27 05:29:42   2002-6-21    2001-6-4 9:40:53\n",
              "1 2003-11-11 23:59:17  2008-10-16  2019-10-1 18:36:16\n",
              "2 2004-05-05 23:48:49   2014-3-19   2004-5-9 22:45:11\n",
              "3 2009-03-04 08:39:48   2018-1-18   2002-4-4 20:55:46\n",
              "4 2004-08-25 13:58:48   2011-4-20    2006-2-21 4:37:9"
            ]
          },
          "metadata": {},
          "execution_count": 28
        }
      ]
    },
    {
      "cell_type": "code",
      "metadata": {
        "id": "hynP9LUYAS9B",
        "colab": {
          "base_uri": "https://localhost:8080/"
        },
        "outputId": "8fe62965-fe4c-4da6-eb98-dffb968031d8"
      },
      "source": [
        "df.info()  # datatype of each columns"
      ],
      "execution_count": null,
      "outputs": [
        {
          "output_type": "stream",
          "name": "stdout",
          "text": [
            "<class 'pandas.core.frame.DataFrame'>\n",
            "RangeIndex: 50 entries, 0 to 49\n",
            "Data columns (total 3 columns):\n",
            " #   Column      Non-Null Count  Dtype         \n",
            "---  ------      --------------  -----         \n",
            " 0   first_col   50 non-null     datetime64[ns]\n",
            " 1   second_col  50 non-null     object        \n",
            " 2   third_col   50 non-null     object        \n",
            "dtypes: datetime64[ns](1), object(2)\n",
            "memory usage: 1.3+ KB\n"
          ]
        }
      ]
    },
    {
      "cell_type": "code",
      "metadata": {
        "id": "Fc_KLLCPBjOZ",
        "colab": {
          "base_uri": "https://localhost:8080/"
        },
        "outputId": "6b09d901-2530-4796-f8f4-5fed3ec0e6dd"
      },
      "source": [
        "df.dtypes"
      ],
      "execution_count": null,
      "outputs": [
        {
          "output_type": "execute_result",
          "data": {
            "text/plain": [
              "first_col     datetime64[ns]\n",
              "second_col            object\n",
              "third_col             object\n",
              "dtype: object"
            ]
          },
          "metadata": {},
          "execution_count": 30
        }
      ]
    },
    {
      "cell_type": "markdown",
      "metadata": {
        "id": "oj0d1IP0AokL"
      },
      "source": [
        "###Conversion string to date"
      ]
    },
    {
      "cell_type": "code",
      "metadata": {
        "id": "KoNBSXt7AlLm",
        "colab": {
          "base_uri": "https://localhost:8080/",
          "height": 204
        },
        "outputId": "4e089f7d-045b-4f86-e3f4-ba6b4e017ba6"
      },
      "source": [
        "df['new_date'] = pd.to_datetime(df.second_col).dt.date   # it will not going to change datatype it will only going to put into right format\n",
        "df['new_time'] = pd.to_datetime(df.third_col).dt.time\n",
        "df.head()"
      ],
      "execution_count": null,
      "outputs": [
        {
          "output_type": "execute_result",
          "data": {
            "text/html": [
              "<div>\n",
              "<style scoped>\n",
              "    .dataframe tbody tr th:only-of-type {\n",
              "        vertical-align: middle;\n",
              "    }\n",
              "\n",
              "    .dataframe tbody tr th {\n",
              "        vertical-align: top;\n",
              "    }\n",
              "\n",
              "    .dataframe thead th {\n",
              "        text-align: right;\n",
              "    }\n",
              "</style>\n",
              "<table border=\"1\" class=\"dataframe\">\n",
              "  <thead>\n",
              "    <tr style=\"text-align: right;\">\n",
              "      <th></th>\n",
              "      <th>first_col</th>\n",
              "      <th>second_col</th>\n",
              "      <th>third_col</th>\n",
              "      <th>new_date</th>\n",
              "      <th>new_time</th>\n",
              "    </tr>\n",
              "  </thead>\n",
              "  <tbody>\n",
              "    <tr>\n",
              "      <th>0</th>\n",
              "      <td>2001-04-27 05:29:42</td>\n",
              "      <td>2002-6-21</td>\n",
              "      <td>2001-6-4 9:40:53</td>\n",
              "      <td>2002-06-21</td>\n",
              "      <td>09:40:53</td>\n",
              "    </tr>\n",
              "    <tr>\n",
              "      <th>1</th>\n",
              "      <td>2003-11-11 23:59:17</td>\n",
              "      <td>2008-10-16</td>\n",
              "      <td>2019-10-1 18:36:16</td>\n",
              "      <td>2008-10-16</td>\n",
              "      <td>18:36:16</td>\n",
              "    </tr>\n",
              "    <tr>\n",
              "      <th>2</th>\n",
              "      <td>2004-05-05 23:48:49</td>\n",
              "      <td>2014-3-19</td>\n",
              "      <td>2004-5-9 22:45:11</td>\n",
              "      <td>2014-03-19</td>\n",
              "      <td>22:45:11</td>\n",
              "    </tr>\n",
              "    <tr>\n",
              "      <th>3</th>\n",
              "      <td>2009-03-04 08:39:48</td>\n",
              "      <td>2018-1-18</td>\n",
              "      <td>2002-4-4 20:55:46</td>\n",
              "      <td>2018-01-18</td>\n",
              "      <td>20:55:46</td>\n",
              "    </tr>\n",
              "    <tr>\n",
              "      <th>4</th>\n",
              "      <td>2004-08-25 13:58:48</td>\n",
              "      <td>2011-4-20</td>\n",
              "      <td>2006-2-21 4:37:9</td>\n",
              "      <td>2011-04-20</td>\n",
              "      <td>04:37:09</td>\n",
              "    </tr>\n",
              "  </tbody>\n",
              "</table>\n",
              "</div>"
            ],
            "text/plain": [
              "            first_col  second_col           third_col    new_date  new_time\n",
              "0 2001-04-27 05:29:42   2002-6-21    2001-6-4 9:40:53  2002-06-21  09:40:53\n",
              "1 2003-11-11 23:59:17  2008-10-16  2019-10-1 18:36:16  2008-10-16  18:36:16\n",
              "2 2004-05-05 23:48:49   2014-3-19   2004-5-9 22:45:11  2014-03-19  22:45:11\n",
              "3 2009-03-04 08:39:48   2018-1-18   2002-4-4 20:55:46  2018-01-18  20:55:46\n",
              "4 2004-08-25 13:58:48   2011-4-20    2006-2-21 4:37:9  2011-04-20  04:37:09"
            ]
          },
          "metadata": {},
          "execution_count": 31
        }
      ]
    },
    {
      "cell_type": "code",
      "metadata": {
        "id": "4Xetlof_EvCH",
        "colab": {
          "base_uri": "https://localhost:8080/"
        },
        "outputId": "7f11782f-8fd8-49cc-c15a-c710e1826047"
      },
      "source": [
        "df.dtypes"
      ],
      "execution_count": null,
      "outputs": [
        {
          "output_type": "execute_result",
          "data": {
            "text/plain": [
              "first_col     datetime64[ns]\n",
              "second_col            object\n",
              "third_col             object\n",
              "new_date              object\n",
              "new_time              object\n",
              "dtype: object"
            ]
          },
          "metadata": {},
          "execution_count": 32
        }
      ]
    },
    {
      "cell_type": "code",
      "metadata": {
        "id": "NGfCWxaxFdRY"
      },
      "source": [
        "df['date_type'] = pd.to_datetime(df.second_col)   # datatype changed now\n"
      ],
      "execution_count": null,
      "outputs": []
    },
    {
      "cell_type": "code",
      "metadata": {
        "id": "vVuT0GgCFqgg",
        "colab": {
          "base_uri": "https://localhost:8080/"
        },
        "outputId": "86af5c71-9e40-4a91-f7aa-c0837af43727"
      },
      "source": [
        "df.dtypes"
      ],
      "execution_count": null,
      "outputs": [
        {
          "output_type": "execute_result",
          "data": {
            "text/plain": [
              "first_col     datetime64[ns]\n",
              "second_col            object\n",
              "third_col             object\n",
              "new_date              object\n",
              "new_time              object\n",
              "date_type     datetime64[ns]\n",
              "dtype: object"
            ]
          },
          "metadata": {},
          "execution_count": 34
        }
      ]
    },
    {
      "cell_type": "code",
      "metadata": {
        "id": "n8VzEdvMHLGm",
        "colab": {
          "base_uri": "https://localhost:8080/",
          "height": 289
        },
        "outputId": "132c6832-59ef-4be1-cd14-5c45837495e2"
      },
      "source": [
        "df['day'] = pd.to_datetime(df.second_col).dt.day\n",
        "df.head()"
      ],
      "execution_count": null,
      "outputs": [
        {
          "output_type": "execute_result",
          "data": {
            "text/html": [
              "<div>\n",
              "<style scoped>\n",
              "    .dataframe tbody tr th:only-of-type {\n",
              "        vertical-align: middle;\n",
              "    }\n",
              "\n",
              "    .dataframe tbody tr th {\n",
              "        vertical-align: top;\n",
              "    }\n",
              "\n",
              "    .dataframe thead th {\n",
              "        text-align: right;\n",
              "    }\n",
              "</style>\n",
              "<table border=\"1\" class=\"dataframe\">\n",
              "  <thead>\n",
              "    <tr style=\"text-align: right;\">\n",
              "      <th></th>\n",
              "      <th>first_col</th>\n",
              "      <th>second_col</th>\n",
              "      <th>third_col</th>\n",
              "      <th>new_date</th>\n",
              "      <th>new_time</th>\n",
              "      <th>date_type</th>\n",
              "      <th>day</th>\n",
              "    </tr>\n",
              "  </thead>\n",
              "  <tbody>\n",
              "    <tr>\n",
              "      <th>0</th>\n",
              "      <td>2001-04-27 05:29:42</td>\n",
              "      <td>2002-6-21</td>\n",
              "      <td>2001-6-4 9:40:53</td>\n",
              "      <td>2002-06-21</td>\n",
              "      <td>09:40:53</td>\n",
              "      <td>2002-06-21</td>\n",
              "      <td>21</td>\n",
              "    </tr>\n",
              "    <tr>\n",
              "      <th>1</th>\n",
              "      <td>2003-11-11 23:59:17</td>\n",
              "      <td>2008-10-16</td>\n",
              "      <td>2019-10-1 18:36:16</td>\n",
              "      <td>2008-10-16</td>\n",
              "      <td>18:36:16</td>\n",
              "      <td>2008-10-16</td>\n",
              "      <td>16</td>\n",
              "    </tr>\n",
              "    <tr>\n",
              "      <th>2</th>\n",
              "      <td>2004-05-05 23:48:49</td>\n",
              "      <td>2014-3-19</td>\n",
              "      <td>2004-5-9 22:45:11</td>\n",
              "      <td>2014-03-19</td>\n",
              "      <td>22:45:11</td>\n",
              "      <td>2014-03-19</td>\n",
              "      <td>19</td>\n",
              "    </tr>\n",
              "    <tr>\n",
              "      <th>3</th>\n",
              "      <td>2009-03-04 08:39:48</td>\n",
              "      <td>2018-1-18</td>\n",
              "      <td>2002-4-4 20:55:46</td>\n",
              "      <td>2018-01-18</td>\n",
              "      <td>20:55:46</td>\n",
              "      <td>2018-01-18</td>\n",
              "      <td>18</td>\n",
              "    </tr>\n",
              "    <tr>\n",
              "      <th>4</th>\n",
              "      <td>2004-08-25 13:58:48</td>\n",
              "      <td>2011-4-20</td>\n",
              "      <td>2006-2-21 4:37:9</td>\n",
              "      <td>2011-04-20</td>\n",
              "      <td>04:37:09</td>\n",
              "      <td>2011-04-20</td>\n",
              "      <td>20</td>\n",
              "    </tr>\n",
              "  </tbody>\n",
              "</table>\n",
              "</div>"
            ],
            "text/plain": [
              "            first_col  second_col           third_col  ...  new_time  date_type day\n",
              "0 2001-04-27 05:29:42   2002-6-21    2001-6-4 9:40:53  ...  09:40:53 2002-06-21  21\n",
              "1 2003-11-11 23:59:17  2008-10-16  2019-10-1 18:36:16  ...  18:36:16 2008-10-16  16\n",
              "2 2004-05-05 23:48:49   2014-3-19   2004-5-9 22:45:11  ...  22:45:11 2014-03-19  19\n",
              "3 2009-03-04 08:39:48   2018-1-18   2002-4-4 20:55:46  ...  20:55:46 2018-01-18  18\n",
              "4 2004-08-25 13:58:48   2011-4-20    2006-2-21 4:37:9  ...  04:37:09 2011-04-20  20\n",
              "\n",
              "[5 rows x 7 columns]"
            ]
          },
          "metadata": {},
          "execution_count": 35
        }
      ]
    },
    {
      "cell_type": "code",
      "metadata": {
        "id": "y-WYPqnQI8Sb",
        "colab": {
          "base_uri": "https://localhost:8080/"
        },
        "outputId": "4569ee85-27a6-40b0-b23f-28865a4e28ad"
      },
      "source": [
        "pd.to_datetime(df.second_col).dt.day\n",
        "# pd.to_datetime(df.second_col).dt.days_in_month\n",
        "# pd.to_datetime(df.second_col).dt.is_leap_year  # true or false\n",
        "# pd.to_datetime(df.second_col).dt.month\n",
        "# pd.to_datetime(df.second_col).dt.quarter"
      ],
      "execution_count": null,
      "outputs": [
        {
          "output_type": "execute_result",
          "data": {
            "text/plain": [
              "0     21\n",
              "1     16\n",
              "2     19\n",
              "3     18\n",
              "4     20\n",
              "5     21\n",
              "6     17\n",
              "7     24\n",
              "8     19\n",
              "9     16\n",
              "10     2\n",
              "11     3\n",
              "12     2\n",
              "13     6\n",
              "14     9\n",
              "15    14\n",
              "16    17\n",
              "17    22\n",
              "18    12\n",
              "19    12\n",
              "20     7\n",
              "21     1\n",
              "22    17\n",
              "23    24\n",
              "24    17\n",
              "25     1\n",
              "26     5\n",
              "27    12\n",
              "28    22\n",
              "29    10\n",
              "30    22\n",
              "31     9\n",
              "32     8\n",
              "33     3\n",
              "34    11\n",
              "35    19\n",
              "36     7\n",
              "37    15\n",
              "38    18\n",
              "39     9\n",
              "40    11\n",
              "41    13\n",
              "42    16\n",
              "43    10\n",
              "44    15\n",
              "45    17\n",
              "46    13\n",
              "47     1\n",
              "48     1\n",
              "49     7\n",
              "Name: second_col, dtype: int64"
            ]
          },
          "metadata": {},
          "execution_count": 36
        }
      ]
    },
    {
      "cell_type": "code",
      "metadata": {
        "id": "NEJRngh1F8kQ"
      },
      "source": [
        "help(df.date_type.dt)   # to get all the function available with dt"
      ],
      "execution_count": null,
      "outputs": []
    },
    {
      "cell_type": "code",
      "metadata": {
        "id": "Q77uLT3sElTo",
        "colab": {
          "base_uri": "https://localhost:8080/"
        },
        "outputId": "0f76f435-2af2-49cd-fb19-7e3d714c0f2f"
      },
      "source": [
        "# another way\n",
        "\n",
        "pd.to_datetime(df.second_col,format='%Y-%m-%d',errors= 'ignore')"
      ],
      "execution_count": null,
      "outputs": [
        {
          "output_type": "execute_result",
          "data": {
            "text/plain": [
              "0    2002-06-21\n",
              "1    2008-10-16\n",
              "2    2014-03-19\n",
              "3    2018-01-18\n",
              "4    2011-04-20\n",
              "5    2014-04-21\n",
              "6    2006-01-17\n",
              "7    2015-09-24\n",
              "8    2008-02-19\n",
              "9    1999-05-16\n",
              "10   1998-10-02\n",
              "11   2005-10-03\n",
              "12   2002-04-02\n",
              "13   2014-08-06\n",
              "14   2004-06-09\n",
              "15   2008-04-14\n",
              "16   2010-10-17\n",
              "17   2018-02-22\n",
              "18   2006-05-12\n",
              "19   2012-09-12\n",
              "20   2003-08-07\n",
              "21   2017-04-01\n",
              "22   2001-03-17\n",
              "23   2013-01-24\n",
              "24   2012-03-17\n",
              "25   1999-10-01\n",
              "26   2004-03-05\n",
              "27   2004-01-12\n",
              "28   2006-07-22\n",
              "29   2001-09-10\n",
              "30   2012-11-22\n",
              "31   2006-02-09\n",
              "32   2004-09-08\n",
              "33   2001-07-03\n",
              "34   2009-02-11\n",
              "35   2006-01-19\n",
              "36   2008-09-07\n",
              "37   2005-04-15\n",
              "38   2002-08-18\n",
              "39   2006-02-09\n",
              "40   2004-01-11\n",
              "41   2002-11-13\n",
              "42   2010-03-16\n",
              "43   2004-02-10\n",
              "44   2020-03-15\n",
              "45   2016-01-17\n",
              "46   2020-10-13\n",
              "47   2003-11-01\n",
              "48   1999-10-01\n",
              "49   2017-10-07\n",
              "Name: second_col, dtype: datetime64[ns]"
            ]
          },
          "metadata": {},
          "execution_count": 38
        }
      ]
    },
    {
      "cell_type": "code",
      "metadata": {
        "id": "DkYS60vtB7Wp",
        "colab": {
          "base_uri": "https://localhost:8080/"
        },
        "outputId": "44322b3b-db90-41cf-ab9e-0ac32b62f79b"
      },
      "source": [
        "df.dtypes"
      ],
      "execution_count": null,
      "outputs": [
        {
          "output_type": "execute_result",
          "data": {
            "text/plain": [
              "first_col     datetime64[ns]\n",
              "second_col            object\n",
              "third_col             object\n",
              "new_date              object\n",
              "new_time              object\n",
              "date_type     datetime64[ns]\n",
              "day                    int64\n",
              "dtype: object"
            ]
          },
          "metadata": {},
          "execution_count": 39
        }
      ]
    },
    {
      "cell_type": "markdown",
      "metadata": {
        "id": "NRXX_r-YO-qs"
      },
      "source": [
        "And if your columns is in datetime formate then you can do formatting as you want"
      ]
    },
    {
      "cell_type": "code",
      "metadata": {
        "id": "5cjLVy7UOx6t",
        "colab": {
          "base_uri": "https://localhost:8080/"
        },
        "outputId": "990a4138-9a68-4c60-be70-adc9447a48b3"
      },
      "source": [
        "df.first_col.dt.strftime('%d-%m-%Y').head()    # Indian date format"
      ],
      "execution_count": null,
      "outputs": [
        {
          "output_type": "execute_result",
          "data": {
            "text/plain": [
              "0    27-04-2001\n",
              "1    11-11-2003\n",
              "2    05-05-2004\n",
              "3    04-03-2009\n",
              "4    25-08-2004\n",
              "Name: first_col, dtype: object"
            ]
          },
          "metadata": {},
          "execution_count": 40
        }
      ]
    },
    {
      "cell_type": "code",
      "metadata": {
        "id": "SY7C3FcCPkOl",
        "colab": {
          "base_uri": "https://localhost:8080/"
        },
        "outputId": "71bc7907-9748-4af2-89b7-83b1f36e28e1"
      },
      "source": [
        "df.first_col.dt.strftime('%A-%b-%Y').head()"
      ],
      "execution_count": null,
      "outputs": [
        {
          "output_type": "execute_result",
          "data": {
            "text/plain": [
              "0       Friday-Apr-2001\n",
              "1      Tuesday-Nov-2003\n",
              "2    Wednesday-May-2004\n",
              "3    Wednesday-Mar-2009\n",
              "4    Wednesday-Aug-2004\n",
              "Name: first_col, dtype: object"
            ]
          },
          "metadata": {},
          "execution_count": 41
        }
      ]
    },
    {
      "cell_type": "code",
      "metadata": {
        "id": "bgrgEhCmPx8t",
        "colab": {
          "base_uri": "https://localhost:8080/"
        },
        "outputId": "a71c4bb0-bb10-4355-e028-b83463bfb4e7"
      },
      "source": [
        "df.first_col.dt.strftime('%A-%b-%Y %H:%M:%S').head()"
      ],
      "execution_count": null,
      "outputs": [
        {
          "output_type": "execute_result",
          "data": {
            "text/plain": [
              "0       Friday-Apr-2001 05:29:42\n",
              "1      Tuesday-Nov-2003 23:59:17\n",
              "2    Wednesday-May-2004 23:48:49\n",
              "3    Wednesday-Mar-2009 08:39:48\n",
              "4    Wednesday-Aug-2004 13:58:48\n",
              "Name: first_col, dtype: object"
            ]
          },
          "metadata": {},
          "execution_count": 42
        }
      ]
    },
    {
      "cell_type": "code",
      "metadata": {
        "id": "pL8I7YbiP9fv",
        "colab": {
          "base_uri": "https://localhost:8080/"
        },
        "outputId": "0552bae0-6d23-4c83-d089-48f13dcfe947"
      },
      "source": [
        "df.first_col.dt.strftime('Date %D, and Time %T').head()"
      ],
      "execution_count": null,
      "outputs": [
        {
          "output_type": "execute_result",
          "data": {
            "text/plain": [
              "0    Date 04/27/01, and Time 05:29:42\n",
              "1    Date 11/11/03, and Time 23:59:17\n",
              "2    Date 05/05/04, and Time 23:48:49\n",
              "3    Date 03/04/09, and Time 08:39:48\n",
              "4    Date 08/25/04, and Time 13:58:48\n",
              "Name: first_col, dtype: object"
            ]
          },
          "metadata": {},
          "execution_count": 43
        }
      ]
    },
    {
      "cell_type": "markdown",
      "metadata": {
        "id": "Kv8qgZy7QSPz"
      },
      "source": [
        "## Operations"
      ]
    },
    {
      "cell_type": "code",
      "metadata": {
        "id": "ePw2Sdp7QODI",
        "colab": {
          "base_uri": "https://localhost:8080/"
        },
        "outputId": "46fcb0b1-5e7c-46c8-db35-c6f7be9c7c96"
      },
      "source": [
        "# Addition\n",
        "\n",
        "df.first_col + timedelta(days=15, seconds=30, microseconds=0, milliseconds=0, minutes = 150, hours=12 , weeks=0)"
      ],
      "execution_count": null,
      "outputs": [
        {
          "output_type": "execute_result",
          "data": {
            "text/plain": [
              "0    2001-05-12 20:00:12\n",
              "1    2003-11-27 14:29:47\n",
              "2    2004-05-21 14:19:19\n",
              "3    2009-03-19 23:10:18\n",
              "4    2004-09-10 04:29:18\n",
              "5    2001-07-08 08:23:24\n",
              "6    2018-12-08 09:20:17\n",
              "7    1999-11-08 16:24:07\n",
              "8    2006-04-26 16:35:05\n",
              "9    2018-09-28 03:20:05\n",
              "10   2016-03-24 05:06:59\n",
              "11   2010-10-10 05:29:36\n",
              "12   2001-01-11 06:43:16\n",
              "13   2014-01-15 13:21:32\n",
              "14   2018-03-18 03:25:19\n",
              "15   1999-02-04 22:34:43\n",
              "16   2000-02-17 20:11:05\n",
              "17   2006-11-08 18:30:15\n",
              "18   1999-04-25 06:31:38\n",
              "19   2003-05-18 09:32:05\n",
              "20   1998-01-29 13:30:55\n",
              "21   2009-12-15 13:43:07\n",
              "22   2011-05-18 06:22:29\n",
              "23   2001-06-21 11:12:32\n",
              "24   2016-08-08 16:22:12\n",
              "25   2019-09-13 12:01:40\n",
              "26   2011-06-02 23:43:39\n",
              "27   2002-10-20 23:51:39\n",
              "28   2018-11-02 04:55:41\n",
              "29   2006-10-04 02:24:20\n",
              "30   2010-05-22 20:33:41\n",
              "31   2003-01-11 09:27:23\n",
              "32   2014-09-26 14:48:30\n",
              "33   1999-01-04 21:06:04\n",
              "34   2013-05-11 07:21:51\n",
              "35   2002-04-16 12:22:24\n",
              "36   2014-01-25 10:15:29\n",
              "37   2006-07-19 10:02:44\n",
              "38   2016-09-10 18:39:20\n",
              "39   2016-05-08 05:34:54\n",
              "40   2007-03-16 04:30:30\n",
              "41   2015-12-16 07:08:05\n",
              "42   2006-01-16 01:20:37\n",
              "43   2008-02-11 08:26:48\n",
              "44   2008-11-17 18:06:54\n",
              "45   2012-07-29 23:58:15\n",
              "46   2018-07-21 07:45:28\n",
              "47   2011-08-23 03:34:48\n",
              "48   2019-07-07 08:33:01\n",
              "49   2009-11-17 20:08:49\n",
              "Name: first_col, dtype: datetime64[ns]"
            ]
          },
          "metadata": {},
          "execution_count": 44
        }
      ]
    },
    {
      "cell_type": "code",
      "metadata": {
        "id": "Uzfs0A1uRkKT",
        "colab": {
          "base_uri": "https://localhost:8080/"
        },
        "outputId": "eca6f0cd-658b-401b-fa83-7b9b234801ec"
      },
      "source": [
        "# Substraction\n",
        "\n",
        "df.first_col - timedelta(days=15, seconds=30, microseconds=0, milliseconds=0, minutes = 150, hours=12 , weeks=0)"
      ],
      "execution_count": null,
      "outputs": [
        {
          "output_type": "execute_result",
          "data": {
            "text/plain": [
              "0    2001-04-11 14:59:12\n",
              "1    2003-10-27 09:28:47\n",
              "2    2004-04-20 09:18:19\n",
              "3    2009-02-16 18:09:18\n",
              "4    2004-08-09 23:28:18\n",
              "5    2001-06-07 03:22:24\n",
              "6    2018-11-07 04:19:17\n",
              "7    1999-10-08 11:23:07\n",
              "8    2006-03-26 11:34:05\n",
              "9    2018-08-27 22:19:05\n",
              "10   2016-02-22 00:05:59\n",
              "11   2010-09-09 00:28:36\n",
              "12   2000-12-11 01:42:16\n",
              "13   2013-12-15 08:20:32\n",
              "14   2018-02-14 22:24:19\n",
              "15   1999-01-04 17:33:43\n",
              "16   2000-01-17 15:10:05\n",
              "17   2006-10-08 13:29:15\n",
              "18   1999-03-25 01:30:38\n",
              "19   2003-04-17 04:31:05\n",
              "20   1997-12-29 08:29:55\n",
              "21   2009-11-14 08:42:07\n",
              "22   2011-04-17 01:21:29\n",
              "23   2001-05-21 06:11:32\n",
              "24   2016-07-08 11:21:12\n",
              "25   2019-08-13 07:00:40\n",
              "26   2011-05-02 18:42:39\n",
              "27   2002-09-19 18:50:39\n",
              "28   2018-10-01 23:54:41\n",
              "29   2006-09-02 21:23:20\n",
              "30   2010-04-21 15:32:41\n",
              "31   2002-12-11 04:26:23\n",
              "32   2014-08-26 09:47:30\n",
              "33   1998-12-04 16:05:04\n",
              "34   2013-04-10 02:20:51\n",
              "35   2002-03-16 07:21:24\n",
              "36   2013-12-25 05:14:29\n",
              "37   2006-06-18 05:01:44\n",
              "38   2016-08-10 13:38:20\n",
              "39   2016-04-07 00:33:54\n",
              "40   2007-02-12 23:29:30\n",
              "41   2015-11-15 02:07:05\n",
              "42   2005-12-15 20:19:37\n",
              "43   2008-01-11 03:25:48\n",
              "44   2008-10-17 13:05:54\n",
              "45   2012-06-28 18:57:15\n",
              "46   2018-06-20 02:44:28\n",
              "47   2011-07-22 22:33:48\n",
              "48   2019-06-06 03:32:01\n",
              "49   2009-10-17 15:07:49\n",
              "Name: first_col, dtype: datetime64[ns]"
            ]
          },
          "metadata": {},
          "execution_count": 45
        }
      ]
    },
    {
      "cell_type": "code",
      "metadata": {
        "id": "NOB0HSQFRqdD",
        "colab": {
          "base_uri": "https://localhost:8080/",
          "height": 395
        },
        "outputId": "414e1732-2ae5-4bd2-cb88-6cca0c52bcfb"
      },
      "source": [
        "df['year_gap_day'] = datetime.now() - df.first_col\n",
        "df.head()"
      ],
      "execution_count": null,
      "outputs": [
        {
          "output_type": "execute_result",
          "data": {
            "text/html": [
              "<div>\n",
              "<style scoped>\n",
              "    .dataframe tbody tr th:only-of-type {\n",
              "        vertical-align: middle;\n",
              "    }\n",
              "\n",
              "    .dataframe tbody tr th {\n",
              "        vertical-align: top;\n",
              "    }\n",
              "\n",
              "    .dataframe thead th {\n",
              "        text-align: right;\n",
              "    }\n",
              "</style>\n",
              "<table border=\"1\" class=\"dataframe\">\n",
              "  <thead>\n",
              "    <tr style=\"text-align: right;\">\n",
              "      <th></th>\n",
              "      <th>first_col</th>\n",
              "      <th>second_col</th>\n",
              "      <th>third_col</th>\n",
              "      <th>new_date</th>\n",
              "      <th>new_time</th>\n",
              "      <th>date_type</th>\n",
              "      <th>day</th>\n",
              "      <th>year_gap_day</th>\n",
              "    </tr>\n",
              "  </thead>\n",
              "  <tbody>\n",
              "    <tr>\n",
              "      <th>0</th>\n",
              "      <td>2001-04-27 05:29:42</td>\n",
              "      <td>2002-6-21</td>\n",
              "      <td>2001-6-4 9:40:53</td>\n",
              "      <td>2002-06-21</td>\n",
              "      <td>09:40:53</td>\n",
              "      <td>2002-06-21</td>\n",
              "      <td>21</td>\n",
              "      <td>7511 days 06:27:58.051857</td>\n",
              "    </tr>\n",
              "    <tr>\n",
              "      <th>1</th>\n",
              "      <td>2003-11-11 23:59:17</td>\n",
              "      <td>2008-10-16</td>\n",
              "      <td>2019-10-1 18:36:16</td>\n",
              "      <td>2008-10-16</td>\n",
              "      <td>18:36:16</td>\n",
              "      <td>2008-10-16</td>\n",
              "      <td>16</td>\n",
              "      <td>6582 days 11:58:23.051857</td>\n",
              "    </tr>\n",
              "    <tr>\n",
              "      <th>2</th>\n",
              "      <td>2004-05-05 23:48:49</td>\n",
              "      <td>2014-3-19</td>\n",
              "      <td>2004-5-9 22:45:11</td>\n",
              "      <td>2014-03-19</td>\n",
              "      <td>22:45:11</td>\n",
              "      <td>2014-03-19</td>\n",
              "      <td>19</td>\n",
              "      <td>6406 days 12:08:51.051857</td>\n",
              "    </tr>\n",
              "    <tr>\n",
              "      <th>3</th>\n",
              "      <td>2009-03-04 08:39:48</td>\n",
              "      <td>2018-1-18</td>\n",
              "      <td>2002-4-4 20:55:46</td>\n",
              "      <td>2018-01-18</td>\n",
              "      <td>20:55:46</td>\n",
              "      <td>2018-01-18</td>\n",
              "      <td>18</td>\n",
              "      <td>4643 days 03:17:52.051857</td>\n",
              "    </tr>\n",
              "    <tr>\n",
              "      <th>4</th>\n",
              "      <td>2004-08-25 13:58:48</td>\n",
              "      <td>2011-4-20</td>\n",
              "      <td>2006-2-21 4:37:9</td>\n",
              "      <td>2011-04-20</td>\n",
              "      <td>04:37:09</td>\n",
              "      <td>2011-04-20</td>\n",
              "      <td>20</td>\n",
              "      <td>6294 days 21:58:52.051857</td>\n",
              "    </tr>\n",
              "  </tbody>\n",
              "</table>\n",
              "</div>"
            ],
            "text/plain": [
              "            first_col  second_col  ... day              year_gap_day\n",
              "0 2001-04-27 05:29:42   2002-6-21  ...  21 7511 days 06:27:58.051857\n",
              "1 2003-11-11 23:59:17  2008-10-16  ...  16 6582 days 11:58:23.051857\n",
              "2 2004-05-05 23:48:49   2014-3-19  ...  19 6406 days 12:08:51.051857\n",
              "3 2009-03-04 08:39:48   2018-1-18  ...  18 4643 days 03:17:52.051857\n",
              "4 2004-08-25 13:58:48   2011-4-20  ...  20 6294 days 21:58:52.051857\n",
              "\n",
              "[5 rows x 8 columns]"
            ]
          },
          "metadata": {},
          "execution_count": 46
        }
      ]
    },
    {
      "cell_type": "code",
      "metadata": {
        "colab": {
          "base_uri": "https://localhost:8080/"
        },
        "id": "7UE2CKEdD3W8",
        "outputId": "689f16fd-fbd4-4292-eb62-7e60cd522f86"
      },
      "source": [
        "datetime.now()"
      ],
      "execution_count": null,
      "outputs": [
        {
          "output_type": "execute_result",
          "data": {
            "text/plain": [
              "datetime.datetime(2021, 11, 19, 11, 58, 10, 472477)"
            ]
          },
          "metadata": {},
          "execution_count": 48
        }
      ]
    },
    {
      "cell_type": "code",
      "metadata": {
        "id": "aAxww-qjSa1_",
        "colab": {
          "base_uri": "https://localhost:8080/"
        },
        "outputId": "8d5f41ab-3b16-4624-cf90-38bbd93af0e1"
      },
      "source": [
        "df.dtypes"
      ],
      "execution_count": null,
      "outputs": [
        {
          "output_type": "execute_result",
          "data": {
            "text/plain": [
              "first_col        datetime64[ns]\n",
              "second_col               object\n",
              "third_col                object\n",
              "new_date                 object\n",
              "new_time                 object\n",
              "date_type        datetime64[ns]\n",
              "day                       int64\n",
              "year_gap_day    timedelta64[ns]\n",
              "dtype: object"
            ]
          },
          "metadata": {},
          "execution_count": 49
        }
      ]
    },
    {
      "cell_type": "code",
      "metadata": {
        "id": "nnTXUey3SmLC",
        "colab": {
          "base_uri": "https://localhost:8080/"
        },
        "outputId": "b292855a-e4b2-474f-b884-924a9b18841e"
      },
      "source": [
        "df.year_gap_day.dt.to_pytimedelta()   # to get exact value"
      ],
      "execution_count": null,
      "outputs": [
        {
          "output_type": "execute_result",
          "data": {
            "text/plain": [
              "array([datetime.timedelta(days=7511, seconds=23278, microseconds=51857),\n",
              "       datetime.timedelta(days=6582, seconds=43103, microseconds=51857),\n",
              "       datetime.timedelta(days=6406, seconds=43731, microseconds=51857),\n",
              "       datetime.timedelta(days=4643, seconds=11872, microseconds=51857),\n",
              "       datetime.timedelta(days=6294, seconds=79132, microseconds=51857),\n",
              "       datetime.timedelta(days=7454, seconds=65086, microseconds=51857),\n",
              "       datetime.timedelta(days=1092, seconds=61673, microseconds=51857),\n",
              "       datetime.timedelta(days=8062, seconds=36243, microseconds=51857),\n",
              "       datetime.timedelta(days=5701, seconds=35585, microseconds=51857),\n",
              "       datetime.timedelta(days=1163, seconds=83285, microseconds=51857),\n",
              "       datetime.timedelta(days=2081, seconds=76871, microseconds=51857),\n",
              "       datetime.timedelta(days=4073, seconds=75514, microseconds=51857),\n",
              "       datetime.timedelta(days=7632, seconds=71094, microseconds=51857),\n",
              "       datetime.timedelta(days=2880, seconds=47198, microseconds=51857),\n",
              "       datetime.timedelta(days=1357, seconds=82971, microseconds=51857),\n",
              "       datetime.timedelta(days=8339, seconds=14007, microseconds=51857),\n",
              "       datetime.timedelta(days=7961, seconds=22625, microseconds=51857),\n",
              "       datetime.timedelta(days=5505, seconds=28675, microseconds=51857),\n",
              "       datetime.timedelta(days=8259, seconds=71792, microseconds=51857),\n",
              "       datetime.timedelta(days=6775, seconds=60965, microseconds=51857),\n",
              "       datetime.timedelta(days=8710, seconds=46635, microseconds=51857),\n",
              "       datetime.timedelta(days=4372, seconds=45903, microseconds=51857),\n",
              "       datetime.timedelta(days=3853, seconds=72341, microseconds=51857),\n",
              "       datetime.timedelta(days=7471, seconds=54938, microseconds=51857),\n",
              "       datetime.timedelta(days=1944, seconds=36358, microseconds=51857),\n",
              "       datetime.timedelta(days=813, seconds=51990, microseconds=51857),\n",
              "       datetime.timedelta(days=3838, seconds=9871, microseconds=51857),\n",
              "       datetime.timedelta(days=6985, seconds=9391, microseconds=51857),\n",
              "       datetime.timedelta(days=1128, seconds=77549, microseconds=51857),\n",
              "       datetime.timedelta(days=5541, seconds=230, microseconds=51857),\n",
              "       datetime.timedelta(days=4214, seconds=21269, microseconds=51857),\n",
              "       datetime.timedelta(days=6902, seconds=61247, microseconds=51857),\n",
              "       datetime.timedelta(days=2626, seconds=41980, microseconds=51857),\n",
              "       datetime.timedelta(days=8370, seconds=19326, microseconds=51857),\n",
              "       datetime.timedelta(days=3129, seconds=68779, microseconds=51857),\n",
              "       datetime.timedelta(days=7172, seconds=50746, microseconds=51857),\n",
              "       datetime.timedelta(days=2870, seconds=58361, microseconds=51857),\n",
              "       datetime.timedelta(days=5617, seconds=59126, microseconds=51857),\n",
              "       datetime.timedelta(days=1911, seconds=28130, microseconds=51857),\n",
              "       datetime.timedelta(days=2036, seconds=75196, microseconds=51857),\n",
              "       datetime.timedelta(days=5377, seconds=79060, microseconds=51857),\n",
              "       datetime.timedelta(days=2180, seconds=69605, microseconds=51857),\n",
              "       datetime.timedelta(days=5802, seconds=4053, microseconds=51857),\n",
              "       datetime.timedelta(days=5045, seconds=64882, microseconds=51857),\n",
              "       datetime.timedelta(days=4765, seconds=30076, microseconds=51857),\n",
              "       datetime.timedelta(days=3415, seconds=8995, microseconds=51857),\n",
              "       datetime.timedelta(days=1232, seconds=67362, microseconds=51857),\n",
              "       datetime.timedelta(days=3756, seconds=82402, microseconds=51857),\n",
              "       datetime.timedelta(days=881, seconds=64509, microseconds=51857),\n",
              "       datetime.timedelta(days=4400, seconds=22761, microseconds=51857)],\n",
              "      dtype=object)"
            ]
          },
          "metadata": {},
          "execution_count": 50
        }
      ]
    },
    {
      "cell_type": "code",
      "metadata": {
        "id": "iGbb2ywjT8AI",
        "colab": {
          "base_uri": "https://localhost:8080/",
          "height": 395
        },
        "outputId": "f5b001dd-fe85-494f-ee74-8a0e1162cda4"
      },
      "source": [
        "df['year_diff'] = df.first_col.dt.year - df.date_type.dt.year\n",
        "df.head()"
      ],
      "execution_count": null,
      "outputs": [
        {
          "output_type": "execute_result",
          "data": {
            "text/html": [
              "<div>\n",
              "<style scoped>\n",
              "    .dataframe tbody tr th:only-of-type {\n",
              "        vertical-align: middle;\n",
              "    }\n",
              "\n",
              "    .dataframe tbody tr th {\n",
              "        vertical-align: top;\n",
              "    }\n",
              "\n",
              "    .dataframe thead th {\n",
              "        text-align: right;\n",
              "    }\n",
              "</style>\n",
              "<table border=\"1\" class=\"dataframe\">\n",
              "  <thead>\n",
              "    <tr style=\"text-align: right;\">\n",
              "      <th></th>\n",
              "      <th>first_col</th>\n",
              "      <th>second_col</th>\n",
              "      <th>third_col</th>\n",
              "      <th>new_date</th>\n",
              "      <th>new_time</th>\n",
              "      <th>date_type</th>\n",
              "      <th>day</th>\n",
              "      <th>year_gap_day</th>\n",
              "      <th>year_diff</th>\n",
              "    </tr>\n",
              "  </thead>\n",
              "  <tbody>\n",
              "    <tr>\n",
              "      <th>0</th>\n",
              "      <td>2001-04-27 05:29:42</td>\n",
              "      <td>2002-6-21</td>\n",
              "      <td>2001-6-4 9:40:53</td>\n",
              "      <td>2002-06-21</td>\n",
              "      <td>09:40:53</td>\n",
              "      <td>2002-06-21</td>\n",
              "      <td>21</td>\n",
              "      <td>7511 days 06:27:58.051857</td>\n",
              "      <td>-1</td>\n",
              "    </tr>\n",
              "    <tr>\n",
              "      <th>1</th>\n",
              "      <td>2003-11-11 23:59:17</td>\n",
              "      <td>2008-10-16</td>\n",
              "      <td>2019-10-1 18:36:16</td>\n",
              "      <td>2008-10-16</td>\n",
              "      <td>18:36:16</td>\n",
              "      <td>2008-10-16</td>\n",
              "      <td>16</td>\n",
              "      <td>6582 days 11:58:23.051857</td>\n",
              "      <td>-5</td>\n",
              "    </tr>\n",
              "    <tr>\n",
              "      <th>2</th>\n",
              "      <td>2004-05-05 23:48:49</td>\n",
              "      <td>2014-3-19</td>\n",
              "      <td>2004-5-9 22:45:11</td>\n",
              "      <td>2014-03-19</td>\n",
              "      <td>22:45:11</td>\n",
              "      <td>2014-03-19</td>\n",
              "      <td>19</td>\n",
              "      <td>6406 days 12:08:51.051857</td>\n",
              "      <td>-10</td>\n",
              "    </tr>\n",
              "    <tr>\n",
              "      <th>3</th>\n",
              "      <td>2009-03-04 08:39:48</td>\n",
              "      <td>2018-1-18</td>\n",
              "      <td>2002-4-4 20:55:46</td>\n",
              "      <td>2018-01-18</td>\n",
              "      <td>20:55:46</td>\n",
              "      <td>2018-01-18</td>\n",
              "      <td>18</td>\n",
              "      <td>4643 days 03:17:52.051857</td>\n",
              "      <td>-9</td>\n",
              "    </tr>\n",
              "    <tr>\n",
              "      <th>4</th>\n",
              "      <td>2004-08-25 13:58:48</td>\n",
              "      <td>2011-4-20</td>\n",
              "      <td>2006-2-21 4:37:9</td>\n",
              "      <td>2011-04-20</td>\n",
              "      <td>04:37:09</td>\n",
              "      <td>2011-04-20</td>\n",
              "      <td>20</td>\n",
              "      <td>6294 days 21:58:52.051857</td>\n",
              "      <td>-7</td>\n",
              "    </tr>\n",
              "  </tbody>\n",
              "</table>\n",
              "</div>"
            ],
            "text/plain": [
              "            first_col  second_col  ...              year_gap_day year_diff\n",
              "0 2001-04-27 05:29:42   2002-6-21  ... 7511 days 06:27:58.051857        -1\n",
              "1 2003-11-11 23:59:17  2008-10-16  ... 6582 days 11:58:23.051857        -5\n",
              "2 2004-05-05 23:48:49   2014-3-19  ... 6406 days 12:08:51.051857       -10\n",
              "3 2009-03-04 08:39:48   2018-1-18  ... 4643 days 03:17:52.051857        -9\n",
              "4 2004-08-25 13:58:48   2011-4-20  ... 6294 days 21:58:52.051857        -7\n",
              "\n",
              "[5 rows x 9 columns]"
            ]
          },
          "metadata": {},
          "execution_count": 51
        }
      ]
    },
    {
      "cell_type": "code",
      "metadata": {
        "id": "7PBhWlDmUy8s",
        "colab": {
          "base_uri": "https://localhost:8080/",
          "height": 395
        },
        "outputId": "c0b14faa-5660-465e-95f7-03e1f793c3c1"
      },
      "source": [
        "df['month_diff'] = df.first_col.dt.month - df.date_type.dt.month\n",
        "df.head()"
      ],
      "execution_count": null,
      "outputs": [
        {
          "output_type": "execute_result",
          "data": {
            "text/html": [
              "<div>\n",
              "<style scoped>\n",
              "    .dataframe tbody tr th:only-of-type {\n",
              "        vertical-align: middle;\n",
              "    }\n",
              "\n",
              "    .dataframe tbody tr th {\n",
              "        vertical-align: top;\n",
              "    }\n",
              "\n",
              "    .dataframe thead th {\n",
              "        text-align: right;\n",
              "    }\n",
              "</style>\n",
              "<table border=\"1\" class=\"dataframe\">\n",
              "  <thead>\n",
              "    <tr style=\"text-align: right;\">\n",
              "      <th></th>\n",
              "      <th>first_col</th>\n",
              "      <th>second_col</th>\n",
              "      <th>third_col</th>\n",
              "      <th>new_date</th>\n",
              "      <th>new_time</th>\n",
              "      <th>date_type</th>\n",
              "      <th>day</th>\n",
              "      <th>year_gap_day</th>\n",
              "      <th>year_diff</th>\n",
              "      <th>month_diff</th>\n",
              "    </tr>\n",
              "  </thead>\n",
              "  <tbody>\n",
              "    <tr>\n",
              "      <th>0</th>\n",
              "      <td>2001-04-27 05:29:42</td>\n",
              "      <td>2002-6-21</td>\n",
              "      <td>2001-6-4 9:40:53</td>\n",
              "      <td>2002-06-21</td>\n",
              "      <td>09:40:53</td>\n",
              "      <td>2002-06-21</td>\n",
              "      <td>21</td>\n",
              "      <td>7511 days 06:27:58.051857</td>\n",
              "      <td>-1</td>\n",
              "      <td>-2</td>\n",
              "    </tr>\n",
              "    <tr>\n",
              "      <th>1</th>\n",
              "      <td>2003-11-11 23:59:17</td>\n",
              "      <td>2008-10-16</td>\n",
              "      <td>2019-10-1 18:36:16</td>\n",
              "      <td>2008-10-16</td>\n",
              "      <td>18:36:16</td>\n",
              "      <td>2008-10-16</td>\n",
              "      <td>16</td>\n",
              "      <td>6582 days 11:58:23.051857</td>\n",
              "      <td>-5</td>\n",
              "      <td>1</td>\n",
              "    </tr>\n",
              "    <tr>\n",
              "      <th>2</th>\n",
              "      <td>2004-05-05 23:48:49</td>\n",
              "      <td>2014-3-19</td>\n",
              "      <td>2004-5-9 22:45:11</td>\n",
              "      <td>2014-03-19</td>\n",
              "      <td>22:45:11</td>\n",
              "      <td>2014-03-19</td>\n",
              "      <td>19</td>\n",
              "      <td>6406 days 12:08:51.051857</td>\n",
              "      <td>-10</td>\n",
              "      <td>2</td>\n",
              "    </tr>\n",
              "    <tr>\n",
              "      <th>3</th>\n",
              "      <td>2009-03-04 08:39:48</td>\n",
              "      <td>2018-1-18</td>\n",
              "      <td>2002-4-4 20:55:46</td>\n",
              "      <td>2018-01-18</td>\n",
              "      <td>20:55:46</td>\n",
              "      <td>2018-01-18</td>\n",
              "      <td>18</td>\n",
              "      <td>4643 days 03:17:52.051857</td>\n",
              "      <td>-9</td>\n",
              "      <td>2</td>\n",
              "    </tr>\n",
              "    <tr>\n",
              "      <th>4</th>\n",
              "      <td>2004-08-25 13:58:48</td>\n",
              "      <td>2011-4-20</td>\n",
              "      <td>2006-2-21 4:37:9</td>\n",
              "      <td>2011-04-20</td>\n",
              "      <td>04:37:09</td>\n",
              "      <td>2011-04-20</td>\n",
              "      <td>20</td>\n",
              "      <td>6294 days 21:58:52.051857</td>\n",
              "      <td>-7</td>\n",
              "      <td>4</td>\n",
              "    </tr>\n",
              "  </tbody>\n",
              "</table>\n",
              "</div>"
            ],
            "text/plain": [
              "            first_col  second_col  ... year_diff month_diff\n",
              "0 2001-04-27 05:29:42   2002-6-21  ...        -1         -2\n",
              "1 2003-11-11 23:59:17  2008-10-16  ...        -5          1\n",
              "2 2004-05-05 23:48:49   2014-3-19  ...       -10          2\n",
              "3 2009-03-04 08:39:48   2018-1-18  ...        -9          2\n",
              "4 2004-08-25 13:58:48   2011-4-20  ...        -7          4\n",
              "\n",
              "[5 rows x 10 columns]"
            ]
          },
          "metadata": {},
          "execution_count": 52
        }
      ]
    },
    {
      "cell_type": "code",
      "metadata": {
        "id": "eakvOPvyU_eu",
        "colab": {
          "base_uri": "https://localhost:8080/",
          "height": 395
        },
        "outputId": "db74b5bb-120a-4d20-d629-16e2aebefb7f"
      },
      "source": [
        "df['year_gap'] = datetime.strptime('11/18/2021 1:30 PM', '%m/%d/%Y %I:%M %p').year - df.first_col.dt.year\n",
        "df.head()"
      ],
      "execution_count": null,
      "outputs": [
        {
          "output_type": "execute_result",
          "data": {
            "text/html": [
              "<div>\n",
              "<style scoped>\n",
              "    .dataframe tbody tr th:only-of-type {\n",
              "        vertical-align: middle;\n",
              "    }\n",
              "\n",
              "    .dataframe tbody tr th {\n",
              "        vertical-align: top;\n",
              "    }\n",
              "\n",
              "    .dataframe thead th {\n",
              "        text-align: right;\n",
              "    }\n",
              "</style>\n",
              "<table border=\"1\" class=\"dataframe\">\n",
              "  <thead>\n",
              "    <tr style=\"text-align: right;\">\n",
              "      <th></th>\n",
              "      <th>first_col</th>\n",
              "      <th>second_col</th>\n",
              "      <th>third_col</th>\n",
              "      <th>new_date</th>\n",
              "      <th>new_time</th>\n",
              "      <th>date_type</th>\n",
              "      <th>day</th>\n",
              "      <th>year_gap_day</th>\n",
              "      <th>year_diff</th>\n",
              "      <th>month_diff</th>\n",
              "      <th>year_gap</th>\n",
              "    </tr>\n",
              "  </thead>\n",
              "  <tbody>\n",
              "    <tr>\n",
              "      <th>0</th>\n",
              "      <td>2001-04-27 05:29:42</td>\n",
              "      <td>2002-6-21</td>\n",
              "      <td>2001-6-4 9:40:53</td>\n",
              "      <td>2002-06-21</td>\n",
              "      <td>09:40:53</td>\n",
              "      <td>2002-06-21</td>\n",
              "      <td>21</td>\n",
              "      <td>7511 days 06:27:58.051857</td>\n",
              "      <td>-1</td>\n",
              "      <td>-2</td>\n",
              "      <td>20</td>\n",
              "    </tr>\n",
              "    <tr>\n",
              "      <th>1</th>\n",
              "      <td>2003-11-11 23:59:17</td>\n",
              "      <td>2008-10-16</td>\n",
              "      <td>2019-10-1 18:36:16</td>\n",
              "      <td>2008-10-16</td>\n",
              "      <td>18:36:16</td>\n",
              "      <td>2008-10-16</td>\n",
              "      <td>16</td>\n",
              "      <td>6582 days 11:58:23.051857</td>\n",
              "      <td>-5</td>\n",
              "      <td>1</td>\n",
              "      <td>18</td>\n",
              "    </tr>\n",
              "    <tr>\n",
              "      <th>2</th>\n",
              "      <td>2004-05-05 23:48:49</td>\n",
              "      <td>2014-3-19</td>\n",
              "      <td>2004-5-9 22:45:11</td>\n",
              "      <td>2014-03-19</td>\n",
              "      <td>22:45:11</td>\n",
              "      <td>2014-03-19</td>\n",
              "      <td>19</td>\n",
              "      <td>6406 days 12:08:51.051857</td>\n",
              "      <td>-10</td>\n",
              "      <td>2</td>\n",
              "      <td>17</td>\n",
              "    </tr>\n",
              "    <tr>\n",
              "      <th>3</th>\n",
              "      <td>2009-03-04 08:39:48</td>\n",
              "      <td>2018-1-18</td>\n",
              "      <td>2002-4-4 20:55:46</td>\n",
              "      <td>2018-01-18</td>\n",
              "      <td>20:55:46</td>\n",
              "      <td>2018-01-18</td>\n",
              "      <td>18</td>\n",
              "      <td>4643 days 03:17:52.051857</td>\n",
              "      <td>-9</td>\n",
              "      <td>2</td>\n",
              "      <td>12</td>\n",
              "    </tr>\n",
              "    <tr>\n",
              "      <th>4</th>\n",
              "      <td>2004-08-25 13:58:48</td>\n",
              "      <td>2011-4-20</td>\n",
              "      <td>2006-2-21 4:37:9</td>\n",
              "      <td>2011-04-20</td>\n",
              "      <td>04:37:09</td>\n",
              "      <td>2011-04-20</td>\n",
              "      <td>20</td>\n",
              "      <td>6294 days 21:58:52.051857</td>\n",
              "      <td>-7</td>\n",
              "      <td>4</td>\n",
              "      <td>17</td>\n",
              "    </tr>\n",
              "  </tbody>\n",
              "</table>\n",
              "</div>"
            ],
            "text/plain": [
              "            first_col  second_col  ... month_diff year_gap\n",
              "0 2001-04-27 05:29:42   2002-6-21  ...         -2       20\n",
              "1 2003-11-11 23:59:17  2008-10-16  ...          1       18\n",
              "2 2004-05-05 23:48:49   2014-3-19  ...          2       17\n",
              "3 2009-03-04 08:39:48   2018-1-18  ...          2       12\n",
              "4 2004-08-25 13:58:48   2011-4-20  ...          4       17\n",
              "\n",
              "[5 rows x 11 columns]"
            ]
          },
          "metadata": {},
          "execution_count": 53
        }
      ]
    },
    {
      "cell_type": "markdown",
      "metadata": {
        "id": "I6Y6Od0YTN3J"
      },
      "source": [
        "# Sorting"
      ]
    },
    {
      "cell_type": "code",
      "metadata": {
        "id": "SUxbrLSwQgAu",
        "colab": {
          "base_uri": "https://localhost:8080/",
          "height": 395
        },
        "outputId": "332da6a1-3379-40a9-e948-2468fdda9350"
      },
      "source": [
        "df.head()"
      ],
      "execution_count": null,
      "outputs": [
        {
          "output_type": "execute_result",
          "data": {
            "text/html": [
              "<div>\n",
              "<style scoped>\n",
              "    .dataframe tbody tr th:only-of-type {\n",
              "        vertical-align: middle;\n",
              "    }\n",
              "\n",
              "    .dataframe tbody tr th {\n",
              "        vertical-align: top;\n",
              "    }\n",
              "\n",
              "    .dataframe thead th {\n",
              "        text-align: right;\n",
              "    }\n",
              "</style>\n",
              "<table border=\"1\" class=\"dataframe\">\n",
              "  <thead>\n",
              "    <tr style=\"text-align: right;\">\n",
              "      <th></th>\n",
              "      <th>first_col</th>\n",
              "      <th>second_col</th>\n",
              "      <th>third_col</th>\n",
              "      <th>new_date</th>\n",
              "      <th>new_time</th>\n",
              "      <th>date_type</th>\n",
              "      <th>day</th>\n",
              "      <th>year_gap_day</th>\n",
              "      <th>year_diff</th>\n",
              "      <th>month_diff</th>\n",
              "      <th>year_gap</th>\n",
              "    </tr>\n",
              "  </thead>\n",
              "  <tbody>\n",
              "    <tr>\n",
              "      <th>0</th>\n",
              "      <td>2001-04-27 05:29:42</td>\n",
              "      <td>2002-6-21</td>\n",
              "      <td>2001-6-4 9:40:53</td>\n",
              "      <td>2002-06-21</td>\n",
              "      <td>09:40:53</td>\n",
              "      <td>2002-06-21</td>\n",
              "      <td>21</td>\n",
              "      <td>7511 days 06:27:58.051857</td>\n",
              "      <td>-1</td>\n",
              "      <td>-2</td>\n",
              "      <td>20</td>\n",
              "    </tr>\n",
              "    <tr>\n",
              "      <th>1</th>\n",
              "      <td>2003-11-11 23:59:17</td>\n",
              "      <td>2008-10-16</td>\n",
              "      <td>2019-10-1 18:36:16</td>\n",
              "      <td>2008-10-16</td>\n",
              "      <td>18:36:16</td>\n",
              "      <td>2008-10-16</td>\n",
              "      <td>16</td>\n",
              "      <td>6582 days 11:58:23.051857</td>\n",
              "      <td>-5</td>\n",
              "      <td>1</td>\n",
              "      <td>18</td>\n",
              "    </tr>\n",
              "    <tr>\n",
              "      <th>2</th>\n",
              "      <td>2004-05-05 23:48:49</td>\n",
              "      <td>2014-3-19</td>\n",
              "      <td>2004-5-9 22:45:11</td>\n",
              "      <td>2014-03-19</td>\n",
              "      <td>22:45:11</td>\n",
              "      <td>2014-03-19</td>\n",
              "      <td>19</td>\n",
              "      <td>6406 days 12:08:51.051857</td>\n",
              "      <td>-10</td>\n",
              "      <td>2</td>\n",
              "      <td>17</td>\n",
              "    </tr>\n",
              "    <tr>\n",
              "      <th>3</th>\n",
              "      <td>2009-03-04 08:39:48</td>\n",
              "      <td>2018-1-18</td>\n",
              "      <td>2002-4-4 20:55:46</td>\n",
              "      <td>2018-01-18</td>\n",
              "      <td>20:55:46</td>\n",
              "      <td>2018-01-18</td>\n",
              "      <td>18</td>\n",
              "      <td>4643 days 03:17:52.051857</td>\n",
              "      <td>-9</td>\n",
              "      <td>2</td>\n",
              "      <td>12</td>\n",
              "    </tr>\n",
              "    <tr>\n",
              "      <th>4</th>\n",
              "      <td>2004-08-25 13:58:48</td>\n",
              "      <td>2011-4-20</td>\n",
              "      <td>2006-2-21 4:37:9</td>\n",
              "      <td>2011-04-20</td>\n",
              "      <td>04:37:09</td>\n",
              "      <td>2011-04-20</td>\n",
              "      <td>20</td>\n",
              "      <td>6294 days 21:58:52.051857</td>\n",
              "      <td>-7</td>\n",
              "      <td>4</td>\n",
              "      <td>17</td>\n",
              "    </tr>\n",
              "  </tbody>\n",
              "</table>\n",
              "</div>"
            ],
            "text/plain": [
              "            first_col  second_col  ... month_diff year_gap\n",
              "0 2001-04-27 05:29:42   2002-6-21  ...         -2       20\n",
              "1 2003-11-11 23:59:17  2008-10-16  ...          1       18\n",
              "2 2004-05-05 23:48:49   2014-3-19  ...          2       17\n",
              "3 2009-03-04 08:39:48   2018-1-18  ...          2       12\n",
              "4 2004-08-25 13:58:48   2011-4-20  ...          4       17\n",
              "\n",
              "[5 rows x 11 columns]"
            ]
          },
          "metadata": {},
          "execution_count": 54
        }
      ]
    },
    {
      "cell_type": "code",
      "metadata": {
        "id": "JYL_jXl_SOn3",
        "colab": {
          "base_uri": "https://localhost:8080/",
          "height": 721
        },
        "outputId": "eaca8e14-c0ef-4949-d059-c4c906107e58"
      },
      "source": [
        "df.sort_values(by=[\"first_col\"], inplace = False).head(10)"
      ],
      "execution_count": null,
      "outputs": [
        {
          "output_type": "execute_result",
          "data": {
            "text/html": [
              "<div>\n",
              "<style scoped>\n",
              "    .dataframe tbody tr th:only-of-type {\n",
              "        vertical-align: middle;\n",
              "    }\n",
              "\n",
              "    .dataframe tbody tr th {\n",
              "        vertical-align: top;\n",
              "    }\n",
              "\n",
              "    .dataframe thead th {\n",
              "        text-align: right;\n",
              "    }\n",
              "</style>\n",
              "<table border=\"1\" class=\"dataframe\">\n",
              "  <thead>\n",
              "    <tr style=\"text-align: right;\">\n",
              "      <th></th>\n",
              "      <th>first_col</th>\n",
              "      <th>second_col</th>\n",
              "      <th>third_col</th>\n",
              "      <th>new_date</th>\n",
              "      <th>new_time</th>\n",
              "      <th>date_type</th>\n",
              "      <th>day</th>\n",
              "      <th>year_gap_day</th>\n",
              "      <th>year_diff</th>\n",
              "      <th>month_diff</th>\n",
              "      <th>year_gap</th>\n",
              "    </tr>\n",
              "  </thead>\n",
              "  <tbody>\n",
              "    <tr>\n",
              "      <th>20</th>\n",
              "      <td>1998-01-13 23:00:25</td>\n",
              "      <td>2003-8-7</td>\n",
              "      <td>2006-4-1 20:48:23</td>\n",
              "      <td>2003-08-07</td>\n",
              "      <td>20:48:23</td>\n",
              "      <td>2003-08-07</td>\n",
              "      <td>7</td>\n",
              "      <td>8710 days 12:57:15.051857</td>\n",
              "      <td>-5</td>\n",
              "      <td>-7</td>\n",
              "      <td>23</td>\n",
              "    </tr>\n",
              "    <tr>\n",
              "      <th>33</th>\n",
              "      <td>1998-12-20 06:35:34</td>\n",
              "      <td>2001-7-3</td>\n",
              "      <td>2011-9-6 12:53:47</td>\n",
              "      <td>2001-07-03</td>\n",
              "      <td>12:53:47</td>\n",
              "      <td>2001-07-03</td>\n",
              "      <td>3</td>\n",
              "      <td>8370 days 05:22:06.051857</td>\n",
              "      <td>-3</td>\n",
              "      <td>5</td>\n",
              "      <td>23</td>\n",
              "    </tr>\n",
              "    <tr>\n",
              "      <th>15</th>\n",
              "      <td>1999-01-20 08:04:13</td>\n",
              "      <td>2008-4-14</td>\n",
              "      <td>2014-10-9 13:38:38</td>\n",
              "      <td>2008-04-14</td>\n",
              "      <td>13:38:38</td>\n",
              "      <td>2008-04-14</td>\n",
              "      <td>14</td>\n",
              "      <td>8339 days 03:53:27.051857</td>\n",
              "      <td>-9</td>\n",
              "      <td>-3</td>\n",
              "      <td>22</td>\n",
              "    </tr>\n",
              "    <tr>\n",
              "      <th>18</th>\n",
              "      <td>1999-04-09 16:01:08</td>\n",
              "      <td>2006-5-12</td>\n",
              "      <td>2012-10-8 10:22:48</td>\n",
              "      <td>2006-05-12</td>\n",
              "      <td>10:22:48</td>\n",
              "      <td>2006-05-12</td>\n",
              "      <td>12</td>\n",
              "      <td>8259 days 19:56:32.051857</td>\n",
              "      <td>-7</td>\n",
              "      <td>-1</td>\n",
              "      <td>22</td>\n",
              "    </tr>\n",
              "    <tr>\n",
              "      <th>7</th>\n",
              "      <td>1999-10-24 01:53:37</td>\n",
              "      <td>2015-9-24</td>\n",
              "      <td>2018-2-19 7:6:1</td>\n",
              "      <td>2015-09-24</td>\n",
              "      <td>07:06:01</td>\n",
              "      <td>2015-09-24</td>\n",
              "      <td>24</td>\n",
              "      <td>8062 days 10:04:03.051857</td>\n",
              "      <td>-16</td>\n",
              "      <td>1</td>\n",
              "      <td>22</td>\n",
              "    </tr>\n",
              "    <tr>\n",
              "      <th>16</th>\n",
              "      <td>2000-02-02 05:40:35</td>\n",
              "      <td>2010-10-17</td>\n",
              "      <td>2010-5-18 1:51:50</td>\n",
              "      <td>2010-10-17</td>\n",
              "      <td>01:51:50</td>\n",
              "      <td>2010-10-17</td>\n",
              "      <td>17</td>\n",
              "      <td>7961 days 06:17:05.051857</td>\n",
              "      <td>-10</td>\n",
              "      <td>-8</td>\n",
              "      <td>21</td>\n",
              "    </tr>\n",
              "    <tr>\n",
              "      <th>12</th>\n",
              "      <td>2000-12-26 16:12:46</td>\n",
              "      <td>2002-4-2</td>\n",
              "      <td>2014-3-11 19:50:42</td>\n",
              "      <td>2002-04-02</td>\n",
              "      <td>19:50:42</td>\n",
              "      <td>2002-04-02</td>\n",
              "      <td>2</td>\n",
              "      <td>7632 days 19:44:54.051857</td>\n",
              "      <td>-2</td>\n",
              "      <td>8</td>\n",
              "      <td>21</td>\n",
              "    </tr>\n",
              "    <tr>\n",
              "      <th>0</th>\n",
              "      <td>2001-04-27 05:29:42</td>\n",
              "      <td>2002-6-21</td>\n",
              "      <td>2001-6-4 9:40:53</td>\n",
              "      <td>2002-06-21</td>\n",
              "      <td>09:40:53</td>\n",
              "      <td>2002-06-21</td>\n",
              "      <td>21</td>\n",
              "      <td>7511 days 06:27:58.051857</td>\n",
              "      <td>-1</td>\n",
              "      <td>-2</td>\n",
              "      <td>20</td>\n",
              "    </tr>\n",
              "    <tr>\n",
              "      <th>23</th>\n",
              "      <td>2001-06-05 20:42:02</td>\n",
              "      <td>2013-1-24</td>\n",
              "      <td>2001-3-5 9:11:22</td>\n",
              "      <td>2013-01-24</td>\n",
              "      <td>09:11:22</td>\n",
              "      <td>2013-01-24</td>\n",
              "      <td>24</td>\n",
              "      <td>7471 days 15:15:38.051857</td>\n",
              "      <td>-12</td>\n",
              "      <td>5</td>\n",
              "      <td>20</td>\n",
              "    </tr>\n",
              "    <tr>\n",
              "      <th>5</th>\n",
              "      <td>2001-06-22 17:52:54</td>\n",
              "      <td>2014-4-21</td>\n",
              "      <td>2020-2-13 4:15:52</td>\n",
              "      <td>2014-04-21</td>\n",
              "      <td>04:15:52</td>\n",
              "      <td>2014-04-21</td>\n",
              "      <td>21</td>\n",
              "      <td>7454 days 18:04:46.051857</td>\n",
              "      <td>-13</td>\n",
              "      <td>2</td>\n",
              "      <td>20</td>\n",
              "    </tr>\n",
              "  </tbody>\n",
              "</table>\n",
              "</div>"
            ],
            "text/plain": [
              "             first_col  second_col  ... month_diff year_gap\n",
              "20 1998-01-13 23:00:25    2003-8-7  ...         -7       23\n",
              "33 1998-12-20 06:35:34    2001-7-3  ...          5       23\n",
              "15 1999-01-20 08:04:13   2008-4-14  ...         -3       22\n",
              "18 1999-04-09 16:01:08   2006-5-12  ...         -1       22\n",
              "7  1999-10-24 01:53:37   2015-9-24  ...          1       22\n",
              "16 2000-02-02 05:40:35  2010-10-17  ...         -8       21\n",
              "12 2000-12-26 16:12:46    2002-4-2  ...          8       21\n",
              "0  2001-04-27 05:29:42   2002-6-21  ...         -2       20\n",
              "23 2001-06-05 20:42:02   2013-1-24  ...          5       20\n",
              "5  2001-06-22 17:52:54   2014-4-21  ...          2       20\n",
              "\n",
              "[10 rows x 11 columns]"
            ]
          },
          "metadata": {},
          "execution_count": 55
        }
      ]
    },
    {
      "cell_type": "code",
      "metadata": {
        "id": "itsXkzpwSjBD",
        "colab": {
          "base_uri": "https://localhost:8080/",
          "height": 721
        },
        "outputId": "9d946614-604e-44c8-e07d-b21b65e056c6"
      },
      "source": [
        "df.sort_values(by=[\"first_col\"], inplace = False, ascending=False, kind='quicksort').head(10)"
      ],
      "execution_count": null,
      "outputs": [
        {
          "output_type": "execute_result",
          "data": {
            "text/html": [
              "<div>\n",
              "<style scoped>\n",
              "    .dataframe tbody tr th:only-of-type {\n",
              "        vertical-align: middle;\n",
              "    }\n",
              "\n",
              "    .dataframe tbody tr th {\n",
              "        vertical-align: top;\n",
              "    }\n",
              "\n",
              "    .dataframe thead th {\n",
              "        text-align: right;\n",
              "    }\n",
              "</style>\n",
              "<table border=\"1\" class=\"dataframe\">\n",
              "  <thead>\n",
              "    <tr style=\"text-align: right;\">\n",
              "      <th></th>\n",
              "      <th>first_col</th>\n",
              "      <th>second_col</th>\n",
              "      <th>third_col</th>\n",
              "      <th>new_date</th>\n",
              "      <th>new_time</th>\n",
              "      <th>date_type</th>\n",
              "      <th>day</th>\n",
              "      <th>year_gap_day</th>\n",
              "      <th>year_diff</th>\n",
              "      <th>month_diff</th>\n",
              "      <th>year_gap</th>\n",
              "    </tr>\n",
              "  </thead>\n",
              "  <tbody>\n",
              "    <tr>\n",
              "      <th>25</th>\n",
              "      <td>2019-08-28 21:31:10</td>\n",
              "      <td>1999-10-1</td>\n",
              "      <td>2004-7-16 2:26:0</td>\n",
              "      <td>1999-10-01</td>\n",
              "      <td>02:26:00</td>\n",
              "      <td>1999-10-01</td>\n",
              "      <td>1</td>\n",
              "      <td>813 days 14:26:30.051857</td>\n",
              "      <td>20</td>\n",
              "      <td>-2</td>\n",
              "      <td>2</td>\n",
              "    </tr>\n",
              "    <tr>\n",
              "      <th>48</th>\n",
              "      <td>2019-06-21 18:02:31</td>\n",
              "      <td>1999-10-1</td>\n",
              "      <td>2009-6-23 21:32:36</td>\n",
              "      <td>1999-10-01</td>\n",
              "      <td>21:32:36</td>\n",
              "      <td>1999-10-01</td>\n",
              "      <td>1</td>\n",
              "      <td>881 days 17:55:09.051857</td>\n",
              "      <td>20</td>\n",
              "      <td>-4</td>\n",
              "      <td>2</td>\n",
              "    </tr>\n",
              "    <tr>\n",
              "      <th>6</th>\n",
              "      <td>2018-11-22 18:49:47</td>\n",
              "      <td>2006-1-17</td>\n",
              "      <td>1998-6-17 18:16:19</td>\n",
              "      <td>2006-01-17</td>\n",
              "      <td>18:16:19</td>\n",
              "      <td>2006-01-17</td>\n",
              "      <td>17</td>\n",
              "      <td>1092 days 17:07:53.051857</td>\n",
              "      <td>12</td>\n",
              "      <td>10</td>\n",
              "      <td>3</td>\n",
              "    </tr>\n",
              "    <tr>\n",
              "      <th>28</th>\n",
              "      <td>2018-10-17 14:25:11</td>\n",
              "      <td>2006-7-22</td>\n",
              "      <td>1999-5-21 11:42:3</td>\n",
              "      <td>2006-07-22</td>\n",
              "      <td>11:42:03</td>\n",
              "      <td>2006-07-22</td>\n",
              "      <td>22</td>\n",
              "      <td>1128 days 21:32:29.051857</td>\n",
              "      <td>12</td>\n",
              "      <td>3</td>\n",
              "      <td>3</td>\n",
              "    </tr>\n",
              "    <tr>\n",
              "      <th>9</th>\n",
              "      <td>2018-09-12 12:49:35</td>\n",
              "      <td>1999-5-16</td>\n",
              "      <td>1999-2-3 8:55:44</td>\n",
              "      <td>1999-05-16</td>\n",
              "      <td>08:55:44</td>\n",
              "      <td>1999-05-16</td>\n",
              "      <td>16</td>\n",
              "      <td>1163 days 23:08:05.051857</td>\n",
              "      <td>19</td>\n",
              "      <td>4</td>\n",
              "      <td>3</td>\n",
              "    </tr>\n",
              "    <tr>\n",
              "      <th>46</th>\n",
              "      <td>2018-07-05 17:14:58</td>\n",
              "      <td>2020-10-13</td>\n",
              "      <td>2011-2-3 18:12:6</td>\n",
              "      <td>2020-10-13</td>\n",
              "      <td>18:12:06</td>\n",
              "      <td>2020-10-13</td>\n",
              "      <td>13</td>\n",
              "      <td>1232 days 18:42:42.051857</td>\n",
              "      <td>-2</td>\n",
              "      <td>-3</td>\n",
              "      <td>3</td>\n",
              "    </tr>\n",
              "    <tr>\n",
              "      <th>14</th>\n",
              "      <td>2018-03-02 12:54:49</td>\n",
              "      <td>2004-6-9</td>\n",
              "      <td>2005-8-24 3:47:46</td>\n",
              "      <td>2004-06-09</td>\n",
              "      <td>03:47:46</td>\n",
              "      <td>2004-06-09</td>\n",
              "      <td>9</td>\n",
              "      <td>1357 days 23:02:51.051857</td>\n",
              "      <td>14</td>\n",
              "      <td>-3</td>\n",
              "      <td>3</td>\n",
              "    </tr>\n",
              "    <tr>\n",
              "      <th>38</th>\n",
              "      <td>2016-08-26 04:08:50</td>\n",
              "      <td>2002-8-18</td>\n",
              "      <td>2019-10-7 22:34:21</td>\n",
              "      <td>2002-08-18</td>\n",
              "      <td>22:34:21</td>\n",
              "      <td>2002-08-18</td>\n",
              "      <td>18</td>\n",
              "      <td>1911 days 07:48:50.051857</td>\n",
              "      <td>14</td>\n",
              "      <td>0</td>\n",
              "      <td>5</td>\n",
              "    </tr>\n",
              "    <tr>\n",
              "      <th>24</th>\n",
              "      <td>2016-07-24 01:51:42</td>\n",
              "      <td>2012-3-17</td>\n",
              "      <td>1999-5-14 2:42:13</td>\n",
              "      <td>2012-03-17</td>\n",
              "      <td>02:42:13</td>\n",
              "      <td>2012-03-17</td>\n",
              "      <td>17</td>\n",
              "      <td>1944 days 10:05:58.051857</td>\n",
              "      <td>4</td>\n",
              "      <td>4</td>\n",
              "      <td>5</td>\n",
              "    </tr>\n",
              "    <tr>\n",
              "      <th>39</th>\n",
              "      <td>2016-04-22 15:04:24</td>\n",
              "      <td>2006-2-9</td>\n",
              "      <td>2016-1-11 2:51:18</td>\n",
              "      <td>2006-02-09</td>\n",
              "      <td>02:51:18</td>\n",
              "      <td>2006-02-09</td>\n",
              "      <td>9</td>\n",
              "      <td>2036 days 20:53:16.051857</td>\n",
              "      <td>10</td>\n",
              "      <td>2</td>\n",
              "      <td>5</td>\n",
              "    </tr>\n",
              "  </tbody>\n",
              "</table>\n",
              "</div>"
            ],
            "text/plain": [
              "             first_col  second_col  ... month_diff year_gap\n",
              "25 2019-08-28 21:31:10   1999-10-1  ...         -2        2\n",
              "48 2019-06-21 18:02:31   1999-10-1  ...         -4        2\n",
              "6  2018-11-22 18:49:47   2006-1-17  ...         10        3\n",
              "28 2018-10-17 14:25:11   2006-7-22  ...          3        3\n",
              "9  2018-09-12 12:49:35   1999-5-16  ...          4        3\n",
              "46 2018-07-05 17:14:58  2020-10-13  ...         -3        3\n",
              "14 2018-03-02 12:54:49    2004-6-9  ...         -3        3\n",
              "38 2016-08-26 04:08:50   2002-8-18  ...          0        5\n",
              "24 2016-07-24 01:51:42   2012-3-17  ...          4        5\n",
              "39 2016-04-22 15:04:24    2006-2-9  ...          2        5\n",
              "\n",
              "[10 rows x 11 columns]"
            ]
          },
          "metadata": {},
          "execution_count": 57
        }
      ]
    },
    {
      "cell_type": "code",
      "metadata": {
        "id": "_Xpu1vydS0Zi",
        "colab": {
          "base_uri": "https://localhost:8080/",
          "height": 721
        },
        "outputId": "7cce661d-d22a-4a57-ed12-0db0aef288ed"
      },
      "source": [
        "# Multiple columns for sorting but priority will be more to the first then second and so on\n",
        "\n",
        "df.sort_values(by=[\"first_col\",'date_type'], inplace = False, ascending=True).head(10)"
      ],
      "execution_count": null,
      "outputs": [
        {
          "output_type": "execute_result",
          "data": {
            "text/html": [
              "<div>\n",
              "<style scoped>\n",
              "    .dataframe tbody tr th:only-of-type {\n",
              "        vertical-align: middle;\n",
              "    }\n",
              "\n",
              "    .dataframe tbody tr th {\n",
              "        vertical-align: top;\n",
              "    }\n",
              "\n",
              "    .dataframe thead th {\n",
              "        text-align: right;\n",
              "    }\n",
              "</style>\n",
              "<table border=\"1\" class=\"dataframe\">\n",
              "  <thead>\n",
              "    <tr style=\"text-align: right;\">\n",
              "      <th></th>\n",
              "      <th>first_col</th>\n",
              "      <th>second_col</th>\n",
              "      <th>third_col</th>\n",
              "      <th>new_date</th>\n",
              "      <th>new_time</th>\n",
              "      <th>date_type</th>\n",
              "      <th>day</th>\n",
              "      <th>year_gap_day</th>\n",
              "      <th>year_diff</th>\n",
              "      <th>month_diff</th>\n",
              "      <th>year_gap</th>\n",
              "    </tr>\n",
              "  </thead>\n",
              "  <tbody>\n",
              "    <tr>\n",
              "      <th>20</th>\n",
              "      <td>1998-01-13 23:00:25</td>\n",
              "      <td>2003-8-7</td>\n",
              "      <td>2006-4-1 20:48:23</td>\n",
              "      <td>2003-08-07</td>\n",
              "      <td>20:48:23</td>\n",
              "      <td>2003-08-07</td>\n",
              "      <td>7</td>\n",
              "      <td>8710 days 12:57:15.051857</td>\n",
              "      <td>-5</td>\n",
              "      <td>-7</td>\n",
              "      <td>23</td>\n",
              "    </tr>\n",
              "    <tr>\n",
              "      <th>33</th>\n",
              "      <td>1998-12-20 06:35:34</td>\n",
              "      <td>2001-7-3</td>\n",
              "      <td>2011-9-6 12:53:47</td>\n",
              "      <td>2001-07-03</td>\n",
              "      <td>12:53:47</td>\n",
              "      <td>2001-07-03</td>\n",
              "      <td>3</td>\n",
              "      <td>8370 days 05:22:06.051857</td>\n",
              "      <td>-3</td>\n",
              "      <td>5</td>\n",
              "      <td>23</td>\n",
              "    </tr>\n",
              "    <tr>\n",
              "      <th>15</th>\n",
              "      <td>1999-01-20 08:04:13</td>\n",
              "      <td>2008-4-14</td>\n",
              "      <td>2014-10-9 13:38:38</td>\n",
              "      <td>2008-04-14</td>\n",
              "      <td>13:38:38</td>\n",
              "      <td>2008-04-14</td>\n",
              "      <td>14</td>\n",
              "      <td>8339 days 03:53:27.051857</td>\n",
              "      <td>-9</td>\n",
              "      <td>-3</td>\n",
              "      <td>22</td>\n",
              "    </tr>\n",
              "    <tr>\n",
              "      <th>18</th>\n",
              "      <td>1999-04-09 16:01:08</td>\n",
              "      <td>2006-5-12</td>\n",
              "      <td>2012-10-8 10:22:48</td>\n",
              "      <td>2006-05-12</td>\n",
              "      <td>10:22:48</td>\n",
              "      <td>2006-05-12</td>\n",
              "      <td>12</td>\n",
              "      <td>8259 days 19:56:32.051857</td>\n",
              "      <td>-7</td>\n",
              "      <td>-1</td>\n",
              "      <td>22</td>\n",
              "    </tr>\n",
              "    <tr>\n",
              "      <th>7</th>\n",
              "      <td>1999-10-24 01:53:37</td>\n",
              "      <td>2015-9-24</td>\n",
              "      <td>2018-2-19 7:6:1</td>\n",
              "      <td>2015-09-24</td>\n",
              "      <td>07:06:01</td>\n",
              "      <td>2015-09-24</td>\n",
              "      <td>24</td>\n",
              "      <td>8062 days 10:04:03.051857</td>\n",
              "      <td>-16</td>\n",
              "      <td>1</td>\n",
              "      <td>22</td>\n",
              "    </tr>\n",
              "    <tr>\n",
              "      <th>16</th>\n",
              "      <td>2000-02-02 05:40:35</td>\n",
              "      <td>2010-10-17</td>\n",
              "      <td>2010-5-18 1:51:50</td>\n",
              "      <td>2010-10-17</td>\n",
              "      <td>01:51:50</td>\n",
              "      <td>2010-10-17</td>\n",
              "      <td>17</td>\n",
              "      <td>7961 days 06:17:05.051857</td>\n",
              "      <td>-10</td>\n",
              "      <td>-8</td>\n",
              "      <td>21</td>\n",
              "    </tr>\n",
              "    <tr>\n",
              "      <th>12</th>\n",
              "      <td>2000-12-26 16:12:46</td>\n",
              "      <td>2002-4-2</td>\n",
              "      <td>2014-3-11 19:50:42</td>\n",
              "      <td>2002-04-02</td>\n",
              "      <td>19:50:42</td>\n",
              "      <td>2002-04-02</td>\n",
              "      <td>2</td>\n",
              "      <td>7632 days 19:44:54.051857</td>\n",
              "      <td>-2</td>\n",
              "      <td>8</td>\n",
              "      <td>21</td>\n",
              "    </tr>\n",
              "    <tr>\n",
              "      <th>0</th>\n",
              "      <td>2001-04-27 05:29:42</td>\n",
              "      <td>2002-6-21</td>\n",
              "      <td>2001-6-4 9:40:53</td>\n",
              "      <td>2002-06-21</td>\n",
              "      <td>09:40:53</td>\n",
              "      <td>2002-06-21</td>\n",
              "      <td>21</td>\n",
              "      <td>7511 days 06:27:58.051857</td>\n",
              "      <td>-1</td>\n",
              "      <td>-2</td>\n",
              "      <td>20</td>\n",
              "    </tr>\n",
              "    <tr>\n",
              "      <th>23</th>\n",
              "      <td>2001-06-05 20:42:02</td>\n",
              "      <td>2013-1-24</td>\n",
              "      <td>2001-3-5 9:11:22</td>\n",
              "      <td>2013-01-24</td>\n",
              "      <td>09:11:22</td>\n",
              "      <td>2013-01-24</td>\n",
              "      <td>24</td>\n",
              "      <td>7471 days 15:15:38.051857</td>\n",
              "      <td>-12</td>\n",
              "      <td>5</td>\n",
              "      <td>20</td>\n",
              "    </tr>\n",
              "    <tr>\n",
              "      <th>5</th>\n",
              "      <td>2001-06-22 17:52:54</td>\n",
              "      <td>2014-4-21</td>\n",
              "      <td>2020-2-13 4:15:52</td>\n",
              "      <td>2014-04-21</td>\n",
              "      <td>04:15:52</td>\n",
              "      <td>2014-04-21</td>\n",
              "      <td>21</td>\n",
              "      <td>7454 days 18:04:46.051857</td>\n",
              "      <td>-13</td>\n",
              "      <td>2</td>\n",
              "      <td>20</td>\n",
              "    </tr>\n",
              "  </tbody>\n",
              "</table>\n",
              "</div>"
            ],
            "text/plain": [
              "             first_col  second_col  ... month_diff year_gap\n",
              "20 1998-01-13 23:00:25    2003-8-7  ...         -7       23\n",
              "33 1998-12-20 06:35:34    2001-7-3  ...          5       23\n",
              "15 1999-01-20 08:04:13   2008-4-14  ...         -3       22\n",
              "18 1999-04-09 16:01:08   2006-5-12  ...         -1       22\n",
              "7  1999-10-24 01:53:37   2015-9-24  ...          1       22\n",
              "16 2000-02-02 05:40:35  2010-10-17  ...         -8       21\n",
              "12 2000-12-26 16:12:46    2002-4-2  ...          8       21\n",
              "0  2001-04-27 05:29:42   2002-6-21  ...         -2       20\n",
              "23 2001-06-05 20:42:02   2013-1-24  ...          5       20\n",
              "5  2001-06-22 17:52:54   2014-4-21  ...          2       20\n",
              "\n",
              "[10 rows x 11 columns]"
            ]
          },
          "metadata": {},
          "execution_count": 58
        }
      ]
    },
    {
      "cell_type": "markdown",
      "metadata": {
        "id": "Jw7595yRUdk0"
      },
      "source": [
        "## Reading files with pandas"
      ]
    },
    {
      "cell_type": "markdown",
      "metadata": {
        "id": "U1HqNuBuZvfr"
      },
      "source": [
        "## Getting file in colab\n",
        "\n",
        "1.\n",
        "\n",
        "\n",
        "Click the left side file icon\n",
        "\n",
        "At corner click on up arrow\n",
        "\n",
        "choose required file that will be available till this session is on\n",
        "\n",
        "It will be uploaded now you can right click on your required file to get path\n",
        "\n",
        "2.\n",
        "\n",
        "\n",
        "Put required file in your drive\n",
        "\n",
        "Click the left side file icon\n",
        "\n",
        "On corner side click on third icon you will get a code cell\n",
        "\n",
        "Run the cell you will get a link and input box\n",
        "\n",
        "Click on link do the sign-in\n",
        "\n",
        "After sign-in you will get success code copy that\n",
        "\n",
        "And paste it in input box and hit Enter\n",
        "\n",
        "Click on second icon for refresh\n",
        "\n",
        "Now you will get new file icon named as drive\n",
        "\n",
        "Now you access all the files which is available in your drive\n",
        "\n",
        "Right click on your required file to get path\n"
      ]
    },
    {
      "cell_type": "code",
      "metadata": {
        "id": "6nKoOZ-9GdsL"
      },
      "source": [
        "from google.colab import drive\n",
        "drive.mount('/content/drive')"
      ],
      "execution_count": null,
      "outputs": []
    },
    {
      "cell_type": "code",
      "metadata": {
        "id": "An3qCrMjUdEz",
        "colab": {
          "base_uri": "https://localhost:8080/",
          "height": 204
        },
        "outputId": "c8a0e8bc-ff22-4a20-ed18-b722a268a20e"
      },
      "source": [
        "# CSV file\n",
        "\n",
        "dff = pd.read_csv('/content/Cars.csv')  # This file is available under sample_data\n",
        "dff.head()"
      ],
      "execution_count": null,
      "outputs": [
        {
          "output_type": "execute_result",
          "data": {
            "text/html": [
              "<div>\n",
              "<style scoped>\n",
              "    .dataframe tbody tr th:only-of-type {\n",
              "        vertical-align: middle;\n",
              "    }\n",
              "\n",
              "    .dataframe tbody tr th {\n",
              "        vertical-align: top;\n",
              "    }\n",
              "\n",
              "    .dataframe thead th {\n",
              "        text-align: right;\n",
              "    }\n",
              "</style>\n",
              "<table border=\"1\" class=\"dataframe\">\n",
              "  <thead>\n",
              "    <tr style=\"text-align: right;\">\n",
              "      <th></th>\n",
              "      <th>HP</th>\n",
              "      <th>MPG</th>\n",
              "      <th>VOL</th>\n",
              "      <th>SP</th>\n",
              "      <th>WT</th>\n",
              "    </tr>\n",
              "  </thead>\n",
              "  <tbody>\n",
              "    <tr>\n",
              "      <th>0</th>\n",
              "      <td>49</td>\n",
              "      <td>53.700681</td>\n",
              "      <td>89</td>\n",
              "      <td>104.185353</td>\n",
              "      <td>28.762059</td>\n",
              "    </tr>\n",
              "    <tr>\n",
              "      <th>1</th>\n",
              "      <td>55</td>\n",
              "      <td>50.013401</td>\n",
              "      <td>92</td>\n",
              "      <td>105.461264</td>\n",
              "      <td>30.466833</td>\n",
              "    </tr>\n",
              "    <tr>\n",
              "      <th>2</th>\n",
              "      <td>55</td>\n",
              "      <td>50.013401</td>\n",
              "      <td>92</td>\n",
              "      <td>105.461264</td>\n",
              "      <td>30.193597</td>\n",
              "    </tr>\n",
              "    <tr>\n",
              "      <th>3</th>\n",
              "      <td>70</td>\n",
              "      <td>45.696322</td>\n",
              "      <td>92</td>\n",
              "      <td>113.461264</td>\n",
              "      <td>30.632114</td>\n",
              "    </tr>\n",
              "    <tr>\n",
              "      <th>4</th>\n",
              "      <td>53</td>\n",
              "      <td>50.504232</td>\n",
              "      <td>92</td>\n",
              "      <td>104.461264</td>\n",
              "      <td>29.889149</td>\n",
              "    </tr>\n",
              "  </tbody>\n",
              "</table>\n",
              "</div>"
            ],
            "text/plain": [
              "   HP        MPG  VOL          SP         WT\n",
              "0  49  53.700681   89  104.185353  28.762059\n",
              "1  55  50.013401   92  105.461264  30.466833\n",
              "2  55  50.013401   92  105.461264  30.193597\n",
              "3  70  45.696322   92  113.461264  30.632114\n",
              "4  53  50.504232   92  104.461264  29.889149"
            ]
          },
          "metadata": {},
          "execution_count": 59
        }
      ]
    },
    {
      "cell_type": "code",
      "metadata": {
        "id": "sqXlaVGNVts0",
        "colab": {
          "base_uri": "https://localhost:8080/",
          "height": 204
        },
        "outputId": "2279e52c-e84b-4561-bf5e-fe321f2ed553"
      },
      "source": [
        "# json file\n",
        "\n",
        "df_json= pd.read_json('/content/sample_data/anscombe.json') # This file is available under sample_data\n",
        "df_json.head()"
      ],
      "execution_count": null,
      "outputs": [
        {
          "output_type": "execute_result",
          "data": {
            "text/html": [
              "<div>\n",
              "<style scoped>\n",
              "    .dataframe tbody tr th:only-of-type {\n",
              "        vertical-align: middle;\n",
              "    }\n",
              "\n",
              "    .dataframe tbody tr th {\n",
              "        vertical-align: top;\n",
              "    }\n",
              "\n",
              "    .dataframe thead th {\n",
              "        text-align: right;\n",
              "    }\n",
              "</style>\n",
              "<table border=\"1\" class=\"dataframe\">\n",
              "  <thead>\n",
              "    <tr style=\"text-align: right;\">\n",
              "      <th></th>\n",
              "      <th>Series</th>\n",
              "      <th>X</th>\n",
              "      <th>Y</th>\n",
              "    </tr>\n",
              "  </thead>\n",
              "  <tbody>\n",
              "    <tr>\n",
              "      <th>0</th>\n",
              "      <td>I</td>\n",
              "      <td>10</td>\n",
              "      <td>8.04</td>\n",
              "    </tr>\n",
              "    <tr>\n",
              "      <th>1</th>\n",
              "      <td>I</td>\n",
              "      <td>8</td>\n",
              "      <td>6.95</td>\n",
              "    </tr>\n",
              "    <tr>\n",
              "      <th>2</th>\n",
              "      <td>I</td>\n",
              "      <td>13</td>\n",
              "      <td>7.58</td>\n",
              "    </tr>\n",
              "    <tr>\n",
              "      <th>3</th>\n",
              "      <td>I</td>\n",
              "      <td>9</td>\n",
              "      <td>8.81</td>\n",
              "    </tr>\n",
              "    <tr>\n",
              "      <th>4</th>\n",
              "      <td>I</td>\n",
              "      <td>11</td>\n",
              "      <td>8.33</td>\n",
              "    </tr>\n",
              "  </tbody>\n",
              "</table>\n",
              "</div>"
            ],
            "text/plain": [
              "  Series   X     Y\n",
              "0      I  10  8.04\n",
              "1      I   8  6.95\n",
              "2      I  13  7.58\n",
              "3      I   9  8.81\n",
              "4      I  11  8.33"
            ]
          },
          "metadata": {},
          "execution_count": 60
        }
      ]
    },
    {
      "cell_type": "code",
      "metadata": {
        "id": "WffNzBOIWMgR",
        "colab": {
          "base_uri": "https://localhost:8080/",
          "height": 309
        },
        "outputId": "bf93108e-b322-4b03-d106-0cf1336296d4"
      },
      "source": [
        "# Excel file\n",
        "\n",
        "df_x= pd.read_excel(r'/content/sample.xlsx',sheet_name='PlayerData')\n",
        "df_x.head()"
      ],
      "execution_count": null,
      "outputs": [
        {
          "output_type": "execute_result",
          "data": {
            "text/html": [
              "<div>\n",
              "<style scoped>\n",
              "    .dataframe tbody tr th:only-of-type {\n",
              "        vertical-align: middle;\n",
              "    }\n",
              "\n",
              "    .dataframe tbody tr th {\n",
              "        vertical-align: top;\n",
              "    }\n",
              "\n",
              "    .dataframe thead th {\n",
              "        text-align: right;\n",
              "    }\n",
              "</style>\n",
              "<table border=\"1\" class=\"dataframe\">\n",
              "  <thead>\n",
              "    <tr style=\"text-align: right;\">\n",
              "      <th></th>\n",
              "      <th>ID</th>\n",
              "      <th>Team</th>\n",
              "      <th>Country</th>\n",
              "      <th>NameF</th>\n",
              "      <th>NameL</th>\n",
              "      <th>Weight</th>\n",
              "      <th>Height</th>\n",
              "      <th>DOB</th>\n",
              "      <th>Hometown</th>\n",
              "      <th>Prov</th>\n",
              "      <th>Pos</th>\n",
              "      <th>Age</th>\n",
              "      <th>HeightFt</th>\n",
              "      <th>HtIn</th>\n",
              "      <th>BMI</th>\n",
              "    </tr>\n",
              "  </thead>\n",
              "  <tbody>\n",
              "    <tr>\n",
              "      <th>0</th>\n",
              "      <td>1</td>\n",
              "      <td>Women</td>\n",
              "      <td>Canada</td>\n",
              "      <td>Meghan</td>\n",
              "      <td>Agosta</td>\n",
              "      <td>148</td>\n",
              "      <td>5'7</td>\n",
              "      <td>1987-02-12</td>\n",
              "      <td>Ruthven</td>\n",
              "      <td>Ont.</td>\n",
              "      <td>Forward</td>\n",
              "      <td>34</td>\n",
              "      <td>5.583333</td>\n",
              "      <td>67</td>\n",
              "      <td>23</td>\n",
              "    </tr>\n",
              "    <tr>\n",
              "      <th>1</th>\n",
              "      <td>2</td>\n",
              "      <td>Women</td>\n",
              "      <td>Canada</td>\n",
              "      <td>Rebecca</td>\n",
              "      <td>Johnston</td>\n",
              "      <td>148</td>\n",
              "      <td>5'9</td>\n",
              "      <td>1989-09-24</td>\n",
              "      <td>Sudbury</td>\n",
              "      <td>Ont.</td>\n",
              "      <td>Forward</td>\n",
              "      <td>32</td>\n",
              "      <td>5.750000</td>\n",
              "      <td>69</td>\n",
              "      <td>22</td>\n",
              "    </tr>\n",
              "    <tr>\n",
              "      <th>2</th>\n",
              "      <td>3</td>\n",
              "      <td>Women</td>\n",
              "      <td>Canada</td>\n",
              "      <td>Laura</td>\n",
              "      <td>Stacey</td>\n",
              "      <td>156</td>\n",
              "      <td>5'10</td>\n",
              "      <td>1994-05-05</td>\n",
              "      <td>Kleinburg</td>\n",
              "      <td>Ont.</td>\n",
              "      <td>Forward</td>\n",
              "      <td>27</td>\n",
              "      <td>5.833333</td>\n",
              "      <td>70</td>\n",
              "      <td>22</td>\n",
              "    </tr>\n",
              "    <tr>\n",
              "      <th>3</th>\n",
              "      <td>4</td>\n",
              "      <td>Women</td>\n",
              "      <td>Canada</td>\n",
              "      <td>Jennifer</td>\n",
              "      <td>Wakefield</td>\n",
              "      <td>172</td>\n",
              "      <td>5'10</td>\n",
              "      <td>1989-06-15</td>\n",
              "      <td>Pickering</td>\n",
              "      <td>Ont.</td>\n",
              "      <td>Forward</td>\n",
              "      <td>32</td>\n",
              "      <td>5.833333</td>\n",
              "      <td>70</td>\n",
              "      <td>25</td>\n",
              "    </tr>\n",
              "    <tr>\n",
              "      <th>4</th>\n",
              "      <td>5</td>\n",
              "      <td>Women</td>\n",
              "      <td>Canada</td>\n",
              "      <td>Jillian</td>\n",
              "      <td>Saulnier</td>\n",
              "      <td>144</td>\n",
              "      <td>5'5</td>\n",
              "      <td>1992-03-07</td>\n",
              "      <td>Halifax</td>\n",
              "      <td>N.S.</td>\n",
              "      <td>Forward</td>\n",
              "      <td>29</td>\n",
              "      <td>5.416667</td>\n",
              "      <td>65</td>\n",
              "      <td>24</td>\n",
              "    </tr>\n",
              "  </tbody>\n",
              "</table>\n",
              "</div>"
            ],
            "text/plain": [
              "   ID   Team Country     NameF      NameL  ...      Pos Age  HeightFt HtIn BMI\n",
              "0   1  Women  Canada    Meghan     Agosta  ...  Forward  34  5.583333   67  23\n",
              "1   2  Women  Canada   Rebecca   Johnston  ...  Forward  32  5.750000   69  22\n",
              "2   3  Women  Canada     Laura     Stacey  ...  Forward  27  5.833333   70  22\n",
              "3   4  Women  Canada  Jennifer  Wakefield  ...  Forward  32  5.833333   70  25\n",
              "4   5  Women  Canada   Jillian   Saulnier  ...  Forward  29  5.416667   65  24\n",
              "\n",
              "[5 rows x 15 columns]"
            ]
          },
          "metadata": {},
          "execution_count": 62
        }
      ]
    },
    {
      "cell_type": "code",
      "metadata": {
        "id": "BVYpq5b9ZTln",
        "colab": {
          "base_uri": "https://localhost:8080/",
          "height": 309
        },
        "outputId": "bbd5ebd5-4141-402e-ea80-b4ae2a4eb561"
      },
      "source": [
        "# Another way\n",
        "\n",
        "df_x= pd.read_excel(r'/content/sample.xlsx',sheet_name = 1)  # Default sheet_name = 0\n",
        "df_x.head()"
      ],
      "execution_count": null,
      "outputs": [
        {
          "output_type": "execute_result",
          "data": {
            "text/html": [
              "<div>\n",
              "<style scoped>\n",
              "    .dataframe tbody tr th:only-of-type {\n",
              "        vertical-align: middle;\n",
              "    }\n",
              "\n",
              "    .dataframe tbody tr th {\n",
              "        vertical-align: top;\n",
              "    }\n",
              "\n",
              "    .dataframe thead th {\n",
              "        text-align: right;\n",
              "    }\n",
              "</style>\n",
              "<table border=\"1\" class=\"dataframe\">\n",
              "  <thead>\n",
              "    <tr style=\"text-align: right;\">\n",
              "      <th></th>\n",
              "      <th>ID</th>\n",
              "      <th>Team</th>\n",
              "      <th>Country</th>\n",
              "      <th>NameF</th>\n",
              "      <th>NameL</th>\n",
              "      <th>Weight</th>\n",
              "      <th>Height</th>\n",
              "      <th>DOB</th>\n",
              "      <th>Hometown</th>\n",
              "      <th>Prov</th>\n",
              "      <th>Pos</th>\n",
              "      <th>Age</th>\n",
              "      <th>HeightFt</th>\n",
              "      <th>HtIn</th>\n",
              "      <th>BMI</th>\n",
              "    </tr>\n",
              "  </thead>\n",
              "  <tbody>\n",
              "    <tr>\n",
              "      <th>0</th>\n",
              "      <td>1</td>\n",
              "      <td>Women</td>\n",
              "      <td>Canada</td>\n",
              "      <td>Meghan</td>\n",
              "      <td>Agosta</td>\n",
              "      <td>148</td>\n",
              "      <td>5'7</td>\n",
              "      <td>1987-02-12</td>\n",
              "      <td>Ruthven</td>\n",
              "      <td>Ont.</td>\n",
              "      <td>Forward</td>\n",
              "      <td>34</td>\n",
              "      <td>5.583333</td>\n",
              "      <td>67</td>\n",
              "      <td>23</td>\n",
              "    </tr>\n",
              "    <tr>\n",
              "      <th>1</th>\n",
              "      <td>2</td>\n",
              "      <td>Women</td>\n",
              "      <td>Canada</td>\n",
              "      <td>Rebecca</td>\n",
              "      <td>Johnston</td>\n",
              "      <td>148</td>\n",
              "      <td>5'9</td>\n",
              "      <td>1989-09-24</td>\n",
              "      <td>Sudbury</td>\n",
              "      <td>Ont.</td>\n",
              "      <td>Forward</td>\n",
              "      <td>32</td>\n",
              "      <td>5.750000</td>\n",
              "      <td>69</td>\n",
              "      <td>22</td>\n",
              "    </tr>\n",
              "    <tr>\n",
              "      <th>2</th>\n",
              "      <td>3</td>\n",
              "      <td>Women</td>\n",
              "      <td>Canada</td>\n",
              "      <td>Laura</td>\n",
              "      <td>Stacey</td>\n",
              "      <td>156</td>\n",
              "      <td>5'10</td>\n",
              "      <td>1994-05-05</td>\n",
              "      <td>Kleinburg</td>\n",
              "      <td>Ont.</td>\n",
              "      <td>Forward</td>\n",
              "      <td>27</td>\n",
              "      <td>5.833333</td>\n",
              "      <td>70</td>\n",
              "      <td>22</td>\n",
              "    </tr>\n",
              "    <tr>\n",
              "      <th>3</th>\n",
              "      <td>4</td>\n",
              "      <td>Women</td>\n",
              "      <td>Canada</td>\n",
              "      <td>Jennifer</td>\n",
              "      <td>Wakefield</td>\n",
              "      <td>172</td>\n",
              "      <td>5'10</td>\n",
              "      <td>1989-06-15</td>\n",
              "      <td>Pickering</td>\n",
              "      <td>Ont.</td>\n",
              "      <td>Forward</td>\n",
              "      <td>32</td>\n",
              "      <td>5.833333</td>\n",
              "      <td>70</td>\n",
              "      <td>25</td>\n",
              "    </tr>\n",
              "    <tr>\n",
              "      <th>4</th>\n",
              "      <td>5</td>\n",
              "      <td>Women</td>\n",
              "      <td>Canada</td>\n",
              "      <td>Jillian</td>\n",
              "      <td>Saulnier</td>\n",
              "      <td>144</td>\n",
              "      <td>5'5</td>\n",
              "      <td>1992-03-07</td>\n",
              "      <td>Halifax</td>\n",
              "      <td>N.S.</td>\n",
              "      <td>Forward</td>\n",
              "      <td>29</td>\n",
              "      <td>5.416667</td>\n",
              "      <td>65</td>\n",
              "      <td>24</td>\n",
              "    </tr>\n",
              "  </tbody>\n",
              "</table>\n",
              "</div>"
            ],
            "text/plain": [
              "   ID   Team Country     NameF      NameL  ...      Pos Age  HeightFt HtIn BMI\n",
              "0   1  Women  Canada    Meghan     Agosta  ...  Forward  34  5.583333   67  23\n",
              "1   2  Women  Canada   Rebecca   Johnston  ...  Forward  32  5.750000   69  22\n",
              "2   3  Women  Canada     Laura     Stacey  ...  Forward  27  5.833333   70  22\n",
              "3   4  Women  Canada  Jennifer  Wakefield  ...  Forward  32  5.833333   70  25\n",
              "4   5  Women  Canada   Jillian   Saulnier  ...  Forward  29  5.416667   65  24\n",
              "\n",
              "[5 rows x 15 columns]"
            ]
          },
          "metadata": {},
          "execution_count": 63
        }
      ]
    },
    {
      "cell_type": "code",
      "metadata": {
        "id": "mEVONIy4ZoxG",
        "colab": {
          "base_uri": "https://localhost:8080/"
        },
        "outputId": "050fb0b8-1a37-4129-e425-af0349124372"
      },
      "source": [
        "df_x.info()"
      ],
      "execution_count": null,
      "outputs": [
        {
          "output_type": "stream",
          "name": "stdout",
          "text": [
            "<class 'pandas.core.frame.DataFrame'>\n",
            "RangeIndex: 96 entries, 0 to 95\n",
            "Data columns (total 15 columns):\n",
            " #   Column    Non-Null Count  Dtype         \n",
            "---  ------    --------------  -----         \n",
            " 0   ID        96 non-null     int64         \n",
            " 1   Team      96 non-null     object        \n",
            " 2   Country   96 non-null     object        \n",
            " 3   NameF     96 non-null     object        \n",
            " 4   NameL     96 non-null     object        \n",
            " 5   Weight    96 non-null     int64         \n",
            " 6   Height    96 non-null     object        \n",
            " 7   DOB       96 non-null     datetime64[ns]\n",
            " 8   Hometown  96 non-null     object        \n",
            " 9   Prov      96 non-null     object        \n",
            " 10  Pos       96 non-null     object        \n",
            " 11  Age       96 non-null     int64         \n",
            " 12  HeightFt  96 non-null     float64       \n",
            " 13  HtIn      96 non-null     int64         \n",
            " 14  BMI       96 non-null     int64         \n",
            "dtypes: datetime64[ns](1), float64(1), int64(5), object(8)\n",
            "memory usage: 11.4+ KB\n"
          ]
        }
      ]
    },
    {
      "cell_type": "code",
      "metadata": {
        "id": "Q5TtqkIqdf1D",
        "colab": {
          "base_uri": "https://localhost:8080/",
          "height": 297
        },
        "outputId": "73172daa-984e-4cc5-fdd9-4d38a900965e"
      },
      "source": [
        "df_x.describe()"
      ],
      "execution_count": null,
      "outputs": [
        {
          "output_type": "execute_result",
          "data": {
            "text/html": [
              "<div>\n",
              "<style scoped>\n",
              "    .dataframe tbody tr th:only-of-type {\n",
              "        vertical-align: middle;\n",
              "    }\n",
              "\n",
              "    .dataframe tbody tr th {\n",
              "        vertical-align: top;\n",
              "    }\n",
              "\n",
              "    .dataframe thead th {\n",
              "        text-align: right;\n",
              "    }\n",
              "</style>\n",
              "<table border=\"1\" class=\"dataframe\">\n",
              "  <thead>\n",
              "    <tr style=\"text-align: right;\">\n",
              "      <th></th>\n",
              "      <th>ID</th>\n",
              "      <th>Weight</th>\n",
              "      <th>Age</th>\n",
              "      <th>HeightFt</th>\n",
              "      <th>HtIn</th>\n",
              "      <th>BMI</th>\n",
              "    </tr>\n",
              "  </thead>\n",
              "  <tbody>\n",
              "    <tr>\n",
              "      <th>count</th>\n",
              "      <td>96.000000</td>\n",
              "      <td>96.000000</td>\n",
              "      <td>96.00000</td>\n",
              "      <td>96.000000</td>\n",
              "      <td>96.000000</td>\n",
              "      <td>96.000000</td>\n",
              "    </tr>\n",
              "    <tr>\n",
              "      <th>mean</th>\n",
              "      <td>48.500000</td>\n",
              "      <td>172.333333</td>\n",
              "      <td>31.62500</td>\n",
              "      <td>5.790799</td>\n",
              "      <td>69.489583</td>\n",
              "      <td>24.947917</td>\n",
              "    </tr>\n",
              "    <tr>\n",
              "      <th>std</th>\n",
              "      <td>27.856777</td>\n",
              "      <td>25.228500</td>\n",
              "      <td>4.29504</td>\n",
              "      <td>0.288167</td>\n",
              "      <td>3.458003</td>\n",
              "      <td>1.915971</td>\n",
              "    </tr>\n",
              "    <tr>\n",
              "      <th>min</th>\n",
              "      <td>1.000000</td>\n",
              "      <td>123.000000</td>\n",
              "      <td>22.00000</td>\n",
              "      <td>5.083333</td>\n",
              "      <td>61.000000</td>\n",
              "      <td>20.000000</td>\n",
              "    </tr>\n",
              "    <tr>\n",
              "      <th>25%</th>\n",
              "      <td>24.750000</td>\n",
              "      <td>150.000000</td>\n",
              "      <td>29.00000</td>\n",
              "      <td>5.583333</td>\n",
              "      <td>67.000000</td>\n",
              "      <td>24.000000</td>\n",
              "    </tr>\n",
              "    <tr>\n",
              "      <th>50%</th>\n",
              "      <td>48.500000</td>\n",
              "      <td>174.000000</td>\n",
              "      <td>32.00000</td>\n",
              "      <td>5.750000</td>\n",
              "      <td>69.000000</td>\n",
              "      <td>25.000000</td>\n",
              "    </tr>\n",
              "    <tr>\n",
              "      <th>75%</th>\n",
              "      <td>72.250000</td>\n",
              "      <td>190.000000</td>\n",
              "      <td>35.00000</td>\n",
              "      <td>6.000000</td>\n",
              "      <td>72.000000</td>\n",
              "      <td>26.000000</td>\n",
              "    </tr>\n",
              "    <tr>\n",
              "      <th>max</th>\n",
              "      <td>96.000000</td>\n",
              "      <td>235.000000</td>\n",
              "      <td>42.00000</td>\n",
              "      <td>6.416667</td>\n",
              "      <td>77.000000</td>\n",
              "      <td>29.000000</td>\n",
              "    </tr>\n",
              "  </tbody>\n",
              "</table>\n",
              "</div>"
            ],
            "text/plain": [
              "              ID      Weight       Age   HeightFt       HtIn        BMI\n",
              "count  96.000000   96.000000  96.00000  96.000000  96.000000  96.000000\n",
              "mean   48.500000  172.333333  31.62500   5.790799  69.489583  24.947917\n",
              "std    27.856777   25.228500   4.29504   0.288167   3.458003   1.915971\n",
              "min     1.000000  123.000000  22.00000   5.083333  61.000000  20.000000\n",
              "25%    24.750000  150.000000  29.00000   5.583333  67.000000  24.000000\n",
              "50%    48.500000  174.000000  32.00000   5.750000  69.000000  25.000000\n",
              "75%    72.250000  190.000000  35.00000   6.000000  72.000000  26.000000\n",
              "max    96.000000  235.000000  42.00000   6.416667  77.000000  29.000000"
            ]
          },
          "metadata": {},
          "execution_count": 65
        }
      ]
    }
  ]
}